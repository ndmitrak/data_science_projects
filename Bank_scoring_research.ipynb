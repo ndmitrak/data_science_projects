{
 "cells": [
  {
   "cell_type": "markdown",
   "id": "ca76008e",
   "metadata": {
    "toc": true
   },
   "source": [
    "<h1>Table of Contents<span class=\"tocSkip\"></span></h1>\n",
    "<div class=\"toc\"><ul class=\"toc-item\"><li><ul class=\"toc-item\"><li><span><a href=\"#Шаг-1.-Обзор-данных\" data-toc-modified-id=\"Шаг-1.-Обзор-данных-0.1\"><span class=\"toc-item-num\">0.1&nbsp;&nbsp;</span>Шаг 1. Обзор данных</a></span></li><li><span><a href=\"#Шаг-2.1-Заполнение-пропусков\" data-toc-modified-id=\"Шаг-2.1-Заполнение-пропусков-0.2\"><span class=\"toc-item-num\">0.2&nbsp;&nbsp;</span>Шаг 2.1 Заполнение пропусков</a></span></li><li><span><a href=\"#Шаг-2.2-Проверка-данных-на-аномалии-и-исправления.\" data-toc-modified-id=\"Шаг-2.2-Проверка-данных-на-аномалии-и-исправления.-0.3\"><span class=\"toc-item-num\">0.3&nbsp;&nbsp;</span>Шаг 2.2 Проверка данных на аномалии и исправления.</a></span></li><li><span><a href=\"#Шаг-2.3.-Изменение-типов-данных.\" data-toc-modified-id=\"Шаг-2.3.-Изменение-типов-данных.-0.4\"><span class=\"toc-item-num\">0.4&nbsp;&nbsp;</span>Шаг 2.3. Изменение типов данных.</a></span></li><li><span><a href=\"#Шаг-2.4.-Удаление-дубликатов.\" data-toc-modified-id=\"Шаг-2.4.-Удаление-дубликатов.-0.5\"><span class=\"toc-item-num\">0.5&nbsp;&nbsp;</span>Шаг 2.4. Удаление дубликатов.</a></span></li><li><span><a href=\"#Шаг-2.5.-Формирование-дополнительных-датафреймов-словарей,-декомпозиция-исходного-датафрейма.\" data-toc-modified-id=\"Шаг-2.5.-Формирование-дополнительных-датафреймов-словарей,-декомпозиция-исходного-датафрейма.-0.6\"><span class=\"toc-item-num\">0.6&nbsp;&nbsp;</span>Шаг 2.5. Формирование дополнительных датафреймов словарей, декомпозиция исходного датафрейма.</a></span></li><li><span><a href=\"#Шаг-2.6.-Категоризация-дохода.\" data-toc-modified-id=\"Шаг-2.6.-Категоризация-дохода.-0.7\"><span class=\"toc-item-num\">0.7&nbsp;&nbsp;</span>Шаг 2.6. Категоризация дохода.</a></span></li><li><span><a href=\"#Шаг-2.7.-Категоризация-целей-кредита.\" data-toc-modified-id=\"Шаг-2.7.-Категоризация-целей-кредита.-0.8\"><span class=\"toc-item-num\">0.8&nbsp;&nbsp;</span>Шаг 2.7. Категоризация целей кредита.</a></span></li><li><span><a href=\"#Ответы-на-вопросы.\" data-toc-modified-id=\"Ответы-на-вопросы.-0.9\"><span class=\"toc-item-num\">0.9&nbsp;&nbsp;</span>Ответы на вопросы.</a></span><ul class=\"toc-item\"><li><ul class=\"toc-item\"><li><span><a href=\"#Вопрос-1:-Есть-ли-зависимость-между-количеством-детей-и-возвратом-кредита-в-срок?\" data-toc-modified-id=\"Вопрос-1:-Есть-ли-зависимость-между-количеством-детей-и-возвратом-кредита-в-срок?-0.9.0.1\"><span class=\"toc-item-num\">0.9.0.1&nbsp;&nbsp;</span>Вопрос 1: Есть ли зависимость между количеством детей и возвратом кредита в срок?</a></span></li></ul></li><li><span><a href=\"#Вывод-1:\" data-toc-modified-id=\"Вывод-1:-0.9.1\"><span class=\"toc-item-num\">0.9.1&nbsp;&nbsp;</span>Вывод 1:</a></span><ul class=\"toc-item\"><li><span><a href=\"#Вопрос-2:--Есть-ли-зависимость-между-семейным-положением-и-возвратом-кредита-в-срок?\" data-toc-modified-id=\"Вопрос-2:--Есть-ли-зависимость-между-семейным-положением-и-возвратом-кредита-в-срок?-0.9.1.1\"><span class=\"toc-item-num\">0.9.1.1&nbsp;&nbsp;</span>Вопрос 2:  Есть ли зависимость между семейным положением и возвратом кредита в срок?</a></span></li></ul></li><li><span><a href=\"#Вывод-2:\" data-toc-modified-id=\"Вывод-2:-0.9.2\"><span class=\"toc-item-num\">0.9.2&nbsp;&nbsp;</span>Вывод 2:</a></span></li><li><span><a href=\"#Вопрос-3:-Есть-ли-зависимость-между-уровнем-дохода-и-возвратом-кредита-в-срок?\" data-toc-modified-id=\"Вопрос-3:-Есть-ли-зависимость-между-уровнем-дохода-и-возвратом-кредита-в-срок?-0.9.3\"><span class=\"toc-item-num\">0.9.3&nbsp;&nbsp;</span>Вопрос 3: Есть ли зависимость между уровнем дохода и возвратом кредита в срок?</a></span></li><li><span><a href=\"#Вывод-3:\" data-toc-modified-id=\"Вывод-3:-0.9.4\"><span class=\"toc-item-num\">0.9.4&nbsp;&nbsp;</span>Вывод 3:</a></span></li><li><span><a href=\"#Вопрос-4:-Как-разные-цели-кредита-влияют-на-его-возврат-в-срок?\" data-toc-modified-id=\"Вопрос-4:-Как-разные-цели-кредита-влияют-на-его-возврат-в-срок?-0.9.5\"><span class=\"toc-item-num\">0.9.5&nbsp;&nbsp;</span>Вопрос 4: Как разные цели кредита влияют на его возврат в срок?</a></span></li><li><span><a href=\"#Вывод-4:\" data-toc-modified-id=\"Вывод-4:-0.9.6\"><span class=\"toc-item-num\">0.9.6&nbsp;&nbsp;</span>Вывод 4:</a></span></li></ul></li></ul></li><li><span><a href=\"#Общий-вывод:\" data-toc-modified-id=\"Общий-вывод:-1\"><span class=\"toc-item-num\">1&nbsp;&nbsp;</span>Общий вывод:</a></span></li></ul></div>"
   ]
  },
  {
   "cell_type": "markdown",
   "id": "ef7b9780",
   "metadata": {},
   "source": [
    "# Исследование надежности заемщиков.\n"
   ]
  },
  {
   "cell_type": "markdown",
   "id": "dec0ab4b",
   "metadata": {},
   "source": [
    "Исследование выполняется для кредитного отдела банка и будет учтено при построении модели кредитного скоринга. \n",
    "\n",
    "**Цель исследования** — проверка гипотез:\n",
    "1. Семейное положение влияет на факт погашения кредита в срок. \n",
    "2. Количество детей клиента влияет на факт погашения кредита в срок.\n",
    "\n",
    "**Ход исследования:** \n",
    "\n",
    "Данные о статистике платёжеспособности клиентов получены от банка. \n",
    "1. Проведем обзор данных \n",
    "2. Проведем предобработку данных\n",
    "3. Проверим гипотезы"
   ]
  },
  {
   "cell_type": "markdown",
   "id": "4e8e79aa",
   "metadata": {},
   "source": [
    "### Шаг 1. Обзор данных"
   ]
  },
  {
   "cell_type": "markdown",
   "id": "5ed6a8b3",
   "metadata": {},
   "source": [
    "Получаем общую информацию о данных."
   ]
  },
  {
   "cell_type": "code",
   "execution_count": 1,
   "id": "3fc90580",
   "metadata": {},
   "outputs": [],
   "source": [
    "import pandas as pd # импортируем библиотеку pandas\n",
    "import seaborn as sns # импортируем библиотеку seaborn"
   ]
  },
  {
   "cell_type": "code",
   "execution_count": 2,
   "id": "6f920aad",
   "metadata": {},
   "outputs": [],
   "source": [
    "try: # читаем файл с данными и сохраняем в df\n",
    "    \n",
    "    df = pd.read_csv('/Users/nata/Downloads/data.csv')\n",
    "\n",
    "except: \n",
    "    df = pd.read_csv('https://code.s3.yandex.net/datasets/data.csv')\n",
    "    \n"
   ]
  },
  {
   "cell_type": "code",
   "execution_count": 3,
   "id": "a357b82d",
   "metadata": {
    "scrolled": false
   },
   "outputs": [
    {
     "data": {
      "text/html": [
       "<div>\n",
       "<style scoped>\n",
       "    .dataframe tbody tr th:only-of-type {\n",
       "        vertical-align: middle;\n",
       "    }\n",
       "\n",
       "    .dataframe tbody tr th {\n",
       "        vertical-align: top;\n",
       "    }\n",
       "\n",
       "    .dataframe thead th {\n",
       "        text-align: right;\n",
       "    }\n",
       "</style>\n",
       "<table border=\"1\" class=\"dataframe\">\n",
       "  <thead>\n",
       "    <tr style=\"text-align: right;\">\n",
       "      <th></th>\n",
       "      <th>children</th>\n",
       "      <th>days_employed</th>\n",
       "      <th>dob_years</th>\n",
       "      <th>education</th>\n",
       "      <th>education_id</th>\n",
       "      <th>family_status</th>\n",
       "      <th>family_status_id</th>\n",
       "      <th>gender</th>\n",
       "      <th>income_type</th>\n",
       "      <th>debt</th>\n",
       "      <th>total_income</th>\n",
       "      <th>purpose</th>\n",
       "    </tr>\n",
       "  </thead>\n",
       "  <tbody>\n",
       "    <tr>\n",
       "      <th>0</th>\n",
       "      <td>1</td>\n",
       "      <td>-8437.673028</td>\n",
       "      <td>42</td>\n",
       "      <td>высшее</td>\n",
       "      <td>0</td>\n",
       "      <td>женат / замужем</td>\n",
       "      <td>0</td>\n",
       "      <td>F</td>\n",
       "      <td>сотрудник</td>\n",
       "      <td>0</td>\n",
       "      <td>253875.639453</td>\n",
       "      <td>покупка жилья</td>\n",
       "    </tr>\n",
       "    <tr>\n",
       "      <th>1</th>\n",
       "      <td>1</td>\n",
       "      <td>-4024.803754</td>\n",
       "      <td>36</td>\n",
       "      <td>среднее</td>\n",
       "      <td>1</td>\n",
       "      <td>женат / замужем</td>\n",
       "      <td>0</td>\n",
       "      <td>F</td>\n",
       "      <td>сотрудник</td>\n",
       "      <td>0</td>\n",
       "      <td>112080.014102</td>\n",
       "      <td>приобретение автомобиля</td>\n",
       "    </tr>\n",
       "    <tr>\n",
       "      <th>2</th>\n",
       "      <td>0</td>\n",
       "      <td>-5623.422610</td>\n",
       "      <td>33</td>\n",
       "      <td>Среднее</td>\n",
       "      <td>1</td>\n",
       "      <td>женат / замужем</td>\n",
       "      <td>0</td>\n",
       "      <td>M</td>\n",
       "      <td>сотрудник</td>\n",
       "      <td>0</td>\n",
       "      <td>145885.952297</td>\n",
       "      <td>покупка жилья</td>\n",
       "    </tr>\n",
       "    <tr>\n",
       "      <th>3</th>\n",
       "      <td>3</td>\n",
       "      <td>-4124.747207</td>\n",
       "      <td>32</td>\n",
       "      <td>среднее</td>\n",
       "      <td>1</td>\n",
       "      <td>женат / замужем</td>\n",
       "      <td>0</td>\n",
       "      <td>M</td>\n",
       "      <td>сотрудник</td>\n",
       "      <td>0</td>\n",
       "      <td>267628.550329</td>\n",
       "      <td>дополнительное образование</td>\n",
       "    </tr>\n",
       "    <tr>\n",
       "      <th>4</th>\n",
       "      <td>0</td>\n",
       "      <td>340266.072047</td>\n",
       "      <td>53</td>\n",
       "      <td>среднее</td>\n",
       "      <td>1</td>\n",
       "      <td>гражданский брак</td>\n",
       "      <td>1</td>\n",
       "      <td>F</td>\n",
       "      <td>пенсионер</td>\n",
       "      <td>0</td>\n",
       "      <td>158616.077870</td>\n",
       "      <td>сыграть свадьбу</td>\n",
       "    </tr>\n",
       "    <tr>\n",
       "      <th>5</th>\n",
       "      <td>0</td>\n",
       "      <td>-926.185831</td>\n",
       "      <td>27</td>\n",
       "      <td>высшее</td>\n",
       "      <td>0</td>\n",
       "      <td>гражданский брак</td>\n",
       "      <td>1</td>\n",
       "      <td>M</td>\n",
       "      <td>компаньон</td>\n",
       "      <td>0</td>\n",
       "      <td>255763.565419</td>\n",
       "      <td>покупка жилья</td>\n",
       "    </tr>\n",
       "    <tr>\n",
       "      <th>6</th>\n",
       "      <td>0</td>\n",
       "      <td>-2879.202052</td>\n",
       "      <td>43</td>\n",
       "      <td>высшее</td>\n",
       "      <td>0</td>\n",
       "      <td>женат / замужем</td>\n",
       "      <td>0</td>\n",
       "      <td>F</td>\n",
       "      <td>компаньон</td>\n",
       "      <td>0</td>\n",
       "      <td>240525.971920</td>\n",
       "      <td>операции с жильем</td>\n",
       "    </tr>\n",
       "    <tr>\n",
       "      <th>7</th>\n",
       "      <td>0</td>\n",
       "      <td>-152.779569</td>\n",
       "      <td>50</td>\n",
       "      <td>СРЕДНЕЕ</td>\n",
       "      <td>1</td>\n",
       "      <td>женат / замужем</td>\n",
       "      <td>0</td>\n",
       "      <td>M</td>\n",
       "      <td>сотрудник</td>\n",
       "      <td>0</td>\n",
       "      <td>135823.934197</td>\n",
       "      <td>образование</td>\n",
       "    </tr>\n",
       "    <tr>\n",
       "      <th>8</th>\n",
       "      <td>2</td>\n",
       "      <td>-6929.865299</td>\n",
       "      <td>35</td>\n",
       "      <td>ВЫСШЕЕ</td>\n",
       "      <td>0</td>\n",
       "      <td>гражданский брак</td>\n",
       "      <td>1</td>\n",
       "      <td>F</td>\n",
       "      <td>сотрудник</td>\n",
       "      <td>0</td>\n",
       "      <td>95856.832424</td>\n",
       "      <td>на проведение свадьбы</td>\n",
       "    </tr>\n",
       "    <tr>\n",
       "      <th>9</th>\n",
       "      <td>0</td>\n",
       "      <td>-2188.756445</td>\n",
       "      <td>41</td>\n",
       "      <td>среднее</td>\n",
       "      <td>1</td>\n",
       "      <td>женат / замужем</td>\n",
       "      <td>0</td>\n",
       "      <td>M</td>\n",
       "      <td>сотрудник</td>\n",
       "      <td>0</td>\n",
       "      <td>144425.938277</td>\n",
       "      <td>покупка жилья для семьи</td>\n",
       "    </tr>\n",
       "  </tbody>\n",
       "</table>\n",
       "</div>"
      ],
      "text/plain": [
       "   children  days_employed  dob_years education  education_id  \\\n",
       "0         1   -8437.673028         42    высшее             0   \n",
       "1         1   -4024.803754         36   среднее             1   \n",
       "2         0   -5623.422610         33   Среднее             1   \n",
       "3         3   -4124.747207         32   среднее             1   \n",
       "4         0  340266.072047         53   среднее             1   \n",
       "5         0    -926.185831         27    высшее             0   \n",
       "6         0   -2879.202052         43    высшее             0   \n",
       "7         0    -152.779569         50   СРЕДНЕЕ             1   \n",
       "8         2   -6929.865299         35    ВЫСШЕЕ             0   \n",
       "9         0   -2188.756445         41   среднее             1   \n",
       "\n",
       "      family_status  family_status_id gender income_type  debt   total_income  \\\n",
       "0   женат / замужем                 0      F   сотрудник     0  253875.639453   \n",
       "1   женат / замужем                 0      F   сотрудник     0  112080.014102   \n",
       "2   женат / замужем                 0      M   сотрудник     0  145885.952297   \n",
       "3   женат / замужем                 0      M   сотрудник     0  267628.550329   \n",
       "4  гражданский брак                 1      F   пенсионер     0  158616.077870   \n",
       "5  гражданский брак                 1      M   компаньон     0  255763.565419   \n",
       "6   женат / замужем                 0      F   компаньон     0  240525.971920   \n",
       "7   женат / замужем                 0      M   сотрудник     0  135823.934197   \n",
       "8  гражданский брак                 1      F   сотрудник     0   95856.832424   \n",
       "9   женат / замужем                 0      M   сотрудник     0  144425.938277   \n",
       "\n",
       "                      purpose  \n",
       "0               покупка жилья  \n",
       "1     приобретение автомобиля  \n",
       "2               покупка жилья  \n",
       "3  дополнительное образование  \n",
       "4             сыграть свадьбу  \n",
       "5               покупка жилья  \n",
       "6           операции с жильем  \n",
       "7                 образование  \n",
       "8       на проведение свадьбы  \n",
       "9     покупка жилья для семьи  "
      ]
     },
     "execution_count": 3,
     "metadata": {},
     "output_type": "execute_result"
    }
   ],
   "source": [
    "df.head(10) # получаем первые 10 строк датафрейма"
   ]
  },
  {
   "cell_type": "code",
   "execution_count": 4,
   "id": "d5a0c8f6",
   "metadata": {},
   "outputs": [
    {
     "data": {
      "text/html": [
       "<div>\n",
       "<style scoped>\n",
       "    .dataframe tbody tr th:only-of-type {\n",
       "        vertical-align: middle;\n",
       "    }\n",
       "\n",
       "    .dataframe tbody tr th {\n",
       "        vertical-align: top;\n",
       "    }\n",
       "\n",
       "    .dataframe thead th {\n",
       "        text-align: right;\n",
       "    }\n",
       "</style>\n",
       "<table border=\"1\" class=\"dataframe\">\n",
       "  <thead>\n",
       "    <tr style=\"text-align: right;\">\n",
       "      <th></th>\n",
       "      <th>children</th>\n",
       "      <th>days_employed</th>\n",
       "      <th>dob_years</th>\n",
       "      <th>education_id</th>\n",
       "      <th>family_status_id</th>\n",
       "      <th>debt</th>\n",
       "      <th>total_income</th>\n",
       "    </tr>\n",
       "  </thead>\n",
       "  <tbody>\n",
       "    <tr>\n",
       "      <th>count</th>\n",
       "      <td>21525.000000</td>\n",
       "      <td>19351.000000</td>\n",
       "      <td>21525.000000</td>\n",
       "      <td>21525.000000</td>\n",
       "      <td>21525.000000</td>\n",
       "      <td>21525.000000</td>\n",
       "      <td>1.935100e+04</td>\n",
       "    </tr>\n",
       "    <tr>\n",
       "      <th>mean</th>\n",
       "      <td>0.538908</td>\n",
       "      <td>63046.497661</td>\n",
       "      <td>43.293380</td>\n",
       "      <td>0.817236</td>\n",
       "      <td>0.972544</td>\n",
       "      <td>0.080883</td>\n",
       "      <td>1.674223e+05</td>\n",
       "    </tr>\n",
       "    <tr>\n",
       "      <th>std</th>\n",
       "      <td>1.381587</td>\n",
       "      <td>140827.311974</td>\n",
       "      <td>12.574584</td>\n",
       "      <td>0.548138</td>\n",
       "      <td>1.420324</td>\n",
       "      <td>0.272661</td>\n",
       "      <td>1.029716e+05</td>\n",
       "    </tr>\n",
       "    <tr>\n",
       "      <th>min</th>\n",
       "      <td>-1.000000</td>\n",
       "      <td>-18388.949901</td>\n",
       "      <td>0.000000</td>\n",
       "      <td>0.000000</td>\n",
       "      <td>0.000000</td>\n",
       "      <td>0.000000</td>\n",
       "      <td>2.066726e+04</td>\n",
       "    </tr>\n",
       "    <tr>\n",
       "      <th>25%</th>\n",
       "      <td>0.000000</td>\n",
       "      <td>-2747.423625</td>\n",
       "      <td>33.000000</td>\n",
       "      <td>1.000000</td>\n",
       "      <td>0.000000</td>\n",
       "      <td>0.000000</td>\n",
       "      <td>1.030532e+05</td>\n",
       "    </tr>\n",
       "    <tr>\n",
       "      <th>50%</th>\n",
       "      <td>0.000000</td>\n",
       "      <td>-1203.369529</td>\n",
       "      <td>42.000000</td>\n",
       "      <td>1.000000</td>\n",
       "      <td>0.000000</td>\n",
       "      <td>0.000000</td>\n",
       "      <td>1.450179e+05</td>\n",
       "    </tr>\n",
       "    <tr>\n",
       "      <th>75%</th>\n",
       "      <td>1.000000</td>\n",
       "      <td>-291.095954</td>\n",
       "      <td>53.000000</td>\n",
       "      <td>1.000000</td>\n",
       "      <td>1.000000</td>\n",
       "      <td>0.000000</td>\n",
       "      <td>2.034351e+05</td>\n",
       "    </tr>\n",
       "    <tr>\n",
       "      <th>max</th>\n",
       "      <td>20.000000</td>\n",
       "      <td>401755.400475</td>\n",
       "      <td>75.000000</td>\n",
       "      <td>4.000000</td>\n",
       "      <td>4.000000</td>\n",
       "      <td>1.000000</td>\n",
       "      <td>2.265604e+06</td>\n",
       "    </tr>\n",
       "  </tbody>\n",
       "</table>\n",
       "</div>"
      ],
      "text/plain": [
       "           children  days_employed     dob_years  education_id  \\\n",
       "count  21525.000000   19351.000000  21525.000000  21525.000000   \n",
       "mean       0.538908   63046.497661     43.293380      0.817236   \n",
       "std        1.381587  140827.311974     12.574584      0.548138   \n",
       "min       -1.000000  -18388.949901      0.000000      0.000000   \n",
       "25%        0.000000   -2747.423625     33.000000      1.000000   \n",
       "50%        0.000000   -1203.369529     42.000000      1.000000   \n",
       "75%        1.000000    -291.095954     53.000000      1.000000   \n",
       "max       20.000000  401755.400475     75.000000      4.000000   \n",
       "\n",
       "       family_status_id          debt  total_income  \n",
       "count      21525.000000  21525.000000  1.935100e+04  \n",
       "mean           0.972544      0.080883  1.674223e+05  \n",
       "std            1.420324      0.272661  1.029716e+05  \n",
       "min            0.000000      0.000000  2.066726e+04  \n",
       "25%            0.000000      0.000000  1.030532e+05  \n",
       "50%            0.000000      0.000000  1.450179e+05  \n",
       "75%            1.000000      0.000000  2.034351e+05  \n",
       "max            4.000000      1.000000  2.265604e+06  "
      ]
     },
     "execution_count": 4,
     "metadata": {},
     "output_type": "execute_result"
    }
   ],
   "source": [
    "df.describe() # получаем статистические данные о датафрейме"
   ]
  },
  {
   "cell_type": "code",
   "execution_count": 5,
   "id": "1120d588",
   "metadata": {
    "scrolled": true
   },
   "outputs": [
    {
     "name": "stdout",
     "output_type": "stream",
     "text": [
      "<class 'pandas.core.frame.DataFrame'>\n",
      "RangeIndex: 21525 entries, 0 to 21524\n",
      "Data columns (total 12 columns):\n",
      " #   Column            Non-Null Count  Dtype  \n",
      "---  ------            --------------  -----  \n",
      " 0   children          21525 non-null  int64  \n",
      " 1   days_employed     19351 non-null  float64\n",
      " 2   dob_years         21525 non-null  int64  \n",
      " 3   education         21525 non-null  object \n",
      " 4   education_id      21525 non-null  int64  \n",
      " 5   family_status     21525 non-null  object \n",
      " 6   family_status_id  21525 non-null  int64  \n",
      " 7   gender            21525 non-null  object \n",
      " 8   income_type       21525 non-null  object \n",
      " 9   debt              21525 non-null  int64  \n",
      " 10  total_income      19351 non-null  float64\n",
      " 11  purpose           21525 non-null  object \n",
      "dtypes: float64(2), int64(5), object(5)\n",
      "memory usage: 2.0+ MB\n"
     ]
    }
   ],
   "source": [
    "df.info() # получаем общую информацию о датафрейме"
   ]
  },
  {
   "cell_type": "markdown",
   "id": "189b6437",
   "metadata": {},
   "source": [
    "**Вывод:**\n",
    "\n",
    "Данные пропущены в двух столбцах: days_employed и total_income."
   ]
  },
  {
   "cell_type": "markdown",
   "id": "bf9a73b9",
   "metadata": {},
   "source": [
    "### Шаг 2.1 Заполнение пропусков\n"
   ]
  },
  {
   "cell_type": "code",
   "execution_count": 6,
   "id": "98b87fef",
   "metadata": {
    "scrolled": true
   },
   "outputs": [
    {
     "data": {
      "text/plain": [
       "children               0\n",
       "days_employed       2174\n",
       "dob_years              0\n",
       "education              0\n",
       "education_id           0\n",
       "family_status          0\n",
       "family_status_id       0\n",
       "gender                 0\n",
       "income_type            0\n",
       "debt                   0\n",
       "total_income        2174\n",
       "purpose                0\n",
       "dtype: int64"
      ]
     },
     "execution_count": 6,
     "metadata": {},
     "output_type": "execute_result"
    }
   ],
   "source": [
    "df.isna().sum() # посчитаем, сколько пропущенных значений в столбцах "
   ]
  },
  {
   "cell_type": "markdown",
   "id": "12394209",
   "metadata": {},
   "source": [
    "Посчитаем долю пропущенных значений в столбцах total_income и days_employed."
   ]
  },
  {
   "cell_type": "code",
   "execution_count": 7,
   "id": "cbe034dd",
   "metadata": {
    "scrolled": false
   },
   "outputs": [
    {
     "name": "stdout",
     "output_type": "stream",
     "text": [
      "10.099883855981417\n"
     ]
    }
   ],
   "source": [
    "print(df['total_income'].isna().sum() / len(df['total_income']) * 100) # посчитаем долю пропущенных значений в столбце total_income"
   ]
  },
  {
   "cell_type": "code",
   "execution_count": 8,
   "id": "5f23fb15",
   "metadata": {},
   "outputs": [
    {
     "name": "stdout",
     "output_type": "stream",
     "text": [
      "10.099883855981417\n"
     ]
    }
   ],
   "source": [
    "print(df['days_employed'].isna().sum() / len(df['days_employed']) * 100) # посчитаем долю пропущенных значений в столбце days_employed"
   ]
  },
  {
   "cell_type": "code",
   "execution_count": 9,
   "id": "ad0b2355",
   "metadata": {
    "scrolled": false
   },
   "outputs": [
    {
     "data": {
      "text/html": [
       "<style type=\"text/css\">\n",
       "#T_6ca9a_row0_col0, #T_6ca9a_row2_col0, #T_6ca9a_row3_col0, #T_6ca9a_row4_col0, #T_6ca9a_row5_col0, #T_6ca9a_row6_col0, #T_6ca9a_row7_col0, #T_6ca9a_row8_col0, #T_6ca9a_row9_col0, #T_6ca9a_row11_col0 {\n",
       "  background-color: #3b4cc0;\n",
       "  color: #f1f1f1;\n",
       "}\n",
       "#T_6ca9a_row1_col0, #T_6ca9a_row10_col0 {\n",
       "  background-color: #b40426;\n",
       "  color: #f1f1f1;\n",
       "}\n",
       "</style>\n",
       "<table id=\"T_6ca9a\">\n",
       "  <thead>\n",
       "    <tr>\n",
       "      <th class=\"blank level0\" >&nbsp;</th>\n",
       "      <th id=\"T_6ca9a_level0_col0\" class=\"col_heading level0 col0\" >NaNs, %</th>\n",
       "    </tr>\n",
       "  </thead>\n",
       "  <tbody>\n",
       "    <tr>\n",
       "      <th id=\"T_6ca9a_level0_row0\" class=\"row_heading level0 row0\" >children</th>\n",
       "      <td id=\"T_6ca9a_row0_col0\" class=\"data row0 col0\" >0.00</td>\n",
       "    </tr>\n",
       "    <tr>\n",
       "      <th id=\"T_6ca9a_level0_row1\" class=\"row_heading level0 row1\" >days_employed</th>\n",
       "      <td id=\"T_6ca9a_row1_col0\" class=\"data row1 col0\" >10.10</td>\n",
       "    </tr>\n",
       "    <tr>\n",
       "      <th id=\"T_6ca9a_level0_row2\" class=\"row_heading level0 row2\" >dob_years</th>\n",
       "      <td id=\"T_6ca9a_row2_col0\" class=\"data row2 col0\" >0.00</td>\n",
       "    </tr>\n",
       "    <tr>\n",
       "      <th id=\"T_6ca9a_level0_row3\" class=\"row_heading level0 row3\" >education</th>\n",
       "      <td id=\"T_6ca9a_row3_col0\" class=\"data row3 col0\" >0.00</td>\n",
       "    </tr>\n",
       "    <tr>\n",
       "      <th id=\"T_6ca9a_level0_row4\" class=\"row_heading level0 row4\" >education_id</th>\n",
       "      <td id=\"T_6ca9a_row4_col0\" class=\"data row4 col0\" >0.00</td>\n",
       "    </tr>\n",
       "    <tr>\n",
       "      <th id=\"T_6ca9a_level0_row5\" class=\"row_heading level0 row5\" >family_status</th>\n",
       "      <td id=\"T_6ca9a_row5_col0\" class=\"data row5 col0\" >0.00</td>\n",
       "    </tr>\n",
       "    <tr>\n",
       "      <th id=\"T_6ca9a_level0_row6\" class=\"row_heading level0 row6\" >family_status_id</th>\n",
       "      <td id=\"T_6ca9a_row6_col0\" class=\"data row6 col0\" >0.00</td>\n",
       "    </tr>\n",
       "    <tr>\n",
       "      <th id=\"T_6ca9a_level0_row7\" class=\"row_heading level0 row7\" >gender</th>\n",
       "      <td id=\"T_6ca9a_row7_col0\" class=\"data row7 col0\" >0.00</td>\n",
       "    </tr>\n",
       "    <tr>\n",
       "      <th id=\"T_6ca9a_level0_row8\" class=\"row_heading level0 row8\" >income_type</th>\n",
       "      <td id=\"T_6ca9a_row8_col0\" class=\"data row8 col0\" >0.00</td>\n",
       "    </tr>\n",
       "    <tr>\n",
       "      <th id=\"T_6ca9a_level0_row9\" class=\"row_heading level0 row9\" >debt</th>\n",
       "      <td id=\"T_6ca9a_row9_col0\" class=\"data row9 col0\" >0.00</td>\n",
       "    </tr>\n",
       "    <tr>\n",
       "      <th id=\"T_6ca9a_level0_row10\" class=\"row_heading level0 row10\" >total_income</th>\n",
       "      <td id=\"T_6ca9a_row10_col0\" class=\"data row10 col0\" >10.10</td>\n",
       "    </tr>\n",
       "    <tr>\n",
       "      <th id=\"T_6ca9a_level0_row11\" class=\"row_heading level0 row11\" >purpose</th>\n",
       "      <td id=\"T_6ca9a_row11_col0\" class=\"data row11 col0\" >0.00</td>\n",
       "    </tr>\n",
       "  </tbody>\n",
       "</table>\n"
      ],
      "text/plain": [
       "<pandas.io.formats.style.Styler at 0x7f8db07c4b20>"
      ]
     },
     "metadata": {},
     "output_type": "display_data"
    }
   ],
   "source": [
    "display(pd.DataFrame(round((df.isna().mean()*100),2), columns=['NaNs, %']).style.format(\n",
    "    '{:.2f}').background_gradient('coolwarm')) # проверим процентное соотношение пропусков"
   ]
  },
  {
   "cell_type": "markdown",
   "id": "3418bd8d",
   "metadata": {},
   "source": [
    "Заполним пропуски в total_income с учетом категорий из столбца income_type. \n"
   ]
  },
  {
   "cell_type": "code",
   "execution_count": 10,
   "id": "ed04cc34",
   "metadata": {},
   "outputs": [
    {
     "data": {
      "text/html": [
       "<div>\n",
       "<style scoped>\n",
       "    .dataframe tbody tr th:only-of-type {\n",
       "        vertical-align: middle;\n",
       "    }\n",
       "\n",
       "    .dataframe tbody tr th {\n",
       "        vertical-align: top;\n",
       "    }\n",
       "\n",
       "    .dataframe thead th {\n",
       "        text-align: right;\n",
       "    }\n",
       "</style>\n",
       "<table border=\"1\" class=\"dataframe\">\n",
       "  <thead>\n",
       "    <tr style=\"text-align: right;\">\n",
       "      <th></th>\n",
       "      <th>total_income</th>\n",
       "    </tr>\n",
       "    <tr>\n",
       "      <th>income_type</th>\n",
       "      <th></th>\n",
       "    </tr>\n",
       "  </thead>\n",
       "  <tbody>\n",
       "    <tr>\n",
       "      <th>безработный</th>\n",
       "      <td>131339.751676</td>\n",
       "    </tr>\n",
       "    <tr>\n",
       "      <th>в декрете</th>\n",
       "      <td>53829.130729</td>\n",
       "    </tr>\n",
       "    <tr>\n",
       "      <th>госслужащий</th>\n",
       "      <td>150447.935283</td>\n",
       "    </tr>\n",
       "    <tr>\n",
       "      <th>компаньон</th>\n",
       "      <td>172357.950966</td>\n",
       "    </tr>\n",
       "    <tr>\n",
       "      <th>пенсионер</th>\n",
       "      <td>118514.486412</td>\n",
       "    </tr>\n",
       "    <tr>\n",
       "      <th>предприниматель</th>\n",
       "      <td>499163.144947</td>\n",
       "    </tr>\n",
       "    <tr>\n",
       "      <th>сотрудник</th>\n",
       "      <td>142594.396847</td>\n",
       "    </tr>\n",
       "    <tr>\n",
       "      <th>студент</th>\n",
       "      <td>98201.625314</td>\n",
       "    </tr>\n",
       "  </tbody>\n",
       "</table>\n",
       "</div>"
      ],
      "text/plain": [
       "                  total_income\n",
       "income_type                   \n",
       "безработный      131339.751676\n",
       "в декрете         53829.130729\n",
       "госслужащий      150447.935283\n",
       "компаньон        172357.950966\n",
       "пенсионер        118514.486412\n",
       "предприниматель  499163.144947\n",
       "сотрудник        142594.396847\n",
       "студент           98201.625314"
      ]
     },
     "metadata": {},
     "output_type": "display_data"
    }
   ],
   "source": [
    "groups_median = df.groupby(['income_type']).agg({'total_income':'median'}) # посчитаем медианное значение total_income для каждой из групп income_type\n",
    "display(groups_median)"
   ]
  },
  {
   "cell_type": "code",
   "execution_count": 11,
   "id": "ed4b3804",
   "metadata": {},
   "outputs": [
    {
     "data": {
      "text/html": [
       "<div>\n",
       "<style scoped>\n",
       "    .dataframe tbody tr th:only-of-type {\n",
       "        vertical-align: middle;\n",
       "    }\n",
       "\n",
       "    .dataframe tbody tr th {\n",
       "        vertical-align: top;\n",
       "    }\n",
       "\n",
       "    .dataframe thead th {\n",
       "        text-align: right;\n",
       "    }\n",
       "</style>\n",
       "<table border=\"1\" class=\"dataframe\">\n",
       "  <thead>\n",
       "    <tr style=\"text-align: right;\">\n",
       "      <th></th>\n",
       "      <th>median_income</th>\n",
       "    </tr>\n",
       "    <tr>\n",
       "      <th>income_type</th>\n",
       "      <th></th>\n",
       "    </tr>\n",
       "  </thead>\n",
       "  <tbody>\n",
       "    <tr>\n",
       "      <th>безработный</th>\n",
       "      <td>131339.751676</td>\n",
       "    </tr>\n",
       "    <tr>\n",
       "      <th>в декрете</th>\n",
       "      <td>53829.130729</td>\n",
       "    </tr>\n",
       "    <tr>\n",
       "      <th>госслужащий</th>\n",
       "      <td>150447.935283</td>\n",
       "    </tr>\n",
       "    <tr>\n",
       "      <th>компаньон</th>\n",
       "      <td>172357.950966</td>\n",
       "    </tr>\n",
       "    <tr>\n",
       "      <th>пенсионер</th>\n",
       "      <td>118514.486412</td>\n",
       "    </tr>\n",
       "    <tr>\n",
       "      <th>предприниматель</th>\n",
       "      <td>499163.144947</td>\n",
       "    </tr>\n",
       "    <tr>\n",
       "      <th>сотрудник</th>\n",
       "      <td>142594.396847</td>\n",
       "    </tr>\n",
       "    <tr>\n",
       "      <th>студент</th>\n",
       "      <td>98201.625314</td>\n",
       "    </tr>\n",
       "  </tbody>\n",
       "</table>\n",
       "</div>"
      ],
      "text/plain": [
       "                 median_income\n",
       "income_type                   \n",
       "безработный      131339.751676\n",
       "в декрете         53829.130729\n",
       "госслужащий      150447.935283\n",
       "компаньон        172357.950966\n",
       "пенсионер        118514.486412\n",
       "предприниматель  499163.144947\n",
       "сотрудник        142594.396847\n",
       "студент           98201.625314"
      ]
     },
     "metadata": {},
     "output_type": "display_data"
    }
   ],
   "source": [
    "groups_median = groups_median.rename(columns={'total_income':'median_income'}) # переименуем столбец в median_income\n",
    "display(groups_median)"
   ]
  },
  {
   "cell_type": "code",
   "execution_count": 12,
   "id": "0752b356",
   "metadata": {},
   "outputs": [
    {
     "data": {
      "text/html": [
       "<div>\n",
       "<style scoped>\n",
       "    .dataframe tbody tr th:only-of-type {\n",
       "        vertical-align: middle;\n",
       "    }\n",
       "\n",
       "    .dataframe tbody tr th {\n",
       "        vertical-align: top;\n",
       "    }\n",
       "\n",
       "    .dataframe thead th {\n",
       "        text-align: right;\n",
       "    }\n",
       "</style>\n",
       "<table border=\"1\" class=\"dataframe\">\n",
       "  <thead>\n",
       "    <tr style=\"text-align: right;\">\n",
       "      <th></th>\n",
       "      <th>children</th>\n",
       "      <th>days_employed</th>\n",
       "      <th>dob_years</th>\n",
       "      <th>education</th>\n",
       "      <th>education_id</th>\n",
       "      <th>family_status</th>\n",
       "      <th>family_status_id</th>\n",
       "      <th>gender</th>\n",
       "      <th>income_type</th>\n",
       "      <th>debt</th>\n",
       "      <th>total_income</th>\n",
       "      <th>purpose</th>\n",
       "      <th>median_income</th>\n",
       "    </tr>\n",
       "  </thead>\n",
       "  <tbody>\n",
       "    <tr>\n",
       "      <th>0</th>\n",
       "      <td>1</td>\n",
       "      <td>-8437.673028</td>\n",
       "      <td>42</td>\n",
       "      <td>высшее</td>\n",
       "      <td>0</td>\n",
       "      <td>женат / замужем</td>\n",
       "      <td>0</td>\n",
       "      <td>F</td>\n",
       "      <td>сотрудник</td>\n",
       "      <td>0</td>\n",
       "      <td>253875.639453</td>\n",
       "      <td>покупка жилья</td>\n",
       "      <td>142594.396847</td>\n",
       "    </tr>\n",
       "    <tr>\n",
       "      <th>1</th>\n",
       "      <td>1</td>\n",
       "      <td>-4024.803754</td>\n",
       "      <td>36</td>\n",
       "      <td>среднее</td>\n",
       "      <td>1</td>\n",
       "      <td>женат / замужем</td>\n",
       "      <td>0</td>\n",
       "      <td>F</td>\n",
       "      <td>сотрудник</td>\n",
       "      <td>0</td>\n",
       "      <td>112080.014102</td>\n",
       "      <td>приобретение автомобиля</td>\n",
       "      <td>142594.396847</td>\n",
       "    </tr>\n",
       "    <tr>\n",
       "      <th>2</th>\n",
       "      <td>0</td>\n",
       "      <td>-5623.422610</td>\n",
       "      <td>33</td>\n",
       "      <td>Среднее</td>\n",
       "      <td>1</td>\n",
       "      <td>женат / замужем</td>\n",
       "      <td>0</td>\n",
       "      <td>M</td>\n",
       "      <td>сотрудник</td>\n",
       "      <td>0</td>\n",
       "      <td>145885.952297</td>\n",
       "      <td>покупка жилья</td>\n",
       "      <td>142594.396847</td>\n",
       "    </tr>\n",
       "    <tr>\n",
       "      <th>3</th>\n",
       "      <td>3</td>\n",
       "      <td>-4124.747207</td>\n",
       "      <td>32</td>\n",
       "      <td>среднее</td>\n",
       "      <td>1</td>\n",
       "      <td>женат / замужем</td>\n",
       "      <td>0</td>\n",
       "      <td>M</td>\n",
       "      <td>сотрудник</td>\n",
       "      <td>0</td>\n",
       "      <td>267628.550329</td>\n",
       "      <td>дополнительное образование</td>\n",
       "      <td>142594.396847</td>\n",
       "    </tr>\n",
       "    <tr>\n",
       "      <th>4</th>\n",
       "      <td>0</td>\n",
       "      <td>340266.072047</td>\n",
       "      <td>53</td>\n",
       "      <td>среднее</td>\n",
       "      <td>1</td>\n",
       "      <td>гражданский брак</td>\n",
       "      <td>1</td>\n",
       "      <td>F</td>\n",
       "      <td>пенсионер</td>\n",
       "      <td>0</td>\n",
       "      <td>158616.077870</td>\n",
       "      <td>сыграть свадьбу</td>\n",
       "      <td>118514.486412</td>\n",
       "    </tr>\n",
       "    <tr>\n",
       "      <th>...</th>\n",
       "      <td>...</td>\n",
       "      <td>...</td>\n",
       "      <td>...</td>\n",
       "      <td>...</td>\n",
       "      <td>...</td>\n",
       "      <td>...</td>\n",
       "      <td>...</td>\n",
       "      <td>...</td>\n",
       "      <td>...</td>\n",
       "      <td>...</td>\n",
       "      <td>...</td>\n",
       "      <td>...</td>\n",
       "      <td>...</td>\n",
       "    </tr>\n",
       "    <tr>\n",
       "      <th>21520</th>\n",
       "      <td>1</td>\n",
       "      <td>-4529.316663</td>\n",
       "      <td>43</td>\n",
       "      <td>среднее</td>\n",
       "      <td>1</td>\n",
       "      <td>гражданский брак</td>\n",
       "      <td>1</td>\n",
       "      <td>F</td>\n",
       "      <td>компаньон</td>\n",
       "      <td>0</td>\n",
       "      <td>224791.862382</td>\n",
       "      <td>операции с жильем</td>\n",
       "      <td>172357.950966</td>\n",
       "    </tr>\n",
       "    <tr>\n",
       "      <th>21521</th>\n",
       "      <td>0</td>\n",
       "      <td>343937.404131</td>\n",
       "      <td>67</td>\n",
       "      <td>среднее</td>\n",
       "      <td>1</td>\n",
       "      <td>женат / замужем</td>\n",
       "      <td>0</td>\n",
       "      <td>F</td>\n",
       "      <td>пенсионер</td>\n",
       "      <td>0</td>\n",
       "      <td>155999.806512</td>\n",
       "      <td>сделка с автомобилем</td>\n",
       "      <td>118514.486412</td>\n",
       "    </tr>\n",
       "    <tr>\n",
       "      <th>21522</th>\n",
       "      <td>1</td>\n",
       "      <td>-2113.346888</td>\n",
       "      <td>38</td>\n",
       "      <td>среднее</td>\n",
       "      <td>1</td>\n",
       "      <td>гражданский брак</td>\n",
       "      <td>1</td>\n",
       "      <td>M</td>\n",
       "      <td>сотрудник</td>\n",
       "      <td>1</td>\n",
       "      <td>89672.561153</td>\n",
       "      <td>недвижимость</td>\n",
       "      <td>142594.396847</td>\n",
       "    </tr>\n",
       "    <tr>\n",
       "      <th>21523</th>\n",
       "      <td>3</td>\n",
       "      <td>-3112.481705</td>\n",
       "      <td>38</td>\n",
       "      <td>среднее</td>\n",
       "      <td>1</td>\n",
       "      <td>женат / замужем</td>\n",
       "      <td>0</td>\n",
       "      <td>M</td>\n",
       "      <td>сотрудник</td>\n",
       "      <td>1</td>\n",
       "      <td>244093.050500</td>\n",
       "      <td>на покупку своего автомобиля</td>\n",
       "      <td>142594.396847</td>\n",
       "    </tr>\n",
       "    <tr>\n",
       "      <th>21524</th>\n",
       "      <td>2</td>\n",
       "      <td>-1984.507589</td>\n",
       "      <td>40</td>\n",
       "      <td>среднее</td>\n",
       "      <td>1</td>\n",
       "      <td>женат / замужем</td>\n",
       "      <td>0</td>\n",
       "      <td>F</td>\n",
       "      <td>сотрудник</td>\n",
       "      <td>0</td>\n",
       "      <td>82047.418899</td>\n",
       "      <td>на покупку автомобиля</td>\n",
       "      <td>142594.396847</td>\n",
       "    </tr>\n",
       "  </tbody>\n",
       "</table>\n",
       "<p>21525 rows × 13 columns</p>\n",
       "</div>"
      ],
      "text/plain": [
       "       children  days_employed  dob_years education  education_id  \\\n",
       "0             1   -8437.673028         42    высшее             0   \n",
       "1             1   -4024.803754         36   среднее             1   \n",
       "2             0   -5623.422610         33   Среднее             1   \n",
       "3             3   -4124.747207         32   среднее             1   \n",
       "4             0  340266.072047         53   среднее             1   \n",
       "...         ...            ...        ...       ...           ...   \n",
       "21520         1   -4529.316663         43   среднее             1   \n",
       "21521         0  343937.404131         67   среднее             1   \n",
       "21522         1   -2113.346888         38   среднее             1   \n",
       "21523         3   -3112.481705         38   среднее             1   \n",
       "21524         2   -1984.507589         40   среднее             1   \n",
       "\n",
       "          family_status  family_status_id gender income_type  debt  \\\n",
       "0       женат / замужем                 0      F   сотрудник     0   \n",
       "1       женат / замужем                 0      F   сотрудник     0   \n",
       "2       женат / замужем                 0      M   сотрудник     0   \n",
       "3       женат / замужем                 0      M   сотрудник     0   \n",
       "4      гражданский брак                 1      F   пенсионер     0   \n",
       "...                 ...               ...    ...         ...   ...   \n",
       "21520  гражданский брак                 1      F   компаньон     0   \n",
       "21521   женат / замужем                 0      F   пенсионер     0   \n",
       "21522  гражданский брак                 1      M   сотрудник     1   \n",
       "21523   женат / замужем                 0      M   сотрудник     1   \n",
       "21524   женат / замужем                 0      F   сотрудник     0   \n",
       "\n",
       "        total_income                       purpose  median_income  \n",
       "0      253875.639453                 покупка жилья  142594.396847  \n",
       "1      112080.014102       приобретение автомобиля  142594.396847  \n",
       "2      145885.952297                 покупка жилья  142594.396847  \n",
       "3      267628.550329    дополнительное образование  142594.396847  \n",
       "4      158616.077870               сыграть свадьбу  118514.486412  \n",
       "...              ...                           ...            ...  \n",
       "21520  224791.862382             операции с жильем  172357.950966  \n",
       "21521  155999.806512          сделка с автомобилем  118514.486412  \n",
       "21522   89672.561153                  недвижимость  142594.396847  \n",
       "21523  244093.050500  на покупку своего автомобиля  142594.396847  \n",
       "21524   82047.418899         на покупку автомобиля  142594.396847  \n",
       "\n",
       "[21525 rows x 13 columns]"
      ]
     },
     "metadata": {},
     "output_type": "display_data"
    }
   ],
   "source": [
    "df = df.merge(groups_median, on='income_type', how='left') # объединим таблицы так, чтобы в df появился столбец median_income\n",
    "display(df)"
   ]
  },
  {
   "cell_type": "code",
   "execution_count": 13,
   "id": "173748e0",
   "metadata": {},
   "outputs": [],
   "source": [
    "df['total_income'] = df['total_income'].fillna(df['median_income']) # заменим значения в столбце total_income медианными значениями из столбца median_income\n"
   ]
  },
  {
   "cell_type": "code",
   "execution_count": 14,
   "id": "ecf3bd77",
   "metadata": {},
   "outputs": [
    {
     "data": {
      "text/plain": [
       "0        142594.396847\n",
       "1        142594.396847\n",
       "2        142594.396847\n",
       "3        142594.396847\n",
       "4        118514.486412\n",
       "             ...      \n",
       "21520    172357.950966\n",
       "21521    118514.486412\n",
       "21522    142594.396847\n",
       "21523    142594.396847\n",
       "21524    142594.396847\n",
       "Name: median_income, Length: 21525, dtype: float64"
      ]
     },
     "execution_count": 14,
     "metadata": {},
     "output_type": "execute_result"
    }
   ],
   "source": [
    "df.pop('median_income') # удалим столбец median_income\n"
   ]
  },
  {
   "cell_type": "markdown",
   "id": "f8eae6e6",
   "metadata": {},
   "source": [
    "Проверим результат заполнения пропущенных значений. "
   ]
  },
  {
   "cell_type": "code",
   "execution_count": 15,
   "id": "4009c496",
   "metadata": {
    "scrolled": true
   },
   "outputs": [
    {
     "data": {
      "text/plain": [
       "children               0\n",
       "days_employed       2174\n",
       "dob_years              0\n",
       "education              0\n",
       "education_id           0\n",
       "family_status          0\n",
       "family_status_id       0\n",
       "gender                 0\n",
       "income_type            0\n",
       "debt                   0\n",
       "total_income           0\n",
       "purpose                0\n",
       "dtype: int64"
      ]
     },
     "execution_count": 15,
     "metadata": {},
     "output_type": "execute_result"
    }
   ],
   "source": [
    "df.isna().sum() # посчитаем, сколько теперь пропущенных значений в столбцах"
   ]
  },
  {
   "cell_type": "code",
   "execution_count": 16,
   "id": "de03cdd4",
   "metadata": {},
   "outputs": [
    {
     "data": {
      "text/html": [
       "<div>\n",
       "<style scoped>\n",
       "    .dataframe tbody tr th:only-of-type {\n",
       "        vertical-align: middle;\n",
       "    }\n",
       "\n",
       "    .dataframe tbody tr th {\n",
       "        vertical-align: top;\n",
       "    }\n",
       "\n",
       "    .dataframe thead th {\n",
       "        text-align: right;\n",
       "    }\n",
       "</style>\n",
       "<table border=\"1\" class=\"dataframe\">\n",
       "  <thead>\n",
       "    <tr style=\"text-align: right;\">\n",
       "      <th></th>\n",
       "      <th>children</th>\n",
       "      <th>days_employed</th>\n",
       "      <th>dob_years</th>\n",
       "      <th>education</th>\n",
       "      <th>education_id</th>\n",
       "      <th>family_status</th>\n",
       "      <th>family_status_id</th>\n",
       "      <th>gender</th>\n",
       "      <th>income_type</th>\n",
       "      <th>debt</th>\n",
       "      <th>total_income</th>\n",
       "      <th>purpose</th>\n",
       "    </tr>\n",
       "  </thead>\n",
       "  <tbody>\n",
       "    <tr>\n",
       "      <th>5394</th>\n",
       "      <td>1</td>\n",
       "      <td>NaN</td>\n",
       "      <td>43</td>\n",
       "      <td>среднее</td>\n",
       "      <td>1</td>\n",
       "      <td>женат / замужем</td>\n",
       "      <td>0</td>\n",
       "      <td>M</td>\n",
       "      <td>сотрудник</td>\n",
       "      <td>0</td>\n",
       "      <td>142594.396847</td>\n",
       "      <td>заняться образованием</td>\n",
       "    </tr>\n",
       "    <tr>\n",
       "      <th>2974</th>\n",
       "      <td>1</td>\n",
       "      <td>NaN</td>\n",
       "      <td>36</td>\n",
       "      <td>Высшее</td>\n",
       "      <td>0</td>\n",
       "      <td>гражданский брак</td>\n",
       "      <td>1</td>\n",
       "      <td>F</td>\n",
       "      <td>сотрудник</td>\n",
       "      <td>0</td>\n",
       "      <td>142594.396847</td>\n",
       "      <td>сыграть свадьбу</td>\n",
       "    </tr>\n",
       "    <tr>\n",
       "      <th>1658</th>\n",
       "      <td>0</td>\n",
       "      <td>NaN</td>\n",
       "      <td>48</td>\n",
       "      <td>Среднее</td>\n",
       "      <td>1</td>\n",
       "      <td>гражданский брак</td>\n",
       "      <td>1</td>\n",
       "      <td>M</td>\n",
       "      <td>компаньон</td>\n",
       "      <td>0</td>\n",
       "      <td>172357.950966</td>\n",
       "      <td>жилье</td>\n",
       "    </tr>\n",
       "    <tr>\n",
       "      <th>1841</th>\n",
       "      <td>0</td>\n",
       "      <td>NaN</td>\n",
       "      <td>52</td>\n",
       "      <td>среднее</td>\n",
       "      <td>1</td>\n",
       "      <td>вдовец / вдова</td>\n",
       "      <td>2</td>\n",
       "      <td>F</td>\n",
       "      <td>госслужащий</td>\n",
       "      <td>0</td>\n",
       "      <td>150447.935283</td>\n",
       "      <td>покупка жилья для семьи</td>\n",
       "    </tr>\n",
       "    <tr>\n",
       "      <th>5329</th>\n",
       "      <td>0</td>\n",
       "      <td>NaN</td>\n",
       "      <td>34</td>\n",
       "      <td>среднее</td>\n",
       "      <td>1</td>\n",
       "      <td>женат / замужем</td>\n",
       "      <td>0</td>\n",
       "      <td>F</td>\n",
       "      <td>сотрудник</td>\n",
       "      <td>0</td>\n",
       "      <td>142594.396847</td>\n",
       "      <td>на покупку автомобиля</td>\n",
       "    </tr>\n",
       "    <tr>\n",
       "      <th>17014</th>\n",
       "      <td>0</td>\n",
       "      <td>NaN</td>\n",
       "      <td>39</td>\n",
       "      <td>начальное</td>\n",
       "      <td>3</td>\n",
       "      <td>женат / замужем</td>\n",
       "      <td>0</td>\n",
       "      <td>F</td>\n",
       "      <td>госслужащий</td>\n",
       "      <td>0</td>\n",
       "      <td>150447.935283</td>\n",
       "      <td>операции с коммерческой недвижимостью</td>\n",
       "    </tr>\n",
       "    <tr>\n",
       "      <th>20356</th>\n",
       "      <td>1</td>\n",
       "      <td>NaN</td>\n",
       "      <td>44</td>\n",
       "      <td>среднее</td>\n",
       "      <td>1</td>\n",
       "      <td>женат / замужем</td>\n",
       "      <td>0</td>\n",
       "      <td>F</td>\n",
       "      <td>сотрудник</td>\n",
       "      <td>0</td>\n",
       "      <td>142594.396847</td>\n",
       "      <td>сделка с автомобилем</td>\n",
       "    </tr>\n",
       "    <tr>\n",
       "      <th>15175</th>\n",
       "      <td>0</td>\n",
       "      <td>NaN</td>\n",
       "      <td>59</td>\n",
       "      <td>высшее</td>\n",
       "      <td>0</td>\n",
       "      <td>гражданский брак</td>\n",
       "      <td>1</td>\n",
       "      <td>F</td>\n",
       "      <td>компаньон</td>\n",
       "      <td>0</td>\n",
       "      <td>172357.950966</td>\n",
       "      <td>свадьба</td>\n",
       "    </tr>\n",
       "    <tr>\n",
       "      <th>6415</th>\n",
       "      <td>0</td>\n",
       "      <td>NaN</td>\n",
       "      <td>33</td>\n",
       "      <td>среднее</td>\n",
       "      <td>1</td>\n",
       "      <td>женат / замужем</td>\n",
       "      <td>0</td>\n",
       "      <td>F</td>\n",
       "      <td>сотрудник</td>\n",
       "      <td>0</td>\n",
       "      <td>142594.396847</td>\n",
       "      <td>строительство собственной недвижимости</td>\n",
       "    </tr>\n",
       "    <tr>\n",
       "      <th>5147</th>\n",
       "      <td>0</td>\n",
       "      <td>NaN</td>\n",
       "      <td>49</td>\n",
       "      <td>высшее</td>\n",
       "      <td>0</td>\n",
       "      <td>женат / замужем</td>\n",
       "      <td>0</td>\n",
       "      <td>F</td>\n",
       "      <td>госслужащий</td>\n",
       "      <td>0</td>\n",
       "      <td>150447.935283</td>\n",
       "      <td>строительство собственной недвижимости</td>\n",
       "    </tr>\n",
       "  </tbody>\n",
       "</table>\n",
       "</div>"
      ],
      "text/plain": [
       "       children  days_employed  dob_years  education  education_id  \\\n",
       "5394          1            NaN         43    среднее             1   \n",
       "2974          1            NaN         36     Высшее             0   \n",
       "1658          0            NaN         48    Среднее             1   \n",
       "1841          0            NaN         52    среднее             1   \n",
       "5329          0            NaN         34    среднее             1   \n",
       "17014         0            NaN         39  начальное             3   \n",
       "20356         1            NaN         44    среднее             1   \n",
       "15175         0            NaN         59     высшее             0   \n",
       "6415          0            NaN         33    среднее             1   \n",
       "5147          0            NaN         49     высшее             0   \n",
       "\n",
       "          family_status  family_status_id gender  income_type  debt  \\\n",
       "5394    женат / замужем                 0      M    сотрудник     0   \n",
       "2974   гражданский брак                 1      F    сотрудник     0   \n",
       "1658   гражданский брак                 1      M    компаньон     0   \n",
       "1841     вдовец / вдова                 2      F  госслужащий     0   \n",
       "5329    женат / замужем                 0      F    сотрудник     0   \n",
       "17014   женат / замужем                 0      F  госслужащий     0   \n",
       "20356   женат / замужем                 0      F    сотрудник     0   \n",
       "15175  гражданский брак                 1      F    компаньон     0   \n",
       "6415    женат / замужем                 0      F    сотрудник     0   \n",
       "5147    женат / замужем                 0      F  госслужащий     0   \n",
       "\n",
       "        total_income                                 purpose  \n",
       "5394   142594.396847                   заняться образованием  \n",
       "2974   142594.396847                         сыграть свадьбу  \n",
       "1658   172357.950966                                   жилье  \n",
       "1841   150447.935283                 покупка жилья для семьи  \n",
       "5329   142594.396847                   на покупку автомобиля  \n",
       "17014  150447.935283   операции с коммерческой недвижимостью  \n",
       "20356  142594.396847                    сделка с автомобилем  \n",
       "15175  172357.950966                                 свадьба  \n",
       "6415   142594.396847  строительство собственной недвижимости  \n",
       "5147   150447.935283  строительство собственной недвижимости  "
      ]
     },
     "execution_count": 16,
     "metadata": {},
     "output_type": "execute_result"
    }
   ],
   "source": [
    "df[df['days_employed'].isna()].sample(10) # посмотрим, какой тип пропущенных данных в столбце days_employed"
   ]
  },
  {
   "cell_type": "markdown",
   "id": "d66a16de",
   "metadata": {},
   "source": [
    "**Выводы:** \n",
    "\n",
    "Тип пропущенных значений в столбце days_employed - NaN. Он замещает пропущенное в ячейке число и относится к типу данных float. \n",
    "\n",
    "Пропущенные значения в столбцах days_employed и total_income могли возникнуть, если клиент банка не указал доход и/или не трудоустроен.  \n",
    "\n",
    "В каждом из двух столбцов пропущено около 10% данных. \n",
    "\n",
    "Медианное значение в данном случае использовать корректнее, чем среднее, так как некоторые значения столбца сильно отличаются от большинства, что искажает представление об усредненном значении. \n"
   ]
  },
  {
   "cell_type": "markdown",
   "id": "e1e48322",
   "metadata": {},
   "source": [
    "### Шаг 2.2 Проверка данных на аномалии и исправления.\n"
   ]
  },
  {
   "cell_type": "markdown",
   "id": "eea57fa9",
   "metadata": {},
   "source": [
    "Часть значений в столбцах days_employed и children отрцательные, хотя это противоречит здравому смыслу. \n",
    "Исправим эти значения, заменив их на положительные. "
   ]
  },
  {
   "cell_type": "code",
   "execution_count": 17,
   "id": "89049d22",
   "metadata": {},
   "outputs": [],
   "source": [
    "df['days_employed'] = df['days_employed'].abs() # заменим отрицательные значения в столбце days_employed на абсолютные"
   ]
  },
  {
   "cell_type": "code",
   "execution_count": 18,
   "id": "0457268e",
   "metadata": {},
   "outputs": [],
   "source": [
    "df['children'] = df['children'].abs() # заменим отрицательные значения в столбце children на абсолютные"
   ]
  },
  {
   "cell_type": "markdown",
   "id": "63a5a645",
   "metadata": {},
   "source": [
    "Проверим, получилась ли замена. "
   ]
  },
  {
   "cell_type": "code",
   "execution_count": 19,
   "id": "89411f31",
   "metadata": {
    "scrolled": false
   },
   "outputs": [
    {
     "data": {
      "text/html": [
       "<div>\n",
       "<style scoped>\n",
       "    .dataframe tbody tr th:only-of-type {\n",
       "        vertical-align: middle;\n",
       "    }\n",
       "\n",
       "    .dataframe tbody tr th {\n",
       "        vertical-align: top;\n",
       "    }\n",
       "\n",
       "    .dataframe thead th {\n",
       "        text-align: right;\n",
       "    }\n",
       "</style>\n",
       "<table border=\"1\" class=\"dataframe\">\n",
       "  <thead>\n",
       "    <tr style=\"text-align: right;\">\n",
       "      <th></th>\n",
       "      <th>children</th>\n",
       "      <th>days_employed</th>\n",
       "      <th>dob_years</th>\n",
       "      <th>education_id</th>\n",
       "      <th>family_status_id</th>\n",
       "      <th>debt</th>\n",
       "      <th>total_income</th>\n",
       "    </tr>\n",
       "  </thead>\n",
       "  <tbody>\n",
       "    <tr>\n",
       "      <th>count</th>\n",
       "      <td>21525.000000</td>\n",
       "      <td>19351.000000</td>\n",
       "      <td>21525.000000</td>\n",
       "      <td>21525.000000</td>\n",
       "      <td>21525.000000</td>\n",
       "      <td>21525.000000</td>\n",
       "      <td>2.152500e+04</td>\n",
       "    </tr>\n",
       "    <tr>\n",
       "      <th>mean</th>\n",
       "      <td>0.543275</td>\n",
       "      <td>66914.728907</td>\n",
       "      <td>43.293380</td>\n",
       "      <td>0.817236</td>\n",
       "      <td>0.972544</td>\n",
       "      <td>0.080883</td>\n",
       "      <td>1.652253e+05</td>\n",
       "    </tr>\n",
       "    <tr>\n",
       "      <th>std</th>\n",
       "      <td>1.379876</td>\n",
       "      <td>139030.880527</td>\n",
       "      <td>12.574584</td>\n",
       "      <td>0.548138</td>\n",
       "      <td>1.420324</td>\n",
       "      <td>0.272661</td>\n",
       "      <td>9.804367e+04</td>\n",
       "    </tr>\n",
       "    <tr>\n",
       "      <th>min</th>\n",
       "      <td>0.000000</td>\n",
       "      <td>24.141633</td>\n",
       "      <td>0.000000</td>\n",
       "      <td>0.000000</td>\n",
       "      <td>0.000000</td>\n",
       "      <td>0.000000</td>\n",
       "      <td>2.066726e+04</td>\n",
       "    </tr>\n",
       "    <tr>\n",
       "      <th>25%</th>\n",
       "      <td>0.000000</td>\n",
       "      <td>927.009265</td>\n",
       "      <td>33.000000</td>\n",
       "      <td>1.000000</td>\n",
       "      <td>0.000000</td>\n",
       "      <td>0.000000</td>\n",
       "      <td>1.077982e+05</td>\n",
       "    </tr>\n",
       "    <tr>\n",
       "      <th>50%</th>\n",
       "      <td>0.000000</td>\n",
       "      <td>2194.220567</td>\n",
       "      <td>42.000000</td>\n",
       "      <td>1.000000</td>\n",
       "      <td>0.000000</td>\n",
       "      <td>0.000000</td>\n",
       "      <td>1.425944e+05</td>\n",
       "    </tr>\n",
       "    <tr>\n",
       "      <th>75%</th>\n",
       "      <td>1.000000</td>\n",
       "      <td>5537.882441</td>\n",
       "      <td>53.000000</td>\n",
       "      <td>1.000000</td>\n",
       "      <td>1.000000</td>\n",
       "      <td>0.000000</td>\n",
       "      <td>1.955499e+05</td>\n",
       "    </tr>\n",
       "    <tr>\n",
       "      <th>max</th>\n",
       "      <td>20.000000</td>\n",
       "      <td>401755.400475</td>\n",
       "      <td>75.000000</td>\n",
       "      <td>4.000000</td>\n",
       "      <td>4.000000</td>\n",
       "      <td>1.000000</td>\n",
       "      <td>2.265604e+06</td>\n",
       "    </tr>\n",
       "  </tbody>\n",
       "</table>\n",
       "</div>"
      ],
      "text/plain": [
       "           children  days_employed     dob_years  education_id  \\\n",
       "count  21525.000000   19351.000000  21525.000000  21525.000000   \n",
       "mean       0.543275   66914.728907     43.293380      0.817236   \n",
       "std        1.379876  139030.880527     12.574584      0.548138   \n",
       "min        0.000000      24.141633      0.000000      0.000000   \n",
       "25%        0.000000     927.009265     33.000000      1.000000   \n",
       "50%        0.000000    2194.220567     42.000000      1.000000   \n",
       "75%        1.000000    5537.882441     53.000000      1.000000   \n",
       "max       20.000000  401755.400475     75.000000      4.000000   \n",
       "\n",
       "       family_status_id          debt  total_income  \n",
       "count      21525.000000  21525.000000  2.152500e+04  \n",
       "mean           0.972544      0.080883  1.652253e+05  \n",
       "std            1.420324      0.272661  9.804367e+04  \n",
       "min            0.000000      0.000000  2.066726e+04  \n",
       "25%            0.000000      0.000000  1.077982e+05  \n",
       "50%            0.000000      0.000000  1.425944e+05  \n",
       "75%            1.000000      0.000000  1.955499e+05  \n",
       "max            4.000000      1.000000  2.265604e+06  "
      ]
     },
     "execution_count": 19,
     "metadata": {},
     "output_type": "execute_result"
    }
   ],
   "source": [
    "df.describe()"
   ]
  },
  {
   "cell_type": "markdown",
   "id": "fab5173d",
   "metadata": {},
   "source": [
    "Проверим данные на наличиие прочих аномалий. "
   ]
  },
  {
   "cell_type": "markdown",
   "id": "9bc22cb8",
   "metadata": {},
   "source": [
    "Посмотрим, какие уникальные данные есть по возрасту"
   ]
  },
  {
   "cell_type": "code",
   "execution_count": 20,
   "id": "90d0aee4",
   "metadata": {
    "scrolled": true
   },
   "outputs": [
    {
     "name": "stdout",
     "output_type": "stream",
     "text": [
      "[42 36 33 32 53 27 43 50 35 41 40 65 54 56 26 48 24 21 57 67 28 63 62 47\n",
      " 34 68 25 31 30 20 49 37 45 61 64 44 52 46 23 38 39 51  0 59 29 60 55 58\n",
      " 71 22 73 66 69 19 72 70 74 75]\n"
     ]
    }
   ],
   "source": [
    "print(df['dob_years'].unique()) # найдем уникальные данные по возрасту"
   ]
  },
  {
   "cell_type": "markdown",
   "id": "3248b34a",
   "metadata": {},
   "source": [
    "Посмотрим, сколько клиентов не указали возраст. "
   ]
  },
  {
   "cell_type": "code",
   "execution_count": 21,
   "id": "8553963e",
   "metadata": {
    "scrolled": true
   },
   "outputs": [
    {
     "data": {
      "text/plain": [
       "35    617\n",
       "40    609\n",
       "41    607\n",
       "34    603\n",
       "38    598\n",
       "42    597\n",
       "33    581\n",
       "39    573\n",
       "31    560\n",
       "36    555\n",
       "44    547\n",
       "29    545\n",
       "30    540\n",
       "48    538\n",
       "37    537\n",
       "50    514\n",
       "43    513\n",
       "32    510\n",
       "49    508\n",
       "28    503\n",
       "45    497\n",
       "27    493\n",
       "56    487\n",
       "52    484\n",
       "47    480\n",
       "54    479\n",
       "46    475\n",
       "58    461\n",
       "57    460\n",
       "53    459\n",
       "51    448\n",
       "59    444\n",
       "55    443\n",
       "26    408\n",
       "60    377\n",
       "25    357\n",
       "61    355\n",
       "62    352\n",
       "63    269\n",
       "64    265\n",
       "24    264\n",
       "23    254\n",
       "65    194\n",
       "22    183\n",
       "66    183\n",
       "67    167\n",
       "21    111\n",
       "0     101\n",
       "68     99\n",
       "69     85\n",
       "70     65\n",
       "71     58\n",
       "20     51\n",
       "72     33\n",
       "19     14\n",
       "73      8\n",
       "74      6\n",
       "75      1\n",
       "Name: dob_years, dtype: int64"
      ]
     },
     "execution_count": 21,
     "metadata": {},
     "output_type": "execute_result"
    }
   ],
   "source": [
    "df['dob_years'].value_counts() # посмотрим, сколько клиентов в возрасте \"0\""
   ]
  },
  {
   "cell_type": "markdown",
   "id": "eccad96b",
   "metadata": {},
   "source": [
    "Возраст не указан у 101 клиента. Для исследования это не критично, так как нас интересует семейное положение и количество детей. "
   ]
  },
  {
   "cell_type": "markdown",
   "id": "548b061a",
   "metadata": {},
   "source": [
    "Проверим уникальные данные по количеству детей. "
   ]
  },
  {
   "cell_type": "code",
   "execution_count": 22,
   "id": "e361fe2a",
   "metadata": {},
   "outputs": [
    {
     "name": "stdout",
     "output_type": "stream",
     "text": [
      "[ 1  0  3  2  4 20  5]\n"
     ]
    }
   ],
   "source": [
    "print(df['children'].unique())"
   ]
  },
  {
   "cell_type": "code",
   "execution_count": 23,
   "id": "1653e187",
   "metadata": {},
   "outputs": [
    {
     "data": {
      "text/plain": [
       "0     14149\n",
       "1      4865\n",
       "2      2055\n",
       "3       330\n",
       "20       76\n",
       "4        41\n",
       "5         9\n",
       "Name: children, dtype: int64"
      ]
     },
     "execution_count": 23,
     "metadata": {},
     "output_type": "execute_result"
    }
   ],
   "source": [
    "df['children'].value_counts()"
   ]
  },
  {
   "cell_type": "markdown",
   "id": "56c506c5",
   "metadata": {},
   "source": [
    "У 76 клиентов по 20 детей. Это выглядит неправдоподобно. Посмотрим, что с ними не так. "
   ]
  },
  {
   "cell_type": "code",
   "execution_count": 24,
   "id": "40856a33",
   "metadata": {},
   "outputs": [
    {
     "data": {
      "text/html": [
       "<div>\n",
       "<style scoped>\n",
       "    .dataframe tbody tr th:only-of-type {\n",
       "        vertical-align: middle;\n",
       "    }\n",
       "\n",
       "    .dataframe tbody tr th {\n",
       "        vertical-align: top;\n",
       "    }\n",
       "\n",
       "    .dataframe thead th {\n",
       "        text-align: right;\n",
       "    }\n",
       "</style>\n",
       "<table border=\"1\" class=\"dataframe\">\n",
       "  <thead>\n",
       "    <tr style=\"text-align: right;\">\n",
       "      <th></th>\n",
       "      <th>children</th>\n",
       "      <th>days_employed</th>\n",
       "      <th>dob_years</th>\n",
       "      <th>education</th>\n",
       "      <th>education_id</th>\n",
       "      <th>family_status</th>\n",
       "      <th>family_status_id</th>\n",
       "      <th>gender</th>\n",
       "      <th>income_type</th>\n",
       "      <th>debt</th>\n",
       "      <th>total_income</th>\n",
       "      <th>purpose</th>\n",
       "    </tr>\n",
       "  </thead>\n",
       "  <tbody>\n",
       "    <tr>\n",
       "      <th>606</th>\n",
       "      <td>20</td>\n",
       "      <td>880.221113</td>\n",
       "      <td>21</td>\n",
       "      <td>среднее</td>\n",
       "      <td>1</td>\n",
       "      <td>женат / замужем</td>\n",
       "      <td>0</td>\n",
       "      <td>M</td>\n",
       "      <td>компаньон</td>\n",
       "      <td>0</td>\n",
       "      <td>145334.865002</td>\n",
       "      <td>покупка жилья</td>\n",
       "    </tr>\n",
       "    <tr>\n",
       "      <th>720</th>\n",
       "      <td>20</td>\n",
       "      <td>855.595512</td>\n",
       "      <td>44</td>\n",
       "      <td>среднее</td>\n",
       "      <td>1</td>\n",
       "      <td>женат / замужем</td>\n",
       "      <td>0</td>\n",
       "      <td>F</td>\n",
       "      <td>компаньон</td>\n",
       "      <td>0</td>\n",
       "      <td>112998.738649</td>\n",
       "      <td>покупка недвижимости</td>\n",
       "    </tr>\n",
       "    <tr>\n",
       "      <th>1074</th>\n",
       "      <td>20</td>\n",
       "      <td>3310.411598</td>\n",
       "      <td>56</td>\n",
       "      <td>среднее</td>\n",
       "      <td>1</td>\n",
       "      <td>женат / замужем</td>\n",
       "      <td>0</td>\n",
       "      <td>F</td>\n",
       "      <td>сотрудник</td>\n",
       "      <td>1</td>\n",
       "      <td>229518.537004</td>\n",
       "      <td>получение образования</td>\n",
       "    </tr>\n",
       "    <tr>\n",
       "      <th>2510</th>\n",
       "      <td>20</td>\n",
       "      <td>2714.161249</td>\n",
       "      <td>59</td>\n",
       "      <td>высшее</td>\n",
       "      <td>0</td>\n",
       "      <td>вдовец / вдова</td>\n",
       "      <td>2</td>\n",
       "      <td>F</td>\n",
       "      <td>сотрудник</td>\n",
       "      <td>0</td>\n",
       "      <td>264474.835577</td>\n",
       "      <td>операции с коммерческой недвижимостью</td>\n",
       "    </tr>\n",
       "    <tr>\n",
       "      <th>2941</th>\n",
       "      <td>20</td>\n",
       "      <td>2161.591519</td>\n",
       "      <td>0</td>\n",
       "      <td>среднее</td>\n",
       "      <td>1</td>\n",
       "      <td>женат / замужем</td>\n",
       "      <td>0</td>\n",
       "      <td>F</td>\n",
       "      <td>сотрудник</td>\n",
       "      <td>0</td>\n",
       "      <td>199739.941398</td>\n",
       "      <td>на покупку автомобиля</td>\n",
       "    </tr>\n",
       "    <tr>\n",
       "      <th>...</th>\n",
       "      <td>...</td>\n",
       "      <td>...</td>\n",
       "      <td>...</td>\n",
       "      <td>...</td>\n",
       "      <td>...</td>\n",
       "      <td>...</td>\n",
       "      <td>...</td>\n",
       "      <td>...</td>\n",
       "      <td>...</td>\n",
       "      <td>...</td>\n",
       "      <td>...</td>\n",
       "      <td>...</td>\n",
       "    </tr>\n",
       "    <tr>\n",
       "      <th>21008</th>\n",
       "      <td>20</td>\n",
       "      <td>1240.257910</td>\n",
       "      <td>40</td>\n",
       "      <td>среднее</td>\n",
       "      <td>1</td>\n",
       "      <td>женат / замужем</td>\n",
       "      <td>0</td>\n",
       "      <td>F</td>\n",
       "      <td>сотрудник</td>\n",
       "      <td>1</td>\n",
       "      <td>133524.010303</td>\n",
       "      <td>свой автомобиль</td>\n",
       "    </tr>\n",
       "    <tr>\n",
       "      <th>21325</th>\n",
       "      <td>20</td>\n",
       "      <td>601.174883</td>\n",
       "      <td>37</td>\n",
       "      <td>среднее</td>\n",
       "      <td>1</td>\n",
       "      <td>женат / замужем</td>\n",
       "      <td>0</td>\n",
       "      <td>F</td>\n",
       "      <td>компаньон</td>\n",
       "      <td>0</td>\n",
       "      <td>102986.065978</td>\n",
       "      <td>профильное образование</td>\n",
       "    </tr>\n",
       "    <tr>\n",
       "      <th>21390</th>\n",
       "      <td>20</td>\n",
       "      <td>NaN</td>\n",
       "      <td>53</td>\n",
       "      <td>среднее</td>\n",
       "      <td>1</td>\n",
       "      <td>женат / замужем</td>\n",
       "      <td>0</td>\n",
       "      <td>M</td>\n",
       "      <td>компаньон</td>\n",
       "      <td>0</td>\n",
       "      <td>172357.950966</td>\n",
       "      <td>покупка жилой недвижимости</td>\n",
       "    </tr>\n",
       "    <tr>\n",
       "      <th>21404</th>\n",
       "      <td>20</td>\n",
       "      <td>494.788448</td>\n",
       "      <td>52</td>\n",
       "      <td>среднее</td>\n",
       "      <td>1</td>\n",
       "      <td>женат / замужем</td>\n",
       "      <td>0</td>\n",
       "      <td>M</td>\n",
       "      <td>компаньон</td>\n",
       "      <td>0</td>\n",
       "      <td>156629.683642</td>\n",
       "      <td>операции со своей недвижимостью</td>\n",
       "    </tr>\n",
       "    <tr>\n",
       "      <th>21491</th>\n",
       "      <td>20</td>\n",
       "      <td>173.954460</td>\n",
       "      <td>27</td>\n",
       "      <td>среднее</td>\n",
       "      <td>1</td>\n",
       "      <td>женат / замужем</td>\n",
       "      <td>0</td>\n",
       "      <td>F</td>\n",
       "      <td>сотрудник</td>\n",
       "      <td>0</td>\n",
       "      <td>155520.899688</td>\n",
       "      <td>на покупку подержанного автомобиля</td>\n",
       "    </tr>\n",
       "  </tbody>\n",
       "</table>\n",
       "<p>76 rows × 12 columns</p>\n",
       "</div>"
      ],
      "text/plain": [
       "       children  days_employed  dob_years education  education_id  \\\n",
       "606          20     880.221113         21   среднее             1   \n",
       "720          20     855.595512         44   среднее             1   \n",
       "1074         20    3310.411598         56   среднее             1   \n",
       "2510         20    2714.161249         59    высшее             0   \n",
       "2941         20    2161.591519          0   среднее             1   \n",
       "...         ...            ...        ...       ...           ...   \n",
       "21008        20    1240.257910         40   среднее             1   \n",
       "21325        20     601.174883         37   среднее             1   \n",
       "21390        20            NaN         53   среднее             1   \n",
       "21404        20     494.788448         52   среднее             1   \n",
       "21491        20     173.954460         27   среднее             1   \n",
       "\n",
       "         family_status  family_status_id gender income_type  debt  \\\n",
       "606    женат / замужем                 0      M   компаньон     0   \n",
       "720    женат / замужем                 0      F   компаньон     0   \n",
       "1074   женат / замужем                 0      F   сотрудник     1   \n",
       "2510    вдовец / вдова                 2      F   сотрудник     0   \n",
       "2941   женат / замужем                 0      F   сотрудник     0   \n",
       "...                ...               ...    ...         ...   ...   \n",
       "21008  женат / замужем                 0      F   сотрудник     1   \n",
       "21325  женат / замужем                 0      F   компаньон     0   \n",
       "21390  женат / замужем                 0      M   компаньон     0   \n",
       "21404  женат / замужем                 0      M   компаньон     0   \n",
       "21491  женат / замужем                 0      F   сотрудник     0   \n",
       "\n",
       "        total_income                                purpose  \n",
       "606    145334.865002                          покупка жилья  \n",
       "720    112998.738649                   покупка недвижимости  \n",
       "1074   229518.537004                  получение образования  \n",
       "2510   264474.835577  операции с коммерческой недвижимостью  \n",
       "2941   199739.941398                  на покупку автомобиля  \n",
       "...              ...                                    ...  \n",
       "21008  133524.010303                        свой автомобиль  \n",
       "21325  102986.065978                 профильное образование  \n",
       "21390  172357.950966             покупка жилой недвижимости  \n",
       "21404  156629.683642        операции со своей недвижимостью  \n",
       "21491  155520.899688     на покупку подержанного автомобиля  \n",
       "\n",
       "[76 rows x 12 columns]"
      ]
     },
     "execution_count": 24,
     "metadata": {},
     "output_type": "execute_result"
    }
   ],
   "source": [
    "df.loc[df['children'] == 20] # выведем на экран всех клиентов с 20 детьми"
   ]
  },
  {
   "cell_type": "markdown",
   "id": "6d77875b",
   "metadata": {},
   "source": [
    "Наиболее вероятно, что произошла опечатка при внесении данных о детях. Это сильно исказит результат исследования. Заменим \"20\" на медианное значение. "
   ]
  },
  {
   "cell_type": "code",
   "execution_count": 25,
   "id": "7a1db254",
   "metadata": {
    "scrolled": true
   },
   "outputs": [],
   "source": [
    "rows = df['children'] != 20 \n",
    "children_median = df.loc[rows, 'children'].median() # вычислим медианное значение количества детей без учета \"20\". \n",
    "\n",
    "df.loc[(df['children'] == 20),'children'] = children_median # заменим на медианное значение показатель \"20\"."
   ]
  },
  {
   "cell_type": "code",
   "execution_count": 26,
   "id": "f16b208c",
   "metadata": {
    "scrolled": false
   },
   "outputs": [
    {
     "data": {
      "text/plain": [
       "0    14225\n",
       "1     4865\n",
       "2     2055\n",
       "3      330\n",
       "4       41\n",
       "5        9\n",
       "Name: children, dtype: int64"
      ]
     },
     "execution_count": 26,
     "metadata": {},
     "output_type": "execute_result"
    }
   ],
   "source": [
    "df['children'].value_counts() # проверим, удалось ли избавиться от значения \"20\""
   ]
  },
  {
   "cell_type": "markdown",
   "id": "9f875736",
   "metadata": {},
   "source": [
    "Посмотрим, какие уникальные значения есть в столбце days_employed. "
   ]
  },
  {
   "cell_type": "code",
   "execution_count": 27,
   "id": "a877f112",
   "metadata": {
    "scrolled": true
   },
   "outputs": [
    {
     "name": "stdout",
     "output_type": "stream",
     "text": [
      "8437.673028      1\n",
      "3507.818775      1\n",
      "354500.415854    1\n",
      "769.717438       1\n",
      "3963.590317      1\n",
      "                ..\n",
      "1099.957609      1\n",
      "209.984794       1\n",
      "398099.392433    1\n",
      "1271.038880      1\n",
      "1984.507589      1\n",
      "Name: days_employed, Length: 19351, dtype: int64\n"
     ]
    }
   ],
   "source": [
    "print(df['days_employed'].value_counts()) # смотрим, какие значения есть в столбце и как часто они встречаются"
   ]
  },
  {
   "cell_type": "markdown",
   "id": "f9016843",
   "metadata": {},
   "source": [
    "Проанализируем days_employed и total_income"
   ]
  },
  {
   "cell_type": "code",
   "execution_count": 28,
   "id": "8d2748a7",
   "metadata": {},
   "outputs": [
    {
     "data": {
      "text/plain": [
       "<AxesSubplot:xlabel='days_employed', ylabel='income_type'>"
      ]
     },
     "execution_count": 28,
     "metadata": {},
     "output_type": "execute_result"
    },
    {
     "data": {
      "image/png": "[encoded data removed]",
      "text/plain": [
       "<Figure size 432x288 with 1 Axes>"
      ]
     },
     "metadata": {
      "needs_background": "light"
     },
     "output_type": "display_data"
    }
   ],
   "source": [
    "sns.barplot(x='days_employed',y='income_type', data=df) # построим гистограмму days_employed по типу дохода\n"
   ]
  },
  {
   "cell_type": "code",
   "execution_count": 29,
   "id": "efdd728d",
   "metadata": {},
   "outputs": [
    {
     "data": {
      "text/plain": [
       "count     19351.000000\n",
       "mean      66914.728907\n",
       "std      139030.880527\n",
       "min          24.141633\n",
       "25%         927.009265\n",
       "50%        2194.220567\n",
       "75%        5537.882441\n",
       "max      401755.400475\n",
       "Name: days_employed, dtype: float64"
      ]
     },
     "execution_count": 29,
     "metadata": {},
     "output_type": "execute_result"
    }
   ],
   "source": [
    "df['days_employed'].describe() # проанализируем days_employed методом `.describe()`"
   ]
  },
  {
   "cell_type": "code",
   "execution_count": 30,
   "id": "39c1ebc8",
   "metadata": {},
   "outputs": [
    {
     "data": {
      "text/plain": [
       "17437    24.141633\n",
       "8336     24.240695\n",
       "6157     30.195337\n",
       "9683     33.520665\n",
       "2127     34.701045\n",
       "           ...    \n",
       "21489          NaN\n",
       "21495          NaN\n",
       "21497          NaN\n",
       "21502          NaN\n",
       "21510          NaN\n",
       "Name: days_employed, Length: 21525, dtype: float64"
      ]
     },
     "execution_count": 30,
     "metadata": {},
     "output_type": "execute_result"
    }
   ],
   "source": [
    "df['days_employed'].sort_values()"
   ]
  },
  {
   "cell_type": "code",
   "execution_count": 31,
   "id": "3bcbb463",
   "metadata": {},
   "outputs": [
    {
     "data": {
      "text/plain": [
       "<AxesSubplot:xlabel='total_income', ylabel='income_type'>"
      ]
     },
     "execution_count": 31,
     "metadata": {},
     "output_type": "execute_result"
    },
    {
     "data": {
      "image/png": "[encoded data removed]",
      "text/plain": [
       "<Figure size 432x288 with 1 Axes>"
      ]
     },
     "metadata": {
      "needs_background": "light"
     },
     "output_type": "display_data"
    }
   ],
   "source": [
    "sns.barplot(x='total_income',y='income_type', data=df) # построим гистограмму для total_income по "
   ]
  },
  {
   "cell_type": "code",
   "execution_count": 32,
   "id": "94618452",
   "metadata": {},
   "outputs": [
    {
     "data": {
      "text/plain": [
       "count    2.152500e+04\n",
       "mean     1.652253e+05\n",
       "std      9.804367e+04\n",
       "min      2.066726e+04\n",
       "25%      1.077982e+05\n",
       "50%      1.425944e+05\n",
       "75%      1.955499e+05\n",
       "max      2.265604e+06\n",
       "Name: total_income, dtype: float64"
      ]
     },
     "execution_count": 32,
     "metadata": {},
     "output_type": "execute_result"
    }
   ],
   "source": [
    "df['total_income'].describe() # проанализируем total_income методом `.describe`"
   ]
  },
  {
   "cell_type": "code",
   "execution_count": 33,
   "id": "f4fa2606",
   "metadata": {},
   "outputs": [
    {
     "data": {
      "text/plain": [
       "14585    2.066726e+04\n",
       "13006    2.120528e+04\n",
       "16174    2.136765e+04\n",
       "1598     2.169510e+04\n",
       "14276    2.189561e+04\n",
       "             ...     \n",
       "17178    1.711309e+06\n",
       "20809    1.715018e+06\n",
       "9169     1.726276e+06\n",
       "19606    2.200852e+06\n",
       "12412    2.265604e+06\n",
       "Name: total_income, Length: 21525, dtype: float64"
      ]
     },
     "execution_count": 33,
     "metadata": {},
     "output_type": "execute_result"
    }
   ],
   "source": [
    "df['total_income'].sort_values() # проанализируем total_income методом сортировки значений "
   ]
  },
  {
   "cell_type": "code",
   "execution_count": 34,
   "id": "b1d9ed3e",
   "metadata": {},
   "outputs": [
    {
     "data": {
      "text/plain": [
       "children              int64\n",
       "days_employed       float64\n",
       "dob_years             int64\n",
       "education            object\n",
       "education_id          int64\n",
       "family_status        object\n",
       "family_status_id      int64\n",
       "gender               object\n",
       "income_type          object\n",
       "debt                  int64\n",
       "total_income        float64\n",
       "purpose              object\n",
       "dtype: object"
      ]
     },
     "execution_count": 34,
     "metadata": {},
     "output_type": "execute_result"
    }
   ],
   "source": [
    "df.dtypes # смотрим тип данных в столбцах датафрейма "
   ]
  },
  {
   "cell_type": "code",
   "execution_count": 35,
   "id": "5c40bb34",
   "metadata": {},
   "outputs": [
    {
     "data": {
      "text/plain": [
       "0        False\n",
       "1        False\n",
       "2        False\n",
       "3        False\n",
       "4        False\n",
       "         ...  \n",
       "21520    False\n",
       "21521    False\n",
       "21522    False\n",
       "21523    False\n",
       "21524    False\n",
       "Name: total_income, Length: 21525, dtype: bool"
      ]
     },
     "execution_count": 35,
     "metadata": {},
     "output_type": "execute_result"
    }
   ],
   "source": [
    "df['total_income'].isna() # проверим, есть ли пропущенные значений в total_income"
   ]
  },
  {
   "cell_type": "markdown",
   "id": "ba074294",
   "metadata": {},
   "source": [
    "Узнаем количество и долю пропусков в days_employed \n"
   ]
  },
  {
   "cell_type": "code",
   "execution_count": 36,
   "id": "5a3e7a08",
   "metadata": {},
   "outputs": [
    {
     "data": {
      "text/plain": [
       "2174"
      ]
     },
     "execution_count": 36,
     "metadata": {},
     "output_type": "execute_result"
    }
   ],
   "source": [
    "df['days_employed'].isna().sum() # проверим, сколько пропусков в столбце days_employed"
   ]
  },
  {
   "cell_type": "code",
   "execution_count": 37,
   "id": "4fb5a636",
   "metadata": {},
   "outputs": [
    {
     "data": {
      "text/plain": [
       "0.10099883855981417"
      ]
     },
     "execution_count": 37,
     "metadata": {},
     "output_type": "execute_result"
    }
   ],
   "source": [
    "df['days_employed'].isna().mean() # проверим, сколько пропусков в столбце days_employed"
   ]
  },
  {
   "cell_type": "markdown",
   "id": "e6d5a8e4",
   "metadata": {},
   "source": [
    "Мы видим три проблемы: \n",
    "1. В данных есть пропуски, которые необходимо заменить медианным значением. \n",
    "2. Данные в формате float, его нужно заменить на int, но сделать этого мы не можем, пока есть пропуски.  \n",
    "3. В данных содержатся подозрительно большие значения. Для наглядности было бы удобно пересчитать дни в годы."
   ]
  },
  {
   "cell_type": "markdown",
   "id": "7895c74a",
   "metadata": {},
   "source": [
    "Завышенный стаж не повлияет на медианное значение. Поэтому начнем с замены пропусков в days_employed медианным значением с учетом возраста клиентов. "
   ]
  },
  {
   "cell_type": "code",
   "execution_count": 38,
   "id": "a0fec2c6",
   "metadata": {},
   "outputs": [
    {
     "data": {
      "text/html": [
       "<div>\n",
       "<style scoped>\n",
       "    .dataframe tbody tr th:only-of-type {\n",
       "        vertical-align: middle;\n",
       "    }\n",
       "\n",
       "    .dataframe tbody tr th {\n",
       "        vertical-align: top;\n",
       "    }\n",
       "\n",
       "    .dataframe thead th {\n",
       "        text-align: right;\n",
       "    }\n",
       "</style>\n",
       "<table border=\"1\" class=\"dataframe\">\n",
       "  <thead>\n",
       "    <tr style=\"text-align: right;\">\n",
       "      <th></th>\n",
       "      <th>days_employed</th>\n",
       "    </tr>\n",
       "    <tr>\n",
       "      <th>dob_years</th>\n",
       "      <th></th>\n",
       "    </tr>\n",
       "  </thead>\n",
       "  <tbody>\n",
       "    <tr>\n",
       "      <th>0</th>\n",
       "      <td>1759.038033</td>\n",
       "    </tr>\n",
       "    <tr>\n",
       "      <th>19</th>\n",
       "      <td>724.492610</td>\n",
       "    </tr>\n",
       "    <tr>\n",
       "      <th>20</th>\n",
       "      <td>674.838979</td>\n",
       "    </tr>\n",
       "    <tr>\n",
       "      <th>21</th>\n",
       "      <td>618.733817</td>\n",
       "    </tr>\n",
       "    <tr>\n",
       "      <th>22</th>\n",
       "      <td>703.310078</td>\n",
       "    </tr>\n",
       "    <tr>\n",
       "      <th>23</th>\n",
       "      <td>690.204208</td>\n",
       "    </tr>\n",
       "    <tr>\n",
       "      <th>24</th>\n",
       "      <td>947.731043</td>\n",
       "    </tr>\n",
       "    <tr>\n",
       "      <th>25</th>\n",
       "      <td>919.199388</td>\n",
       "    </tr>\n",
       "    <tr>\n",
       "      <th>26</th>\n",
       "      <td>1083.658132</td>\n",
       "    </tr>\n",
       "    <tr>\n",
       "      <th>27</th>\n",
       "      <td>1166.212160</td>\n",
       "    </tr>\n",
       "    <tr>\n",
       "      <th>28</th>\n",
       "      <td>1141.705450</td>\n",
       "    </tr>\n",
       "    <tr>\n",
       "      <th>29</th>\n",
       "      <td>1315.453550</td>\n",
       "    </tr>\n",
       "    <tr>\n",
       "      <th>30</th>\n",
       "      <td>1420.586863</td>\n",
       "    </tr>\n",
       "    <tr>\n",
       "      <th>31</th>\n",
       "      <td>1308.901135</td>\n",
       "    </tr>\n",
       "    <tr>\n",
       "      <th>32</th>\n",
       "      <td>1446.622542</td>\n",
       "    </tr>\n",
       "    <tr>\n",
       "      <th>33</th>\n",
       "      <td>1426.415003</td>\n",
       "    </tr>\n",
       "    <tr>\n",
       "      <th>34</th>\n",
       "      <td>1615.910188</td>\n",
       "    </tr>\n",
       "    <tr>\n",
       "      <th>35</th>\n",
       "      <td>1613.494818</td>\n",
       "    </tr>\n",
       "    <tr>\n",
       "      <th>36</th>\n",
       "      <td>1799.520465</td>\n",
       "    </tr>\n",
       "    <tr>\n",
       "      <th>37</th>\n",
       "      <td>1816.713382</td>\n",
       "    </tr>\n",
       "    <tr>\n",
       "      <th>38</th>\n",
       "      <td>1817.194286</td>\n",
       "    </tr>\n",
       "    <tr>\n",
       "      <th>39</th>\n",
       "      <td>1891.388566</td>\n",
       "    </tr>\n",
       "    <tr>\n",
       "      <th>40</th>\n",
       "      <td>1728.936706</td>\n",
       "    </tr>\n",
       "    <tr>\n",
       "      <th>41</th>\n",
       "      <td>1864.657692</td>\n",
       "    </tr>\n",
       "    <tr>\n",
       "      <th>42</th>\n",
       "      <td>2253.981630</td>\n",
       "    </tr>\n",
       "    <tr>\n",
       "      <th>43</th>\n",
       "      <td>1869.019899</td>\n",
       "    </tr>\n",
       "    <tr>\n",
       "      <th>44</th>\n",
       "      <td>2084.330015</td>\n",
       "    </tr>\n",
       "    <tr>\n",
       "      <th>45</th>\n",
       "      <td>2254.431130</td>\n",
       "    </tr>\n",
       "    <tr>\n",
       "      <th>46</th>\n",
       "      <td>2100.473217</td>\n",
       "    </tr>\n",
       "    <tr>\n",
       "      <th>47</th>\n",
       "      <td>2203.078545</td>\n",
       "    </tr>\n",
       "    <tr>\n",
       "      <th>48</th>\n",
       "      <td>2429.674518</td>\n",
       "    </tr>\n",
       "    <tr>\n",
       "      <th>49</th>\n",
       "      <td>2560.317106</td>\n",
       "    </tr>\n",
       "    <tr>\n",
       "      <th>50</th>\n",
       "      <td>2626.986257</td>\n",
       "    </tr>\n",
       "    <tr>\n",
       "      <th>51</th>\n",
       "      <td>2846.080700</td>\n",
       "    </tr>\n",
       "    <tr>\n",
       "      <th>52</th>\n",
       "      <td>3395.639568</td>\n",
       "    </tr>\n",
       "    <tr>\n",
       "      <th>53</th>\n",
       "      <td>3650.007523</td>\n",
       "    </tr>\n",
       "    <tr>\n",
       "      <th>54</th>\n",
       "      <td>4026.541145</td>\n",
       "    </tr>\n",
       "    <tr>\n",
       "      <th>55</th>\n",
       "      <td>7043.471139</td>\n",
       "    </tr>\n",
       "    <tr>\n",
       "      <th>56</th>\n",
       "      <td>6850.179463</td>\n",
       "    </tr>\n",
       "    <tr>\n",
       "      <th>57</th>\n",
       "      <td>333953.491811</td>\n",
       "    </tr>\n",
       "    <tr>\n",
       "      <th>58</th>\n",
       "      <td>331245.976666</td>\n",
       "    </tr>\n",
       "    <tr>\n",
       "      <th>59</th>\n",
       "      <td>344372.337365</td>\n",
       "    </tr>\n",
       "    <tr>\n",
       "      <th>60</th>\n",
       "      <td>349414.537285</td>\n",
       "    </tr>\n",
       "    <tr>\n",
       "      <th>61</th>\n",
       "      <td>343984.931910</td>\n",
       "    </tr>\n",
       "    <tr>\n",
       "      <th>62</th>\n",
       "      <td>354981.718187</td>\n",
       "    </tr>\n",
       "    <tr>\n",
       "      <th>63</th>\n",
       "      <td>358482.295938</td>\n",
       "    </tr>\n",
       "    <tr>\n",
       "      <th>64</th>\n",
       "      <td>355781.562599</td>\n",
       "    </tr>\n",
       "    <tr>\n",
       "      <th>65</th>\n",
       "      <td>357103.967291</td>\n",
       "    </tr>\n",
       "    <tr>\n",
       "      <th>66</th>\n",
       "      <td>363827.438951</td>\n",
       "    </tr>\n",
       "    <tr>\n",
       "      <th>67</th>\n",
       "      <td>357222.855215</td>\n",
       "    </tr>\n",
       "    <tr>\n",
       "      <th>68</th>\n",
       "      <td>365278.194581</td>\n",
       "    </tr>\n",
       "    <tr>\n",
       "      <th>69</th>\n",
       "      <td>362313.375280</td>\n",
       "    </tr>\n",
       "    <tr>\n",
       "      <th>70</th>\n",
       "      <td>362787.772498</td>\n",
       "    </tr>\n",
       "    <tr>\n",
       "      <th>71</th>\n",
       "      <td>359700.938607</td>\n",
       "    </tr>\n",
       "    <tr>\n",
       "      <th>72</th>\n",
       "      <td>367378.973169</td>\n",
       "    </tr>\n",
       "    <tr>\n",
       "      <th>73</th>\n",
       "      <td>364291.049263</td>\n",
       "    </tr>\n",
       "    <tr>\n",
       "      <th>74</th>\n",
       "      <td>343075.981127</td>\n",
       "    </tr>\n",
       "    <tr>\n",
       "      <th>75</th>\n",
       "      <td>1678.969771</td>\n",
       "    </tr>\n",
       "  </tbody>\n",
       "</table>\n",
       "</div>"
      ],
      "text/plain": [
       "           days_employed\n",
       "dob_years               \n",
       "0            1759.038033\n",
       "19            724.492610\n",
       "20            674.838979\n",
       "21            618.733817\n",
       "22            703.310078\n",
       "23            690.204208\n",
       "24            947.731043\n",
       "25            919.199388\n",
       "26           1083.658132\n",
       "27           1166.212160\n",
       "28           1141.705450\n",
       "29           1315.453550\n",
       "30           1420.586863\n",
       "31           1308.901135\n",
       "32           1446.622542\n",
       "33           1426.415003\n",
       "34           1615.910188\n",
       "35           1613.494818\n",
       "36           1799.520465\n",
       "37           1816.713382\n",
       "38           1817.194286\n",
       "39           1891.388566\n",
       "40           1728.936706\n",
       "41           1864.657692\n",
       "42           2253.981630\n",
       "43           1869.019899\n",
       "44           2084.330015\n",
       "45           2254.431130\n",
       "46           2100.473217\n",
       "47           2203.078545\n",
       "48           2429.674518\n",
       "49           2560.317106\n",
       "50           2626.986257\n",
       "51           2846.080700\n",
       "52           3395.639568\n",
       "53           3650.007523\n",
       "54           4026.541145\n",
       "55           7043.471139\n",
       "56           6850.179463\n",
       "57         333953.491811\n",
       "58         331245.976666\n",
       "59         344372.337365\n",
       "60         349414.537285\n",
       "61         343984.931910\n",
       "62         354981.718187\n",
       "63         358482.295938\n",
       "64         355781.562599\n",
       "65         357103.967291\n",
       "66         363827.438951\n",
       "67         357222.855215\n",
       "68         365278.194581\n",
       "69         362313.375280\n",
       "70         362787.772498\n",
       "71         359700.938607\n",
       "72         367378.973169\n",
       "73         364291.049263\n",
       "74         343075.981127\n",
       "75           1678.969771"
      ]
     },
     "metadata": {},
     "output_type": "display_data"
    }
   ],
   "source": [
    "employed_median = df.groupby(['dob_years']).agg({'days_employed':'median'}) # посчитаем медианное значение days_employed для каждой из групп dob_years\n",
    "display(employed_median)"
   ]
  },
  {
   "cell_type": "code",
   "execution_count": 39,
   "id": "6816a8e9",
   "metadata": {},
   "outputs": [
    {
     "data": {
      "text/html": [
       "<div>\n",
       "<style scoped>\n",
       "    .dataframe tbody tr th:only-of-type {\n",
       "        vertical-align: middle;\n",
       "    }\n",
       "\n",
       "    .dataframe tbody tr th {\n",
       "        vertical-align: top;\n",
       "    }\n",
       "\n",
       "    .dataframe thead th {\n",
       "        text-align: right;\n",
       "    }\n",
       "</style>\n",
       "<table border=\"1\" class=\"dataframe\">\n",
       "  <thead>\n",
       "    <tr style=\"text-align: right;\">\n",
       "      <th></th>\n",
       "      <th>median_employed</th>\n",
       "    </tr>\n",
       "    <tr>\n",
       "      <th>dob_years</th>\n",
       "      <th></th>\n",
       "    </tr>\n",
       "  </thead>\n",
       "  <tbody>\n",
       "    <tr>\n",
       "      <th>0</th>\n",
       "      <td>1759.038033</td>\n",
       "    </tr>\n",
       "    <tr>\n",
       "      <th>19</th>\n",
       "      <td>724.492610</td>\n",
       "    </tr>\n",
       "    <tr>\n",
       "      <th>20</th>\n",
       "      <td>674.838979</td>\n",
       "    </tr>\n",
       "    <tr>\n",
       "      <th>21</th>\n",
       "      <td>618.733817</td>\n",
       "    </tr>\n",
       "    <tr>\n",
       "      <th>22</th>\n",
       "      <td>703.310078</td>\n",
       "    </tr>\n",
       "    <tr>\n",
       "      <th>23</th>\n",
       "      <td>690.204208</td>\n",
       "    </tr>\n",
       "    <tr>\n",
       "      <th>24</th>\n",
       "      <td>947.731043</td>\n",
       "    </tr>\n",
       "    <tr>\n",
       "      <th>25</th>\n",
       "      <td>919.199388</td>\n",
       "    </tr>\n",
       "    <tr>\n",
       "      <th>26</th>\n",
       "      <td>1083.658132</td>\n",
       "    </tr>\n",
       "    <tr>\n",
       "      <th>27</th>\n",
       "      <td>1166.212160</td>\n",
       "    </tr>\n",
       "    <tr>\n",
       "      <th>28</th>\n",
       "      <td>1141.705450</td>\n",
       "    </tr>\n",
       "    <tr>\n",
       "      <th>29</th>\n",
       "      <td>1315.453550</td>\n",
       "    </tr>\n",
       "    <tr>\n",
       "      <th>30</th>\n",
       "      <td>1420.586863</td>\n",
       "    </tr>\n",
       "    <tr>\n",
       "      <th>31</th>\n",
       "      <td>1308.901135</td>\n",
       "    </tr>\n",
       "    <tr>\n",
       "      <th>32</th>\n",
       "      <td>1446.622542</td>\n",
       "    </tr>\n",
       "    <tr>\n",
       "      <th>33</th>\n",
       "      <td>1426.415003</td>\n",
       "    </tr>\n",
       "    <tr>\n",
       "      <th>34</th>\n",
       "      <td>1615.910188</td>\n",
       "    </tr>\n",
       "    <tr>\n",
       "      <th>35</th>\n",
       "      <td>1613.494818</td>\n",
       "    </tr>\n",
       "    <tr>\n",
       "      <th>36</th>\n",
       "      <td>1799.520465</td>\n",
       "    </tr>\n",
       "    <tr>\n",
       "      <th>37</th>\n",
       "      <td>1816.713382</td>\n",
       "    </tr>\n",
       "    <tr>\n",
       "      <th>38</th>\n",
       "      <td>1817.194286</td>\n",
       "    </tr>\n",
       "    <tr>\n",
       "      <th>39</th>\n",
       "      <td>1891.388566</td>\n",
       "    </tr>\n",
       "    <tr>\n",
       "      <th>40</th>\n",
       "      <td>1728.936706</td>\n",
       "    </tr>\n",
       "    <tr>\n",
       "      <th>41</th>\n",
       "      <td>1864.657692</td>\n",
       "    </tr>\n",
       "    <tr>\n",
       "      <th>42</th>\n",
       "      <td>2253.981630</td>\n",
       "    </tr>\n",
       "    <tr>\n",
       "      <th>43</th>\n",
       "      <td>1869.019899</td>\n",
       "    </tr>\n",
       "    <tr>\n",
       "      <th>44</th>\n",
       "      <td>2084.330015</td>\n",
       "    </tr>\n",
       "    <tr>\n",
       "      <th>45</th>\n",
       "      <td>2254.431130</td>\n",
       "    </tr>\n",
       "    <tr>\n",
       "      <th>46</th>\n",
       "      <td>2100.473217</td>\n",
       "    </tr>\n",
       "    <tr>\n",
       "      <th>47</th>\n",
       "      <td>2203.078545</td>\n",
       "    </tr>\n",
       "    <tr>\n",
       "      <th>48</th>\n",
       "      <td>2429.674518</td>\n",
       "    </tr>\n",
       "    <tr>\n",
       "      <th>49</th>\n",
       "      <td>2560.317106</td>\n",
       "    </tr>\n",
       "    <tr>\n",
       "      <th>50</th>\n",
       "      <td>2626.986257</td>\n",
       "    </tr>\n",
       "    <tr>\n",
       "      <th>51</th>\n",
       "      <td>2846.080700</td>\n",
       "    </tr>\n",
       "    <tr>\n",
       "      <th>52</th>\n",
       "      <td>3395.639568</td>\n",
       "    </tr>\n",
       "    <tr>\n",
       "      <th>53</th>\n",
       "      <td>3650.007523</td>\n",
       "    </tr>\n",
       "    <tr>\n",
       "      <th>54</th>\n",
       "      <td>4026.541145</td>\n",
       "    </tr>\n",
       "    <tr>\n",
       "      <th>55</th>\n",
       "      <td>7043.471139</td>\n",
       "    </tr>\n",
       "    <tr>\n",
       "      <th>56</th>\n",
       "      <td>6850.179463</td>\n",
       "    </tr>\n",
       "    <tr>\n",
       "      <th>57</th>\n",
       "      <td>333953.491811</td>\n",
       "    </tr>\n",
       "    <tr>\n",
       "      <th>58</th>\n",
       "      <td>331245.976666</td>\n",
       "    </tr>\n",
       "    <tr>\n",
       "      <th>59</th>\n",
       "      <td>344372.337365</td>\n",
       "    </tr>\n",
       "    <tr>\n",
       "      <th>60</th>\n",
       "      <td>349414.537285</td>\n",
       "    </tr>\n",
       "    <tr>\n",
       "      <th>61</th>\n",
       "      <td>343984.931910</td>\n",
       "    </tr>\n",
       "    <tr>\n",
       "      <th>62</th>\n",
       "      <td>354981.718187</td>\n",
       "    </tr>\n",
       "    <tr>\n",
       "      <th>63</th>\n",
       "      <td>358482.295938</td>\n",
       "    </tr>\n",
       "    <tr>\n",
       "      <th>64</th>\n",
       "      <td>355781.562599</td>\n",
       "    </tr>\n",
       "    <tr>\n",
       "      <th>65</th>\n",
       "      <td>357103.967291</td>\n",
       "    </tr>\n",
       "    <tr>\n",
       "      <th>66</th>\n",
       "      <td>363827.438951</td>\n",
       "    </tr>\n",
       "    <tr>\n",
       "      <th>67</th>\n",
       "      <td>357222.855215</td>\n",
       "    </tr>\n",
       "    <tr>\n",
       "      <th>68</th>\n",
       "      <td>365278.194581</td>\n",
       "    </tr>\n",
       "    <tr>\n",
       "      <th>69</th>\n",
       "      <td>362313.375280</td>\n",
       "    </tr>\n",
       "    <tr>\n",
       "      <th>70</th>\n",
       "      <td>362787.772498</td>\n",
       "    </tr>\n",
       "    <tr>\n",
       "      <th>71</th>\n",
       "      <td>359700.938607</td>\n",
       "    </tr>\n",
       "    <tr>\n",
       "      <th>72</th>\n",
       "      <td>367378.973169</td>\n",
       "    </tr>\n",
       "    <tr>\n",
       "      <th>73</th>\n",
       "      <td>364291.049263</td>\n",
       "    </tr>\n",
       "    <tr>\n",
       "      <th>74</th>\n",
       "      <td>343075.981127</td>\n",
       "    </tr>\n",
       "    <tr>\n",
       "      <th>75</th>\n",
       "      <td>1678.969771</td>\n",
       "    </tr>\n",
       "  </tbody>\n",
       "</table>\n",
       "</div>"
      ],
      "text/plain": [
       "           median_employed\n",
       "dob_years                 \n",
       "0              1759.038033\n",
       "19              724.492610\n",
       "20              674.838979\n",
       "21              618.733817\n",
       "22              703.310078\n",
       "23              690.204208\n",
       "24              947.731043\n",
       "25              919.199388\n",
       "26             1083.658132\n",
       "27             1166.212160\n",
       "28             1141.705450\n",
       "29             1315.453550\n",
       "30             1420.586863\n",
       "31             1308.901135\n",
       "32             1446.622542\n",
       "33             1426.415003\n",
       "34             1615.910188\n",
       "35             1613.494818\n",
       "36             1799.520465\n",
       "37             1816.713382\n",
       "38             1817.194286\n",
       "39             1891.388566\n",
       "40             1728.936706\n",
       "41             1864.657692\n",
       "42             2253.981630\n",
       "43             1869.019899\n",
       "44             2084.330015\n",
       "45             2254.431130\n",
       "46             2100.473217\n",
       "47             2203.078545\n",
       "48             2429.674518\n",
       "49             2560.317106\n",
       "50             2626.986257\n",
       "51             2846.080700\n",
       "52             3395.639568\n",
       "53             3650.007523\n",
       "54             4026.541145\n",
       "55             7043.471139\n",
       "56             6850.179463\n",
       "57           333953.491811\n",
       "58           331245.976666\n",
       "59           344372.337365\n",
       "60           349414.537285\n",
       "61           343984.931910\n",
       "62           354981.718187\n",
       "63           358482.295938\n",
       "64           355781.562599\n",
       "65           357103.967291\n",
       "66           363827.438951\n",
       "67           357222.855215\n",
       "68           365278.194581\n",
       "69           362313.375280\n",
       "70           362787.772498\n",
       "71           359700.938607\n",
       "72           367378.973169\n",
       "73           364291.049263\n",
       "74           343075.981127\n",
       "75             1678.969771"
      ]
     },
     "metadata": {},
     "output_type": "display_data"
    }
   ],
   "source": [
    "employed_median = employed_median.rename(columns={'days_employed':'median_employed'}) # переименуем столбец в median_employed\n",
    "display(employed_median)"
   ]
  },
  {
   "cell_type": "code",
   "execution_count": 40,
   "id": "48a3c9fc",
   "metadata": {},
   "outputs": [
    {
     "data": {
      "text/html": [
       "<div>\n",
       "<style scoped>\n",
       "    .dataframe tbody tr th:only-of-type {\n",
       "        vertical-align: middle;\n",
       "    }\n",
       "\n",
       "    .dataframe tbody tr th {\n",
       "        vertical-align: top;\n",
       "    }\n",
       "\n",
       "    .dataframe thead th {\n",
       "        text-align: right;\n",
       "    }\n",
       "</style>\n",
       "<table border=\"1\" class=\"dataframe\">\n",
       "  <thead>\n",
       "    <tr style=\"text-align: right;\">\n",
       "      <th></th>\n",
       "      <th>children</th>\n",
       "      <th>days_employed</th>\n",
       "      <th>dob_years</th>\n",
       "      <th>education</th>\n",
       "      <th>education_id</th>\n",
       "      <th>family_status</th>\n",
       "      <th>family_status_id</th>\n",
       "      <th>gender</th>\n",
       "      <th>income_type</th>\n",
       "      <th>debt</th>\n",
       "      <th>total_income</th>\n",
       "      <th>purpose</th>\n",
       "      <th>median_employed</th>\n",
       "    </tr>\n",
       "  </thead>\n",
       "  <tbody>\n",
       "    <tr>\n",
       "      <th>0</th>\n",
       "      <td>1</td>\n",
       "      <td>8437.673028</td>\n",
       "      <td>42</td>\n",
       "      <td>высшее</td>\n",
       "      <td>0</td>\n",
       "      <td>женат / замужем</td>\n",
       "      <td>0</td>\n",
       "      <td>F</td>\n",
       "      <td>сотрудник</td>\n",
       "      <td>0</td>\n",
       "      <td>253875.639453</td>\n",
       "      <td>покупка жилья</td>\n",
       "      <td>2253.981630</td>\n",
       "    </tr>\n",
       "    <tr>\n",
       "      <th>1</th>\n",
       "      <td>1</td>\n",
       "      <td>4024.803754</td>\n",
       "      <td>36</td>\n",
       "      <td>среднее</td>\n",
       "      <td>1</td>\n",
       "      <td>женат / замужем</td>\n",
       "      <td>0</td>\n",
       "      <td>F</td>\n",
       "      <td>сотрудник</td>\n",
       "      <td>0</td>\n",
       "      <td>112080.014102</td>\n",
       "      <td>приобретение автомобиля</td>\n",
       "      <td>1799.520465</td>\n",
       "    </tr>\n",
       "    <tr>\n",
       "      <th>2</th>\n",
       "      <td>0</td>\n",
       "      <td>5623.422610</td>\n",
       "      <td>33</td>\n",
       "      <td>Среднее</td>\n",
       "      <td>1</td>\n",
       "      <td>женат / замужем</td>\n",
       "      <td>0</td>\n",
       "      <td>M</td>\n",
       "      <td>сотрудник</td>\n",
       "      <td>0</td>\n",
       "      <td>145885.952297</td>\n",
       "      <td>покупка жилья</td>\n",
       "      <td>1426.415003</td>\n",
       "    </tr>\n",
       "    <tr>\n",
       "      <th>3</th>\n",
       "      <td>3</td>\n",
       "      <td>4124.747207</td>\n",
       "      <td>32</td>\n",
       "      <td>среднее</td>\n",
       "      <td>1</td>\n",
       "      <td>женат / замужем</td>\n",
       "      <td>0</td>\n",
       "      <td>M</td>\n",
       "      <td>сотрудник</td>\n",
       "      <td>0</td>\n",
       "      <td>267628.550329</td>\n",
       "      <td>дополнительное образование</td>\n",
       "      <td>1446.622542</td>\n",
       "    </tr>\n",
       "    <tr>\n",
       "      <th>4</th>\n",
       "      <td>0</td>\n",
       "      <td>340266.072047</td>\n",
       "      <td>53</td>\n",
       "      <td>среднее</td>\n",
       "      <td>1</td>\n",
       "      <td>гражданский брак</td>\n",
       "      <td>1</td>\n",
       "      <td>F</td>\n",
       "      <td>пенсионер</td>\n",
       "      <td>0</td>\n",
       "      <td>158616.077870</td>\n",
       "      <td>сыграть свадьбу</td>\n",
       "      <td>3650.007523</td>\n",
       "    </tr>\n",
       "    <tr>\n",
       "      <th>...</th>\n",
       "      <td>...</td>\n",
       "      <td>...</td>\n",
       "      <td>...</td>\n",
       "      <td>...</td>\n",
       "      <td>...</td>\n",
       "      <td>...</td>\n",
       "      <td>...</td>\n",
       "      <td>...</td>\n",
       "      <td>...</td>\n",
       "      <td>...</td>\n",
       "      <td>...</td>\n",
       "      <td>...</td>\n",
       "      <td>...</td>\n",
       "    </tr>\n",
       "    <tr>\n",
       "      <th>21520</th>\n",
       "      <td>1</td>\n",
       "      <td>4529.316663</td>\n",
       "      <td>43</td>\n",
       "      <td>среднее</td>\n",
       "      <td>1</td>\n",
       "      <td>гражданский брак</td>\n",
       "      <td>1</td>\n",
       "      <td>F</td>\n",
       "      <td>компаньон</td>\n",
       "      <td>0</td>\n",
       "      <td>224791.862382</td>\n",
       "      <td>операции с жильем</td>\n",
       "      <td>1869.019899</td>\n",
       "    </tr>\n",
       "    <tr>\n",
       "      <th>21521</th>\n",
       "      <td>0</td>\n",
       "      <td>343937.404131</td>\n",
       "      <td>67</td>\n",
       "      <td>среднее</td>\n",
       "      <td>1</td>\n",
       "      <td>женат / замужем</td>\n",
       "      <td>0</td>\n",
       "      <td>F</td>\n",
       "      <td>пенсионер</td>\n",
       "      <td>0</td>\n",
       "      <td>155999.806512</td>\n",
       "      <td>сделка с автомобилем</td>\n",
       "      <td>357222.855215</td>\n",
       "    </tr>\n",
       "    <tr>\n",
       "      <th>21522</th>\n",
       "      <td>1</td>\n",
       "      <td>2113.346888</td>\n",
       "      <td>38</td>\n",
       "      <td>среднее</td>\n",
       "      <td>1</td>\n",
       "      <td>гражданский брак</td>\n",
       "      <td>1</td>\n",
       "      <td>M</td>\n",
       "      <td>сотрудник</td>\n",
       "      <td>1</td>\n",
       "      <td>89672.561153</td>\n",
       "      <td>недвижимость</td>\n",
       "      <td>1817.194286</td>\n",
       "    </tr>\n",
       "    <tr>\n",
       "      <th>21523</th>\n",
       "      <td>3</td>\n",
       "      <td>3112.481705</td>\n",
       "      <td>38</td>\n",
       "      <td>среднее</td>\n",
       "      <td>1</td>\n",
       "      <td>женат / замужем</td>\n",
       "      <td>0</td>\n",
       "      <td>M</td>\n",
       "      <td>сотрудник</td>\n",
       "      <td>1</td>\n",
       "      <td>244093.050500</td>\n",
       "      <td>на покупку своего автомобиля</td>\n",
       "      <td>1817.194286</td>\n",
       "    </tr>\n",
       "    <tr>\n",
       "      <th>21524</th>\n",
       "      <td>2</td>\n",
       "      <td>1984.507589</td>\n",
       "      <td>40</td>\n",
       "      <td>среднее</td>\n",
       "      <td>1</td>\n",
       "      <td>женат / замужем</td>\n",
       "      <td>0</td>\n",
       "      <td>F</td>\n",
       "      <td>сотрудник</td>\n",
       "      <td>0</td>\n",
       "      <td>82047.418899</td>\n",
       "      <td>на покупку автомобиля</td>\n",
       "      <td>1728.936706</td>\n",
       "    </tr>\n",
       "  </tbody>\n",
       "</table>\n",
       "<p>21525 rows × 13 columns</p>\n",
       "</div>"
      ],
      "text/plain": [
       "       children  days_employed  dob_years education  education_id  \\\n",
       "0             1    8437.673028         42    высшее             0   \n",
       "1             1    4024.803754         36   среднее             1   \n",
       "2             0    5623.422610         33   Среднее             1   \n",
       "3             3    4124.747207         32   среднее             1   \n",
       "4             0  340266.072047         53   среднее             1   \n",
       "...         ...            ...        ...       ...           ...   \n",
       "21520         1    4529.316663         43   среднее             1   \n",
       "21521         0  343937.404131         67   среднее             1   \n",
       "21522         1    2113.346888         38   среднее             1   \n",
       "21523         3    3112.481705         38   среднее             1   \n",
       "21524         2    1984.507589         40   среднее             1   \n",
       "\n",
       "          family_status  family_status_id gender income_type  debt  \\\n",
       "0       женат / замужем                 0      F   сотрудник     0   \n",
       "1       женат / замужем                 0      F   сотрудник     0   \n",
       "2       женат / замужем                 0      M   сотрудник     0   \n",
       "3       женат / замужем                 0      M   сотрудник     0   \n",
       "4      гражданский брак                 1      F   пенсионер     0   \n",
       "...                 ...               ...    ...         ...   ...   \n",
       "21520  гражданский брак                 1      F   компаньон     0   \n",
       "21521   женат / замужем                 0      F   пенсионер     0   \n",
       "21522  гражданский брак                 1      M   сотрудник     1   \n",
       "21523   женат / замужем                 0      M   сотрудник     1   \n",
       "21524   женат / замужем                 0      F   сотрудник     0   \n",
       "\n",
       "        total_income                       purpose  median_employed  \n",
       "0      253875.639453                 покупка жилья      2253.981630  \n",
       "1      112080.014102       приобретение автомобиля      1799.520465  \n",
       "2      145885.952297                 покупка жилья      1426.415003  \n",
       "3      267628.550329    дополнительное образование      1446.622542  \n",
       "4      158616.077870               сыграть свадьбу      3650.007523  \n",
       "...              ...                           ...              ...  \n",
       "21520  224791.862382             операции с жильем      1869.019899  \n",
       "21521  155999.806512          сделка с автомобилем    357222.855215  \n",
       "21522   89672.561153                  недвижимость      1817.194286  \n",
       "21523  244093.050500  на покупку своего автомобиля      1817.194286  \n",
       "21524   82047.418899         на покупку автомобиля      1728.936706  \n",
       "\n",
       "[21525 rows x 13 columns]"
      ]
     },
     "metadata": {},
     "output_type": "display_data"
    }
   ],
   "source": [
    "df = df.merge(employed_median, on='dob_years', how='left') # объединим таблицы так, чтобы в df появился столбец \n",
    "display(df)"
   ]
  },
  {
   "cell_type": "markdown",
   "id": "005f91bc",
   "metadata": {},
   "source": [
    "Заполним пропуски в days_employed медианными значениями при помощи метода fillna."
   ]
  },
  {
   "cell_type": "code",
   "execution_count": 41,
   "id": "cc825aba",
   "metadata": {},
   "outputs": [],
   "source": [
    "df['days_employed'] = df['days_employed'].fillna(df.groupby('median_employed')['days_employed'].transform(\"median\"))"
   ]
  },
  {
   "cell_type": "code",
   "execution_count": 42,
   "id": "e7d28017",
   "metadata": {},
   "outputs": [
    {
     "data": {
      "text/plain": [
       "children            0\n",
       "days_employed       0\n",
       "dob_years           0\n",
       "education           0\n",
       "education_id        0\n",
       "family_status       0\n",
       "family_status_id    0\n",
       "gender              0\n",
       "income_type         0\n",
       "debt                0\n",
       "total_income        0\n",
       "purpose             0\n",
       "median_employed     0\n",
       "dtype: int64"
      ]
     },
     "execution_count": 42,
     "metadata": {},
     "output_type": "execute_result"
    }
   ],
   "source": [
    "df.isna().sum() # проверим, сколько пропущенных значений в столбцах"
   ]
  },
  {
   "cell_type": "code",
   "execution_count": 43,
   "id": "fc2c5f6f",
   "metadata": {},
   "outputs": [
    {
     "data": {
      "text/plain": [
       "0          2253.981630\n",
       "1          1799.520465\n",
       "2          1426.415003\n",
       "3          1446.622542\n",
       "4          3650.007523\n",
       "             ...      \n",
       "21520      1869.019899\n",
       "21521    357222.855215\n",
       "21522      1817.194286\n",
       "21523      1817.194286\n",
       "21524      1728.936706\n",
       "Name: median_employed, Length: 21525, dtype: float64"
      ]
     },
     "execution_count": 43,
     "metadata": {},
     "output_type": "execute_result"
    }
   ],
   "source": [
    "df.pop('median_employed') # удалим столбец median_employed"
   ]
  },
  {
   "cell_type": "markdown",
   "id": "fc84b0f9",
   "metadata": {},
   "source": [
    "Поделим на 365, а затем поменяем тип данных в days_employed. Переименуем столбец в 'years_employed'."
   ]
  },
  {
   "cell_type": "code",
   "execution_count": 44,
   "id": "594608de",
   "metadata": {},
   "outputs": [],
   "source": [
    "df['days_employed'] = (df['days_employed'] / 365) # создадим столбец со стажем в годах\n",
    "\n"
   ]
  },
  {
   "cell_type": "code",
   "execution_count": 45,
   "id": "dfb8d184",
   "metadata": {},
   "outputs": [],
   "source": [
    "df['days_employed'] = df['days_employed'].astype('int') # заменим данные в столбце days_employed на целочисленные"
   ]
  },
  {
   "cell_type": "code",
   "execution_count": 46,
   "id": "e7c828cf",
   "metadata": {},
   "outputs": [
    {
     "data": {
      "text/html": [
       "<div>\n",
       "<style scoped>\n",
       "    .dataframe tbody tr th:only-of-type {\n",
       "        vertical-align: middle;\n",
       "    }\n",
       "\n",
       "    .dataframe tbody tr th {\n",
       "        vertical-align: top;\n",
       "    }\n",
       "\n",
       "    .dataframe thead th {\n",
       "        text-align: right;\n",
       "    }\n",
       "</style>\n",
       "<table border=\"1\" class=\"dataframe\">\n",
       "  <thead>\n",
       "    <tr style=\"text-align: right;\">\n",
       "      <th></th>\n",
       "      <th>children</th>\n",
       "      <th>years_employed</th>\n",
       "      <th>dob_years</th>\n",
       "      <th>education</th>\n",
       "      <th>education_id</th>\n",
       "      <th>family_status</th>\n",
       "      <th>family_status_id</th>\n",
       "      <th>gender</th>\n",
       "      <th>income_type</th>\n",
       "      <th>debt</th>\n",
       "      <th>total_income</th>\n",
       "      <th>purpose</th>\n",
       "    </tr>\n",
       "  </thead>\n",
       "  <tbody>\n",
       "    <tr>\n",
       "      <th>0</th>\n",
       "      <td>1</td>\n",
       "      <td>23</td>\n",
       "      <td>42</td>\n",
       "      <td>высшее</td>\n",
       "      <td>0</td>\n",
       "      <td>женат / замужем</td>\n",
       "      <td>0</td>\n",
       "      <td>F</td>\n",
       "      <td>сотрудник</td>\n",
       "      <td>0</td>\n",
       "      <td>253875.639453</td>\n",
       "      <td>покупка жилья</td>\n",
       "    </tr>\n",
       "    <tr>\n",
       "      <th>1</th>\n",
       "      <td>1</td>\n",
       "      <td>11</td>\n",
       "      <td>36</td>\n",
       "      <td>среднее</td>\n",
       "      <td>1</td>\n",
       "      <td>женат / замужем</td>\n",
       "      <td>0</td>\n",
       "      <td>F</td>\n",
       "      <td>сотрудник</td>\n",
       "      <td>0</td>\n",
       "      <td>112080.014102</td>\n",
       "      <td>приобретение автомобиля</td>\n",
       "    </tr>\n",
       "    <tr>\n",
       "      <th>2</th>\n",
       "      <td>0</td>\n",
       "      <td>15</td>\n",
       "      <td>33</td>\n",
       "      <td>Среднее</td>\n",
       "      <td>1</td>\n",
       "      <td>женат / замужем</td>\n",
       "      <td>0</td>\n",
       "      <td>M</td>\n",
       "      <td>сотрудник</td>\n",
       "      <td>0</td>\n",
       "      <td>145885.952297</td>\n",
       "      <td>покупка жилья</td>\n",
       "    </tr>\n",
       "    <tr>\n",
       "      <th>3</th>\n",
       "      <td>3</td>\n",
       "      <td>11</td>\n",
       "      <td>32</td>\n",
       "      <td>среднее</td>\n",
       "      <td>1</td>\n",
       "      <td>женат / замужем</td>\n",
       "      <td>0</td>\n",
       "      <td>M</td>\n",
       "      <td>сотрудник</td>\n",
       "      <td>0</td>\n",
       "      <td>267628.550329</td>\n",
       "      <td>дополнительное образование</td>\n",
       "    </tr>\n",
       "    <tr>\n",
       "      <th>4</th>\n",
       "      <td>0</td>\n",
       "      <td>932</td>\n",
       "      <td>53</td>\n",
       "      <td>среднее</td>\n",
       "      <td>1</td>\n",
       "      <td>гражданский брак</td>\n",
       "      <td>1</td>\n",
       "      <td>F</td>\n",
       "      <td>пенсионер</td>\n",
       "      <td>0</td>\n",
       "      <td>158616.077870</td>\n",
       "      <td>сыграть свадьбу</td>\n",
       "    </tr>\n",
       "    <tr>\n",
       "      <th>...</th>\n",
       "      <td>...</td>\n",
       "      <td>...</td>\n",
       "      <td>...</td>\n",
       "      <td>...</td>\n",
       "      <td>...</td>\n",
       "      <td>...</td>\n",
       "      <td>...</td>\n",
       "      <td>...</td>\n",
       "      <td>...</td>\n",
       "      <td>...</td>\n",
       "      <td>...</td>\n",
       "      <td>...</td>\n",
       "    </tr>\n",
       "    <tr>\n",
       "      <th>21520</th>\n",
       "      <td>1</td>\n",
       "      <td>12</td>\n",
       "      <td>43</td>\n",
       "      <td>среднее</td>\n",
       "      <td>1</td>\n",
       "      <td>гражданский брак</td>\n",
       "      <td>1</td>\n",
       "      <td>F</td>\n",
       "      <td>компаньон</td>\n",
       "      <td>0</td>\n",
       "      <td>224791.862382</td>\n",
       "      <td>операции с жильем</td>\n",
       "    </tr>\n",
       "    <tr>\n",
       "      <th>21521</th>\n",
       "      <td>0</td>\n",
       "      <td>942</td>\n",
       "      <td>67</td>\n",
       "      <td>среднее</td>\n",
       "      <td>1</td>\n",
       "      <td>женат / замужем</td>\n",
       "      <td>0</td>\n",
       "      <td>F</td>\n",
       "      <td>пенсионер</td>\n",
       "      <td>0</td>\n",
       "      <td>155999.806512</td>\n",
       "      <td>сделка с автомобилем</td>\n",
       "    </tr>\n",
       "    <tr>\n",
       "      <th>21522</th>\n",
       "      <td>1</td>\n",
       "      <td>5</td>\n",
       "      <td>38</td>\n",
       "      <td>среднее</td>\n",
       "      <td>1</td>\n",
       "      <td>гражданский брак</td>\n",
       "      <td>1</td>\n",
       "      <td>M</td>\n",
       "      <td>сотрудник</td>\n",
       "      <td>1</td>\n",
       "      <td>89672.561153</td>\n",
       "      <td>недвижимость</td>\n",
       "    </tr>\n",
       "    <tr>\n",
       "      <th>21523</th>\n",
       "      <td>3</td>\n",
       "      <td>8</td>\n",
       "      <td>38</td>\n",
       "      <td>среднее</td>\n",
       "      <td>1</td>\n",
       "      <td>женат / замужем</td>\n",
       "      <td>0</td>\n",
       "      <td>M</td>\n",
       "      <td>сотрудник</td>\n",
       "      <td>1</td>\n",
       "      <td>244093.050500</td>\n",
       "      <td>на покупку своего автомобиля</td>\n",
       "    </tr>\n",
       "    <tr>\n",
       "      <th>21524</th>\n",
       "      <td>2</td>\n",
       "      <td>5</td>\n",
       "      <td>40</td>\n",
       "      <td>среднее</td>\n",
       "      <td>1</td>\n",
       "      <td>женат / замужем</td>\n",
       "      <td>0</td>\n",
       "      <td>F</td>\n",
       "      <td>сотрудник</td>\n",
       "      <td>0</td>\n",
       "      <td>82047.418899</td>\n",
       "      <td>на покупку автомобиля</td>\n",
       "    </tr>\n",
       "  </tbody>\n",
       "</table>\n",
       "<p>21525 rows × 12 columns</p>\n",
       "</div>"
      ],
      "text/plain": [
       "       children  years_employed  dob_years education  education_id  \\\n",
       "0             1              23         42    высшее             0   \n",
       "1             1              11         36   среднее             1   \n",
       "2             0              15         33   Среднее             1   \n",
       "3             3              11         32   среднее             1   \n",
       "4             0             932         53   среднее             1   \n",
       "...         ...             ...        ...       ...           ...   \n",
       "21520         1              12         43   среднее             1   \n",
       "21521         0             942         67   среднее             1   \n",
       "21522         1               5         38   среднее             1   \n",
       "21523         3               8         38   среднее             1   \n",
       "21524         2               5         40   среднее             1   \n",
       "\n",
       "          family_status  family_status_id gender income_type  debt  \\\n",
       "0       женат / замужем                 0      F   сотрудник     0   \n",
       "1       женат / замужем                 0      F   сотрудник     0   \n",
       "2       женат / замужем                 0      M   сотрудник     0   \n",
       "3       женат / замужем                 0      M   сотрудник     0   \n",
       "4      гражданский брак                 1      F   пенсионер     0   \n",
       "...                 ...               ...    ...         ...   ...   \n",
       "21520  гражданский брак                 1      F   компаньон     0   \n",
       "21521   женат / замужем                 0      F   пенсионер     0   \n",
       "21522  гражданский брак                 1      M   сотрудник     1   \n",
       "21523   женат / замужем                 0      M   сотрудник     1   \n",
       "21524   женат / замужем                 0      F   сотрудник     0   \n",
       "\n",
       "        total_income                       purpose  \n",
       "0      253875.639453                 покупка жилья  \n",
       "1      112080.014102       приобретение автомобиля  \n",
       "2      145885.952297                 покупка жилья  \n",
       "3      267628.550329    дополнительное образование  \n",
       "4      158616.077870               сыграть свадьбу  \n",
       "...              ...                           ...  \n",
       "21520  224791.862382             операции с жильем  \n",
       "21521  155999.806512          сделка с автомобилем  \n",
       "21522   89672.561153                  недвижимость  \n",
       "21523  244093.050500  на покупку своего автомобиля  \n",
       "21524   82047.418899         на покупку автомобиля  \n",
       "\n",
       "[21525 rows x 12 columns]"
      ]
     },
     "metadata": {},
     "output_type": "display_data"
    }
   ],
   "source": [
    "df = df.rename(columns={'days_employed':'years_employed'})\n",
    "display(df)"
   ]
  },
  {
   "cell_type": "markdown",
   "id": "e6b24a4d",
   "metadata": {},
   "source": [
    "Построим гистограмму, чтобы увидеть, у каких категорий указаны неправдоподобные значения. "
   ]
  },
  {
   "cell_type": "code",
   "execution_count": 47,
   "id": "9b5e5c3c",
   "metadata": {},
   "outputs": [
    {
     "data": {
      "text/plain": [
       "<AxesSubplot:xlabel='years_employed', ylabel='income_type'>"
      ]
     },
     "execution_count": 47,
     "metadata": {},
     "output_type": "execute_result"
    },
    {
     "data": {
      "image/png": "[encoded data removed]",
      "text/plain": [
       "<Figure size 432x288 with 1 Axes>"
      ]
     },
     "metadata": {
      "needs_background": "light"
     },
     "output_type": "display_data"
    }
   ],
   "source": [
    "sns.barplot(x='years_employed',y='income_type', data=df)"
   ]
  },
  {
   "cell_type": "markdown",
   "id": "3aadcfc2",
   "metadata": {},
   "source": [
    "С учетом заполненных пропусков, из гистограммы следует, что стаж систематически завышают пенсионеры и предприниматели. Далее разберемся с предпринимателями."
   ]
  },
  {
   "cell_type": "code",
   "execution_count": 48,
   "id": "485cccaa",
   "metadata": {},
   "outputs": [
    {
     "data": {
      "text/plain": [
       "сотрудник          11119\n",
       "компаньон           5085\n",
       "пенсионер           3856\n",
       "госслужащий         1459\n",
       "безработный            2\n",
       "предприниматель        2\n",
       "студент                1\n",
       "в декрете              1\n",
       "Name: income_type, dtype: int64"
      ]
     },
     "execution_count": 48,
     "metadata": {},
     "output_type": "execute_result"
    }
   ],
   "source": [
    "df['income_type'].value_counts() # посмотрим, сколько предпринимателей среди заявителей"
   ]
  },
  {
   "cell_type": "code",
   "execution_count": 49,
   "id": "68e8f863",
   "metadata": {},
   "outputs": [
    {
     "data": {
      "text/html": [
       "<div>\n",
       "<style scoped>\n",
       "    .dataframe tbody tr th:only-of-type {\n",
       "        vertical-align: middle;\n",
       "    }\n",
       "\n",
       "    .dataframe tbody tr th {\n",
       "        vertical-align: top;\n",
       "    }\n",
       "\n",
       "    .dataframe thead th {\n",
       "        text-align: right;\n",
       "    }\n",
       "</style>\n",
       "<table border=\"1\" class=\"dataframe\">\n",
       "  <thead>\n",
       "    <tr style=\"text-align: right;\">\n",
       "      <th></th>\n",
       "      <th>children</th>\n",
       "      <th>years_employed</th>\n",
       "      <th>dob_years</th>\n",
       "      <th>education</th>\n",
       "      <th>education_id</th>\n",
       "      <th>family_status</th>\n",
       "      <th>family_status_id</th>\n",
       "      <th>gender</th>\n",
       "      <th>income_type</th>\n",
       "      <th>debt</th>\n",
       "      <th>total_income</th>\n",
       "      <th>purpose</th>\n",
       "    </tr>\n",
       "  </thead>\n",
       "  <tbody>\n",
       "    <tr>\n",
       "      <th>5936</th>\n",
       "      <td>0</td>\n",
       "      <td>907</td>\n",
       "      <td>58</td>\n",
       "      <td>высшее</td>\n",
       "      <td>0</td>\n",
       "      <td>женат / замужем</td>\n",
       "      <td>0</td>\n",
       "      <td>M</td>\n",
       "      <td>предприниматель</td>\n",
       "      <td>0</td>\n",
       "      <td>499163.144947</td>\n",
       "      <td>покупка жилой недвижимости</td>\n",
       "    </tr>\n",
       "    <tr>\n",
       "      <th>18697</th>\n",
       "      <td>0</td>\n",
       "      <td>1</td>\n",
       "      <td>27</td>\n",
       "      <td>высшее</td>\n",
       "      <td>0</td>\n",
       "      <td>гражданский брак</td>\n",
       "      <td>1</td>\n",
       "      <td>F</td>\n",
       "      <td>предприниматель</td>\n",
       "      <td>0</td>\n",
       "      <td>499163.144947</td>\n",
       "      <td>на проведение свадьбы</td>\n",
       "    </tr>\n",
       "  </tbody>\n",
       "</table>\n",
       "</div>"
      ],
      "text/plain": [
       "       children  years_employed  dob_years education  education_id  \\\n",
       "5936          0             907         58    высшее             0   \n",
       "18697         0               1         27    высшее             0   \n",
       "\n",
       "          family_status  family_status_id gender      income_type  debt  \\\n",
       "5936    женат / замужем                 0      M  предприниматель     0   \n",
       "18697  гражданский брак                 1      F  предприниматель     0   \n",
       "\n",
       "        total_income                     purpose  \n",
       "5936   499163.144947  покупка жилой недвижимости  \n",
       "18697  499163.144947       на проведение свадьбы  "
      ]
     },
     "execution_count": 49,
     "metadata": {},
     "output_type": "execute_result"
    }
   ],
   "source": [
    "df.loc[df['income_type'] == 'предприниматель'] # посмотрим, какой стаж указали предприниматели"
   ]
  },
  {
   "cell_type": "markdown",
   "id": "47cabfd0",
   "metadata": {},
   "source": [
    "Видим, что всего в выборке два предпринимателя, у одного из которых указан неправдоподобный стаж (907 лет), у другого - 3 года. Этот выброс целесообразно заменить медианным значением стажа по всему датафрейму, так как замена по категории не даст адекватного результата в силу слишком маленького количества строк, а удалять и без того редкого предпринимателя не хотелось бы. \n",
    "\n",
    "    "
   ]
  },
  {
   "cell_type": "code",
   "execution_count": 50,
   "id": "c5652fb3",
   "metadata": {},
   "outputs": [],
   "source": [
    "df.loc[5936, 'years_employed'] = df['years_employed'].median() # заменим значение стажа для этого предпринимателя на медианное по столбцу"
   ]
  },
  {
   "cell_type": "code",
   "execution_count": 51,
   "id": "c184f7a4",
   "metadata": {},
   "outputs": [
    {
     "data": {
      "text/html": [
       "<div>\n",
       "<style scoped>\n",
       "    .dataframe tbody tr th:only-of-type {\n",
       "        vertical-align: middle;\n",
       "    }\n",
       "\n",
       "    .dataframe tbody tr th {\n",
       "        vertical-align: top;\n",
       "    }\n",
       "\n",
       "    .dataframe thead th {\n",
       "        text-align: right;\n",
       "    }\n",
       "</style>\n",
       "<table border=\"1\" class=\"dataframe\">\n",
       "  <thead>\n",
       "    <tr style=\"text-align: right;\">\n",
       "      <th></th>\n",
       "      <th>children</th>\n",
       "      <th>years_employed</th>\n",
       "      <th>dob_years</th>\n",
       "      <th>education</th>\n",
       "      <th>education_id</th>\n",
       "      <th>family_status</th>\n",
       "      <th>family_status_id</th>\n",
       "      <th>gender</th>\n",
       "      <th>income_type</th>\n",
       "      <th>debt</th>\n",
       "      <th>total_income</th>\n",
       "      <th>purpose</th>\n",
       "    </tr>\n",
       "  </thead>\n",
       "  <tbody>\n",
       "    <tr>\n",
       "      <th>5936</th>\n",
       "      <td>0</td>\n",
       "      <td>5</td>\n",
       "      <td>58</td>\n",
       "      <td>высшее</td>\n",
       "      <td>0</td>\n",
       "      <td>женат / замужем</td>\n",
       "      <td>0</td>\n",
       "      <td>M</td>\n",
       "      <td>предприниматель</td>\n",
       "      <td>0</td>\n",
       "      <td>499163.144947</td>\n",
       "      <td>покупка жилой недвижимости</td>\n",
       "    </tr>\n",
       "    <tr>\n",
       "      <th>18697</th>\n",
       "      <td>0</td>\n",
       "      <td>1</td>\n",
       "      <td>27</td>\n",
       "      <td>высшее</td>\n",
       "      <td>0</td>\n",
       "      <td>гражданский брак</td>\n",
       "      <td>1</td>\n",
       "      <td>F</td>\n",
       "      <td>предприниматель</td>\n",
       "      <td>0</td>\n",
       "      <td>499163.144947</td>\n",
       "      <td>на проведение свадьбы</td>\n",
       "    </tr>\n",
       "  </tbody>\n",
       "</table>\n",
       "</div>"
      ],
      "text/plain": [
       "       children  years_employed  dob_years education  education_id  \\\n",
       "5936          0               5         58    высшее             0   \n",
       "18697         0               1         27    высшее             0   \n",
       "\n",
       "          family_status  family_status_id gender      income_type  debt  \\\n",
       "5936    женат / замужем                 0      M  предприниматель     0   \n",
       "18697  гражданский брак                 1      F  предприниматель     0   \n",
       "\n",
       "        total_income                     purpose  \n",
       "5936   499163.144947  покупка жилой недвижимости  \n",
       "18697  499163.144947       на проведение свадьбы  "
      ]
     },
     "execution_count": 51,
     "metadata": {},
     "output_type": "execute_result"
    }
   ],
   "source": [
    "df.loc[df['income_type'] == 'предприниматель'] # убедимся, что все получилось"
   ]
  },
  {
   "cell_type": "markdown",
   "id": "a6c0d312",
   "metadata": {},
   "source": [
    "Согласно законодательству РФ, большим стажем при выходе на пенсию считается стаж в 42 года. При таком стаже можно выйти на пенсию досрочно. Примем этот размер стажа за границу правдоподобного и посчитаем, сколько неправдоподобных значений есть в датафрейме, и сколько пенсионеров указали завышенный стаж. "
   ]
  },
  {
   "cell_type": "code",
   "execution_count": 52,
   "id": "e19c88b7",
   "metadata": {},
   "outputs": [
    {
     "data": {
      "text/plain": [
       "3856"
      ]
     },
     "execution_count": 52,
     "metadata": {},
     "output_type": "execute_result"
    }
   ],
   "source": [
    "len(df.loc[(df['income_type'] == 'пенсионер')]) # посмотрим, сколько всего пенсионеров в датафрейме"
   ]
  },
  {
   "cell_type": "code",
   "execution_count": 53,
   "id": "58b10257",
   "metadata": {},
   "outputs": [
    {
     "name": "stdout",
     "output_type": "stream",
     "text": [
      "Всего пенсионеров: 3856, неправдоподобный стаж из них у 3733, что составляет 96.81%\n"
     ]
    }
   ],
   "source": [
    "retired = len(df.loc[(df['income_type'] == 'пенсионер')])\n",
    "anom_ret = len(df.loc[(df['income_type'] == 'пенсионер') & (df['years_employed'] > 42)])\n",
    "print(f'Всего пенсионеров: {retired}, неправдоподобный стаж из них у {anom_ret}, что составляет {anom_ret/retired:.2%}')"
   ]
  },
  {
   "cell_type": "markdown",
   "id": "1c470b20",
   "metadata": {},
   "source": [
    "В условиях учебной задачи мы не можем уточнить данные и выявить причину ошибки. Согласно трудовому законодательству, минимальный стаж для выхода на пенсию — 12 лет, максимальный — 42 года. Вычислим среднее значение и заменим на него неправдоподобные данные. "
   ]
  },
  {
   "cell_type": "code",
   "execution_count": 54,
   "id": "242cf591",
   "metadata": {
    "scrolled": true
   },
   "outputs": [
    {
     "data": {
      "text/plain": [
       "27.0"
      ]
     },
     "execution_count": 54,
     "metadata": {},
     "output_type": "execute_result"
    }
   ],
   "source": [
    "(42+12)/2 # посчитаем средний пенсионный стаж по ТК в годах"
   ]
  },
  {
   "cell_type": "code",
   "execution_count": 55,
   "id": "d38b6226",
   "metadata": {},
   "outputs": [],
   "source": [
    "df.loc[(df['years_employed'] > 42, 'years_employed')] = 27 # заменим неправдоподобные значения на средний пенсионный стаж"
   ]
  },
  {
   "cell_type": "markdown",
   "id": "8714063a",
   "metadata": {},
   "source": [
    "Проверим результат. "
   ]
  },
  {
   "cell_type": "code",
   "execution_count": 56,
   "id": "a6246124",
   "metadata": {},
   "outputs": [
    {
     "data": {
      "text/plain": [
       "count    21525.000000\n",
       "mean         9.676841\n",
       "std          9.786691\n",
       "min          0.000000\n",
       "25%          2.000000\n",
       "50%          5.000000\n",
       "75%         15.000000\n",
       "max         42.000000\n",
       "Name: years_employed, dtype: float64"
      ]
     },
     "execution_count": 56,
     "metadata": {},
     "output_type": "execute_result"
    }
   ],
   "source": [
    "df['years_employed'].describe() # проверим результат замены"
   ]
  },
  {
   "cell_type": "markdown",
   "id": "0e9dd33d",
   "metadata": {},
   "source": [
    "Проверим, какие данные есть в столбце с полом"
   ]
  },
  {
   "cell_type": "code",
   "execution_count": 57,
   "id": "48ad9151",
   "metadata": {},
   "outputs": [
    {
     "data": {
      "text/plain": [
       "F      14236\n",
       "M       7288\n",
       "XNA        1\n",
       "Name: gender, dtype: int64"
      ]
     },
     "execution_count": 57,
     "metadata": {},
     "output_type": "execute_result"
    }
   ],
   "source": [
    "df['gender'].value_counts() # посмотрим, какие значения есть в столбце gender и сколько их"
   ]
  },
  {
   "cell_type": "markdown",
   "id": "0fe46ca1",
   "metadata": {},
   "source": [
    "Возможно, кто-то из клиентов по личным причинам намеренно не указал, к мужскому или женскому полу он относится, либо произошла ошибка при внесении данных. Отклонение не существенно, так как встречается в датафрейме один раз. Заменим пол на \"женский\", так как женщин вдвое больше. "
   ]
  },
  {
   "cell_type": "code",
   "execution_count": 58,
   "id": "e15bb3b7",
   "metadata": {},
   "outputs": [],
   "source": [
    "df.loc[df['gender'] == 'XNA'] = df.loc[df['gender'] == 'XNA'].replace('XNA', 'F') # заменим неизвестный пол на женский"
   ]
  },
  {
   "cell_type": "code",
   "execution_count": 59,
   "id": "ab2445d3",
   "metadata": {},
   "outputs": [
    {
     "data": {
      "text/plain": [
       "F    14237\n",
       "M     7288\n",
       "Name: gender, dtype: int64"
      ]
     },
     "execution_count": 59,
     "metadata": {},
     "output_type": "execute_result"
    }
   ],
   "source": [
    "df['gender'].value_counts() # проверим результат"
   ]
  },
  {
   "cell_type": "markdown",
   "id": "336249eb",
   "metadata": {},
   "source": [
    "### Шаг 2.3. Изменение типов данных."
   ]
  },
  {
   "cell_type": "markdown",
   "id": "17f23a37",
   "metadata": {},
   "source": [
    "Заменим вещественный тип данных на целочисленный в столбце total_income."
   ]
  },
  {
   "cell_type": "code",
   "execution_count": 60,
   "id": "822e601b",
   "metadata": {},
   "outputs": [],
   "source": [
    "df['total_income'] = df['total_income'].astype('int') # заменим вещественный тип данных в столбце total_income на целочисленный"
   ]
  },
  {
   "cell_type": "markdown",
   "id": "5fc8acd9",
   "metadata": {},
   "source": [
    "Заменим тип данных в столбце `children` на целочисленный"
   ]
  },
  {
   "cell_type": "code",
   "execution_count": 61,
   "id": "d501f89d",
   "metadata": {},
   "outputs": [
    {
     "data": {
      "text/plain": [
       "count    21525.000000\n",
       "mean         0.472660\n",
       "std          0.750616\n",
       "min          0.000000\n",
       "25%          0.000000\n",
       "50%          0.000000\n",
       "75%          1.000000\n",
       "max          5.000000\n",
       "Name: children, dtype: float64"
      ]
     },
     "execution_count": 61,
     "metadata": {},
     "output_type": "execute_result"
    }
   ],
   "source": [
    "df['children'].describe() # проверим тип данных в столбце children"
   ]
  },
  {
   "cell_type": "code",
   "execution_count": 62,
   "id": "5c9abe57",
   "metadata": {},
   "outputs": [],
   "source": [
    "df['children'] = df['children'].astype('int') # заменим тип данных в столбце children на целочисленный"
   ]
  },
  {
   "cell_type": "markdown",
   "id": "75e8ec12",
   "metadata": {},
   "source": [
    "### Шаг 2.4. Удаление дубликатов."
   ]
  },
  {
   "cell_type": "markdown",
   "id": "35860714",
   "metadata": {},
   "source": [
    "Проверим данные на наличие полных дубликатов и избавимся от них. "
   ]
  },
  {
   "cell_type": "code",
   "execution_count": 63,
   "id": "4a979d69",
   "metadata": {},
   "outputs": [
    {
     "data": {
      "text/plain": [
       "54"
      ]
     },
     "execution_count": 63,
     "metadata": {},
     "output_type": "execute_result"
    }
   ],
   "source": [
    "df.duplicated().sum() # посчитаем количество полных дубликатов в датафрейме "
   ]
  },
  {
   "cell_type": "code",
   "execution_count": 64,
   "id": "f07dd135",
   "metadata": {
    "scrolled": true
   },
   "outputs": [
    {
     "data": {
      "text/html": [
       "<div>\n",
       "<style scoped>\n",
       "    .dataframe tbody tr th:only-of-type {\n",
       "        vertical-align: middle;\n",
       "    }\n",
       "\n",
       "    .dataframe tbody tr th {\n",
       "        vertical-align: top;\n",
       "    }\n",
       "\n",
       "    .dataframe thead th {\n",
       "        text-align: right;\n",
       "    }\n",
       "</style>\n",
       "<table border=\"1\" class=\"dataframe\">\n",
       "  <thead>\n",
       "    <tr style=\"text-align: right;\">\n",
       "      <th></th>\n",
       "      <th>children</th>\n",
       "      <th>years_employed</th>\n",
       "      <th>dob_years</th>\n",
       "      <th>education</th>\n",
       "      <th>education_id</th>\n",
       "      <th>family_status</th>\n",
       "      <th>family_status_id</th>\n",
       "      <th>gender</th>\n",
       "      <th>income_type</th>\n",
       "      <th>debt</th>\n",
       "      <th>total_income</th>\n",
       "      <th>purpose</th>\n",
       "    </tr>\n",
       "  </thead>\n",
       "  <tbody>\n",
       "    <tr>\n",
       "      <th>0</th>\n",
       "      <td>1</td>\n",
       "      <td>23</td>\n",
       "      <td>42</td>\n",
       "      <td>высшее</td>\n",
       "      <td>0</td>\n",
       "      <td>женат / замужем</td>\n",
       "      <td>0</td>\n",
       "      <td>F</td>\n",
       "      <td>сотрудник</td>\n",
       "      <td>0</td>\n",
       "      <td>253875</td>\n",
       "      <td>покупка жилья</td>\n",
       "    </tr>\n",
       "    <tr>\n",
       "      <th>1</th>\n",
       "      <td>1</td>\n",
       "      <td>11</td>\n",
       "      <td>36</td>\n",
       "      <td>среднее</td>\n",
       "      <td>1</td>\n",
       "      <td>женат / замужем</td>\n",
       "      <td>0</td>\n",
       "      <td>F</td>\n",
       "      <td>сотрудник</td>\n",
       "      <td>0</td>\n",
       "      <td>112080</td>\n",
       "      <td>приобретение автомобиля</td>\n",
       "    </tr>\n",
       "    <tr>\n",
       "      <th>2</th>\n",
       "      <td>0</td>\n",
       "      <td>15</td>\n",
       "      <td>33</td>\n",
       "      <td>Среднее</td>\n",
       "      <td>1</td>\n",
       "      <td>женат / замужем</td>\n",
       "      <td>0</td>\n",
       "      <td>M</td>\n",
       "      <td>сотрудник</td>\n",
       "      <td>0</td>\n",
       "      <td>145885</td>\n",
       "      <td>покупка жилья</td>\n",
       "    </tr>\n",
       "    <tr>\n",
       "      <th>3</th>\n",
       "      <td>3</td>\n",
       "      <td>11</td>\n",
       "      <td>32</td>\n",
       "      <td>среднее</td>\n",
       "      <td>1</td>\n",
       "      <td>женат / замужем</td>\n",
       "      <td>0</td>\n",
       "      <td>M</td>\n",
       "      <td>сотрудник</td>\n",
       "      <td>0</td>\n",
       "      <td>267628</td>\n",
       "      <td>дополнительное образование</td>\n",
       "    </tr>\n",
       "    <tr>\n",
       "      <th>4</th>\n",
       "      <td>0</td>\n",
       "      <td>27</td>\n",
       "      <td>53</td>\n",
       "      <td>среднее</td>\n",
       "      <td>1</td>\n",
       "      <td>гражданский брак</td>\n",
       "      <td>1</td>\n",
       "      <td>F</td>\n",
       "      <td>пенсионер</td>\n",
       "      <td>0</td>\n",
       "      <td>158616</td>\n",
       "      <td>сыграть свадьбу</td>\n",
       "    </tr>\n",
       "    <tr>\n",
       "      <th>...</th>\n",
       "      <td>...</td>\n",
       "      <td>...</td>\n",
       "      <td>...</td>\n",
       "      <td>...</td>\n",
       "      <td>...</td>\n",
       "      <td>...</td>\n",
       "      <td>...</td>\n",
       "      <td>...</td>\n",
       "      <td>...</td>\n",
       "      <td>...</td>\n",
       "      <td>...</td>\n",
       "      <td>...</td>\n",
       "    </tr>\n",
       "    <tr>\n",
       "      <th>21520</th>\n",
       "      <td>1</td>\n",
       "      <td>12</td>\n",
       "      <td>43</td>\n",
       "      <td>среднее</td>\n",
       "      <td>1</td>\n",
       "      <td>гражданский брак</td>\n",
       "      <td>1</td>\n",
       "      <td>F</td>\n",
       "      <td>компаньон</td>\n",
       "      <td>0</td>\n",
       "      <td>224791</td>\n",
       "      <td>операции с жильем</td>\n",
       "    </tr>\n",
       "    <tr>\n",
       "      <th>21521</th>\n",
       "      <td>0</td>\n",
       "      <td>27</td>\n",
       "      <td>67</td>\n",
       "      <td>среднее</td>\n",
       "      <td>1</td>\n",
       "      <td>женат / замужем</td>\n",
       "      <td>0</td>\n",
       "      <td>F</td>\n",
       "      <td>пенсионер</td>\n",
       "      <td>0</td>\n",
       "      <td>155999</td>\n",
       "      <td>сделка с автомобилем</td>\n",
       "    </tr>\n",
       "    <tr>\n",
       "      <th>21522</th>\n",
       "      <td>1</td>\n",
       "      <td>5</td>\n",
       "      <td>38</td>\n",
       "      <td>среднее</td>\n",
       "      <td>1</td>\n",
       "      <td>гражданский брак</td>\n",
       "      <td>1</td>\n",
       "      <td>M</td>\n",
       "      <td>сотрудник</td>\n",
       "      <td>1</td>\n",
       "      <td>89672</td>\n",
       "      <td>недвижимость</td>\n",
       "    </tr>\n",
       "    <tr>\n",
       "      <th>21523</th>\n",
       "      <td>3</td>\n",
       "      <td>8</td>\n",
       "      <td>38</td>\n",
       "      <td>среднее</td>\n",
       "      <td>1</td>\n",
       "      <td>женат / замужем</td>\n",
       "      <td>0</td>\n",
       "      <td>M</td>\n",
       "      <td>сотрудник</td>\n",
       "      <td>1</td>\n",
       "      <td>244093</td>\n",
       "      <td>на покупку своего автомобиля</td>\n",
       "    </tr>\n",
       "    <tr>\n",
       "      <th>21524</th>\n",
       "      <td>2</td>\n",
       "      <td>5</td>\n",
       "      <td>40</td>\n",
       "      <td>среднее</td>\n",
       "      <td>1</td>\n",
       "      <td>женат / замужем</td>\n",
       "      <td>0</td>\n",
       "      <td>F</td>\n",
       "      <td>сотрудник</td>\n",
       "      <td>0</td>\n",
       "      <td>82047</td>\n",
       "      <td>на покупку автомобиля</td>\n",
       "    </tr>\n",
       "  </tbody>\n",
       "</table>\n",
       "<p>21525 rows × 12 columns</p>\n",
       "</div>"
      ],
      "text/plain": [
       "       children  years_employed  dob_years education  education_id  \\\n",
       "0             1              23         42    высшее             0   \n",
       "1             1              11         36   среднее             1   \n",
       "2             0              15         33   Среднее             1   \n",
       "3             3              11         32   среднее             1   \n",
       "4             0              27         53   среднее             1   \n",
       "...         ...             ...        ...       ...           ...   \n",
       "21520         1              12         43   среднее             1   \n",
       "21521         0              27         67   среднее             1   \n",
       "21522         1               5         38   среднее             1   \n",
       "21523         3               8         38   среднее             1   \n",
       "21524         2               5         40   среднее             1   \n",
       "\n",
       "          family_status  family_status_id gender income_type  debt  \\\n",
       "0       женат / замужем                 0      F   сотрудник     0   \n",
       "1       женат / замужем                 0      F   сотрудник     0   \n",
       "2       женат / замужем                 0      M   сотрудник     0   \n",
       "3       женат / замужем                 0      M   сотрудник     0   \n",
       "4      гражданский брак                 1      F   пенсионер     0   \n",
       "...                 ...               ...    ...         ...   ...   \n",
       "21520  гражданский брак                 1      F   компаньон     0   \n",
       "21521   женат / замужем                 0      F   пенсионер     0   \n",
       "21522  гражданский брак                 1      M   сотрудник     1   \n",
       "21523   женат / замужем                 0      M   сотрудник     1   \n",
       "21524   женат / замужем                 0      F   сотрудник     0   \n",
       "\n",
       "       total_income                       purpose  \n",
       "0            253875                 покупка жилья  \n",
       "1            112080       приобретение автомобиля  \n",
       "2            145885                 покупка жилья  \n",
       "3            267628    дополнительное образование  \n",
       "4            158616               сыграть свадьбу  \n",
       "...             ...                           ...  \n",
       "21520        224791             операции с жильем  \n",
       "21521        155999          сделка с автомобилем  \n",
       "21522         89672                  недвижимость  \n",
       "21523        244093  на покупку своего автомобиля  \n",
       "21524         82047         на покупку автомобиля  \n",
       "\n",
       "[21525 rows x 12 columns]"
      ]
     },
     "metadata": {},
     "output_type": "display_data"
    }
   ],
   "source": [
    "df.drop_duplicates().reset_index() # избавимся от полных дубликатов и сформируем новые индексы\n",
    "display(df)"
   ]
  },
  {
   "cell_type": "markdown",
   "id": "ad78c96d",
   "metadata": {},
   "source": [
    "Проверим данные на наличие неявных дубликатов. "
   ]
  },
  {
   "cell_type": "markdown",
   "id": "fa639aa9",
   "metadata": {},
   "source": [
    "Приведем все данные в столбце education к записи строчными буквами. "
   ]
  },
  {
   "cell_type": "code",
   "execution_count": 65,
   "id": "6fbc8f5b",
   "metadata": {},
   "outputs": [],
   "source": [
    "df['education'] = df['education'].str.lower() # заменяем данные в столбце education записями в нижнем регистре"
   ]
  },
  {
   "cell_type": "code",
   "execution_count": 66,
   "id": "c0ac11d1",
   "metadata": {},
   "outputs": [
    {
     "name": "stdout",
     "output_type": "stream",
     "text": [
      "['высшее' 'среднее' 'неоконченное высшее' 'начальное' 'ученая степень']\n"
     ]
    }
   ],
   "source": [
    "print(df['education'].unique()) # проверяем, какие уникальные значения теперь есть в столбце"
   ]
  },
  {
   "cell_type": "markdown",
   "id": "9c767c28",
   "metadata": {},
   "source": [
    "Проверим уникальные значения столбца family_status."
   ]
  },
  {
   "cell_type": "code",
   "execution_count": 67,
   "id": "3f289d39",
   "metadata": {},
   "outputs": [
    {
     "name": "stdout",
     "output_type": "stream",
     "text": [
      "['женат / замужем' 'гражданский брак' 'вдовец / вдова' 'в разводе'\n",
      " 'Не женат / не замужем']\n"
     ]
    }
   ],
   "source": [
    "print(df['family_status'].unique()) # смотрим, какие уникальные значения есть в столбце family_status"
   ]
  },
  {
   "cell_type": "code",
   "execution_count": 68,
   "id": "6e520c48",
   "metadata": {},
   "outputs": [],
   "source": [
    "df['family_status'] = df['family_status'].str.lower() # заменяем данные в столбце family_status записями в нижнем регистре"
   ]
  },
  {
   "cell_type": "markdown",
   "id": "f7186fc9",
   "metadata": {},
   "source": [
    "Аналогично для столбца income_type."
   ]
  },
  {
   "cell_type": "code",
   "execution_count": 69,
   "id": "735cad58",
   "metadata": {},
   "outputs": [
    {
     "name": "stdout",
     "output_type": "stream",
     "text": [
      "['сотрудник' 'пенсионер' 'компаньон' 'госслужащий' 'безработный'\n",
      " 'предприниматель' 'студент' 'в декрете']\n"
     ]
    }
   ],
   "source": [
    "print(df['income_type'].unique()) # смотрим, какие уникальные значения есть в столбце income_type"
   ]
  },
  {
   "cell_type": "markdown",
   "id": "e23c975d",
   "metadata": {},
   "source": [
    "Аналогично для столбца purpose."
   ]
  },
  {
   "cell_type": "code",
   "execution_count": 70,
   "id": "b9bca1ca",
   "metadata": {},
   "outputs": [
    {
     "name": "stdout",
     "output_type": "stream",
     "text": [
      "['покупка жилья' 'приобретение автомобиля' 'дополнительное образование'\n",
      " 'сыграть свадьбу' 'операции с жильем' 'образование'\n",
      " 'на проведение свадьбы' 'покупка жилья для семьи' 'покупка недвижимости'\n",
      " 'покупка коммерческой недвижимости' 'покупка жилой недвижимости'\n",
      " 'строительство собственной недвижимости' 'недвижимость'\n",
      " 'строительство недвижимости' 'на покупку подержанного автомобиля'\n",
      " 'на покупку своего автомобиля' 'операции с коммерческой недвижимостью'\n",
      " 'строительство жилой недвижимости' 'жилье'\n",
      " 'операции со своей недвижимостью' 'автомобили' 'заняться образованием'\n",
      " 'сделка с подержанным автомобилем' 'получение образования' 'автомобиль'\n",
      " 'свадьба' 'получение дополнительного образования' 'покупка своего жилья'\n",
      " 'операции с недвижимостью' 'получение высшего образования'\n",
      " 'свой автомобиль' 'сделка с автомобилем' 'профильное образование'\n",
      " 'высшее образование' 'покупка жилья для сдачи' 'на покупку автомобиля'\n",
      " 'ремонт жилью' 'заняться высшим образованием']\n"
     ]
    }
   ],
   "source": [
    "print(df['purpose'].unique()) # смотрим, какие уникальные значения есть в столбце income_type"
   ]
  },
  {
   "cell_type": "code",
   "execution_count": 71,
   "id": "723a49ed",
   "metadata": {},
   "outputs": [
    {
     "name": "stdout",
     "output_type": "stream",
     "text": [
      "свадьба                                   797\n",
      "на проведение свадьбы                     777\n",
      "сыграть свадьбу                           774\n",
      "операции с недвижимостью                  676\n",
      "покупка коммерческой недвижимости         664\n",
      "покупка жилья для сдачи                   653\n",
      "операции с жильем                         653\n",
      "операции с коммерческой недвижимостью     651\n",
      "покупка жилья                             647\n",
      "жилье                                     647\n",
      "покупка жилья для семьи                   641\n",
      "строительство собственной недвижимости    635\n",
      "недвижимость                              634\n",
      "операции со своей недвижимостью           630\n",
      "строительство жилой недвижимости          626\n",
      "покупка недвижимости                      624\n",
      "строительство недвижимости                620\n",
      "покупка своего жилья                      620\n",
      "ремонт жилью                              612\n",
      "покупка жилой недвижимости                607\n",
      "на покупку своего автомобиля              505\n",
      "заняться высшим образованием              496\n",
      "автомобиль                                495\n",
      "сделка с подержанным автомобилем          489\n",
      "свой автомобиль                           480\n",
      "на покупку подержанного автомобиля        479\n",
      "автомобили                                478\n",
      "на покупку автомобиля                     472\n",
      "дополнительное образование                462\n",
      "приобретение автомобиля                   462\n",
      "сделка с автомобилем                      455\n",
      "высшее образование                        453\n",
      "образование                               447\n",
      "получение дополнительного образования     447\n",
      "получение образования                     443\n",
      "профильное образование                    436\n",
      "получение высшего образования             426\n",
      "заняться образованием                     412\n",
      "Name: purpose, dtype: int64\n"
     ]
    }
   ],
   "source": [
    "print(df['purpose'].value_counts())"
   ]
  },
  {
   "cell_type": "code",
   "execution_count": 72,
   "id": "deb87f50",
   "metadata": {},
   "outputs": [
    {
     "data": {
      "text/html": [
       "<div>\n",
       "<style scoped>\n",
       "    .dataframe tbody tr th:only-of-type {\n",
       "        vertical-align: middle;\n",
       "    }\n",
       "\n",
       "    .dataframe tbody tr th {\n",
       "        vertical-align: top;\n",
       "    }\n",
       "\n",
       "    .dataframe thead th {\n",
       "        text-align: right;\n",
       "    }\n",
       "</style>\n",
       "<table border=\"1\" class=\"dataframe\">\n",
       "  <thead>\n",
       "    <tr style=\"text-align: right;\">\n",
       "      <th></th>\n",
       "      <th>children</th>\n",
       "      <th>years_employed</th>\n",
       "      <th>dob_years</th>\n",
       "      <th>education</th>\n",
       "      <th>education_id</th>\n",
       "      <th>family_status</th>\n",
       "      <th>family_status_id</th>\n",
       "      <th>gender</th>\n",
       "      <th>income_type</th>\n",
       "      <th>debt</th>\n",
       "      <th>total_income</th>\n",
       "      <th>purpose</th>\n",
       "    </tr>\n",
       "  </thead>\n",
       "  <tbody>\n",
       "    <tr>\n",
       "      <th>139</th>\n",
       "      <td>0</td>\n",
       "      <td>4</td>\n",
       "      <td>29</td>\n",
       "      <td>неоконченное высшее</td>\n",
       "      <td>2</td>\n",
       "      <td>женат / замужем</td>\n",
       "      <td>0</td>\n",
       "      <td>M</td>\n",
       "      <td>компаньон</td>\n",
       "      <td>0</td>\n",
       "      <td>196932</td>\n",
       "      <td>ремонт жилью</td>\n",
       "    </tr>\n",
       "    <tr>\n",
       "      <th>163</th>\n",
       "      <td>0</td>\n",
       "      <td>20</td>\n",
       "      <td>50</td>\n",
       "      <td>среднее</td>\n",
       "      <td>1</td>\n",
       "      <td>женат / замужем</td>\n",
       "      <td>0</td>\n",
       "      <td>M</td>\n",
       "      <td>сотрудник</td>\n",
       "      <td>0</td>\n",
       "      <td>78975</td>\n",
       "      <td>ремонт жилью</td>\n",
       "    </tr>\n",
       "    <tr>\n",
       "      <th>228</th>\n",
       "      <td>0</td>\n",
       "      <td>27</td>\n",
       "      <td>60</td>\n",
       "      <td>среднее</td>\n",
       "      <td>1</td>\n",
       "      <td>не женат / не замужем</td>\n",
       "      <td>4</td>\n",
       "      <td>F</td>\n",
       "      <td>пенсионер</td>\n",
       "      <td>0</td>\n",
       "      <td>190426</td>\n",
       "      <td>ремонт жилью</td>\n",
       "    </tr>\n",
       "    <tr>\n",
       "      <th>270</th>\n",
       "      <td>3</td>\n",
       "      <td>5</td>\n",
       "      <td>0</td>\n",
       "      <td>среднее</td>\n",
       "      <td>1</td>\n",
       "      <td>женат / замужем</td>\n",
       "      <td>0</td>\n",
       "      <td>F</td>\n",
       "      <td>сотрудник</td>\n",
       "      <td>0</td>\n",
       "      <td>102166</td>\n",
       "      <td>ремонт жилью</td>\n",
       "    </tr>\n",
       "    <tr>\n",
       "      <th>276</th>\n",
       "      <td>0</td>\n",
       "      <td>23</td>\n",
       "      <td>64</td>\n",
       "      <td>среднее</td>\n",
       "      <td>1</td>\n",
       "      <td>женат / замужем</td>\n",
       "      <td>0</td>\n",
       "      <td>F</td>\n",
       "      <td>сотрудник</td>\n",
       "      <td>0</td>\n",
       "      <td>160814</td>\n",
       "      <td>ремонт жилью</td>\n",
       "    </tr>\n",
       "    <tr>\n",
       "      <th>...</th>\n",
       "      <td>...</td>\n",
       "      <td>...</td>\n",
       "      <td>...</td>\n",
       "      <td>...</td>\n",
       "      <td>...</td>\n",
       "      <td>...</td>\n",
       "      <td>...</td>\n",
       "      <td>...</td>\n",
       "      <td>...</td>\n",
       "      <td>...</td>\n",
       "      <td>...</td>\n",
       "      <td>...</td>\n",
       "    </tr>\n",
       "    <tr>\n",
       "      <th>21406</th>\n",
       "      <td>2</td>\n",
       "      <td>0</td>\n",
       "      <td>47</td>\n",
       "      <td>среднее</td>\n",
       "      <td>1</td>\n",
       "      <td>женат / замужем</td>\n",
       "      <td>0</td>\n",
       "      <td>M</td>\n",
       "      <td>сотрудник</td>\n",
       "      <td>0</td>\n",
       "      <td>273940</td>\n",
       "      <td>ремонт жилью</td>\n",
       "    </tr>\n",
       "    <tr>\n",
       "      <th>21425</th>\n",
       "      <td>0</td>\n",
       "      <td>0</td>\n",
       "      <td>34</td>\n",
       "      <td>среднее</td>\n",
       "      <td>1</td>\n",
       "      <td>женат / замужем</td>\n",
       "      <td>0</td>\n",
       "      <td>F</td>\n",
       "      <td>компаньон</td>\n",
       "      <td>0</td>\n",
       "      <td>400614</td>\n",
       "      <td>ремонт жилью</td>\n",
       "    </tr>\n",
       "    <tr>\n",
       "      <th>21461</th>\n",
       "      <td>0</td>\n",
       "      <td>16</td>\n",
       "      <td>58</td>\n",
       "      <td>высшее</td>\n",
       "      <td>0</td>\n",
       "      <td>женат / замужем</td>\n",
       "      <td>0</td>\n",
       "      <td>F</td>\n",
       "      <td>компаньон</td>\n",
       "      <td>0</td>\n",
       "      <td>111479</td>\n",
       "      <td>ремонт жилью</td>\n",
       "    </tr>\n",
       "    <tr>\n",
       "      <th>21464</th>\n",
       "      <td>1</td>\n",
       "      <td>2</td>\n",
       "      <td>25</td>\n",
       "      <td>среднее</td>\n",
       "      <td>1</td>\n",
       "      <td>не женат / не замужем</td>\n",
       "      <td>4</td>\n",
       "      <td>F</td>\n",
       "      <td>сотрудник</td>\n",
       "      <td>0</td>\n",
       "      <td>105262</td>\n",
       "      <td>ремонт жилью</td>\n",
       "    </tr>\n",
       "    <tr>\n",
       "      <th>21480</th>\n",
       "      <td>0</td>\n",
       "      <td>24</td>\n",
       "      <td>45</td>\n",
       "      <td>высшее</td>\n",
       "      <td>0</td>\n",
       "      <td>не женат / не замужем</td>\n",
       "      <td>4</td>\n",
       "      <td>F</td>\n",
       "      <td>сотрудник</td>\n",
       "      <td>0</td>\n",
       "      <td>146945</td>\n",
       "      <td>ремонт жилью</td>\n",
       "    </tr>\n",
       "  </tbody>\n",
       "</table>\n",
       "<p>612 rows × 12 columns</p>\n",
       "</div>"
      ],
      "text/plain": [
       "       children  years_employed  dob_years            education  education_id  \\\n",
       "139           0               4         29  неоконченное высшее             2   \n",
       "163           0              20         50              среднее             1   \n",
       "228           0              27         60              среднее             1   \n",
       "270           3               5          0              среднее             1   \n",
       "276           0              23         64              среднее             1   \n",
       "...         ...             ...        ...                  ...           ...   \n",
       "21406         2               0         47              среднее             1   \n",
       "21425         0               0         34              среднее             1   \n",
       "21461         0              16         58               высшее             0   \n",
       "21464         1               2         25              среднее             1   \n",
       "21480         0              24         45               высшее             0   \n",
       "\n",
       "               family_status  family_status_id gender income_type  debt  \\\n",
       "139          женат / замужем                 0      M   компаньон     0   \n",
       "163          женат / замужем                 0      M   сотрудник     0   \n",
       "228    не женат / не замужем                 4      F   пенсионер     0   \n",
       "270          женат / замужем                 0      F   сотрудник     0   \n",
       "276          женат / замужем                 0      F   сотрудник     0   \n",
       "...                      ...               ...    ...         ...   ...   \n",
       "21406        женат / замужем                 0      M   сотрудник     0   \n",
       "21425        женат / замужем                 0      F   компаньон     0   \n",
       "21461        женат / замужем                 0      F   компаньон     0   \n",
       "21464  не женат / не замужем                 4      F   сотрудник     0   \n",
       "21480  не женат / не замужем                 4      F   сотрудник     0   \n",
       "\n",
       "       total_income       purpose  \n",
       "139          196932  ремонт жилью  \n",
       "163           78975  ремонт жилью  \n",
       "228          190426  ремонт жилью  \n",
       "270          102166  ремонт жилью  \n",
       "276          160814  ремонт жилью  \n",
       "...             ...           ...  \n",
       "21406        273940  ремонт жилью  \n",
       "21425        400614  ремонт жилью  \n",
       "21461        111479  ремонт жилью  \n",
       "21464        105262  ремонт жилью  \n",
       "21480        146945  ремонт жилью  \n",
       "\n",
       "[612 rows x 12 columns]"
      ]
     },
     "execution_count": 72,
     "metadata": {},
     "output_type": "execute_result"
    }
   ],
   "source": [
    "df.loc[df['purpose'] == 'ремонт жилью']"
   ]
  },
  {
   "cell_type": "markdown",
   "id": "d5fc7904",
   "metadata": {},
   "source": [
    "Проверим уникальные данные по семейному положению."
   ]
  },
  {
   "cell_type": "code",
   "execution_count": 73,
   "id": "75ebfcd6",
   "metadata": {
    "scrolled": true
   },
   "outputs": [
    {
     "data": {
      "text/plain": [
       "женат / замужем          12380\n",
       "гражданский брак          4177\n",
       "не женат / не замужем     2813\n",
       "в разводе                 1195\n",
       "вдовец / вдова             960\n",
       "Name: family_status, dtype: int64"
      ]
     },
     "execution_count": 73,
     "metadata": {},
     "output_type": "execute_result"
    }
   ],
   "source": [
    "df['family_status'].value_counts()"
   ]
  },
  {
   "cell_type": "markdown",
   "id": "06d9ca45",
   "metadata": {},
   "source": [
    "Повторно проверим данные на наличие явных дубликатов и избавимся от них. "
   ]
  },
  {
   "cell_type": "code",
   "execution_count": 74,
   "id": "3549bc8d",
   "metadata": {
    "scrolled": true
   },
   "outputs": [
    {
     "data": {
      "text/plain": [
       "71"
      ]
     },
     "execution_count": 74,
     "metadata": {},
     "output_type": "execute_result"
    }
   ],
   "source": [
    "df.duplicated().sum()"
   ]
  },
  {
   "cell_type": "code",
   "execution_count": 75,
   "id": "31648f01",
   "metadata": {},
   "outputs": [
    {
     "data": {
      "text/html": [
       "<div>\n",
       "<style scoped>\n",
       "    .dataframe tbody tr th:only-of-type {\n",
       "        vertical-align: middle;\n",
       "    }\n",
       "\n",
       "    .dataframe tbody tr th {\n",
       "        vertical-align: top;\n",
       "    }\n",
       "\n",
       "    .dataframe thead th {\n",
       "        text-align: right;\n",
       "    }\n",
       "</style>\n",
       "<table border=\"1\" class=\"dataframe\">\n",
       "  <thead>\n",
       "    <tr style=\"text-align: right;\">\n",
       "      <th></th>\n",
       "      <th>children</th>\n",
       "      <th>years_employed</th>\n",
       "      <th>dob_years</th>\n",
       "      <th>education</th>\n",
       "      <th>education_id</th>\n",
       "      <th>family_status</th>\n",
       "      <th>family_status_id</th>\n",
       "      <th>gender</th>\n",
       "      <th>income_type</th>\n",
       "      <th>debt</th>\n",
       "      <th>total_income</th>\n",
       "      <th>purpose</th>\n",
       "    </tr>\n",
       "  </thead>\n",
       "  <tbody>\n",
       "    <tr>\n",
       "      <th>0</th>\n",
       "      <td>1</td>\n",
       "      <td>23</td>\n",
       "      <td>42</td>\n",
       "      <td>высшее</td>\n",
       "      <td>0</td>\n",
       "      <td>женат / замужем</td>\n",
       "      <td>0</td>\n",
       "      <td>F</td>\n",
       "      <td>сотрудник</td>\n",
       "      <td>0</td>\n",
       "      <td>253875</td>\n",
       "      <td>покупка жилья</td>\n",
       "    </tr>\n",
       "    <tr>\n",
       "      <th>1</th>\n",
       "      <td>1</td>\n",
       "      <td>11</td>\n",
       "      <td>36</td>\n",
       "      <td>среднее</td>\n",
       "      <td>1</td>\n",
       "      <td>женат / замужем</td>\n",
       "      <td>0</td>\n",
       "      <td>F</td>\n",
       "      <td>сотрудник</td>\n",
       "      <td>0</td>\n",
       "      <td>112080</td>\n",
       "      <td>приобретение автомобиля</td>\n",
       "    </tr>\n",
       "    <tr>\n",
       "      <th>2</th>\n",
       "      <td>0</td>\n",
       "      <td>15</td>\n",
       "      <td>33</td>\n",
       "      <td>среднее</td>\n",
       "      <td>1</td>\n",
       "      <td>женат / замужем</td>\n",
       "      <td>0</td>\n",
       "      <td>M</td>\n",
       "      <td>сотрудник</td>\n",
       "      <td>0</td>\n",
       "      <td>145885</td>\n",
       "      <td>покупка жилья</td>\n",
       "    </tr>\n",
       "    <tr>\n",
       "      <th>3</th>\n",
       "      <td>3</td>\n",
       "      <td>11</td>\n",
       "      <td>32</td>\n",
       "      <td>среднее</td>\n",
       "      <td>1</td>\n",
       "      <td>женат / замужем</td>\n",
       "      <td>0</td>\n",
       "      <td>M</td>\n",
       "      <td>сотрудник</td>\n",
       "      <td>0</td>\n",
       "      <td>267628</td>\n",
       "      <td>дополнительное образование</td>\n",
       "    </tr>\n",
       "    <tr>\n",
       "      <th>4</th>\n",
       "      <td>0</td>\n",
       "      <td>27</td>\n",
       "      <td>53</td>\n",
       "      <td>среднее</td>\n",
       "      <td>1</td>\n",
       "      <td>гражданский брак</td>\n",
       "      <td>1</td>\n",
       "      <td>F</td>\n",
       "      <td>пенсионер</td>\n",
       "      <td>0</td>\n",
       "      <td>158616</td>\n",
       "      <td>сыграть свадьбу</td>\n",
       "    </tr>\n",
       "    <tr>\n",
       "      <th>...</th>\n",
       "      <td>...</td>\n",
       "      <td>...</td>\n",
       "      <td>...</td>\n",
       "      <td>...</td>\n",
       "      <td>...</td>\n",
       "      <td>...</td>\n",
       "      <td>...</td>\n",
       "      <td>...</td>\n",
       "      <td>...</td>\n",
       "      <td>...</td>\n",
       "      <td>...</td>\n",
       "      <td>...</td>\n",
       "    </tr>\n",
       "    <tr>\n",
       "      <th>21449</th>\n",
       "      <td>1</td>\n",
       "      <td>12</td>\n",
       "      <td>43</td>\n",
       "      <td>среднее</td>\n",
       "      <td>1</td>\n",
       "      <td>гражданский брак</td>\n",
       "      <td>1</td>\n",
       "      <td>F</td>\n",
       "      <td>компаньон</td>\n",
       "      <td>0</td>\n",
       "      <td>224791</td>\n",
       "      <td>операции с жильем</td>\n",
       "    </tr>\n",
       "    <tr>\n",
       "      <th>21450</th>\n",
       "      <td>0</td>\n",
       "      <td>27</td>\n",
       "      <td>67</td>\n",
       "      <td>среднее</td>\n",
       "      <td>1</td>\n",
       "      <td>женат / замужем</td>\n",
       "      <td>0</td>\n",
       "      <td>F</td>\n",
       "      <td>пенсионер</td>\n",
       "      <td>0</td>\n",
       "      <td>155999</td>\n",
       "      <td>сделка с автомобилем</td>\n",
       "    </tr>\n",
       "    <tr>\n",
       "      <th>21451</th>\n",
       "      <td>1</td>\n",
       "      <td>5</td>\n",
       "      <td>38</td>\n",
       "      <td>среднее</td>\n",
       "      <td>1</td>\n",
       "      <td>гражданский брак</td>\n",
       "      <td>1</td>\n",
       "      <td>M</td>\n",
       "      <td>сотрудник</td>\n",
       "      <td>1</td>\n",
       "      <td>89672</td>\n",
       "      <td>недвижимость</td>\n",
       "    </tr>\n",
       "    <tr>\n",
       "      <th>21452</th>\n",
       "      <td>3</td>\n",
       "      <td>8</td>\n",
       "      <td>38</td>\n",
       "      <td>среднее</td>\n",
       "      <td>1</td>\n",
       "      <td>женат / замужем</td>\n",
       "      <td>0</td>\n",
       "      <td>M</td>\n",
       "      <td>сотрудник</td>\n",
       "      <td>1</td>\n",
       "      <td>244093</td>\n",
       "      <td>на покупку своего автомобиля</td>\n",
       "    </tr>\n",
       "    <tr>\n",
       "      <th>21453</th>\n",
       "      <td>2</td>\n",
       "      <td>5</td>\n",
       "      <td>40</td>\n",
       "      <td>среднее</td>\n",
       "      <td>1</td>\n",
       "      <td>женат / замужем</td>\n",
       "      <td>0</td>\n",
       "      <td>F</td>\n",
       "      <td>сотрудник</td>\n",
       "      <td>0</td>\n",
       "      <td>82047</td>\n",
       "      <td>на покупку автомобиля</td>\n",
       "    </tr>\n",
       "  </tbody>\n",
       "</table>\n",
       "<p>21454 rows × 12 columns</p>\n",
       "</div>"
      ],
      "text/plain": [
       "       children  years_employed  dob_years education  education_id  \\\n",
       "0             1              23         42    высшее             0   \n",
       "1             1              11         36   среднее             1   \n",
       "2             0              15         33   среднее             1   \n",
       "3             3              11         32   среднее             1   \n",
       "4             0              27         53   среднее             1   \n",
       "...         ...             ...        ...       ...           ...   \n",
       "21449         1              12         43   среднее             1   \n",
       "21450         0              27         67   среднее             1   \n",
       "21451         1               5         38   среднее             1   \n",
       "21452         3               8         38   среднее             1   \n",
       "21453         2               5         40   среднее             1   \n",
       "\n",
       "          family_status  family_status_id gender income_type  debt  \\\n",
       "0       женат / замужем                 0      F   сотрудник     0   \n",
       "1       женат / замужем                 0      F   сотрудник     0   \n",
       "2       женат / замужем                 0      M   сотрудник     0   \n",
       "3       женат / замужем                 0      M   сотрудник     0   \n",
       "4      гражданский брак                 1      F   пенсионер     0   \n",
       "...                 ...               ...    ...         ...   ...   \n",
       "21449  гражданский брак                 1      F   компаньон     0   \n",
       "21450   женат / замужем                 0      F   пенсионер     0   \n",
       "21451  гражданский брак                 1      M   сотрудник     1   \n",
       "21452   женат / замужем                 0      M   сотрудник     1   \n",
       "21453   женат / замужем                 0      F   сотрудник     0   \n",
       "\n",
       "       total_income                       purpose  \n",
       "0            253875                 покупка жилья  \n",
       "1            112080       приобретение автомобиля  \n",
       "2            145885                 покупка жилья  \n",
       "3            267628    дополнительное образование  \n",
       "4            158616               сыграть свадьбу  \n",
       "...             ...                           ...  \n",
       "21449        224791             операции с жильем  \n",
       "21450        155999          сделка с автомобилем  \n",
       "21451         89672                  недвижимость  \n",
       "21452        244093  на покупку своего автомобиля  \n",
       "21453         82047         на покупку автомобиля  \n",
       "\n",
       "[21454 rows x 12 columns]"
      ]
     },
     "metadata": {},
     "output_type": "display_data"
    }
   ],
   "source": [
    "df = df.drop_duplicates().reset_index(drop=True)\n",
    "display(df)"
   ]
  },
  {
   "cell_type": "markdown",
   "id": "137d2527",
   "metadata": {},
   "source": [
    "В ряде столбцов датафрейма (children, education, family_status, gender, income_type) указаны анкетные данные, дублирование которых нормально, так как клиенты банка могут иметь схожие характеристики и могли выбирать из предложенных вариантов. Очевидные дубликаты возможно было выявить благодаря исправлению формата записи в столбцах. Такие дубликаты можно удалить, так как они могли стать следствием двойного внесения данных в таблицу по ошибке.  \n",
    "\n",
    "Представляет интерес столбец purpose. Значения в нем повторяются по смыслу в разных выражениях, значит, люди заполняли этот пункт анкеты в открытой форме. По характерным ошибкам в нем можно было бы обнаружить дубликаты, но проверка показала, что одинаковая опечатка содержится у клиентов с разными показателями, то есть дубликатом не является. "
   ]
  },
  {
   "cell_type": "markdown",
   "id": "64725107",
   "metadata": {},
   "source": [
    "### Шаг 2.5. Формирование дополнительных датафреймов словарей, декомпозиция исходного датафрейма."
   ]
  },
  {
   "cell_type": "markdown",
   "id": "2a5882ee",
   "metadata": {},
   "source": [
    "Создадим датафрейм, где каждому уникальному значению из education соответствует уникальное значение education_id "
   ]
  },
  {
   "cell_type": "code",
   "execution_count": 76,
   "id": "b96e6c07",
   "metadata": {},
   "outputs": [
    {
     "name": "stdout",
     "output_type": "stream",
     "text": [
      "среднее                15172\n",
      "высшее                  5250\n",
      "неоконченное высшее      744\n",
      "начальное                282\n",
      "ученая степень             6\n",
      "Name: education, dtype: int64\n"
     ]
    }
   ],
   "source": [
    "print(df['education'].value_counts()) # посмотрим, какие виды значений существуют в столбце education"
   ]
  },
  {
   "cell_type": "code",
   "execution_count": 77,
   "id": "47da4e18",
   "metadata": {},
   "outputs": [
    {
     "name": "stdout",
     "output_type": "stream",
     "text": [
      "      education  education_id\n",
      "0        высшее             0\n",
      "1       среднее             1\n",
      "2       среднее             1\n",
      "3       среднее             1\n",
      "4       среднее             1\n",
      "...         ...           ...\n",
      "21449   среднее             1\n",
      "21450   среднее             1\n",
      "21451   среднее             1\n",
      "21452   среднее             1\n",
      "21453   среднее             1\n",
      "\n",
      "[21454 rows x 2 columns]\n"
     ]
    }
   ],
   "source": [
    "education_dict = df[['education', 'education_id']] # создадим датафрейм с соответствием уникальных значений education и education_id\n",
    "print(education_dict) "
   ]
  },
  {
   "cell_type": "code",
   "execution_count": 78,
   "id": "a17e7599",
   "metadata": {},
   "outputs": [
    {
     "name": "stdout",
     "output_type": "stream",
     "text": [
      "             education  education_id\n",
      "0               высшее             0\n",
      "1              среднее             1\n",
      "2  неоконченное высшее             2\n",
      "3            начальное             3\n",
      "4       ученая степень             4\n"
     ]
    }
   ],
   "source": [
    "education_dict = education_dict.drop_duplicates().reset_index(drop=True) # убираем дубликаты, получаем словарь\n",
    "print(education_dict)"
   ]
  },
  {
   "cell_type": "code",
   "execution_count": 79,
   "id": "2c30e9ce",
   "metadata": {},
   "outputs": [
    {
     "name": "stdout",
     "output_type": "stream",
     "text": [
      "          family_status  family_status_id\n",
      "0       женат / замужем                 0\n",
      "1       женат / замужем                 0\n",
      "2       женат / замужем                 0\n",
      "3       женат / замужем                 0\n",
      "4      гражданский брак                 1\n",
      "...                 ...               ...\n",
      "21449  гражданский брак                 1\n",
      "21450   женат / замужем                 0\n",
      "21451  гражданский брак                 1\n",
      "21452   женат / замужем                 0\n",
      "21453   женат / замужем                 0\n",
      "\n",
      "[21454 rows x 2 columns]\n"
     ]
    }
   ],
   "source": [
    "family_dict = df[['family_status', 'family_status_id']] # создадим датафрейм с соответствием уникальных значений family_status и family_status_id\n",
    "print(family_dict)"
   ]
  },
  {
   "cell_type": "code",
   "execution_count": 80,
   "id": "942f4271",
   "metadata": {},
   "outputs": [
    {
     "name": "stdout",
     "output_type": "stream",
     "text": [
      "           family_status  family_status_id\n",
      "0        женат / замужем                 0\n",
      "1       гражданский брак                 1\n",
      "2         вдовец / вдова                 2\n",
      "3              в разводе                 3\n",
      "4  не женат / не замужем                 4\n"
     ]
    }
   ],
   "source": [
    "family_dict = family_dict.drop_duplicates().reset_index(drop=True) # убираем дубликаты, получаем словарь\n",
    "print(family_dict)"
   ]
  },
  {
   "cell_type": "markdown",
   "id": "ff0c46a9",
   "metadata": {},
   "source": [
    "Удалим из датафрейма столбцы family_status и education. "
   ]
  },
  {
   "cell_type": "code",
   "execution_count": 81,
   "id": "487baeb2",
   "metadata": {},
   "outputs": [],
   "source": [
    "df = df.drop(columns = ['family_status', 'education']) # удалим столбцы family_status и education"
   ]
  },
  {
   "cell_type": "code",
   "execution_count": 82,
   "id": "9c34d6e3",
   "metadata": {},
   "outputs": [
    {
     "data": {
      "text/html": [
       "<div>\n",
       "<style scoped>\n",
       "    .dataframe tbody tr th:only-of-type {\n",
       "        vertical-align: middle;\n",
       "    }\n",
       "\n",
       "    .dataframe tbody tr th {\n",
       "        vertical-align: top;\n",
       "    }\n",
       "\n",
       "    .dataframe thead th {\n",
       "        text-align: right;\n",
       "    }\n",
       "</style>\n",
       "<table border=\"1\" class=\"dataframe\">\n",
       "  <thead>\n",
       "    <tr style=\"text-align: right;\">\n",
       "      <th></th>\n",
       "      <th>children</th>\n",
       "      <th>years_employed</th>\n",
       "      <th>dob_years</th>\n",
       "      <th>education_id</th>\n",
       "      <th>family_status_id</th>\n",
       "      <th>gender</th>\n",
       "      <th>income_type</th>\n",
       "      <th>debt</th>\n",
       "      <th>total_income</th>\n",
       "      <th>purpose</th>\n",
       "    </tr>\n",
       "  </thead>\n",
       "  <tbody>\n",
       "    <tr>\n",
       "      <th>0</th>\n",
       "      <td>1</td>\n",
       "      <td>23</td>\n",
       "      <td>42</td>\n",
       "      <td>0</td>\n",
       "      <td>0</td>\n",
       "      <td>F</td>\n",
       "      <td>сотрудник</td>\n",
       "      <td>0</td>\n",
       "      <td>253875</td>\n",
       "      <td>покупка жилья</td>\n",
       "    </tr>\n",
       "    <tr>\n",
       "      <th>1</th>\n",
       "      <td>1</td>\n",
       "      <td>11</td>\n",
       "      <td>36</td>\n",
       "      <td>1</td>\n",
       "      <td>0</td>\n",
       "      <td>F</td>\n",
       "      <td>сотрудник</td>\n",
       "      <td>0</td>\n",
       "      <td>112080</td>\n",
       "      <td>приобретение автомобиля</td>\n",
       "    </tr>\n",
       "    <tr>\n",
       "      <th>2</th>\n",
       "      <td>0</td>\n",
       "      <td>15</td>\n",
       "      <td>33</td>\n",
       "      <td>1</td>\n",
       "      <td>0</td>\n",
       "      <td>M</td>\n",
       "      <td>сотрудник</td>\n",
       "      <td>0</td>\n",
       "      <td>145885</td>\n",
       "      <td>покупка жилья</td>\n",
       "    </tr>\n",
       "    <tr>\n",
       "      <th>3</th>\n",
       "      <td>3</td>\n",
       "      <td>11</td>\n",
       "      <td>32</td>\n",
       "      <td>1</td>\n",
       "      <td>0</td>\n",
       "      <td>M</td>\n",
       "      <td>сотрудник</td>\n",
       "      <td>0</td>\n",
       "      <td>267628</td>\n",
       "      <td>дополнительное образование</td>\n",
       "    </tr>\n",
       "    <tr>\n",
       "      <th>4</th>\n",
       "      <td>0</td>\n",
       "      <td>27</td>\n",
       "      <td>53</td>\n",
       "      <td>1</td>\n",
       "      <td>1</td>\n",
       "      <td>F</td>\n",
       "      <td>пенсионер</td>\n",
       "      <td>0</td>\n",
       "      <td>158616</td>\n",
       "      <td>сыграть свадьбу</td>\n",
       "    </tr>\n",
       "    <tr>\n",
       "      <th>...</th>\n",
       "      <td>...</td>\n",
       "      <td>...</td>\n",
       "      <td>...</td>\n",
       "      <td>...</td>\n",
       "      <td>...</td>\n",
       "      <td>...</td>\n",
       "      <td>...</td>\n",
       "      <td>...</td>\n",
       "      <td>...</td>\n",
       "      <td>...</td>\n",
       "    </tr>\n",
       "    <tr>\n",
       "      <th>21449</th>\n",
       "      <td>1</td>\n",
       "      <td>12</td>\n",
       "      <td>43</td>\n",
       "      <td>1</td>\n",
       "      <td>1</td>\n",
       "      <td>F</td>\n",
       "      <td>компаньон</td>\n",
       "      <td>0</td>\n",
       "      <td>224791</td>\n",
       "      <td>операции с жильем</td>\n",
       "    </tr>\n",
       "    <tr>\n",
       "      <th>21450</th>\n",
       "      <td>0</td>\n",
       "      <td>27</td>\n",
       "      <td>67</td>\n",
       "      <td>1</td>\n",
       "      <td>0</td>\n",
       "      <td>F</td>\n",
       "      <td>пенсионер</td>\n",
       "      <td>0</td>\n",
       "      <td>155999</td>\n",
       "      <td>сделка с автомобилем</td>\n",
       "    </tr>\n",
       "    <tr>\n",
       "      <th>21451</th>\n",
       "      <td>1</td>\n",
       "      <td>5</td>\n",
       "      <td>38</td>\n",
       "      <td>1</td>\n",
       "      <td>1</td>\n",
       "      <td>M</td>\n",
       "      <td>сотрудник</td>\n",
       "      <td>1</td>\n",
       "      <td>89672</td>\n",
       "      <td>недвижимость</td>\n",
       "    </tr>\n",
       "    <tr>\n",
       "      <th>21452</th>\n",
       "      <td>3</td>\n",
       "      <td>8</td>\n",
       "      <td>38</td>\n",
       "      <td>1</td>\n",
       "      <td>0</td>\n",
       "      <td>M</td>\n",
       "      <td>сотрудник</td>\n",
       "      <td>1</td>\n",
       "      <td>244093</td>\n",
       "      <td>на покупку своего автомобиля</td>\n",
       "    </tr>\n",
       "    <tr>\n",
       "      <th>21453</th>\n",
       "      <td>2</td>\n",
       "      <td>5</td>\n",
       "      <td>40</td>\n",
       "      <td>1</td>\n",
       "      <td>0</td>\n",
       "      <td>F</td>\n",
       "      <td>сотрудник</td>\n",
       "      <td>0</td>\n",
       "      <td>82047</td>\n",
       "      <td>на покупку автомобиля</td>\n",
       "    </tr>\n",
       "  </tbody>\n",
       "</table>\n",
       "<p>21454 rows × 10 columns</p>\n",
       "</div>"
      ],
      "text/plain": [
       "       children  years_employed  dob_years  education_id  family_status_id  \\\n",
       "0             1              23         42             0                 0   \n",
       "1             1              11         36             1                 0   \n",
       "2             0              15         33             1                 0   \n",
       "3             3              11         32             1                 0   \n",
       "4             0              27         53             1                 1   \n",
       "...         ...             ...        ...           ...               ...   \n",
       "21449         1              12         43             1                 1   \n",
       "21450         0              27         67             1                 0   \n",
       "21451         1               5         38             1                 1   \n",
       "21452         3               8         38             1                 0   \n",
       "21453         2               5         40             1                 0   \n",
       "\n",
       "      gender income_type  debt  total_income                       purpose  \n",
       "0          F   сотрудник     0        253875                 покупка жилья  \n",
       "1          F   сотрудник     0        112080       приобретение автомобиля  \n",
       "2          M   сотрудник     0        145885                 покупка жилья  \n",
       "3          M   сотрудник     0        267628    дополнительное образование  \n",
       "4          F   пенсионер     0        158616               сыграть свадьбу  \n",
       "...      ...         ...   ...           ...                           ...  \n",
       "21449      F   компаньон     0        224791             операции с жильем  \n",
       "21450      F   пенсионер     0        155999          сделка с автомобилем  \n",
       "21451      M   сотрудник     1         89672                  недвижимость  \n",
       "21452      M   сотрудник     1        244093  на покупку своего автомобиля  \n",
       "21453      F   сотрудник     0         82047         на покупку автомобиля  \n",
       "\n",
       "[21454 rows x 10 columns]"
      ]
     },
     "metadata": {},
     "output_type": "display_data"
    }
   ],
   "source": [
    "display(df) # проверим результат удаления"
   ]
  },
  {
   "cell_type": "markdown",
   "id": "1ed69577",
   "metadata": {},
   "source": [
    "### Шаг 2.6. Категоризация дохода.\n"
   ]
  },
  {
   "cell_type": "markdown",
   "id": "670cd78c",
   "metadata": {},
   "source": [
    "На основании диапазонов, указанных ниже, создадим столбец total_income_category с категориями:\n",
    "0–30000 — 'E';\n",
    "30001–50000 — 'D';\n",
    "50001–200000 — 'C';\n",
    "200001–1000000 — 'B';\n",
    "1000001 и выше — 'A'."
   ]
  },
  {
   "cell_type": "code",
   "execution_count": 83,
   "id": "aa808523",
   "metadata": {},
   "outputs": [],
   "source": [
    "def income_category(income): # создадим функцию, которая будет ранжировать клиентов по доходам\n",
    "    \"\"\"\n",
    "    Возвращает принадлежность к группе в зависимости от размера дохода, используя правила:\n",
    "    0–30000 — 'E';\n",
    "30001–50000 — 'D';\n",
    "50001–200000 — 'C';\n",
    "200001–1000000 — 'B';\n",
    "1000001 и выше — 'A'.\n",
    "    \"\"\"\n",
    "    if income <= 30000:\n",
    "        return 'E'\n",
    "    if income <= 50000:\n",
    "        return 'D'\n",
    "    if income <= 200000:\n",
    "        return 'C'\n",
    "    if income <= 1000000:\n",
    "        return 'B'\n",
    "    return 'A'\n",
    "\n"
   ]
  },
  {
   "cell_type": "code",
   "execution_count": 84,
   "id": "86e120d4",
   "metadata": {},
   "outputs": [
    {
     "data": {
      "text/html": [
       "<div>\n",
       "<style scoped>\n",
       "    .dataframe tbody tr th:only-of-type {\n",
       "        vertical-align: middle;\n",
       "    }\n",
       "\n",
       "    .dataframe tbody tr th {\n",
       "        vertical-align: top;\n",
       "    }\n",
       "\n",
       "    .dataframe thead th {\n",
       "        text-align: right;\n",
       "    }\n",
       "</style>\n",
       "<table border=\"1\" class=\"dataframe\">\n",
       "  <thead>\n",
       "    <tr style=\"text-align: right;\">\n",
       "      <th></th>\n",
       "      <th>children</th>\n",
       "      <th>years_employed</th>\n",
       "      <th>dob_years</th>\n",
       "      <th>education_id</th>\n",
       "      <th>family_status_id</th>\n",
       "      <th>gender</th>\n",
       "      <th>income_type</th>\n",
       "      <th>debt</th>\n",
       "      <th>total_income</th>\n",
       "      <th>purpose</th>\n",
       "      <th>total_income_category</th>\n",
       "    </tr>\n",
       "  </thead>\n",
       "  <tbody>\n",
       "    <tr>\n",
       "      <th>0</th>\n",
       "      <td>1</td>\n",
       "      <td>23</td>\n",
       "      <td>42</td>\n",
       "      <td>0</td>\n",
       "      <td>0</td>\n",
       "      <td>F</td>\n",
       "      <td>сотрудник</td>\n",
       "      <td>0</td>\n",
       "      <td>253875</td>\n",
       "      <td>покупка жилья</td>\n",
       "      <td>B</td>\n",
       "    </tr>\n",
       "    <tr>\n",
       "      <th>1</th>\n",
       "      <td>1</td>\n",
       "      <td>11</td>\n",
       "      <td>36</td>\n",
       "      <td>1</td>\n",
       "      <td>0</td>\n",
       "      <td>F</td>\n",
       "      <td>сотрудник</td>\n",
       "      <td>0</td>\n",
       "      <td>112080</td>\n",
       "      <td>приобретение автомобиля</td>\n",
       "      <td>C</td>\n",
       "    </tr>\n",
       "    <tr>\n",
       "      <th>2</th>\n",
       "      <td>0</td>\n",
       "      <td>15</td>\n",
       "      <td>33</td>\n",
       "      <td>1</td>\n",
       "      <td>0</td>\n",
       "      <td>M</td>\n",
       "      <td>сотрудник</td>\n",
       "      <td>0</td>\n",
       "      <td>145885</td>\n",
       "      <td>покупка жилья</td>\n",
       "      <td>C</td>\n",
       "    </tr>\n",
       "    <tr>\n",
       "      <th>3</th>\n",
       "      <td>3</td>\n",
       "      <td>11</td>\n",
       "      <td>32</td>\n",
       "      <td>1</td>\n",
       "      <td>0</td>\n",
       "      <td>M</td>\n",
       "      <td>сотрудник</td>\n",
       "      <td>0</td>\n",
       "      <td>267628</td>\n",
       "      <td>дополнительное образование</td>\n",
       "      <td>B</td>\n",
       "    </tr>\n",
       "    <tr>\n",
       "      <th>4</th>\n",
       "      <td>0</td>\n",
       "      <td>27</td>\n",
       "      <td>53</td>\n",
       "      <td>1</td>\n",
       "      <td>1</td>\n",
       "      <td>F</td>\n",
       "      <td>пенсионер</td>\n",
       "      <td>0</td>\n",
       "      <td>158616</td>\n",
       "      <td>сыграть свадьбу</td>\n",
       "      <td>C</td>\n",
       "    </tr>\n",
       "    <tr>\n",
       "      <th>...</th>\n",
       "      <td>...</td>\n",
       "      <td>...</td>\n",
       "      <td>...</td>\n",
       "      <td>...</td>\n",
       "      <td>...</td>\n",
       "      <td>...</td>\n",
       "      <td>...</td>\n",
       "      <td>...</td>\n",
       "      <td>...</td>\n",
       "      <td>...</td>\n",
       "      <td>...</td>\n",
       "    </tr>\n",
       "    <tr>\n",
       "      <th>21449</th>\n",
       "      <td>1</td>\n",
       "      <td>12</td>\n",
       "      <td>43</td>\n",
       "      <td>1</td>\n",
       "      <td>1</td>\n",
       "      <td>F</td>\n",
       "      <td>компаньон</td>\n",
       "      <td>0</td>\n",
       "      <td>224791</td>\n",
       "      <td>операции с жильем</td>\n",
       "      <td>B</td>\n",
       "    </tr>\n",
       "    <tr>\n",
       "      <th>21450</th>\n",
       "      <td>0</td>\n",
       "      <td>27</td>\n",
       "      <td>67</td>\n",
       "      <td>1</td>\n",
       "      <td>0</td>\n",
       "      <td>F</td>\n",
       "      <td>пенсионер</td>\n",
       "      <td>0</td>\n",
       "      <td>155999</td>\n",
       "      <td>сделка с автомобилем</td>\n",
       "      <td>C</td>\n",
       "    </tr>\n",
       "    <tr>\n",
       "      <th>21451</th>\n",
       "      <td>1</td>\n",
       "      <td>5</td>\n",
       "      <td>38</td>\n",
       "      <td>1</td>\n",
       "      <td>1</td>\n",
       "      <td>M</td>\n",
       "      <td>сотрудник</td>\n",
       "      <td>1</td>\n",
       "      <td>89672</td>\n",
       "      <td>недвижимость</td>\n",
       "      <td>C</td>\n",
       "    </tr>\n",
       "    <tr>\n",
       "      <th>21452</th>\n",
       "      <td>3</td>\n",
       "      <td>8</td>\n",
       "      <td>38</td>\n",
       "      <td>1</td>\n",
       "      <td>0</td>\n",
       "      <td>M</td>\n",
       "      <td>сотрудник</td>\n",
       "      <td>1</td>\n",
       "      <td>244093</td>\n",
       "      <td>на покупку своего автомобиля</td>\n",
       "      <td>B</td>\n",
       "    </tr>\n",
       "    <tr>\n",
       "      <th>21453</th>\n",
       "      <td>2</td>\n",
       "      <td>5</td>\n",
       "      <td>40</td>\n",
       "      <td>1</td>\n",
       "      <td>0</td>\n",
       "      <td>F</td>\n",
       "      <td>сотрудник</td>\n",
       "      <td>0</td>\n",
       "      <td>82047</td>\n",
       "      <td>на покупку автомобиля</td>\n",
       "      <td>C</td>\n",
       "    </tr>\n",
       "  </tbody>\n",
       "</table>\n",
       "<p>21454 rows × 11 columns</p>\n",
       "</div>"
      ],
      "text/plain": [
       "       children  years_employed  dob_years  education_id  family_status_id  \\\n",
       "0             1              23         42             0                 0   \n",
       "1             1              11         36             1                 0   \n",
       "2             0              15         33             1                 0   \n",
       "3             3              11         32             1                 0   \n",
       "4             0              27         53             1                 1   \n",
       "...         ...             ...        ...           ...               ...   \n",
       "21449         1              12         43             1                 1   \n",
       "21450         0              27         67             1                 0   \n",
       "21451         1               5         38             1                 1   \n",
       "21452         3               8         38             1                 0   \n",
       "21453         2               5         40             1                 0   \n",
       "\n",
       "      gender income_type  debt  total_income                       purpose  \\\n",
       "0          F   сотрудник     0        253875                 покупка жилья   \n",
       "1          F   сотрудник     0        112080       приобретение автомобиля   \n",
       "2          M   сотрудник     0        145885                 покупка жилья   \n",
       "3          M   сотрудник     0        267628    дополнительное образование   \n",
       "4          F   пенсионер     0        158616               сыграть свадьбу   \n",
       "...      ...         ...   ...           ...                           ...   \n",
       "21449      F   компаньон     0        224791             операции с жильем   \n",
       "21450      F   пенсионер     0        155999          сделка с автомобилем   \n",
       "21451      M   сотрудник     1         89672                  недвижимость   \n",
       "21452      M   сотрудник     1        244093  на покупку своего автомобиля   \n",
       "21453      F   сотрудник     0         82047         на покупку автомобиля   \n",
       "\n",
       "      total_income_category  \n",
       "0                         B  \n",
       "1                         C  \n",
       "2                         C  \n",
       "3                         B  \n",
       "4                         C  \n",
       "...                     ...  \n",
       "21449                     B  \n",
       "21450                     C  \n",
       "21451                     C  \n",
       "21452                     B  \n",
       "21453                     C  \n",
       "\n",
       "[21454 rows x 11 columns]"
      ]
     },
     "metadata": {},
     "output_type": "display_data"
    }
   ],
   "source": [
    "df['total_income_category'] = df['total_income'].apply(income_category) # создадим столбец с категорией клиента по уровню дохода\n",
    "display(df)"
   ]
  },
  {
   "cell_type": "markdown",
   "id": "eba03199",
   "metadata": {},
   "source": [
    "### Шаг 2.7. Категоризация целей кредита."
   ]
  },
  {
   "cell_type": "markdown",
   "id": "90c44d23",
   "metadata": {},
   "source": [
    "Создадим функцию, которая на основании данных из столбца purpose сформирует новый столбец purpose_category, в который войдут следующие категории:\n",
    "'операции с автомобилем',\n",
    "'операции с недвижимостью',\n",
    "'проведение свадьбы',\n",
    "'получение образования'."
   ]
  },
  {
   "cell_type": "code",
   "execution_count": 85,
   "id": "3747217e",
   "metadata": {},
   "outputs": [
    {
     "data": {
      "text/plain": [
       "array(['покупка жилья', 'приобретение автомобиля',\n",
       "       'дополнительное образование', 'сыграть свадьбу',\n",
       "       'операции с жильем', 'образование', 'на проведение свадьбы',\n",
       "       'покупка жилья для семьи', 'покупка недвижимости',\n",
       "       'покупка коммерческой недвижимости', 'покупка жилой недвижимости',\n",
       "       'строительство собственной недвижимости', 'недвижимость',\n",
       "       'строительство недвижимости', 'на покупку подержанного автомобиля',\n",
       "       'на покупку своего автомобиля',\n",
       "       'операции с коммерческой недвижимостью',\n",
       "       'строительство жилой недвижимости', 'жилье',\n",
       "       'операции со своей недвижимостью', 'автомобили',\n",
       "       'заняться образованием', 'сделка с подержанным автомобилем',\n",
       "       'получение образования', 'автомобиль', 'свадьба',\n",
       "       'получение дополнительного образования', 'покупка своего жилья',\n",
       "       'операции с недвижимостью', 'получение высшего образования',\n",
       "       'свой автомобиль', 'сделка с автомобилем',\n",
       "       'профильное образование', 'высшее образование',\n",
       "       'покупка жилья для сдачи', 'на покупку автомобиля', 'ремонт жилью',\n",
       "       'заняться высшим образованием'], dtype=object)"
      ]
     },
     "execution_count": 85,
     "metadata": {},
     "output_type": "execute_result"
    }
   ],
   "source": [
    "df['purpose'].unique() # выведем на экран список уникальных значений столбца purpose."
   ]
  },
  {
   "cell_type": "code",
   "execution_count": 86,
   "id": "b3ea811c",
   "metadata": {},
   "outputs": [],
   "source": [
    "def purpose_define(purpose): # определим функцию, которая будет определять категорию цели получения кредита в зависимости от значения колонки purpose\n",
    "    \n",
    "    if 'образов'in purpose:\n",
    "        return 'получение образования'\n",
    "    if 'свад' in purpose: \n",
    "        return 'проведение свадьбы'\n",
    "    if 'автомоб' in purpose: \n",
    "        return 'операции с автомобилем'\n",
    "    if 'жиль' or 'недвиж' in purpose:\n",
    "        return 'операции с недвижимостью'\n",
    "    return 'другое'"
   ]
  },
  {
   "cell_type": "code",
   "execution_count": 87,
   "id": "66a64193",
   "metadata": {
    "scrolled": false
   },
   "outputs": [
    {
     "data": {
      "text/html": [
       "<div>\n",
       "<style scoped>\n",
       "    .dataframe tbody tr th:only-of-type {\n",
       "        vertical-align: middle;\n",
       "    }\n",
       "\n",
       "    .dataframe tbody tr th {\n",
       "        vertical-align: top;\n",
       "    }\n",
       "\n",
       "    .dataframe thead th {\n",
       "        text-align: right;\n",
       "    }\n",
       "</style>\n",
       "<table border=\"1\" class=\"dataframe\">\n",
       "  <thead>\n",
       "    <tr style=\"text-align: right;\">\n",
       "      <th></th>\n",
       "      <th>children</th>\n",
       "      <th>years_employed</th>\n",
       "      <th>dob_years</th>\n",
       "      <th>education_id</th>\n",
       "      <th>family_status_id</th>\n",
       "      <th>gender</th>\n",
       "      <th>income_type</th>\n",
       "      <th>debt</th>\n",
       "      <th>total_income</th>\n",
       "      <th>purpose</th>\n",
       "      <th>total_income_category</th>\n",
       "      <th>purpose_category</th>\n",
       "    </tr>\n",
       "  </thead>\n",
       "  <tbody>\n",
       "    <tr>\n",
       "      <th>0</th>\n",
       "      <td>1</td>\n",
       "      <td>23</td>\n",
       "      <td>42</td>\n",
       "      <td>0</td>\n",
       "      <td>0</td>\n",
       "      <td>F</td>\n",
       "      <td>сотрудник</td>\n",
       "      <td>0</td>\n",
       "      <td>253875</td>\n",
       "      <td>покупка жилья</td>\n",
       "      <td>B</td>\n",
       "      <td>операции с недвижимостью</td>\n",
       "    </tr>\n",
       "    <tr>\n",
       "      <th>1</th>\n",
       "      <td>1</td>\n",
       "      <td>11</td>\n",
       "      <td>36</td>\n",
       "      <td>1</td>\n",
       "      <td>0</td>\n",
       "      <td>F</td>\n",
       "      <td>сотрудник</td>\n",
       "      <td>0</td>\n",
       "      <td>112080</td>\n",
       "      <td>приобретение автомобиля</td>\n",
       "      <td>C</td>\n",
       "      <td>операции с автомобилем</td>\n",
       "    </tr>\n",
       "    <tr>\n",
       "      <th>2</th>\n",
       "      <td>0</td>\n",
       "      <td>15</td>\n",
       "      <td>33</td>\n",
       "      <td>1</td>\n",
       "      <td>0</td>\n",
       "      <td>M</td>\n",
       "      <td>сотрудник</td>\n",
       "      <td>0</td>\n",
       "      <td>145885</td>\n",
       "      <td>покупка жилья</td>\n",
       "      <td>C</td>\n",
       "      <td>операции с недвижимостью</td>\n",
       "    </tr>\n",
       "    <tr>\n",
       "      <th>3</th>\n",
       "      <td>3</td>\n",
       "      <td>11</td>\n",
       "      <td>32</td>\n",
       "      <td>1</td>\n",
       "      <td>0</td>\n",
       "      <td>M</td>\n",
       "      <td>сотрудник</td>\n",
       "      <td>0</td>\n",
       "      <td>267628</td>\n",
       "      <td>дополнительное образование</td>\n",
       "      <td>B</td>\n",
       "      <td>получение образования</td>\n",
       "    </tr>\n",
       "    <tr>\n",
       "      <th>4</th>\n",
       "      <td>0</td>\n",
       "      <td>27</td>\n",
       "      <td>53</td>\n",
       "      <td>1</td>\n",
       "      <td>1</td>\n",
       "      <td>F</td>\n",
       "      <td>пенсионер</td>\n",
       "      <td>0</td>\n",
       "      <td>158616</td>\n",
       "      <td>сыграть свадьбу</td>\n",
       "      <td>C</td>\n",
       "      <td>проведение свадьбы</td>\n",
       "    </tr>\n",
       "    <tr>\n",
       "      <th>...</th>\n",
       "      <td>...</td>\n",
       "      <td>...</td>\n",
       "      <td>...</td>\n",
       "      <td>...</td>\n",
       "      <td>...</td>\n",
       "      <td>...</td>\n",
       "      <td>...</td>\n",
       "      <td>...</td>\n",
       "      <td>...</td>\n",
       "      <td>...</td>\n",
       "      <td>...</td>\n",
       "      <td>...</td>\n",
       "    </tr>\n",
       "    <tr>\n",
       "      <th>21449</th>\n",
       "      <td>1</td>\n",
       "      <td>12</td>\n",
       "      <td>43</td>\n",
       "      <td>1</td>\n",
       "      <td>1</td>\n",
       "      <td>F</td>\n",
       "      <td>компаньон</td>\n",
       "      <td>0</td>\n",
       "      <td>224791</td>\n",
       "      <td>операции с жильем</td>\n",
       "      <td>B</td>\n",
       "      <td>операции с недвижимостью</td>\n",
       "    </tr>\n",
       "    <tr>\n",
       "      <th>21450</th>\n",
       "      <td>0</td>\n",
       "      <td>27</td>\n",
       "      <td>67</td>\n",
       "      <td>1</td>\n",
       "      <td>0</td>\n",
       "      <td>F</td>\n",
       "      <td>пенсионер</td>\n",
       "      <td>0</td>\n",
       "      <td>155999</td>\n",
       "      <td>сделка с автомобилем</td>\n",
       "      <td>C</td>\n",
       "      <td>операции с автомобилем</td>\n",
       "    </tr>\n",
       "    <tr>\n",
       "      <th>21451</th>\n",
       "      <td>1</td>\n",
       "      <td>5</td>\n",
       "      <td>38</td>\n",
       "      <td>1</td>\n",
       "      <td>1</td>\n",
       "      <td>M</td>\n",
       "      <td>сотрудник</td>\n",
       "      <td>1</td>\n",
       "      <td>89672</td>\n",
       "      <td>недвижимость</td>\n",
       "      <td>C</td>\n",
       "      <td>операции с недвижимостью</td>\n",
       "    </tr>\n",
       "    <tr>\n",
       "      <th>21452</th>\n",
       "      <td>3</td>\n",
       "      <td>8</td>\n",
       "      <td>38</td>\n",
       "      <td>1</td>\n",
       "      <td>0</td>\n",
       "      <td>M</td>\n",
       "      <td>сотрудник</td>\n",
       "      <td>1</td>\n",
       "      <td>244093</td>\n",
       "      <td>на покупку своего автомобиля</td>\n",
       "      <td>B</td>\n",
       "      <td>операции с автомобилем</td>\n",
       "    </tr>\n",
       "    <tr>\n",
       "      <th>21453</th>\n",
       "      <td>2</td>\n",
       "      <td>5</td>\n",
       "      <td>40</td>\n",
       "      <td>1</td>\n",
       "      <td>0</td>\n",
       "      <td>F</td>\n",
       "      <td>сотрудник</td>\n",
       "      <td>0</td>\n",
       "      <td>82047</td>\n",
       "      <td>на покупку автомобиля</td>\n",
       "      <td>C</td>\n",
       "      <td>операции с автомобилем</td>\n",
       "    </tr>\n",
       "  </tbody>\n",
       "</table>\n",
       "<p>21454 rows × 12 columns</p>\n",
       "</div>"
      ],
      "text/plain": [
       "       children  years_employed  dob_years  education_id  family_status_id  \\\n",
       "0             1              23         42             0                 0   \n",
       "1             1              11         36             1                 0   \n",
       "2             0              15         33             1                 0   \n",
       "3             3              11         32             1                 0   \n",
       "4             0              27         53             1                 1   \n",
       "...         ...             ...        ...           ...               ...   \n",
       "21449         1              12         43             1                 1   \n",
       "21450         0              27         67             1                 0   \n",
       "21451         1               5         38             1                 1   \n",
       "21452         3               8         38             1                 0   \n",
       "21453         2               5         40             1                 0   \n",
       "\n",
       "      gender income_type  debt  total_income                       purpose  \\\n",
       "0          F   сотрудник     0        253875                 покупка жилья   \n",
       "1          F   сотрудник     0        112080       приобретение автомобиля   \n",
       "2          M   сотрудник     0        145885                 покупка жилья   \n",
       "3          M   сотрудник     0        267628    дополнительное образование   \n",
       "4          F   пенсионер     0        158616               сыграть свадьбу   \n",
       "...      ...         ...   ...           ...                           ...   \n",
       "21449      F   компаньон     0        224791             операции с жильем   \n",
       "21450      F   пенсионер     0        155999          сделка с автомобилем   \n",
       "21451      M   сотрудник     1         89672                  недвижимость   \n",
       "21452      M   сотрудник     1        244093  на покупку своего автомобиля   \n",
       "21453      F   сотрудник     0         82047         на покупку автомобиля   \n",
       "\n",
       "      total_income_category          purpose_category  \n",
       "0                         B  операции с недвижимостью  \n",
       "1                         C    операции с автомобилем  \n",
       "2                         C  операции с недвижимостью  \n",
       "3                         B     получение образования  \n",
       "4                         C        проведение свадьбы  \n",
       "...                     ...                       ...  \n",
       "21449                     B  операции с недвижимостью  \n",
       "21450                     C    операции с автомобилем  \n",
       "21451                     C  операции с недвижимостью  \n",
       "21452                     B    операции с автомобилем  \n",
       "21453                     C    операции с автомобилем  \n",
       "\n",
       "[21454 rows x 12 columns]"
      ]
     },
     "metadata": {},
     "output_type": "display_data"
    }
   ],
   "source": [
    "df['purpose_category'] = df['purpose'].apply(purpose_define) # применим функцию purpose_define к колонке purpose\n",
    "display(df)"
   ]
  },
  {
   "cell_type": "markdown",
   "id": "c41ad1f2",
   "metadata": {},
   "source": [
    "### Ответы на вопросы."
   ]
  },
  {
   "cell_type": "markdown",
   "id": "18c6eb76",
   "metadata": {},
   "source": [
    "Создадим функцию для построения сводных таблиц "
   ]
  },
  {
   "cell_type": "code",
   "execution_count": 88,
   "id": "ecf583e7",
   "metadata": {},
   "outputs": [],
   "source": [
    "def pivot_debt(column_name): # создадим функцию для формирования сводной таблицы \n",
    "    pivot = df.pivot_table(index=column_name, values='debt', aggfunc=('count', 'sum', 'mean'))\n",
    "    pivot = pivot.rename(columns={'count':'total', 'mean':'debt_percent', 'sum':'total_debt'})                      \n",
    "    return pivot.style.format({'debt_percent': \"{:.2%}\"})"
   ]
  },
  {
   "cell_type": "markdown",
   "id": "73cdb2c5",
   "metadata": {},
   "source": [
    "##### Вопрос 1: Есть ли зависимость между количеством детей и возвратом кредита в срок?\n"
   ]
  },
  {
   "cell_type": "code",
   "execution_count": 89,
   "id": "595badfd",
   "metadata": {},
   "outputs": [
    {
     "data": {
      "text/html": [
       "<style type=\"text/css\">\n",
       "</style>\n",
       "<table id=\"T_27d2b\">\n",
       "  <thead>\n",
       "    <tr>\n",
       "      <th class=\"blank level0\" >&nbsp;</th>\n",
       "      <th id=\"T_27d2b_level0_col0\" class=\"col_heading level0 col0\" >total</th>\n",
       "      <th id=\"T_27d2b_level0_col1\" class=\"col_heading level0 col1\" >debt_percent</th>\n",
       "      <th id=\"T_27d2b_level0_col2\" class=\"col_heading level0 col2\" >total_debt</th>\n",
       "    </tr>\n",
       "    <tr>\n",
       "      <th class=\"index_name level0\" >children</th>\n",
       "      <th class=\"blank col0\" >&nbsp;</th>\n",
       "      <th class=\"blank col1\" >&nbsp;</th>\n",
       "      <th class=\"blank col2\" >&nbsp;</th>\n",
       "    </tr>\n",
       "  </thead>\n",
       "  <tbody>\n",
       "    <tr>\n",
       "      <th id=\"T_27d2b_level0_row0\" class=\"row_heading level0 row0\" >0</th>\n",
       "      <td id=\"T_27d2b_row0_col0\" class=\"data row0 col0\" >14167</td>\n",
       "      <td id=\"T_27d2b_row0_col1\" class=\"data row0 col1\" >7.56%</td>\n",
       "      <td id=\"T_27d2b_row0_col2\" class=\"data row0 col2\" >1071</td>\n",
       "    </tr>\n",
       "    <tr>\n",
       "      <th id=\"T_27d2b_level0_row1\" class=\"row_heading level0 row1\" >1</th>\n",
       "      <td id=\"T_27d2b_row1_col0\" class=\"data row1 col0\" >4855</td>\n",
       "      <td id=\"T_27d2b_row1_col1\" class=\"data row1 col1\" >9.17%</td>\n",
       "      <td id=\"T_27d2b_row1_col2\" class=\"data row1 col2\" >445</td>\n",
       "    </tr>\n",
       "    <tr>\n",
       "      <th id=\"T_27d2b_level0_row2\" class=\"row_heading level0 row2\" >2</th>\n",
       "      <td id=\"T_27d2b_row2_col0\" class=\"data row2 col0\" >2052</td>\n",
       "      <td id=\"T_27d2b_row2_col1\" class=\"data row2 col1\" >9.45%</td>\n",
       "      <td id=\"T_27d2b_row2_col2\" class=\"data row2 col2\" >194</td>\n",
       "    </tr>\n",
       "    <tr>\n",
       "      <th id=\"T_27d2b_level0_row3\" class=\"row_heading level0 row3\" >3</th>\n",
       "      <td id=\"T_27d2b_row3_col0\" class=\"data row3 col0\" >330</td>\n",
       "      <td id=\"T_27d2b_row3_col1\" class=\"data row3 col1\" >8.18%</td>\n",
       "      <td id=\"T_27d2b_row3_col2\" class=\"data row3 col2\" >27</td>\n",
       "    </tr>\n",
       "    <tr>\n",
       "      <th id=\"T_27d2b_level0_row4\" class=\"row_heading level0 row4\" >4</th>\n",
       "      <td id=\"T_27d2b_row4_col0\" class=\"data row4 col0\" >41</td>\n",
       "      <td id=\"T_27d2b_row4_col1\" class=\"data row4 col1\" >9.76%</td>\n",
       "      <td id=\"T_27d2b_row4_col2\" class=\"data row4 col2\" >4</td>\n",
       "    </tr>\n",
       "    <tr>\n",
       "      <th id=\"T_27d2b_level0_row5\" class=\"row_heading level0 row5\" >5</th>\n",
       "      <td id=\"T_27d2b_row5_col0\" class=\"data row5 col0\" >9</td>\n",
       "      <td id=\"T_27d2b_row5_col1\" class=\"data row5 col1\" >0.00%</td>\n",
       "      <td id=\"T_27d2b_row5_col2\" class=\"data row5 col2\" >0</td>\n",
       "    </tr>\n",
       "  </tbody>\n",
       "</table>\n"
      ],
      "text/plain": [
       "<pandas.io.formats.style.Styler at 0x7f8da87a7ee0>"
      ]
     },
     "metadata": {},
     "output_type": "display_data"
    }
   ],
   "source": [
    "pivot_children = pivot_debt(['children']) \n",
    "display(pivot_children)"
   ]
  },
  {
   "cell_type": "markdown",
   "id": "ae7105b1",
   "metadata": {},
   "source": [
    "#### Вывод 1: \n",
    "Из полученных данных можно сделать вывод, что чем больше у заемщика детей, тем более вероятны проблемы с выплатой кредита. \n",
    "\n",
    "В то же время имеющихся данных недостаточно, чтобы статистику можно было назвать корректной. Например, из полученных данных следует, что у заемщиков с пятью детьми нет проблем с выплатой кредитов. Это маловероятно и может объясняться тем, что данных о таких заемщиках в выборке существенно меньше, чем информации о заемщиках из других категорий. Хотя, возможно, они самые ответственные :)) \n",
    "\n",
    "Аналогичная ситуация с семьями с тремя детьми: согласно нашим данным, у них меньше проблем с выплатами, чем у семей с двумя детьми и одним ребенком, но вывод может быть некорректным в силу недостаточной выборки. \n",
    "\n",
    "Клиенты без детей имеют меньше проблем с выплатой кредитов, чем другие категории, если не считать тех, у кого пять детей. "
   ]
  },
  {
   "cell_type": "markdown",
   "id": "aa29e193",
   "metadata": {},
   "source": [
    "##### Вопрос 2:  Есть ли зависимость между семейным положением и возвратом кредита в срок?\n",
    "\n"
   ]
  },
  {
   "cell_type": "code",
   "execution_count": 90,
   "id": "e6ed0d2f",
   "metadata": {},
   "outputs": [],
   "source": [
    "pivot_family = df.pivot_table(index='family_status_id', values='debt', aggfunc=('count', 'sum', 'mean'))\n",
    "pivot_family = pivot_family.rename(columns={'count':'total', 'mean':'debt_percent', 'sum':'total_debt'})                 "
   ]
  },
  {
   "cell_type": "code",
   "execution_count": 91,
   "id": "8f5371be",
   "metadata": {},
   "outputs": [
    {
     "name": "stdout",
     "output_type": "stream",
     "text": [
      "   family_status_id  total  debt_percent  total_debt          family_status\n",
      "0                 0  12339      0.075452         931        женат / замужем\n",
      "1                 1   4151      0.093471         388       гражданский брак\n",
      "2                 2    959      0.065693          63         вдовец / вдова\n",
      "3                 3   1195      0.071130          85              в разводе\n",
      "4                 4   2810      0.097509         274  не женат / не замужем\n"
     ]
    }
   ],
   "source": [
    "pivot_family = pivot_family.merge(family_dict, on='family_status_id', how='right')\n",
    "print(pivot_family)"
   ]
  },
  {
   "cell_type": "code",
   "execution_count": 92,
   "id": "48fa7fe6",
   "metadata": {},
   "outputs": [
    {
     "data": {
      "text/html": [
       "<style type=\"text/css\">\n",
       "</style>\n",
       "<table id=\"T_73287\">\n",
       "  <thead>\n",
       "    <tr>\n",
       "      <th class=\"blank level0\" >&nbsp;</th>\n",
       "      <th id=\"T_73287_level0_col0\" class=\"col_heading level0 col0\" >family_status_id</th>\n",
       "      <th id=\"T_73287_level0_col1\" class=\"col_heading level0 col1\" >total</th>\n",
       "      <th id=\"T_73287_level0_col2\" class=\"col_heading level0 col2\" >debt_percent</th>\n",
       "      <th id=\"T_73287_level0_col3\" class=\"col_heading level0 col3\" >total_debt</th>\n",
       "      <th id=\"T_73287_level0_col4\" class=\"col_heading level0 col4\" >family_status</th>\n",
       "    </tr>\n",
       "  </thead>\n",
       "  <tbody>\n",
       "    <tr>\n",
       "      <th id=\"T_73287_level0_row0\" class=\"row_heading level0 row0\" >0</th>\n",
       "      <td id=\"T_73287_row0_col0\" class=\"data row0 col0\" >0</td>\n",
       "      <td id=\"T_73287_row0_col1\" class=\"data row0 col1\" >12339</td>\n",
       "      <td id=\"T_73287_row0_col2\" class=\"data row0 col2\" >7.55%</td>\n",
       "      <td id=\"T_73287_row0_col3\" class=\"data row0 col3\" >931</td>\n",
       "      <td id=\"T_73287_row0_col4\" class=\"data row0 col4\" >женат / замужем</td>\n",
       "    </tr>\n",
       "    <tr>\n",
       "      <th id=\"T_73287_level0_row1\" class=\"row_heading level0 row1\" >1</th>\n",
       "      <td id=\"T_73287_row1_col0\" class=\"data row1 col0\" >1</td>\n",
       "      <td id=\"T_73287_row1_col1\" class=\"data row1 col1\" >4151</td>\n",
       "      <td id=\"T_73287_row1_col2\" class=\"data row1 col2\" >9.35%</td>\n",
       "      <td id=\"T_73287_row1_col3\" class=\"data row1 col3\" >388</td>\n",
       "      <td id=\"T_73287_row1_col4\" class=\"data row1 col4\" >гражданский брак</td>\n",
       "    </tr>\n",
       "    <tr>\n",
       "      <th id=\"T_73287_level0_row2\" class=\"row_heading level0 row2\" >2</th>\n",
       "      <td id=\"T_73287_row2_col0\" class=\"data row2 col0\" >2</td>\n",
       "      <td id=\"T_73287_row2_col1\" class=\"data row2 col1\" >959</td>\n",
       "      <td id=\"T_73287_row2_col2\" class=\"data row2 col2\" >6.57%</td>\n",
       "      <td id=\"T_73287_row2_col3\" class=\"data row2 col3\" >63</td>\n",
       "      <td id=\"T_73287_row2_col4\" class=\"data row2 col4\" >вдовец / вдова</td>\n",
       "    </tr>\n",
       "    <tr>\n",
       "      <th id=\"T_73287_level0_row3\" class=\"row_heading level0 row3\" >3</th>\n",
       "      <td id=\"T_73287_row3_col0\" class=\"data row3 col0\" >3</td>\n",
       "      <td id=\"T_73287_row3_col1\" class=\"data row3 col1\" >1195</td>\n",
       "      <td id=\"T_73287_row3_col2\" class=\"data row3 col2\" >7.11%</td>\n",
       "      <td id=\"T_73287_row3_col3\" class=\"data row3 col3\" >85</td>\n",
       "      <td id=\"T_73287_row3_col4\" class=\"data row3 col4\" >в разводе</td>\n",
       "    </tr>\n",
       "    <tr>\n",
       "      <th id=\"T_73287_level0_row4\" class=\"row_heading level0 row4\" >4</th>\n",
       "      <td id=\"T_73287_row4_col0\" class=\"data row4 col0\" >4</td>\n",
       "      <td id=\"T_73287_row4_col1\" class=\"data row4 col1\" >2810</td>\n",
       "      <td id=\"T_73287_row4_col2\" class=\"data row4 col2\" >9.75%</td>\n",
       "      <td id=\"T_73287_row4_col3\" class=\"data row4 col3\" >274</td>\n",
       "      <td id=\"T_73287_row4_col4\" class=\"data row4 col4\" >не женат / не замужем</td>\n",
       "    </tr>\n",
       "  </tbody>\n",
       "</table>\n"
      ],
      "text/plain": [
       "<pandas.io.formats.style.Styler at 0x7f8db07bdb80>"
      ]
     },
     "execution_count": 92,
     "metadata": {},
     "output_type": "execute_result"
    }
   ],
   "source": [
    "pivot_family.style.format({'debt_percent': \"{:.2%}\"})"
   ]
  },
  {
   "cell_type": "markdown",
   "id": "ddf7cc1f",
   "metadata": {},
   "source": [
    "#### Вывод 2: \n",
    "\n",
    "Не состоящие в браке люди, а также заемщики, которые состоят в гражданском браке, чаще не возвращают долги по кредитам, чем представители других категорий.\n",
    "\n",
    "При этом разведенные клиенты и вдовы/вдовцы имеют чуть меньше проблем с выплатой кредитов, чем люди, состоящие в официальном браке. Но данных об этих категориях клиентов меньше, чем о прочих, поэтому статистика может быть искажена. "
   ]
  },
  {
   "cell_type": "markdown",
   "id": "fd65f3ee",
   "metadata": {},
   "source": [
    "#### Вопрос 3: Есть ли зависимость между уровнем дохода и возвратом кредита в срок?\n"
   ]
  },
  {
   "cell_type": "code",
   "execution_count": 93,
   "id": "ffcd5b12",
   "metadata": {},
   "outputs": [
    {
     "data": {
      "text/html": [
       "<style type=\"text/css\">\n",
       "</style>\n",
       "<table id=\"T_40de9\">\n",
       "  <thead>\n",
       "    <tr>\n",
       "      <th class=\"blank level0\" >&nbsp;</th>\n",
       "      <th id=\"T_40de9_level0_col0\" class=\"col_heading level0 col0\" >total</th>\n",
       "      <th id=\"T_40de9_level0_col1\" class=\"col_heading level0 col1\" >debt_percent</th>\n",
       "      <th id=\"T_40de9_level0_col2\" class=\"col_heading level0 col2\" >total_debt</th>\n",
       "    </tr>\n",
       "    <tr>\n",
       "      <th class=\"index_name level0\" >total_income_category</th>\n",
       "      <th class=\"blank col0\" >&nbsp;</th>\n",
       "      <th class=\"blank col1\" >&nbsp;</th>\n",
       "      <th class=\"blank col2\" >&nbsp;</th>\n",
       "    </tr>\n",
       "  </thead>\n",
       "  <tbody>\n",
       "    <tr>\n",
       "      <th id=\"T_40de9_level0_row0\" class=\"row_heading level0 row0\" >A</th>\n",
       "      <td id=\"T_40de9_row0_col0\" class=\"data row0 col0\" >25</td>\n",
       "      <td id=\"T_40de9_row0_col1\" class=\"data row0 col1\" >8.00%</td>\n",
       "      <td id=\"T_40de9_row0_col2\" class=\"data row0 col2\" >2</td>\n",
       "    </tr>\n",
       "    <tr>\n",
       "      <th id=\"T_40de9_level0_row1\" class=\"row_heading level0 row1\" >B</th>\n",
       "      <td id=\"T_40de9_row1_col0\" class=\"data row1 col0\" >5042</td>\n",
       "      <td id=\"T_40de9_row1_col1\" class=\"data row1 col1\" >7.06%</td>\n",
       "      <td id=\"T_40de9_row1_col2\" class=\"data row1 col2\" >356</td>\n",
       "    </tr>\n",
       "    <tr>\n",
       "      <th id=\"T_40de9_level0_row2\" class=\"row_heading level0 row2\" >C</th>\n",
       "      <td id=\"T_40de9_row2_col0\" class=\"data row2 col0\" >16015</td>\n",
       "      <td id=\"T_40de9_row2_col1\" class=\"data row2 col1\" >8.49%</td>\n",
       "      <td id=\"T_40de9_row2_col2\" class=\"data row2 col2\" >1360</td>\n",
       "    </tr>\n",
       "    <tr>\n",
       "      <th id=\"T_40de9_level0_row3\" class=\"row_heading level0 row3\" >D</th>\n",
       "      <td id=\"T_40de9_row3_col0\" class=\"data row3 col0\" >350</td>\n",
       "      <td id=\"T_40de9_row3_col1\" class=\"data row3 col1\" >6.00%</td>\n",
       "      <td id=\"T_40de9_row3_col2\" class=\"data row3 col2\" >21</td>\n",
       "    </tr>\n",
       "    <tr>\n",
       "      <th id=\"T_40de9_level0_row4\" class=\"row_heading level0 row4\" >E</th>\n",
       "      <td id=\"T_40de9_row4_col0\" class=\"data row4 col0\" >22</td>\n",
       "      <td id=\"T_40de9_row4_col1\" class=\"data row4 col1\" >9.09%</td>\n",
       "      <td id=\"T_40de9_row4_col2\" class=\"data row4 col2\" >2</td>\n",
       "    </tr>\n",
       "  </tbody>\n",
       "</table>\n"
      ],
      "text/plain": [
       "<pandas.io.formats.style.Styler at 0x7f8db07bd580>"
      ]
     },
     "metadata": {},
     "output_type": "display_data"
    }
   ],
   "source": [
    "pivot_income = pivot_debt(['total_income_category']) \n",
    "display(pivot_income)"
   ]
  },
  {
   "cell_type": "markdown",
   "id": "fad04d87",
   "metadata": {},
   "source": [
    "#### Вывод 3: \n",
    "Четкой зависимости процента проблемных кредитов от уровня доходов клиента не прослеживается. Самый высокий процент задержек по выплатам у обладателей самого низкого дохода. Самые богатые клиенты имеют средний показатель задержек. Впрочем, и тех, и других в выборке слишком мало, чтобы можно было говорить о достоверной статистике. \n",
    "\n",
    "В целом, заемщики со средним уровнем дохода самые надежные. "
   ]
  },
  {
   "cell_type": "markdown",
   "id": "122f2d3e",
   "metadata": {},
   "source": [
    "#### Вопрос 4: Как разные цели кредита влияют на его возврат в срок?\n"
   ]
  },
  {
   "cell_type": "code",
   "execution_count": 94,
   "id": "2fe10df9",
   "metadata": {},
   "outputs": [
    {
     "data": {
      "text/html": [
       "<style type=\"text/css\">\n",
       "</style>\n",
       "<table id=\"T_73eeb\">\n",
       "  <thead>\n",
       "    <tr>\n",
       "      <th class=\"blank level0\" >&nbsp;</th>\n",
       "      <th id=\"T_73eeb_level0_col0\" class=\"col_heading level0 col0\" >total</th>\n",
       "      <th id=\"T_73eeb_level0_col1\" class=\"col_heading level0 col1\" >debt_percent</th>\n",
       "      <th id=\"T_73eeb_level0_col2\" class=\"col_heading level0 col2\" >total_debt</th>\n",
       "    </tr>\n",
       "    <tr>\n",
       "      <th class=\"index_name level0\" >purpose_category</th>\n",
       "      <th class=\"blank col0\" >&nbsp;</th>\n",
       "      <th class=\"blank col1\" >&nbsp;</th>\n",
       "      <th class=\"blank col2\" >&nbsp;</th>\n",
       "    </tr>\n",
       "  </thead>\n",
       "  <tbody>\n",
       "    <tr>\n",
       "      <th id=\"T_73eeb_level0_row0\" class=\"row_heading level0 row0\" >операции с автомобилем</th>\n",
       "      <td id=\"T_73eeb_row0_col0\" class=\"data row0 col0\" >4306</td>\n",
       "      <td id=\"T_73eeb_row0_col1\" class=\"data row0 col1\" >9.36%</td>\n",
       "      <td id=\"T_73eeb_row0_col2\" class=\"data row0 col2\" >403</td>\n",
       "    </tr>\n",
       "    <tr>\n",
       "      <th id=\"T_73eeb_level0_row1\" class=\"row_heading level0 row1\" >операции с недвижимостью</th>\n",
       "      <td id=\"T_73eeb_row1_col0\" class=\"data row1 col0\" >10811</td>\n",
       "      <td id=\"T_73eeb_row1_col1\" class=\"data row1 col1\" >7.23%</td>\n",
       "      <td id=\"T_73eeb_row1_col2\" class=\"data row1 col2\" >782</td>\n",
       "    </tr>\n",
       "    <tr>\n",
       "      <th id=\"T_73eeb_level0_row2\" class=\"row_heading level0 row2\" >получение образования</th>\n",
       "      <td id=\"T_73eeb_row2_col0\" class=\"data row2 col0\" >4013</td>\n",
       "      <td id=\"T_73eeb_row2_col1\" class=\"data row2 col1\" >9.22%</td>\n",
       "      <td id=\"T_73eeb_row2_col2\" class=\"data row2 col2\" >370</td>\n",
       "    </tr>\n",
       "    <tr>\n",
       "      <th id=\"T_73eeb_level0_row3\" class=\"row_heading level0 row3\" >проведение свадьбы</th>\n",
       "      <td id=\"T_73eeb_row3_col0\" class=\"data row3 col0\" >2324</td>\n",
       "      <td id=\"T_73eeb_row3_col1\" class=\"data row3 col1\" >8.00%</td>\n",
       "      <td id=\"T_73eeb_row3_col2\" class=\"data row3 col2\" >186</td>\n",
       "    </tr>\n",
       "  </tbody>\n",
       "</table>\n"
      ],
      "text/plain": [
       "<pandas.io.formats.style.Styler at 0x7f8da0676d00>"
      ]
     },
     "metadata": {},
     "output_type": "display_data"
    }
   ],
   "source": [
    "pivot_purpose = pivot_debt(['purpose_category']) \n",
    "display(pivot_purpose)"
   ]
  },
  {
   "cell_type": "markdown",
   "id": "7712e856",
   "metadata": {},
   "source": [
    "#### Вывод 4: \n",
    "Больше всего просрочек по кредитам, взятым с целью покупки автомобиля, а самые надежные заемщики — те, кому нужны деньги для операций с недвижимостью. Это может объясняться тем, что покупки недвижимости — более крупные, и клиенты относятся к ним более ответственно. К тому же, невыплата по кредиту в срок может повлечь лишение единственного жилья. \n",
    "\n",
    "Довольно неожиданный с точки зрения здравого смысла результат — просрочки по кредитам на проведение свадьбы происходят реже, чем по кредитам на получение образования. "
   ]
  },
  {
   "cell_type": "markdown",
   "id": "7eb6ae9a",
   "metadata": {},
   "source": [
    "## Общий вывод:\n"
   ]
  },
  {
   "cell_type": "markdown",
   "id": "2d0fc9f4",
   "metadata": {},
   "source": [
    "Целью исследования была провекрка двух гипотез: \n",
    "1. Семейное положение влияет на факт погашения кредита в срок.\n",
    "2. Количество детей клиента влияет на факт погашения кредита в срок.\n",
    "\n",
    "Обе гипотезы подтвердились.\n",
    "\n",
    "Если подходить буквально к проведенному нами исследованию, можно было бы сделать вывод, что самыми надежными клиентами банка являются вдовы с пятью детьми и средним уровнем дохода, которые берут ипотеку или кредит на проведение свадьбы. \n",
    "\n",
    "Но с учетом возможных искажений в данных или их нехватки в некоторых категориях, наименее вероятна просрочка по кредиту у состоящих в браке бездетных клиентов, которые обладают средним доходом и берут кредит на операции с недвижимостью. \n",
    "\n",
    "Самыми ненадежными заемщиками можно считать многодетных клиентов, не состоящих в браке, либо живущих в гражданском браке, которые берут кредит на покупку автомобиля или получение образования. "
   ]
  }
 ],
 "metadata": {
  "ExecuteTimeLog": [
   {
    "duration": 555,
    "start_time": "2022-06-11T11:19:13.034Z"
   },
   {
    "duration": 242,
    "start_time": "2022-06-11T11:19:13.591Z"
   },
   {
    "duration": 18,
    "start_time": "2022-06-11T11:19:13.835Z"
   },
   {
    "duration": 41,
    "start_time": "2022-06-11T11:19:13.855Z"
   },
   {
    "duration": 14,
    "start_time": "2022-06-11T11:19:13.898Z"
   },
   {
    "duration": 23,
    "start_time": "2022-06-11T11:19:13.914Z"
   },
   {
    "duration": 15,
    "start_time": "2022-06-11T11:19:13.939Z"
   },
   {
    "duration": 7,
    "start_time": "2022-06-11T11:19:13.956Z"
   },
   {
    "duration": 17,
    "start_time": "2022-06-11T11:19:13.965Z"
   },
   {
    "duration": 16,
    "start_time": "2022-06-11T11:19:13.984Z"
   },
   {
    "duration": 34,
    "start_time": "2022-06-11T11:19:14.002Z"
   },
   {
    "duration": 26,
    "start_time": "2022-06-11T11:19:14.038Z"
   },
   {
    "duration": 36,
    "start_time": "2022-06-11T11:19:14.066Z"
   },
   {
    "duration": 24,
    "start_time": "2022-06-11T11:19:14.104Z"
   },
   {
    "duration": 65,
    "start_time": "2022-06-11T11:19:14.130Z"
   },
   {
    "duration": 7,
    "start_time": "2022-06-11T11:19:14.197Z"
   },
   {
    "duration": 30,
    "start_time": "2022-06-11T11:19:14.205Z"
   },
   {
    "duration": 21,
    "start_time": "2022-06-11T11:19:14.237Z"
   },
   {
    "duration": 32,
    "start_time": "2022-06-11T11:19:14.260Z"
   },
   {
    "duration": 32,
    "start_time": "2022-06-11T11:19:14.294Z"
   },
   {
    "duration": 10,
    "start_time": "2022-06-11T11:19:14.328Z"
   },
   {
    "duration": 22,
    "start_time": "2022-06-11T11:19:14.340Z"
   },
   {
    "duration": 34,
    "start_time": "2022-06-11T11:19:14.364Z"
   },
   {
    "duration": 4,
    "start_time": "2022-06-11T11:19:30.994Z"
   },
   {
    "duration": 5,
    "start_time": "2022-06-11T11:19:34.904Z"
   },
   {
    "duration": 4,
    "start_time": "2022-06-11T11:19:38.500Z"
   },
   {
    "duration": 62,
    "start_time": "2022-06-11T11:19:43.881Z"
   },
   {
    "duration": 4,
    "start_time": "2022-06-11T11:19:46.289Z"
   },
   {
    "duration": 8,
    "start_time": "2022-06-11T11:25:36.450Z"
   },
   {
    "duration": 3,
    "start_time": "2022-06-11T11:27:32.230Z"
   },
   {
    "duration": 204,
    "start_time": "2022-06-11T11:27:32.235Z"
   },
   {
    "duration": 13,
    "start_time": "2022-06-11T11:27:32.441Z"
   },
   {
    "duration": 35,
    "start_time": "2022-06-11T11:27:32.455Z"
   },
   {
    "duration": 14,
    "start_time": "2022-06-11T11:27:32.491Z"
   },
   {
    "duration": 9,
    "start_time": "2022-06-11T11:27:32.506Z"
   },
   {
    "duration": 8,
    "start_time": "2022-06-11T11:27:32.517Z"
   },
   {
    "duration": 10,
    "start_time": "2022-06-11T11:27:32.527Z"
   },
   {
    "duration": 26,
    "start_time": "2022-06-11T11:27:32.539Z"
   },
   {
    "duration": 7,
    "start_time": "2022-06-11T11:27:32.567Z"
   },
   {
    "duration": 11,
    "start_time": "2022-06-11T11:27:32.577Z"
   },
   {
    "duration": 16,
    "start_time": "2022-06-11T11:27:32.590Z"
   },
   {
    "duration": 3,
    "start_time": "2022-06-11T11:27:32.608Z"
   },
   {
    "duration": 6,
    "start_time": "2022-06-11T11:27:32.613Z"
   },
   {
    "duration": 50,
    "start_time": "2022-06-11T11:27:32.620Z"
   },
   {
    "duration": 3,
    "start_time": "2022-06-11T11:27:32.672Z"
   },
   {
    "duration": 20,
    "start_time": "2022-06-11T11:27:32.677Z"
   },
   {
    "duration": 5,
    "start_time": "2022-06-11T11:27:32.699Z"
   },
   {
    "duration": 6,
    "start_time": "2022-06-11T11:27:32.706Z"
   },
   {
    "duration": 19,
    "start_time": "2022-06-11T11:27:32.714Z"
   },
   {
    "duration": 5,
    "start_time": "2022-06-11T11:27:32.735Z"
   },
   {
    "duration": 8,
    "start_time": "2022-06-11T11:27:32.764Z"
   },
   {
    "duration": 10,
    "start_time": "2022-06-11T11:27:32.774Z"
   },
   {
    "duration": 14,
    "start_time": "2022-06-11T11:27:32.786Z"
   },
   {
    "duration": 0,
    "start_time": "2022-06-11T11:27:32.802Z"
   },
   {
    "duration": 0,
    "start_time": "2022-06-11T11:27:32.803Z"
   },
   {
    "duration": 0,
    "start_time": "2022-06-11T11:27:32.804Z"
   },
   {
    "duration": 0,
    "start_time": "2022-06-11T11:27:32.805Z"
   },
   {
    "duration": 0,
    "start_time": "2022-06-11T11:27:32.806Z"
   },
   {
    "duration": 0,
    "start_time": "2022-06-11T11:27:32.807Z"
   },
   {
    "duration": 0,
    "start_time": "2022-06-11T11:27:32.809Z"
   },
   {
    "duration": 0,
    "start_time": "2022-06-11T11:27:32.810Z"
   },
   {
    "duration": 9,
    "start_time": "2022-06-11T11:27:58.379Z"
   },
   {
    "duration": 4,
    "start_time": "2022-06-11T11:28:29.698Z"
   },
   {
    "duration": 6,
    "start_time": "2022-06-11T11:28:29.704Z"
   },
   {
    "duration": 6,
    "start_time": "2022-06-11T11:28:29.711Z"
   },
   {
    "duration": 5,
    "start_time": "2022-06-11T11:28:29.718Z"
   },
   {
    "duration": 27,
    "start_time": "2022-06-11T11:28:29.725Z"
   },
   {
    "duration": 34,
    "start_time": "2022-06-11T11:28:29.754Z"
   },
   {
    "duration": 14,
    "start_time": "2022-06-11T11:28:29.790Z"
   },
   {
    "duration": 17,
    "start_time": "2022-06-11T11:28:29.806Z"
   },
   {
    "duration": 4,
    "start_time": "2022-06-11T11:28:29.824Z"
   },
   {
    "duration": 4,
    "start_time": "2022-06-11T11:28:29.864Z"
   },
   {
    "duration": 6,
    "start_time": "2022-06-11T11:28:29.870Z"
   },
   {
    "duration": 7,
    "start_time": "2022-06-11T11:28:29.877Z"
   },
   {
    "duration": 6,
    "start_time": "2022-06-11T11:28:29.887Z"
   },
   {
    "duration": 24,
    "start_time": "2022-06-11T11:28:29.894Z"
   },
   {
    "duration": 5,
    "start_time": "2022-06-11T11:28:29.920Z"
   },
   {
    "duration": 45,
    "start_time": "2022-06-11T11:28:29.926Z"
   },
   {
    "duration": 34,
    "start_time": "2022-06-11T11:28:29.973Z"
   },
   {
    "duration": 12,
    "start_time": "2022-06-11T11:28:30.009Z"
   },
   {
    "duration": 16,
    "start_time": "2022-06-11T11:28:30.022Z"
   },
   {
    "duration": 26,
    "start_time": "2022-06-11T11:28:30.040Z"
   },
   {
    "duration": 35,
    "start_time": "2022-06-11T11:28:30.067Z"
   },
   {
    "duration": 25,
    "start_time": "2022-06-11T11:28:30.104Z"
   },
   {
    "duration": 22,
    "start_time": "2022-06-11T11:28:30.131Z"
   },
   {
    "duration": 28,
    "start_time": "2022-06-11T11:28:30.155Z"
   },
   {
    "duration": 24,
    "start_time": "2022-06-11T11:28:30.185Z"
   },
   {
    "duration": 9,
    "start_time": "2022-06-11T11:28:30.211Z"
   },
   {
    "duration": 29,
    "start_time": "2022-06-11T11:28:30.222Z"
   },
   {
    "duration": 39,
    "start_time": "2022-06-11T11:28:30.253Z"
   },
   {
    "duration": 8,
    "start_time": "2022-06-11T11:28:30.295Z"
   },
   {
    "duration": 10,
    "start_time": "2022-06-11T11:28:30.305Z"
   },
   {
    "duration": 13,
    "start_time": "2022-06-11T11:28:30.316Z"
   },
   {
    "duration": 7,
    "start_time": "2022-06-11T11:28:30.331Z"
   },
   {
    "duration": 32,
    "start_time": "2022-06-11T11:28:30.340Z"
   },
   {
    "duration": 6,
    "start_time": "2022-06-11T11:28:30.374Z"
   },
   {
    "duration": 54,
    "start_time": "2022-06-11T11:28:30.383Z"
   },
   {
    "duration": 6,
    "start_time": "2022-06-11T11:28:30.441Z"
   },
   {
    "duration": 24,
    "start_time": "2022-06-11T11:28:30.449Z"
   },
   {
    "duration": 45,
    "start_time": "2022-06-11T11:28:30.475Z"
   },
   {
    "duration": 19,
    "start_time": "2022-06-11T11:28:30.522Z"
   },
   {
    "duration": 10,
    "start_time": "2022-06-11T11:28:30.543Z"
   },
   {
    "duration": 27,
    "start_time": "2022-06-11T11:28:30.555Z"
   },
   {
    "duration": 46,
    "start_time": "2022-06-11T11:28:30.583Z"
   },
   {
    "duration": 21,
    "start_time": "2022-06-11T11:28:30.631Z"
   },
   {
    "duration": 25,
    "start_time": "2022-06-11T11:28:30.654Z"
   },
   {
    "duration": 17,
    "start_time": "2022-06-11T11:28:30.682Z"
   },
   {
    "duration": 14,
    "start_time": "2022-06-11T11:28:30.701Z"
   },
   {
    "duration": 10,
    "start_time": "2022-06-11T11:28:30.717Z"
   },
   {
    "duration": 11,
    "start_time": "2022-06-11T11:28:30.728Z"
   },
   {
    "duration": 25,
    "start_time": "2022-06-11T11:28:30.741Z"
   },
   {
    "duration": 16,
    "start_time": "2022-06-11T11:28:30.767Z"
   },
   {
    "duration": 33,
    "start_time": "2022-06-11T11:28:30.785Z"
   },
   {
    "duration": 38,
    "start_time": "2022-06-11T11:28:30.820Z"
   },
   {
    "duration": 7,
    "start_time": "2022-06-11T11:28:30.860Z"
   },
   {
    "duration": 16,
    "start_time": "2022-06-11T11:28:30.868Z"
   },
   {
    "duration": 23,
    "start_time": "2022-06-11T11:28:30.886Z"
   },
   {
    "duration": 20,
    "start_time": "2022-06-11T11:28:30.911Z"
   },
   {
    "duration": 49,
    "start_time": "2022-06-11T11:28:30.933Z"
   },
   {
    "duration": 79,
    "start_time": "2022-06-11T11:28:30.984Z"
   },
   {
    "duration": 12,
    "start_time": "2022-06-11T11:28:31.065Z"
   },
   {
    "duration": 15,
    "start_time": "2022-06-11T11:28:31.079Z"
   },
   {
    "duration": 20,
    "start_time": "2022-06-11T11:28:31.097Z"
   },
   {
    "duration": 11,
    "start_time": "2022-06-11T11:28:31.119Z"
   },
   {
    "duration": 22,
    "start_time": "2022-06-11T11:29:23.892Z"
   },
   {
    "duration": 11,
    "start_time": "2022-06-11T11:37:00.443Z"
   },
   {
    "duration": 3,
    "start_time": "2022-06-11T11:37:35.162Z"
   },
   {
    "duration": 379,
    "start_time": "2022-06-11T11:37:35.167Z"
   },
   {
    "duration": 13,
    "start_time": "2022-06-11T11:37:35.548Z"
   },
   {
    "duration": 34,
    "start_time": "2022-06-11T11:37:35.562Z"
   },
   {
    "duration": 16,
    "start_time": "2022-06-11T11:37:35.597Z"
   },
   {
    "duration": 14,
    "start_time": "2022-06-11T11:37:35.615Z"
   },
   {
    "duration": 5,
    "start_time": "2022-06-11T11:37:35.631Z"
   },
   {
    "duration": 27,
    "start_time": "2022-06-11T11:37:35.638Z"
   },
   {
    "duration": 8,
    "start_time": "2022-06-11T11:37:35.667Z"
   },
   {
    "duration": 5,
    "start_time": "2022-06-11T11:37:35.677Z"
   },
   {
    "duration": 13,
    "start_time": "2022-06-11T11:37:35.685Z"
   },
   {
    "duration": 16,
    "start_time": "2022-06-11T11:37:35.699Z"
   },
   {
    "duration": 4,
    "start_time": "2022-06-11T11:37:35.717Z"
   },
   {
    "duration": 6,
    "start_time": "2022-06-11T11:37:35.723Z"
   },
   {
    "duration": 57,
    "start_time": "2022-06-11T11:37:35.730Z"
   },
   {
    "duration": 5,
    "start_time": "2022-06-11T11:37:35.789Z"
   },
   {
    "duration": 12,
    "start_time": "2022-06-11T11:37:35.795Z"
   },
   {
    "duration": 10,
    "start_time": "2022-06-11T11:37:35.808Z"
   },
   {
    "duration": 8,
    "start_time": "2022-06-11T11:37:35.819Z"
   },
   {
    "duration": 42,
    "start_time": "2022-06-11T11:37:35.829Z"
   },
   {
    "duration": 6,
    "start_time": "2022-06-11T11:37:35.874Z"
   },
   {
    "duration": 11,
    "start_time": "2022-06-11T11:37:35.882Z"
   },
   {
    "duration": 6,
    "start_time": "2022-06-11T11:37:35.895Z"
   },
   {
    "duration": 5,
    "start_time": "2022-06-11T11:37:38.387Z"
   },
   {
    "duration": 4,
    "start_time": "2022-06-11T11:37:40.909Z"
   },
   {
    "duration": 6,
    "start_time": "2022-06-11T11:37:43.945Z"
   },
   {
    "duration": 5,
    "start_time": "2022-06-11T11:37:49.223Z"
   },
   {
    "duration": 34,
    "start_time": "2022-06-11T11:37:55.094Z"
   },
   {
    "duration": 21,
    "start_time": "2022-06-11T11:37:58.323Z"
   },
   {
    "duration": 20,
    "start_time": "2022-06-11T11:38:02.024Z"
   },
   {
    "duration": 9,
    "start_time": "2022-06-11T11:38:07.220Z"
   },
   {
    "duration": 21,
    "start_time": "2022-06-11T11:41:30.915Z"
   },
   {
    "duration": 15,
    "start_time": "2022-06-11T11:44:57.481Z"
   },
   {
    "duration": 4,
    "start_time": "2022-06-11T11:45:41.838Z"
   },
   {
    "duration": 4,
    "start_time": "2022-06-11T11:45:45.325Z"
   },
   {
    "duration": 3,
    "start_time": "2022-06-11T11:45:47.121Z"
   },
   {
    "duration": 4,
    "start_time": "2022-06-11T11:45:49.460Z"
   },
   {
    "duration": 5,
    "start_time": "2022-06-11T11:45:51.296Z"
   },
   {
    "duration": 28,
    "start_time": "2022-06-11T11:45:53.938Z"
   },
   {
    "duration": 4,
    "start_time": "2022-06-11T11:45:57.935Z"
   },
   {
    "duration": 16,
    "start_time": "2022-06-11T11:46:02.047Z"
   },
   {
    "duration": 17,
    "start_time": "2022-06-11T12:05:04.649Z"
   },
   {
    "duration": 32,
    "start_time": "2022-06-11T12:05:04.668Z"
   },
   {
    "duration": 11,
    "start_time": "2022-06-11T12:05:04.702Z"
   },
   {
    "duration": 10,
    "start_time": "2022-06-11T12:05:04.715Z"
   },
   {
    "duration": 9,
    "start_time": "2022-06-11T12:05:04.727Z"
   },
   {
    "duration": 42,
    "start_time": "2022-06-11T12:05:04.738Z"
   },
   {
    "duration": 8,
    "start_time": "2022-06-11T12:05:04.782Z"
   },
   {
    "duration": 9,
    "start_time": "2022-06-11T12:05:04.791Z"
   },
   {
    "duration": 9,
    "start_time": "2022-06-11T12:05:04.802Z"
   },
   {
    "duration": 22,
    "start_time": "2022-06-11T12:05:04.872Z"
   },
   {
    "duration": 7,
    "start_time": "2022-06-11T12:05:04.895Z"
   },
   {
    "duration": 21,
    "start_time": "2022-06-11T12:05:04.904Z"
   },
   {
    "duration": 62,
    "start_time": "2022-06-11T12:05:04.926Z"
   },
   {
    "duration": 7,
    "start_time": "2022-06-11T12:05:04.990Z"
   },
   {
    "duration": 11,
    "start_time": "2022-06-11T12:05:04.998Z"
   },
   {
    "duration": 14,
    "start_time": "2022-06-11T12:05:05.011Z"
   },
   {
    "duration": 7,
    "start_time": "2022-06-11T12:05:05.027Z"
   },
   {
    "duration": 32,
    "start_time": "2022-06-11T12:05:05.036Z"
   },
   {
    "duration": 3,
    "start_time": "2022-06-11T12:05:05.070Z"
   },
   {
    "duration": 36,
    "start_time": "2022-06-11T12:05:05.075Z"
   },
   {
    "duration": 9,
    "start_time": "2022-06-11T12:05:05.112Z"
   },
   {
    "duration": 6,
    "start_time": "2022-06-11T12:05:05.123Z"
   },
   {
    "duration": 44,
    "start_time": "2022-06-11T12:05:05.131Z"
   },
   {
    "duration": 9,
    "start_time": "2022-06-11T12:05:05.177Z"
   },
   {
    "duration": 9,
    "start_time": "2022-06-11T12:05:05.187Z"
   },
   {
    "duration": 7,
    "start_time": "2022-06-11T12:05:05.197Z"
   },
   {
    "duration": 11,
    "start_time": "2022-06-11T12:05:05.205Z"
   },
   {
    "duration": 14,
    "start_time": "2022-06-11T12:05:05.219Z"
   },
   {
    "duration": 9,
    "start_time": "2022-06-11T12:05:05.265Z"
   },
   {
    "duration": 19,
    "start_time": "2022-06-11T12:05:05.276Z"
   },
   {
    "duration": 11,
    "start_time": "2022-06-11T12:05:05.297Z"
   },
   {
    "duration": 9,
    "start_time": "2022-06-11T12:05:05.310Z"
   },
   {
    "duration": 43,
    "start_time": "2022-06-11T12:05:05.321Z"
   },
   {
    "duration": 11,
    "start_time": "2022-06-11T12:05:05.366Z"
   },
   {
    "duration": 12,
    "start_time": "2022-06-11T12:05:05.379Z"
   },
   {
    "duration": 19,
    "start_time": "2022-06-11T12:05:05.393Z"
   },
   {
    "duration": 24,
    "start_time": "2022-06-11T12:05:05.413Z"
   },
   {
    "duration": 30,
    "start_time": "2022-06-11T12:05:05.439Z"
   },
   {
    "duration": 16,
    "start_time": "2022-06-11T12:05:05.471Z"
   },
   {
    "duration": 13,
    "start_time": "2022-06-11T12:05:05.489Z"
   },
   {
    "duration": 10,
    "start_time": "2022-06-11T12:05:05.504Z"
   },
   {
    "duration": 17,
    "start_time": "2022-06-11T12:05:05.516Z"
   },
   {
    "duration": 29,
    "start_time": "2022-06-11T12:05:05.535Z"
   },
   {
    "duration": 9,
    "start_time": "2022-06-11T12:05:05.566Z"
   },
   {
    "duration": 10,
    "start_time": "2022-06-11T12:05:05.577Z"
   },
   {
    "duration": 9,
    "start_time": "2022-06-11T12:05:05.589Z"
   },
   {
    "duration": 9,
    "start_time": "2022-06-11T12:05:05.600Z"
   },
   {
    "duration": 22,
    "start_time": "2022-06-11T12:05:47.209Z"
   },
   {
    "duration": 26,
    "start_time": "2022-06-11T12:06:13.688Z"
   },
   {
    "duration": 46,
    "start_time": "2022-06-11T12:06:20.510Z"
   },
   {
    "duration": 33,
    "start_time": "2022-06-11T12:06:27.726Z"
   },
   {
    "duration": 7,
    "start_time": "2022-06-11T12:10:52.453Z"
   },
   {
    "duration": 30,
    "start_time": "2022-06-11T13:33:49.076Z"
   },
   {
    "duration": 25,
    "start_time": "2022-06-11T13:36:31.248Z"
   },
   {
    "duration": 44,
    "start_time": "2022-06-11T13:37:42.346Z"
   },
   {
    "duration": 401,
    "start_time": "2022-06-11T13:38:35.999Z"
   },
   {
    "duration": 274,
    "start_time": "2022-06-11T13:38:36.402Z"
   },
   {
    "duration": 20,
    "start_time": "2022-06-11T13:38:36.678Z"
   },
   {
    "duration": 38,
    "start_time": "2022-06-11T13:38:36.700Z"
   },
   {
    "duration": 14,
    "start_time": "2022-06-11T13:38:36.740Z"
   },
   {
    "duration": 12,
    "start_time": "2022-06-11T13:38:36.755Z"
   },
   {
    "duration": 7,
    "start_time": "2022-06-11T13:38:36.769Z"
   },
   {
    "duration": 6,
    "start_time": "2022-06-11T13:38:36.778Z"
   },
   {
    "duration": 416,
    "start_time": "2022-06-11T13:38:36.785Z"
   },
   {
    "duration": 4,
    "start_time": "2022-06-11T13:38:37.202Z"
   },
   {
    "duration": 6,
    "start_time": "2022-06-11T13:38:37.207Z"
   },
   {
    "duration": 8,
    "start_time": "2022-06-11T13:38:37.225Z"
   },
   {
    "duration": 18,
    "start_time": "2022-06-11T13:38:37.235Z"
   },
   {
    "duration": 3,
    "start_time": "2022-06-11T13:38:37.256Z"
   },
   {
    "duration": 5,
    "start_time": "2022-06-11T13:38:37.261Z"
   },
   {
    "duration": 30,
    "start_time": "2022-06-11T13:38:37.268Z"
   },
   {
    "duration": 27,
    "start_time": "2022-06-11T13:38:37.300Z"
   },
   {
    "duration": 8,
    "start_time": "2022-06-11T13:38:37.329Z"
   },
   {
    "duration": 6,
    "start_time": "2022-06-11T13:38:37.339Z"
   },
   {
    "duration": 6,
    "start_time": "2022-06-11T13:38:37.346Z"
   },
   {
    "duration": 20,
    "start_time": "2022-06-11T13:38:37.353Z"
   },
   {
    "duration": 5,
    "start_time": "2022-06-11T13:38:37.374Z"
   },
   {
    "duration": 5,
    "start_time": "2022-06-11T13:38:37.381Z"
   },
   {
    "duration": 38,
    "start_time": "2022-06-11T13:38:37.387Z"
   },
   {
    "duration": 67,
    "start_time": "2022-06-11T13:38:37.427Z"
   },
   {
    "duration": 0,
    "start_time": "2022-06-11T13:38:37.497Z"
   },
   {
    "duration": 0,
    "start_time": "2022-06-11T13:38:37.498Z"
   },
   {
    "duration": 0,
    "start_time": "2022-06-11T13:38:37.499Z"
   },
   {
    "duration": 0,
    "start_time": "2022-06-11T13:38:37.500Z"
   },
   {
    "duration": 0,
    "start_time": "2022-06-11T13:38:37.500Z"
   },
   {
    "duration": 0,
    "start_time": "2022-06-11T13:38:37.501Z"
   },
   {
    "duration": 0,
    "start_time": "2022-06-11T13:38:37.502Z"
   },
   {
    "duration": 0,
    "start_time": "2022-06-11T13:38:37.503Z"
   },
   {
    "duration": 0,
    "start_time": "2022-06-11T13:38:37.504Z"
   },
   {
    "duration": 0,
    "start_time": "2022-06-11T13:38:37.505Z"
   },
   {
    "duration": 0,
    "start_time": "2022-06-11T13:38:37.525Z"
   },
   {
    "duration": 0,
    "start_time": "2022-06-11T13:38:37.526Z"
   },
   {
    "duration": 0,
    "start_time": "2022-06-11T13:38:37.527Z"
   },
   {
    "duration": 0,
    "start_time": "2022-06-11T13:38:37.528Z"
   },
   {
    "duration": 0,
    "start_time": "2022-06-11T13:38:37.529Z"
   },
   {
    "duration": 0,
    "start_time": "2022-06-11T13:38:37.530Z"
   },
   {
    "duration": 0,
    "start_time": "2022-06-11T13:38:37.531Z"
   },
   {
    "duration": 0,
    "start_time": "2022-06-11T13:38:37.532Z"
   },
   {
    "duration": 0,
    "start_time": "2022-06-11T13:38:37.533Z"
   },
   {
    "duration": 0,
    "start_time": "2022-06-11T13:38:37.534Z"
   },
   {
    "duration": 0,
    "start_time": "2022-06-11T13:38:37.535Z"
   },
   {
    "duration": 0,
    "start_time": "2022-06-11T13:38:37.536Z"
   },
   {
    "duration": 0,
    "start_time": "2022-06-11T13:38:37.538Z"
   },
   {
    "duration": 0,
    "start_time": "2022-06-11T13:38:37.539Z"
   },
   {
    "duration": 0,
    "start_time": "2022-06-11T13:38:37.540Z"
   },
   {
    "duration": 0,
    "start_time": "2022-06-11T13:38:37.541Z"
   },
   {
    "duration": 0,
    "start_time": "2022-06-11T13:38:37.542Z"
   },
   {
    "duration": 0,
    "start_time": "2022-06-11T13:38:37.543Z"
   },
   {
    "duration": 0,
    "start_time": "2022-06-11T13:38:37.544Z"
   },
   {
    "duration": 0,
    "start_time": "2022-06-11T13:38:37.545Z"
   },
   {
    "duration": 0,
    "start_time": "2022-06-11T13:38:37.546Z"
   },
   {
    "duration": 0,
    "start_time": "2022-06-11T13:38:37.547Z"
   },
   {
    "duration": 0,
    "start_time": "2022-06-11T13:38:37.548Z"
   },
   {
    "duration": 0,
    "start_time": "2022-06-11T13:38:37.549Z"
   },
   {
    "duration": 0,
    "start_time": "2022-06-11T13:38:37.550Z"
   },
   {
    "duration": 0,
    "start_time": "2022-06-11T13:38:37.551Z"
   },
   {
    "duration": 0,
    "start_time": "2022-06-11T13:38:37.552Z"
   },
   {
    "duration": 0,
    "start_time": "2022-06-11T13:38:37.553Z"
   },
   {
    "duration": 0,
    "start_time": "2022-06-11T13:38:37.554Z"
   },
   {
    "duration": 0,
    "start_time": "2022-06-11T13:38:37.555Z"
   },
   {
    "duration": 0,
    "start_time": "2022-06-11T13:38:37.556Z"
   },
   {
    "duration": 0,
    "start_time": "2022-06-11T13:38:37.557Z"
   },
   {
    "duration": 0,
    "start_time": "2022-06-11T13:38:37.558Z"
   },
   {
    "duration": 0,
    "start_time": "2022-06-11T13:38:37.559Z"
   },
   {
    "duration": 0,
    "start_time": "2022-06-11T13:38:37.560Z"
   },
   {
    "duration": 0,
    "start_time": "2022-06-11T13:38:37.561Z"
   },
   {
    "duration": 0,
    "start_time": "2022-06-11T13:38:37.562Z"
   },
   {
    "duration": 0,
    "start_time": "2022-06-11T13:38:37.563Z"
   },
   {
    "duration": 0,
    "start_time": "2022-06-11T13:38:37.564Z"
   },
   {
    "duration": 0,
    "start_time": "2022-06-11T13:38:37.626Z"
   },
   {
    "duration": 0,
    "start_time": "2022-06-11T13:38:37.627Z"
   },
   {
    "duration": 0,
    "start_time": "2022-06-11T13:38:37.628Z"
   },
   {
    "duration": 0,
    "start_time": "2022-06-11T13:38:37.629Z"
   },
   {
    "duration": 0,
    "start_time": "2022-06-11T13:38:37.630Z"
   },
   {
    "duration": 0,
    "start_time": "2022-06-11T13:38:37.630Z"
   },
   {
    "duration": 0,
    "start_time": "2022-06-11T13:38:37.632Z"
   },
   {
    "duration": 0,
    "start_time": "2022-06-11T13:38:37.632Z"
   },
   {
    "duration": 0,
    "start_time": "2022-06-11T13:38:37.633Z"
   },
   {
    "duration": 0,
    "start_time": "2022-06-11T13:38:37.634Z"
   },
   {
    "duration": 0,
    "start_time": "2022-06-11T13:38:37.635Z"
   },
   {
    "duration": 0,
    "start_time": "2022-06-11T13:38:37.636Z"
   },
   {
    "duration": 0,
    "start_time": "2022-06-11T13:38:37.637Z"
   },
   {
    "duration": 46,
    "start_time": "2022-06-11T13:42:56.503Z"
   },
   {
    "duration": 8,
    "start_time": "2022-06-11T13:47:15.954Z"
   },
   {
    "duration": 4,
    "start_time": "2022-06-11T13:47:27.497Z"
   },
   {
    "duration": 11,
    "start_time": "2022-06-11T13:47:50.112Z"
   },
   {
    "duration": 11,
    "start_time": "2022-06-11T13:47:53.294Z"
   },
   {
    "duration": 8,
    "start_time": "2022-06-11T13:47:57.354Z"
   },
   {
    "duration": 14,
    "start_time": "2022-06-11T13:49:50.506Z"
   },
   {
    "duration": 338,
    "start_time": "2022-06-11T13:50:11.974Z"
   },
   {
    "duration": 185,
    "start_time": "2022-06-11T13:50:12.313Z"
   },
   {
    "duration": 20,
    "start_time": "2022-06-11T13:50:12.500Z"
   },
   {
    "duration": 30,
    "start_time": "2022-06-11T13:50:12.522Z"
   },
   {
    "duration": 13,
    "start_time": "2022-06-11T13:50:12.553Z"
   },
   {
    "duration": 9,
    "start_time": "2022-06-11T13:50:12.568Z"
   },
   {
    "duration": 7,
    "start_time": "2022-06-11T13:50:12.579Z"
   },
   {
    "duration": 6,
    "start_time": "2022-06-11T13:50:12.587Z"
   },
   {
    "duration": 255,
    "start_time": "2022-06-11T13:50:12.594Z"
   },
   {
    "duration": 3,
    "start_time": "2022-06-11T13:50:12.851Z"
   },
   {
    "duration": 6,
    "start_time": "2022-06-11T13:50:12.855Z"
   },
   {
    "duration": 79,
    "start_time": "2022-06-11T13:50:12.862Z"
   },
   {
    "duration": 0,
    "start_time": "2022-06-11T13:50:12.944Z"
   },
   {
    "duration": 0,
    "start_time": "2022-06-11T13:50:12.946Z"
   },
   {
    "duration": 0,
    "start_time": "2022-06-11T13:50:12.947Z"
   },
   {
    "duration": 0,
    "start_time": "2022-06-11T13:50:12.948Z"
   },
   {
    "duration": 0,
    "start_time": "2022-06-11T13:50:12.948Z"
   },
   {
    "duration": 0,
    "start_time": "2022-06-11T13:50:12.949Z"
   },
   {
    "duration": 0,
    "start_time": "2022-06-11T13:50:12.950Z"
   },
   {
    "duration": 0,
    "start_time": "2022-06-11T13:50:12.951Z"
   },
   {
    "duration": 0,
    "start_time": "2022-06-11T13:50:12.952Z"
   },
   {
    "duration": 0,
    "start_time": "2022-06-11T13:50:12.953Z"
   },
   {
    "duration": 0,
    "start_time": "2022-06-11T13:50:12.954Z"
   },
   {
    "duration": 0,
    "start_time": "2022-06-11T13:50:12.955Z"
   },
   {
    "duration": 0,
    "start_time": "2022-06-11T13:50:12.956Z"
   },
   {
    "duration": 0,
    "start_time": "2022-06-11T13:50:12.957Z"
   },
   {
    "duration": 0,
    "start_time": "2022-06-11T13:50:12.957Z"
   },
   {
    "duration": 0,
    "start_time": "2022-06-11T13:50:12.958Z"
   },
   {
    "duration": 0,
    "start_time": "2022-06-11T13:50:12.959Z"
   },
   {
    "duration": 0,
    "start_time": "2022-06-11T13:50:12.961Z"
   },
   {
    "duration": 0,
    "start_time": "2022-06-11T13:50:12.962Z"
   },
   {
    "duration": 0,
    "start_time": "2022-06-11T13:50:12.962Z"
   },
   {
    "duration": 0,
    "start_time": "2022-06-11T13:50:12.963Z"
   },
   {
    "duration": 0,
    "start_time": "2022-06-11T13:50:12.964Z"
   },
   {
    "duration": 0,
    "start_time": "2022-06-11T13:50:12.965Z"
   },
   {
    "duration": 0,
    "start_time": "2022-06-11T13:50:12.966Z"
   },
   {
    "duration": 0,
    "start_time": "2022-06-11T13:50:12.967Z"
   },
   {
    "duration": 0,
    "start_time": "2022-06-11T13:50:12.968Z"
   },
   {
    "duration": 0,
    "start_time": "2022-06-11T13:50:12.969Z"
   },
   {
    "duration": 0,
    "start_time": "2022-06-11T13:50:12.970Z"
   },
   {
    "duration": 0,
    "start_time": "2022-06-11T13:50:12.971Z"
   },
   {
    "duration": 0,
    "start_time": "2022-06-11T13:50:12.971Z"
   },
   {
    "duration": 0,
    "start_time": "2022-06-11T13:50:12.972Z"
   },
   {
    "duration": 1,
    "start_time": "2022-06-11T13:50:12.973Z"
   },
   {
    "duration": 0,
    "start_time": "2022-06-11T13:50:12.974Z"
   },
   {
    "duration": 0,
    "start_time": "2022-06-11T13:50:12.975Z"
   },
   {
    "duration": 0,
    "start_time": "2022-06-11T13:50:12.976Z"
   },
   {
    "duration": 0,
    "start_time": "2022-06-11T13:50:12.977Z"
   },
   {
    "duration": 0,
    "start_time": "2022-06-11T13:50:13.026Z"
   },
   {
    "duration": 0,
    "start_time": "2022-06-11T13:50:13.027Z"
   },
   {
    "duration": 1,
    "start_time": "2022-06-11T13:50:13.027Z"
   },
   {
    "duration": 0,
    "start_time": "2022-06-11T13:50:13.029Z"
   },
   {
    "duration": 0,
    "start_time": "2022-06-11T13:50:13.030Z"
   },
   {
    "duration": 1,
    "start_time": "2022-06-11T13:50:13.030Z"
   },
   {
    "duration": 0,
    "start_time": "2022-06-11T13:50:13.031Z"
   },
   {
    "duration": 0,
    "start_time": "2022-06-11T13:50:13.032Z"
   },
   {
    "duration": 0,
    "start_time": "2022-06-11T13:50:13.034Z"
   },
   {
    "duration": 0,
    "start_time": "2022-06-11T13:50:13.035Z"
   },
   {
    "duration": 0,
    "start_time": "2022-06-11T13:50:13.036Z"
   },
   {
    "duration": 0,
    "start_time": "2022-06-11T13:50:13.036Z"
   },
   {
    "duration": 0,
    "start_time": "2022-06-11T13:50:13.037Z"
   },
   {
    "duration": 0,
    "start_time": "2022-06-11T13:50:13.038Z"
   },
   {
    "duration": 0,
    "start_time": "2022-06-11T13:50:13.039Z"
   },
   {
    "duration": 1,
    "start_time": "2022-06-11T13:50:13.040Z"
   },
   {
    "duration": 0,
    "start_time": "2022-06-11T13:50:13.041Z"
   },
   {
    "duration": 0,
    "start_time": "2022-06-11T13:50:13.042Z"
   },
   {
    "duration": 0,
    "start_time": "2022-06-11T13:50:13.043Z"
   },
   {
    "duration": 0,
    "start_time": "2022-06-11T13:50:13.044Z"
   },
   {
    "duration": 0,
    "start_time": "2022-06-11T13:50:13.045Z"
   },
   {
    "duration": 0,
    "start_time": "2022-06-11T13:50:13.046Z"
   },
   {
    "duration": 1,
    "start_time": "2022-06-11T13:50:13.047Z"
   },
   {
    "duration": 0,
    "start_time": "2022-06-11T13:50:13.049Z"
   },
   {
    "duration": 0,
    "start_time": "2022-06-11T13:50:13.050Z"
   },
   {
    "duration": 0,
    "start_time": "2022-06-11T13:50:13.051Z"
   },
   {
    "duration": 0,
    "start_time": "2022-06-11T13:50:13.052Z"
   },
   {
    "duration": 0,
    "start_time": "2022-06-11T13:50:13.053Z"
   },
   {
    "duration": 0,
    "start_time": "2022-06-11T13:50:13.054Z"
   },
   {
    "duration": 0,
    "start_time": "2022-06-11T13:50:13.056Z"
   },
   {
    "duration": 0,
    "start_time": "2022-06-11T13:50:13.057Z"
   },
   {
    "duration": 0,
    "start_time": "2022-06-11T13:50:13.058Z"
   },
   {
    "duration": 0,
    "start_time": "2022-06-11T13:50:13.059Z"
   },
   {
    "duration": 0,
    "start_time": "2022-06-11T13:50:13.060Z"
   },
   {
    "duration": 0,
    "start_time": "2022-06-11T13:50:13.060Z"
   },
   {
    "duration": 0,
    "start_time": "2022-06-11T13:50:13.061Z"
   },
   {
    "duration": 0,
    "start_time": "2022-06-11T13:50:13.062Z"
   },
   {
    "duration": 0,
    "start_time": "2022-06-11T13:50:13.063Z"
   },
   {
    "duration": 0,
    "start_time": "2022-06-11T13:50:13.064Z"
   },
   {
    "duration": 0,
    "start_time": "2022-06-11T13:50:13.125Z"
   },
   {
    "duration": 15,
    "start_time": "2022-06-11T14:00:21.098Z"
   },
   {
    "duration": 9,
    "start_time": "2022-06-11T14:00:38.414Z"
   },
   {
    "duration": 18,
    "start_time": "2022-06-11T14:00:46.689Z"
   },
   {
    "duration": 11,
    "start_time": "2022-06-11T14:01:17.489Z"
   },
   {
    "duration": 11,
    "start_time": "2022-06-11T14:01:58.090Z"
   },
   {
    "duration": 35,
    "start_time": "2022-06-11T14:10:07.610Z"
   },
   {
    "duration": 10,
    "start_time": "2022-06-11T14:10:20.541Z"
   },
   {
    "duration": 3,
    "start_time": "2022-06-11T14:11:15.262Z"
   },
   {
    "duration": 397,
    "start_time": "2022-06-23T13:38:54.198Z"
   },
   {
    "duration": 209,
    "start_time": "2022-06-23T13:38:54.598Z"
   },
   {
    "duration": 21,
    "start_time": "2022-06-23T13:38:54.809Z"
   },
   {
    "duration": 51,
    "start_time": "2022-06-23T13:38:54.832Z"
   },
   {
    "duration": 14,
    "start_time": "2022-06-23T13:38:54.885Z"
   },
   {
    "duration": 11,
    "start_time": "2022-06-23T13:38:54.901Z"
   },
   {
    "duration": 11,
    "start_time": "2022-06-23T13:38:54.913Z"
   },
   {
    "duration": 18,
    "start_time": "2022-06-23T13:38:54.926Z"
   },
   {
    "duration": 470,
    "start_time": "2022-06-23T13:38:54.946Z"
   },
   {
    "duration": 3,
    "start_time": "2022-06-23T13:38:55.419Z"
   },
   {
    "duration": 9,
    "start_time": "2022-06-23T13:38:55.424Z"
   },
   {
    "duration": 16,
    "start_time": "2022-06-23T13:38:55.434Z"
   },
   {
    "duration": 19,
    "start_time": "2022-06-23T13:38:55.452Z"
   },
   {
    "duration": 35,
    "start_time": "2022-06-23T13:38:55.473Z"
   },
   {
    "duration": 13,
    "start_time": "2022-06-23T13:38:55.510Z"
   },
   {
    "duration": 6,
    "start_time": "2022-06-23T13:38:57.470Z"
   },
   {
    "duration": 24,
    "start_time": "2022-06-23T13:39:04.328Z"
   },
   {
    "duration": 3,
    "start_time": "2022-06-23T13:58:42.319Z"
   },
   {
    "duration": 168,
    "start_time": "2022-06-23T13:58:42.326Z"
   },
   {
    "duration": 14,
    "start_time": "2022-06-23T13:58:42.496Z"
   },
   {
    "duration": 69,
    "start_time": "2022-06-23T13:58:42.512Z"
   },
   {
    "duration": 16,
    "start_time": "2022-06-23T13:58:42.583Z"
   },
   {
    "duration": 23,
    "start_time": "2022-06-23T13:58:42.601Z"
   },
   {
    "duration": 20,
    "start_time": "2022-06-23T13:58:42.625Z"
   },
   {
    "duration": 33,
    "start_time": "2022-06-23T13:58:42.647Z"
   },
   {
    "duration": 35,
    "start_time": "2022-06-23T13:58:42.681Z"
   },
   {
    "duration": 14,
    "start_time": "2022-06-23T13:58:42.718Z"
   },
   {
    "duration": 14,
    "start_time": "2022-06-23T13:58:42.735Z"
   },
   {
    "duration": 27,
    "start_time": "2022-06-23T13:58:42.751Z"
   },
   {
    "duration": 33,
    "start_time": "2022-06-23T13:58:42.779Z"
   },
   {
    "duration": 57,
    "start_time": "2022-06-23T13:58:42.814Z"
   },
   {
    "duration": 12,
    "start_time": "2022-06-23T13:58:42.872Z"
   },
   {
    "duration": 11,
    "start_time": "2022-06-23T13:58:42.886Z"
   },
   {
    "duration": 32,
    "start_time": "2022-06-23T13:58:42.899Z"
   },
   {
    "duration": 29,
    "start_time": "2022-06-23T13:58:42.933Z"
   },
   {
    "duration": 4,
    "start_time": "2022-06-23T13:58:42.964Z"
   },
   {
    "duration": 29,
    "start_time": "2022-06-23T13:58:42.969Z"
   },
   {
    "duration": 57,
    "start_time": "2022-06-23T13:58:43.000Z"
   },
   {
    "duration": 4,
    "start_time": "2022-06-23T13:58:43.059Z"
   },
   {
    "duration": 22,
    "start_time": "2022-06-23T13:58:43.064Z"
   },
   {
    "duration": 6,
    "start_time": "2022-06-23T13:58:43.088Z"
   },
   {
    "duration": 16,
    "start_time": "2022-06-23T13:58:43.096Z"
   },
   {
    "duration": 47,
    "start_time": "2022-06-23T13:58:43.114Z"
   },
   {
    "duration": 8,
    "start_time": "2022-06-23T13:58:43.163Z"
   },
   {
    "duration": 14,
    "start_time": "2022-06-23T13:58:43.173Z"
   },
   {
    "duration": 6,
    "start_time": "2022-06-23T13:58:43.191Z"
   },
   {
    "duration": 918,
    "start_time": "2022-06-23T13:58:43.198Z"
   },
   {
    "duration": 9,
    "start_time": "2022-06-23T13:58:44.119Z"
   },
   {
    "duration": 8,
    "start_time": "2022-06-23T13:58:44.129Z"
   },
   {
    "duration": 389,
    "start_time": "2022-06-23T13:58:44.139Z"
   },
   {
    "duration": 9,
    "start_time": "2022-06-23T13:58:44.530Z"
   },
   {
    "duration": 7,
    "start_time": "2022-06-23T13:58:44.540Z"
   },
   {
    "duration": 18,
    "start_time": "2022-06-23T13:58:44.549Z"
   },
   {
    "duration": 5,
    "start_time": "2022-06-23T13:58:44.569Z"
   },
   {
    "duration": 7,
    "start_time": "2022-06-23T13:58:44.575Z"
   },
   {
    "duration": 4,
    "start_time": "2022-06-23T13:58:44.584Z"
   },
   {
    "duration": 5,
    "start_time": "2022-06-23T13:58:44.589Z"
   },
   {
    "duration": 19,
    "start_time": "2022-06-23T13:58:44.595Z"
   },
   {
    "duration": 15,
    "start_time": "2022-06-23T13:58:44.616Z"
   },
   {
    "duration": 72,
    "start_time": "2022-06-23T13:58:44.633Z"
   },
   {
    "duration": 16,
    "start_time": "2022-06-23T13:58:44.707Z"
   },
   {
    "duration": 13,
    "start_time": "2022-06-23T13:58:44.725Z"
   },
   {
    "duration": 6,
    "start_time": "2022-06-23T13:58:44.740Z"
   },
   {
    "duration": 3,
    "start_time": "2022-06-23T13:58:44.768Z"
   },
   {
    "duration": 9,
    "start_time": "2022-06-23T13:58:44.772Z"
   },
   {
    "duration": 6,
    "start_time": "2022-06-23T13:58:44.783Z"
   },
   {
    "duration": 5,
    "start_time": "2022-06-23T13:58:44.791Z"
   },
   {
    "duration": 27,
    "start_time": "2022-06-23T13:58:44.798Z"
   },
   {
    "duration": 2,
    "start_time": "2022-06-23T13:58:44.827Z"
   },
   {
    "duration": 396,
    "start_time": "2022-06-23T13:58:44.831Z"
   },
   {
    "duration": 4,
    "start_time": "2022-06-23T14:16:39.346Z"
   },
   {
    "duration": 237,
    "start_time": "2022-06-23T14:16:39.353Z"
   },
   {
    "duration": 23,
    "start_time": "2022-06-23T14:16:39.594Z"
   },
   {
    "duration": 75,
    "start_time": "2022-06-23T14:16:39.619Z"
   },
   {
    "duration": 22,
    "start_time": "2022-06-23T14:16:39.697Z"
   },
   {
    "duration": 46,
    "start_time": "2022-06-23T14:16:39.721Z"
   },
   {
    "duration": 5,
    "start_time": "2022-06-23T14:16:39.770Z"
   },
   {
    "duration": 6,
    "start_time": "2022-06-23T14:16:39.778Z"
   },
   {
    "duration": 19,
    "start_time": "2022-06-23T14:16:39.786Z"
   },
   {
    "duration": 2,
    "start_time": "2022-06-23T14:16:39.807Z"
   },
   {
    "duration": 56,
    "start_time": "2022-06-23T14:16:39.812Z"
   },
   {
    "duration": 16,
    "start_time": "2022-06-23T14:16:39.870Z"
   },
   {
    "duration": 8,
    "start_time": "2022-06-23T14:16:39.889Z"
   },
   {
    "duration": 42,
    "start_time": "2022-06-23T14:16:39.899Z"
   },
   {
    "duration": 35,
    "start_time": "2022-06-23T14:16:39.943Z"
   },
   {
    "duration": 10,
    "start_time": "2022-06-23T14:16:39.980Z"
   },
   {
    "duration": 13,
    "start_time": "2022-06-23T14:16:39.992Z"
   },
   {
    "duration": 61,
    "start_time": "2022-06-23T14:16:40.007Z"
   },
   {
    "duration": 5,
    "start_time": "2022-06-23T14:16:40.070Z"
   },
   {
    "duration": 7,
    "start_time": "2022-06-23T14:16:40.077Z"
   },
   {
    "duration": 58,
    "start_time": "2022-06-23T14:16:40.086Z"
   },
   {
    "duration": 24,
    "start_time": "2022-06-23T14:16:40.145Z"
   },
   {
    "duration": 12,
    "start_time": "2022-06-23T14:16:40.171Z"
   },
   {
    "duration": 9,
    "start_time": "2022-06-23T14:16:40.184Z"
   },
   {
    "duration": 7,
    "start_time": "2022-06-23T14:16:40.195Z"
   },
   {
    "duration": 28,
    "start_time": "2022-06-23T14:16:40.204Z"
   },
   {
    "duration": 9,
    "start_time": "2022-06-23T14:16:40.267Z"
   },
   {
    "duration": 9,
    "start_time": "2022-06-23T14:16:40.278Z"
   },
   {
    "duration": 9,
    "start_time": "2022-06-23T14:16:40.295Z"
   },
   {
    "duration": 457,
    "start_time": "2022-06-23T14:16:40.307Z"
   },
   {
    "duration": 12,
    "start_time": "2022-06-23T14:16:40.767Z"
   },
   {
    "duration": 9,
    "start_time": "2022-06-23T14:16:40.780Z"
   },
   {
    "duration": 448,
    "start_time": "2022-06-23T14:16:40.790Z"
   },
   {
    "duration": 9,
    "start_time": "2022-06-23T14:16:41.240Z"
   },
   {
    "duration": 22,
    "start_time": "2022-06-23T14:16:41.251Z"
   },
   {
    "duration": 7,
    "start_time": "2022-06-23T14:16:41.275Z"
   },
   {
    "duration": 31,
    "start_time": "2022-06-23T14:16:41.283Z"
   },
   {
    "duration": 20,
    "start_time": "2022-06-23T14:16:41.316Z"
   },
   {
    "duration": 15,
    "start_time": "2022-06-23T14:16:41.338Z"
   },
   {
    "duration": 25,
    "start_time": "2022-06-23T14:16:41.355Z"
   },
   {
    "duration": 26,
    "start_time": "2022-06-23T14:16:41.382Z"
   },
   {
    "duration": 19,
    "start_time": "2022-06-23T14:16:41.410Z"
   },
   {
    "duration": 45,
    "start_time": "2022-06-23T14:16:41.431Z"
   },
   {
    "duration": 13,
    "start_time": "2022-06-23T14:16:41.478Z"
   },
   {
    "duration": 41,
    "start_time": "2022-06-23T14:16:41.493Z"
   },
   {
    "duration": 21,
    "start_time": "2022-06-23T14:16:41.536Z"
   },
   {
    "duration": 19,
    "start_time": "2022-06-23T14:16:41.559Z"
   },
   {
    "duration": 28,
    "start_time": "2022-06-23T14:16:41.580Z"
   },
   {
    "duration": 38,
    "start_time": "2022-06-23T14:16:41.611Z"
   },
   {
    "duration": 19,
    "start_time": "2022-06-23T14:16:41.652Z"
   },
   {
    "duration": 41,
    "start_time": "2022-06-23T14:16:41.674Z"
   },
   {
    "duration": 3,
    "start_time": "2022-06-23T14:16:41.718Z"
   },
   {
    "duration": 420,
    "start_time": "2022-06-23T14:16:41.723Z"
   },
   {
    "duration": 8,
    "start_time": "2022-06-23T14:16:42.145Z"
   },
   {
    "duration": 25,
    "start_time": "2022-06-23T14:16:42.168Z"
   },
   {
    "duration": 6,
    "start_time": "2022-06-23T14:16:42.196Z"
   },
   {
    "duration": 17,
    "start_time": "2022-06-23T14:16:42.204Z"
   },
   {
    "duration": 7,
    "start_time": "2022-06-23T14:16:42.223Z"
   },
   {
    "duration": 38,
    "start_time": "2022-06-23T14:16:42.232Z"
   },
   {
    "duration": 6,
    "start_time": "2022-06-23T14:16:42.273Z"
   },
   {
    "duration": 4,
    "start_time": "2022-06-23T14:16:42.282Z"
   },
   {
    "duration": 14,
    "start_time": "2022-06-23T14:16:42.288Z"
   },
   {
    "duration": 5,
    "start_time": "2022-06-23T14:16:42.304Z"
   },
   {
    "duration": 6,
    "start_time": "2022-06-23T14:16:42.311Z"
   },
   {
    "duration": 6,
    "start_time": "2022-06-23T14:16:42.320Z"
   },
   {
    "duration": 41,
    "start_time": "2022-06-23T14:16:42.328Z"
   },
   {
    "duration": 9,
    "start_time": "2022-06-23T14:16:42.371Z"
   },
   {
    "duration": 6,
    "start_time": "2022-06-23T14:16:42.383Z"
   },
   {
    "duration": 15,
    "start_time": "2022-06-23T14:16:42.392Z"
   },
   {
    "duration": 12,
    "start_time": "2022-06-23T14:16:42.410Z"
   },
   {
    "duration": 121,
    "start_time": "2022-06-23T14:16:42.424Z"
   },
   {
    "duration": 8,
    "start_time": "2022-06-23T14:16:42.548Z"
   },
   {
    "duration": 5,
    "start_time": "2022-06-23T14:16:42.568Z"
   },
   {
    "duration": 22,
    "start_time": "2022-06-23T14:16:42.575Z"
   },
   {
    "duration": 8,
    "start_time": "2022-06-23T14:16:42.599Z"
   },
   {
    "duration": 29,
    "start_time": "2022-06-23T14:16:42.609Z"
   },
   {
    "duration": 38,
    "start_time": "2022-06-23T14:16:57.561Z"
   },
   {
    "duration": 2,
    "start_time": "2022-06-23T15:05:45.294Z"
   },
   {
    "duration": 185,
    "start_time": "2022-06-23T15:05:45.303Z"
   },
   {
    "duration": 12,
    "start_time": "2022-06-23T15:05:45.490Z"
   },
   {
    "duration": 35,
    "start_time": "2022-06-23T15:05:45.503Z"
   },
   {
    "duration": 38,
    "start_time": "2022-06-23T15:05:45.540Z"
   },
   {
    "duration": 12,
    "start_time": "2022-06-23T15:05:45.579Z"
   },
   {
    "duration": 5,
    "start_time": "2022-06-23T15:05:45.594Z"
   },
   {
    "duration": 10,
    "start_time": "2022-06-23T15:05:45.601Z"
   },
   {
    "duration": 21,
    "start_time": "2022-06-23T15:05:45.612Z"
   },
   {
    "duration": 2,
    "start_time": "2022-06-23T15:05:45.635Z"
   },
   {
    "duration": 28,
    "start_time": "2022-06-23T15:05:45.640Z"
   },
   {
    "duration": 20,
    "start_time": "2022-06-23T15:05:45.669Z"
   },
   {
    "duration": 11,
    "start_time": "2022-06-23T15:05:45.690Z"
   },
   {
    "duration": 35,
    "start_time": "2022-06-23T15:05:45.703Z"
   },
   {
    "duration": 31,
    "start_time": "2022-06-23T15:05:45.740Z"
   },
   {
    "duration": 15,
    "start_time": "2022-06-23T15:05:45.772Z"
   },
   {
    "duration": 12,
    "start_time": "2022-06-23T15:05:45.789Z"
   },
   {
    "duration": 17,
    "start_time": "2022-06-23T15:05:45.802Z"
   },
   {
    "duration": 4,
    "start_time": "2022-06-23T15:05:45.821Z"
   },
   {
    "duration": 8,
    "start_time": "2022-06-23T15:05:45.826Z"
   },
   {
    "duration": 50,
    "start_time": "2022-06-23T15:05:45.835Z"
   },
   {
    "duration": 4,
    "start_time": "2022-06-23T15:05:45.886Z"
   },
   {
    "duration": 16,
    "start_time": "2022-06-23T15:05:45.891Z"
   },
   {
    "duration": 7,
    "start_time": "2022-06-23T15:05:45.909Z"
   },
   {
    "duration": 7,
    "start_time": "2022-06-23T15:05:45.917Z"
   },
   {
    "duration": 19,
    "start_time": "2022-06-23T15:05:45.926Z"
   },
   {
    "duration": 25,
    "start_time": "2022-06-23T15:05:45.947Z"
   },
   {
    "duration": 8,
    "start_time": "2022-06-23T15:05:45.974Z"
   },
   {
    "duration": 7,
    "start_time": "2022-06-23T15:05:45.986Z"
   },
   {
    "duration": 370,
    "start_time": "2022-06-23T15:05:45.995Z"
   },
   {
    "duration": 9,
    "start_time": "2022-06-23T15:05:46.367Z"
   },
   {
    "duration": 7,
    "start_time": "2022-06-23T15:05:46.378Z"
   },
   {
    "duration": 388,
    "start_time": "2022-06-23T15:05:46.387Z"
   },
   {
    "duration": 9,
    "start_time": "2022-06-23T15:05:46.776Z"
   },
   {
    "duration": 6,
    "start_time": "2022-06-23T15:05:46.786Z"
   },
   {
    "duration": 2,
    "start_time": "2022-06-23T15:05:46.793Z"
   },
   {
    "duration": 7,
    "start_time": "2022-06-23T15:05:46.797Z"
   },
   {
    "duration": 7,
    "start_time": "2022-06-23T15:05:46.805Z"
   },
   {
    "duration": 4,
    "start_time": "2022-06-23T15:05:46.813Z"
   },
   {
    "duration": 6,
    "start_time": "2022-06-23T15:05:46.818Z"
   },
   {
    "duration": 42,
    "start_time": "2022-06-23T15:05:46.825Z"
   },
   {
    "duration": 10,
    "start_time": "2022-06-23T15:05:46.869Z"
   },
   {
    "duration": 32,
    "start_time": "2022-06-23T15:05:46.880Z"
   },
   {
    "duration": 11,
    "start_time": "2022-06-23T15:05:46.914Z"
   },
   {
    "duration": 12,
    "start_time": "2022-06-23T15:05:46.927Z"
   },
   {
    "duration": 31,
    "start_time": "2022-06-23T15:05:46.940Z"
   },
   {
    "duration": 5,
    "start_time": "2022-06-23T15:05:46.973Z"
   },
   {
    "duration": 6,
    "start_time": "2022-06-23T15:05:46.979Z"
   },
   {
    "duration": 7,
    "start_time": "2022-06-23T15:05:46.986Z"
   },
   {
    "duration": 5,
    "start_time": "2022-06-23T15:05:46.995Z"
   },
   {
    "duration": 24,
    "start_time": "2022-06-23T15:05:47.002Z"
   },
   {
    "duration": 2,
    "start_time": "2022-06-23T15:05:47.028Z"
   },
   {
    "duration": 376,
    "start_time": "2022-06-23T15:05:47.032Z"
   },
   {
    "duration": 6,
    "start_time": "2022-06-23T15:05:47.410Z"
   },
   {
    "duration": 18,
    "start_time": "2022-06-23T15:05:47.418Z"
   },
   {
    "duration": 5,
    "start_time": "2022-06-23T15:05:47.438Z"
   },
   {
    "duration": 34,
    "start_time": "2022-06-23T15:05:47.444Z"
   },
   {
    "duration": 3,
    "start_time": "2022-06-23T15:05:47.480Z"
   },
   {
    "duration": 10,
    "start_time": "2022-06-23T15:05:47.485Z"
   },
   {
    "duration": 3,
    "start_time": "2022-06-23T15:05:47.496Z"
   },
   {
    "duration": 4,
    "start_time": "2022-06-23T15:05:47.501Z"
   },
   {
    "duration": 10,
    "start_time": "2022-06-23T15:05:47.507Z"
   },
   {
    "duration": 4,
    "start_time": "2022-06-23T15:05:47.518Z"
   },
   {
    "duration": 4,
    "start_time": "2022-06-23T15:05:47.524Z"
   },
   {
    "duration": 4,
    "start_time": "2022-06-23T15:05:47.529Z"
   },
   {
    "duration": 4,
    "start_time": "2022-06-23T15:05:47.534Z"
   },
   {
    "duration": 5,
    "start_time": "2022-06-23T15:05:47.568Z"
   },
   {
    "duration": 11,
    "start_time": "2022-06-23T15:05:47.575Z"
   },
   {
    "duration": 9,
    "start_time": "2022-06-23T15:05:47.588Z"
   },
   {
    "duration": 6,
    "start_time": "2022-06-23T15:05:47.599Z"
   },
   {
    "duration": 17,
    "start_time": "2022-06-23T15:05:47.607Z"
   },
   {
    "duration": 7,
    "start_time": "2022-06-23T15:05:47.628Z"
   },
   {
    "duration": 5,
    "start_time": "2022-06-23T15:05:47.666Z"
   },
   {
    "duration": 11,
    "start_time": "2022-06-23T15:05:47.673Z"
   },
   {
    "duration": 4,
    "start_time": "2022-06-23T15:05:47.686Z"
   },
   {
    "duration": 17,
    "start_time": "2022-06-23T15:05:47.691Z"
   },
   {
    "duration": 19,
    "start_time": "2022-06-23T15:05:47.709Z"
   },
   {
    "duration": 31,
    "start_time": "2022-06-23T15:06:18.534Z"
   },
   {
    "duration": 26,
    "start_time": "2022-06-23T15:06:24.761Z"
   },
   {
    "duration": 33,
    "start_time": "2022-06-23T15:08:17.519Z"
   },
   {
    "duration": 27,
    "start_time": "2022-06-23T15:09:03.727Z"
   },
   {
    "duration": 31,
    "start_time": "2022-06-23T15:09:08.779Z"
   },
   {
    "duration": 20,
    "start_time": "2022-06-23T15:09:16.379Z"
   },
   {
    "duration": 3,
    "start_time": "2022-06-23T15:13:44.118Z"
   },
   {
    "duration": 170,
    "start_time": "2022-06-23T15:13:44.123Z"
   },
   {
    "duration": 13,
    "start_time": "2022-06-23T15:13:44.295Z"
   },
   {
    "duration": 33,
    "start_time": "2022-06-23T15:13:44.310Z"
   },
   {
    "duration": 32,
    "start_time": "2022-06-23T15:13:44.345Z"
   },
   {
    "duration": 11,
    "start_time": "2022-06-23T15:13:44.379Z"
   },
   {
    "duration": 4,
    "start_time": "2022-06-23T15:13:44.392Z"
   },
   {
    "duration": 5,
    "start_time": "2022-06-23T15:13:44.398Z"
   },
   {
    "duration": 16,
    "start_time": "2022-06-23T15:13:44.405Z"
   },
   {
    "duration": 2,
    "start_time": "2022-06-23T15:13:44.423Z"
   },
   {
    "duration": 16,
    "start_time": "2022-06-23T15:13:44.466Z"
   },
   {
    "duration": 13,
    "start_time": "2022-06-23T15:13:44.483Z"
   },
   {
    "duration": 8,
    "start_time": "2022-06-23T15:13:44.498Z"
   },
   {
    "duration": 35,
    "start_time": "2022-06-23T15:13:44.508Z"
   },
   {
    "duration": 27,
    "start_time": "2022-06-23T15:13:44.546Z"
   },
   {
    "duration": 12,
    "start_time": "2022-06-23T15:13:44.577Z"
   },
   {
    "duration": 15,
    "start_time": "2022-06-23T15:13:44.591Z"
   },
   {
    "duration": 21,
    "start_time": "2022-06-23T15:13:44.608Z"
   },
   {
    "duration": 5,
    "start_time": "2022-06-23T15:13:44.631Z"
   },
   {
    "duration": 30,
    "start_time": "2022-06-23T15:13:44.638Z"
   },
   {
    "duration": 48,
    "start_time": "2022-06-23T15:13:44.670Z"
   },
   {
    "duration": 4,
    "start_time": "2022-06-23T15:13:44.720Z"
   },
   {
    "duration": 7,
    "start_time": "2022-06-23T15:13:44.725Z"
   },
   {
    "duration": 5,
    "start_time": "2022-06-23T15:13:44.734Z"
   },
   {
    "duration": 7,
    "start_time": "2022-06-23T15:13:44.741Z"
   },
   {
    "duration": 50,
    "start_time": "2022-06-23T15:13:44.749Z"
   },
   {
    "duration": 6,
    "start_time": "2022-06-23T15:13:44.801Z"
   },
   {
    "duration": 8,
    "start_time": "2022-06-23T15:13:44.809Z"
   },
   {
    "duration": 6,
    "start_time": "2022-06-23T15:13:44.820Z"
   },
   {
    "duration": 385,
    "start_time": "2022-06-23T15:13:44.828Z"
   },
   {
    "duration": 9,
    "start_time": "2022-06-23T15:13:45.214Z"
   },
   {
    "duration": 18,
    "start_time": "2022-06-23T15:13:45.224Z"
   },
   {
    "duration": 432,
    "start_time": "2022-06-23T15:13:45.243Z"
   },
   {
    "duration": 10,
    "start_time": "2022-06-23T15:13:45.677Z"
   },
   {
    "duration": 6,
    "start_time": "2022-06-23T15:13:45.689Z"
   },
   {
    "duration": 3,
    "start_time": "2022-06-23T15:13:45.697Z"
   },
   {
    "duration": 9,
    "start_time": "2022-06-23T15:13:45.701Z"
   },
   {
    "duration": 13,
    "start_time": "2022-06-23T15:13:45.711Z"
   },
   {
    "duration": 8,
    "start_time": "2022-06-23T15:13:45.726Z"
   },
   {
    "duration": 8,
    "start_time": "2022-06-23T15:13:45.736Z"
   },
   {
    "duration": 31,
    "start_time": "2022-06-23T15:13:45.745Z"
   },
   {
    "duration": 10,
    "start_time": "2022-06-23T15:13:45.778Z"
   },
   {
    "duration": 57,
    "start_time": "2022-06-23T15:13:45.789Z"
   },
   {
    "duration": 21,
    "start_time": "2022-06-23T15:13:45.849Z"
   },
   {
    "duration": 29,
    "start_time": "2022-06-23T15:13:45.872Z"
   },
   {
    "duration": 5,
    "start_time": "2022-06-23T15:13:45.903Z"
   },
   {
    "duration": 4,
    "start_time": "2022-06-23T15:13:45.910Z"
   },
   {
    "duration": 7,
    "start_time": "2022-06-23T15:13:45.916Z"
   },
   {
    "duration": 5,
    "start_time": "2022-06-23T15:13:45.925Z"
   },
   {
    "duration": 6,
    "start_time": "2022-06-23T15:13:45.932Z"
   },
   {
    "duration": 23,
    "start_time": "2022-06-23T15:13:45.939Z"
   },
   {
    "duration": 3,
    "start_time": "2022-06-23T15:13:45.967Z"
   },
   {
    "duration": 380,
    "start_time": "2022-06-23T15:13:45.971Z"
   },
   {
    "duration": 7,
    "start_time": "2022-06-23T15:13:46.352Z"
   },
   {
    "duration": 29,
    "start_time": "2022-06-23T15:13:46.367Z"
   },
   {
    "duration": 5,
    "start_time": "2022-06-23T15:13:46.398Z"
   },
   {
    "duration": 17,
    "start_time": "2022-06-23T15:13:46.404Z"
   },
   {
    "duration": 4,
    "start_time": "2022-06-23T15:13:46.422Z"
   },
   {
    "duration": 8,
    "start_time": "2022-06-23T15:13:46.428Z"
   },
   {
    "duration": 2,
    "start_time": "2022-06-23T15:13:46.438Z"
   },
   {
    "duration": 4,
    "start_time": "2022-06-23T15:13:46.442Z"
   },
   {
    "duration": 15,
    "start_time": "2022-06-23T15:13:46.466Z"
   },
   {
    "duration": 4,
    "start_time": "2022-06-23T15:13:46.483Z"
   },
   {
    "duration": 6,
    "start_time": "2022-06-23T15:13:46.489Z"
   },
   {
    "duration": 6,
    "start_time": "2022-06-23T15:13:46.496Z"
   },
   {
    "duration": 5,
    "start_time": "2022-06-23T15:13:46.503Z"
   },
   {
    "duration": 6,
    "start_time": "2022-06-23T15:13:46.513Z"
   },
   {
    "duration": 10,
    "start_time": "2022-06-23T15:13:46.521Z"
   },
   {
    "duration": 10,
    "start_time": "2022-06-23T15:13:46.533Z"
   },
   {
    "duration": 27,
    "start_time": "2022-06-23T15:13:46.544Z"
   },
   {
    "duration": 23,
    "start_time": "2022-06-23T15:13:46.574Z"
   },
   {
    "duration": 8,
    "start_time": "2022-06-23T15:13:46.599Z"
   },
   {
    "duration": 4,
    "start_time": "2022-06-23T15:13:46.609Z"
   },
   {
    "duration": 10,
    "start_time": "2022-06-23T15:13:46.614Z"
   },
   {
    "duration": 3,
    "start_time": "2022-06-23T15:13:46.625Z"
   },
   {
    "duration": 18,
    "start_time": "2022-06-23T15:13:46.630Z"
   },
   {
    "duration": 40,
    "start_time": "2022-06-23T15:13:46.668Z"
   },
   {
    "duration": 12,
    "start_time": "2022-06-23T15:13:46.709Z"
   },
   {
    "duration": 13,
    "start_time": "2022-06-23T15:13:46.723Z"
   },
   {
    "duration": 6,
    "start_time": "2022-06-23T15:13:46.737Z"
   },
   {
    "duration": 19,
    "start_time": "2022-06-23T15:13:46.766Z"
   },
   {
    "duration": 9,
    "start_time": "2022-06-23T15:13:46.787Z"
   },
   {
    "duration": 8,
    "start_time": "2022-06-23T15:13:46.798Z"
   },
   {
    "duration": 6,
    "start_time": "2022-06-23T15:13:46.808Z"
   },
   {
    "duration": 25,
    "start_time": "2022-06-23T15:13:46.816Z"
   },
   {
    "duration": 30,
    "start_time": "2022-06-23T15:13:46.843Z"
   },
   {
    "duration": 31,
    "start_time": "2022-06-23T15:13:46.875Z"
   },
   {
    "duration": 28,
    "start_time": "2022-06-23T15:14:08.486Z"
   },
   {
    "duration": 398,
    "start_time": "2022-06-23T15:14:47.516Z"
   },
   {
    "duration": 145,
    "start_time": "2022-06-23T15:14:47.917Z"
   },
   {
    "duration": 26,
    "start_time": "2022-06-23T15:14:48.063Z"
   },
   {
    "duration": 33,
    "start_time": "2022-06-23T15:14:48.092Z"
   },
   {
    "duration": 15,
    "start_time": "2022-06-23T15:14:48.127Z"
   },
   {
    "duration": 38,
    "start_time": "2022-06-23T15:14:48.144Z"
   },
   {
    "duration": 8,
    "start_time": "2022-06-23T15:14:48.184Z"
   },
   {
    "duration": 13,
    "start_time": "2022-06-23T15:14:48.194Z"
   },
   {
    "duration": 333,
    "start_time": "2022-06-23T15:14:48.209Z"
   },
   {
    "duration": 2,
    "start_time": "2022-06-23T15:14:48.546Z"
   },
   {
    "duration": 9,
    "start_time": "2022-06-23T15:14:48.549Z"
   },
   {
    "duration": 20,
    "start_time": "2022-06-23T15:14:48.560Z"
   },
   {
    "duration": 12,
    "start_time": "2022-06-23T15:14:48.582Z"
   },
   {
    "duration": 34,
    "start_time": "2022-06-23T15:14:48.595Z"
   },
   {
    "duration": 13,
    "start_time": "2022-06-23T15:14:48.631Z"
   },
   {
    "duration": 26,
    "start_time": "2022-06-23T15:14:48.645Z"
   },
   {
    "duration": 26,
    "start_time": "2022-06-23T15:14:48.674Z"
   },
   {
    "duration": 19,
    "start_time": "2022-06-23T15:14:48.702Z"
   },
   {
    "duration": 5,
    "start_time": "2022-06-23T15:14:48.723Z"
   },
   {
    "duration": 6,
    "start_time": "2022-06-23T15:14:48.729Z"
   },
   {
    "duration": 62,
    "start_time": "2022-06-23T15:14:48.737Z"
   },
   {
    "duration": 4,
    "start_time": "2022-06-23T15:14:48.801Z"
   },
   {
    "duration": 11,
    "start_time": "2022-06-23T15:14:48.807Z"
   },
   {
    "duration": 8,
    "start_time": "2022-06-23T15:14:48.819Z"
   },
   {
    "duration": 9,
    "start_time": "2022-06-23T15:14:48.829Z"
   },
   {
    "duration": 48,
    "start_time": "2022-06-23T15:14:48.840Z"
   },
   {
    "duration": 13,
    "start_time": "2022-06-23T15:14:48.891Z"
   },
   {
    "duration": 8,
    "start_time": "2022-06-23T15:14:48.911Z"
   },
   {
    "duration": 17,
    "start_time": "2022-06-23T15:14:48.922Z"
   },
   {
    "duration": 954,
    "start_time": "2022-06-23T15:14:48.941Z"
   },
   {
    "duration": 9,
    "start_time": "2022-06-23T15:14:49.897Z"
   },
   {
    "duration": 8,
    "start_time": "2022-06-23T15:14:49.908Z"
   },
   {
    "duration": 424,
    "start_time": "2022-06-23T15:14:49.918Z"
   },
   {
    "duration": 10,
    "start_time": "2022-06-23T15:14:50.345Z"
   },
   {
    "duration": 8,
    "start_time": "2022-06-23T15:14:50.368Z"
   },
   {
    "duration": 19,
    "start_time": "2022-06-23T15:14:50.378Z"
   },
   {
    "duration": 13,
    "start_time": "2022-06-23T15:14:50.399Z"
   },
   {
    "duration": 13,
    "start_time": "2022-06-23T15:14:50.413Z"
   },
   {
    "duration": 17,
    "start_time": "2022-06-23T15:14:50.428Z"
   },
   {
    "duration": 10,
    "start_time": "2022-06-23T15:14:50.447Z"
   },
   {
    "duration": 22,
    "start_time": "2022-06-23T15:14:50.458Z"
   },
   {
    "duration": 13,
    "start_time": "2022-06-23T15:14:50.482Z"
   },
   {
    "duration": 38,
    "start_time": "2022-06-23T15:14:50.496Z"
   },
   {
    "duration": 13,
    "start_time": "2022-06-23T15:14:50.536Z"
   },
   {
    "duration": 23,
    "start_time": "2022-06-23T15:14:50.550Z"
   },
   {
    "duration": 9,
    "start_time": "2022-06-23T15:14:50.576Z"
   },
   {
    "duration": 5,
    "start_time": "2022-06-23T15:14:50.586Z"
   },
   {
    "duration": 4,
    "start_time": "2022-06-23T15:14:50.593Z"
   },
   {
    "duration": 6,
    "start_time": "2022-06-23T15:14:50.599Z"
   },
   {
    "duration": 10,
    "start_time": "2022-06-23T15:14:50.607Z"
   },
   {
    "duration": 26,
    "start_time": "2022-06-23T15:14:50.619Z"
   },
   {
    "duration": 3,
    "start_time": "2022-06-23T15:14:50.668Z"
   },
   {
    "duration": 410,
    "start_time": "2022-06-23T15:14:50.675Z"
   },
   {
    "duration": 7,
    "start_time": "2022-06-23T15:14:51.087Z"
   },
   {
    "duration": 21,
    "start_time": "2022-06-23T15:14:51.095Z"
   },
   {
    "duration": 5,
    "start_time": "2022-06-23T15:14:51.118Z"
   },
   {
    "duration": 18,
    "start_time": "2022-06-23T15:14:51.125Z"
   },
   {
    "duration": 4,
    "start_time": "2022-06-23T15:14:51.144Z"
   },
   {
    "duration": 11,
    "start_time": "2022-06-23T15:14:51.168Z"
   },
   {
    "duration": 10,
    "start_time": "2022-06-23T15:14:51.182Z"
   },
   {
    "duration": 7,
    "start_time": "2022-06-23T15:14:51.194Z"
   },
   {
    "duration": 14,
    "start_time": "2022-06-23T15:14:51.202Z"
   },
   {
    "duration": 3,
    "start_time": "2022-06-23T15:14:51.218Z"
   },
   {
    "duration": 12,
    "start_time": "2022-06-23T15:14:51.223Z"
   },
   {
    "duration": 5,
    "start_time": "2022-06-23T15:14:51.237Z"
   },
   {
    "duration": 7,
    "start_time": "2022-06-23T15:14:51.244Z"
   },
   {
    "duration": 16,
    "start_time": "2022-06-23T15:14:51.252Z"
   },
   {
    "duration": 18,
    "start_time": "2022-06-23T15:14:51.270Z"
   },
   {
    "duration": 11,
    "start_time": "2022-06-23T15:14:51.289Z"
   },
   {
    "duration": 7,
    "start_time": "2022-06-23T15:14:51.302Z"
   },
   {
    "duration": 17,
    "start_time": "2022-06-23T15:14:51.310Z"
   },
   {
    "duration": 7,
    "start_time": "2022-06-23T15:14:51.329Z"
   },
   {
    "duration": 9,
    "start_time": "2022-06-23T15:14:51.337Z"
   },
   {
    "duration": 25,
    "start_time": "2022-06-23T15:14:51.348Z"
   },
   {
    "duration": 11,
    "start_time": "2022-06-23T15:14:51.376Z"
   },
   {
    "duration": 21,
    "start_time": "2022-06-23T15:14:51.389Z"
   },
   {
    "duration": 32,
    "start_time": "2022-06-23T15:14:51.412Z"
   },
   {
    "duration": 25,
    "start_time": "2022-06-23T15:14:51.445Z"
   },
   {
    "duration": 18,
    "start_time": "2022-06-23T15:14:51.476Z"
   },
   {
    "duration": 5,
    "start_time": "2022-06-23T15:14:51.496Z"
   },
   {
    "duration": 14,
    "start_time": "2022-06-23T15:14:51.503Z"
   },
   {
    "duration": 5,
    "start_time": "2022-06-23T15:14:51.522Z"
   },
   {
    "duration": 20,
    "start_time": "2022-06-23T15:14:51.529Z"
   },
   {
    "duration": 33,
    "start_time": "2022-06-23T15:14:51.550Z"
   },
   {
    "duration": 24,
    "start_time": "2022-06-23T15:14:51.585Z"
   },
   {
    "duration": 12,
    "start_time": "2022-06-23T15:14:51.611Z"
   },
   {
    "duration": 26,
    "start_time": "2022-06-23T15:14:51.625Z"
   },
   {
    "duration": 35,
    "start_time": "2022-06-23T15:16:57.636Z"
   },
   {
    "duration": 23,
    "start_time": "2022-06-23T15:17:07.394Z"
   },
   {
    "duration": 448,
    "start_time": "2022-06-23T15:18:07.030Z"
   },
   {
    "duration": 226,
    "start_time": "2022-06-23T15:18:07.480Z"
   },
   {
    "duration": 23,
    "start_time": "2022-06-23T15:18:07.707Z"
   },
   {
    "duration": 51,
    "start_time": "2022-06-23T15:18:07.732Z"
   },
   {
    "duration": 22,
    "start_time": "2022-06-23T15:18:07.788Z"
   },
   {
    "duration": 12,
    "start_time": "2022-06-23T15:18:07.812Z"
   },
   {
    "duration": 5,
    "start_time": "2022-06-23T15:18:07.826Z"
   },
   {
    "duration": 45,
    "start_time": "2022-06-23T15:18:07.832Z"
   },
   {
    "duration": 346,
    "start_time": "2022-06-23T15:18:07.885Z"
   },
   {
    "duration": 3,
    "start_time": "2022-06-23T15:18:08.233Z"
   },
   {
    "duration": 12,
    "start_time": "2022-06-23T15:18:08.237Z"
   },
   {
    "duration": 22,
    "start_time": "2022-06-23T15:18:08.251Z"
   },
   {
    "duration": 36,
    "start_time": "2022-06-23T15:18:08.276Z"
   },
   {
    "duration": 39,
    "start_time": "2022-06-23T15:18:08.314Z"
   },
   {
    "duration": 12,
    "start_time": "2022-06-23T15:18:08.354Z"
   },
   {
    "duration": 40,
    "start_time": "2022-06-23T15:18:08.368Z"
   },
   {
    "duration": 13,
    "start_time": "2022-06-23T15:18:08.411Z"
   },
   {
    "duration": 28,
    "start_time": "2022-06-23T15:18:08.426Z"
   },
   {
    "duration": 5,
    "start_time": "2022-06-23T15:18:08.457Z"
   },
   {
    "duration": 53,
    "start_time": "2022-06-23T15:18:08.464Z"
   },
   {
    "duration": 37,
    "start_time": "2022-06-23T15:18:08.519Z"
   },
   {
    "duration": 5,
    "start_time": "2022-06-23T15:18:08.558Z"
   },
   {
    "duration": 39,
    "start_time": "2022-06-23T15:18:08.564Z"
   },
   {
    "duration": 5,
    "start_time": "2022-06-23T15:18:08.606Z"
   },
   {
    "duration": 8,
    "start_time": "2022-06-23T15:18:08.613Z"
   },
   {
    "duration": 28,
    "start_time": "2022-06-23T15:18:08.623Z"
   },
   {
    "duration": 31,
    "start_time": "2022-06-23T15:18:08.653Z"
   },
   {
    "duration": 15,
    "start_time": "2022-06-23T15:18:08.694Z"
   },
   {
    "duration": 6,
    "start_time": "2022-06-23T15:18:08.711Z"
   },
   {
    "duration": 1042,
    "start_time": "2022-06-23T15:18:08.720Z"
   },
   {
    "duration": 18,
    "start_time": "2022-06-23T15:18:09.763Z"
   },
   {
    "duration": 27,
    "start_time": "2022-06-23T15:18:09.784Z"
   },
   {
    "duration": 417,
    "start_time": "2022-06-23T15:18:09.814Z"
   },
   {
    "duration": 9,
    "start_time": "2022-06-23T15:18:10.233Z"
   },
   {
    "duration": 13,
    "start_time": "2022-06-23T15:18:10.243Z"
   },
   {
    "duration": 9,
    "start_time": "2022-06-23T15:18:10.269Z"
   },
   {
    "duration": 25,
    "start_time": "2022-06-23T15:18:10.280Z"
   },
   {
    "duration": 9,
    "start_time": "2022-06-23T15:18:10.307Z"
   },
   {
    "duration": 3,
    "start_time": "2022-06-23T15:18:10.318Z"
   },
   {
    "duration": 9,
    "start_time": "2022-06-23T15:18:10.323Z"
   },
   {
    "duration": 17,
    "start_time": "2022-06-23T15:18:10.334Z"
   },
   {
    "duration": 20,
    "start_time": "2022-06-23T15:18:10.353Z"
   },
   {
    "duration": 51,
    "start_time": "2022-06-23T15:18:10.375Z"
   },
   {
    "duration": 13,
    "start_time": "2022-06-23T15:18:10.427Z"
   },
   {
    "duration": 18,
    "start_time": "2022-06-23T15:18:10.442Z"
   },
   {
    "duration": 45,
    "start_time": "2022-06-23T15:18:10.462Z"
   },
   {
    "duration": 7,
    "start_time": "2022-06-23T15:18:10.509Z"
   },
   {
    "duration": 4,
    "start_time": "2022-06-23T15:18:10.518Z"
   },
   {
    "duration": 6,
    "start_time": "2022-06-23T15:18:10.523Z"
   },
   {
    "duration": 8,
    "start_time": "2022-06-23T15:18:10.531Z"
   },
   {
    "duration": 39,
    "start_time": "2022-06-23T15:18:10.540Z"
   },
   {
    "duration": 3,
    "start_time": "2022-06-23T15:18:10.581Z"
   },
   {
    "duration": 474,
    "start_time": "2022-06-23T15:18:10.586Z"
   },
   {
    "duration": 11,
    "start_time": "2022-06-23T15:18:11.061Z"
   },
   {
    "duration": 47,
    "start_time": "2022-06-23T15:18:11.074Z"
   },
   {
    "duration": 5,
    "start_time": "2022-06-23T15:18:11.123Z"
   },
   {
    "duration": 16,
    "start_time": "2022-06-23T15:18:11.130Z"
   },
   {
    "duration": 5,
    "start_time": "2022-06-23T15:18:11.148Z"
   },
   {
    "duration": 10,
    "start_time": "2022-06-23T15:18:11.154Z"
   },
   {
    "duration": 28,
    "start_time": "2022-06-23T15:18:11.172Z"
   },
   {
    "duration": 7,
    "start_time": "2022-06-23T15:18:11.202Z"
   },
   {
    "duration": 13,
    "start_time": "2022-06-23T15:18:11.211Z"
   },
   {
    "duration": 5,
    "start_time": "2022-06-23T15:18:11.226Z"
   },
   {
    "duration": 5,
    "start_time": "2022-06-23T15:18:11.233Z"
   },
   {
    "duration": 6,
    "start_time": "2022-06-23T15:18:11.239Z"
   },
   {
    "duration": 7,
    "start_time": "2022-06-23T15:18:11.247Z"
   },
   {
    "duration": 9,
    "start_time": "2022-06-23T15:18:11.256Z"
   },
   {
    "duration": 37,
    "start_time": "2022-06-23T15:18:11.267Z"
   },
   {
    "duration": 17,
    "start_time": "2022-06-23T15:18:11.307Z"
   },
   {
    "duration": 8,
    "start_time": "2022-06-23T15:18:11.325Z"
   },
   {
    "duration": 24,
    "start_time": "2022-06-23T15:18:11.335Z"
   },
   {
    "duration": 10,
    "start_time": "2022-06-23T15:18:11.361Z"
   },
   {
    "duration": 31,
    "start_time": "2022-06-23T15:18:11.373Z"
   },
   {
    "duration": 12,
    "start_time": "2022-06-23T15:18:11.406Z"
   },
   {
    "duration": 4,
    "start_time": "2022-06-23T15:18:11.420Z"
   },
   {
    "duration": 25,
    "start_time": "2022-06-23T15:18:11.425Z"
   },
   {
    "duration": 53,
    "start_time": "2022-06-23T15:18:11.452Z"
   },
   {
    "duration": 17,
    "start_time": "2022-06-23T15:18:11.508Z"
   },
   {
    "duration": 10,
    "start_time": "2022-06-23T15:18:11.527Z"
   },
   {
    "duration": 8,
    "start_time": "2022-06-23T15:18:11.539Z"
   },
   {
    "duration": 29,
    "start_time": "2022-06-23T15:18:11.549Z"
   },
   {
    "duration": 10,
    "start_time": "2022-06-23T15:18:11.587Z"
   },
   {
    "duration": 35,
    "start_time": "2022-06-23T15:18:11.599Z"
   },
   {
    "duration": 9,
    "start_time": "2022-06-23T15:18:11.636Z"
   },
   {
    "duration": 28,
    "start_time": "2022-06-23T15:18:11.647Z"
   },
   {
    "duration": 32,
    "start_time": "2022-06-23T15:18:11.677Z"
   },
   {
    "duration": 21,
    "start_time": "2022-06-23T15:18:11.711Z"
   },
   {
    "duration": 39,
    "start_time": "2022-06-23T15:18:11.734Z"
   },
   {
    "duration": 14,
    "start_time": "2022-06-23T15:18:11.775Z"
   },
   {
    "duration": 16,
    "start_time": "2022-06-23T15:18:11.791Z"
   },
   {
    "duration": 11,
    "start_time": "2022-06-23T15:18:11.809Z"
   },
   {
    "duration": 8,
    "start_time": "2022-06-23T15:18:11.822Z"
   },
   {
    "duration": 13,
    "start_time": "2022-06-23T15:18:11.832Z"
   },
   {
    "duration": 17,
    "start_time": "2022-06-23T15:18:11.867Z"
   },
   {
    "duration": 26,
    "start_time": "2022-06-23T15:18:11.887Z"
   },
   {
    "duration": 19,
    "start_time": "2022-06-23T15:18:11.914Z"
   },
   {
    "duration": 6,
    "start_time": "2022-06-23T15:18:11.935Z"
   },
   {
    "duration": 31,
    "start_time": "2022-06-23T15:18:11.943Z"
   },
   {
    "duration": 8,
    "start_time": "2022-06-23T15:18:11.976Z"
   },
   {
    "duration": 21,
    "start_time": "2022-06-23T15:18:11.986Z"
   },
   {
    "duration": 32,
    "start_time": "2022-06-23T15:18:12.009Z"
   },
   {
    "duration": 3,
    "start_time": "2022-06-23T15:18:12.043Z"
   },
   {
    "duration": 44,
    "start_time": "2022-06-23T15:18:12.048Z"
   },
   {
    "duration": 11,
    "start_time": "2022-06-23T15:18:12.094Z"
   },
   {
    "duration": 6,
    "start_time": "2022-06-23T15:18:12.107Z"
   },
   {
    "duration": 12,
    "start_time": "2022-06-23T15:18:12.114Z"
   },
   {
    "duration": 6,
    "start_time": "2022-06-23T15:18:12.128Z"
   },
   {
    "duration": 5,
    "start_time": "2022-06-23T15:18:12.136Z"
   },
   {
    "duration": 11,
    "start_time": "2022-06-23T15:18:12.142Z"
   },
   {
    "duration": 35,
    "start_time": "2022-06-23T15:18:12.155Z"
   },
   {
    "duration": 9,
    "start_time": "2022-06-23T15:18:12.197Z"
   },
   {
    "duration": 5,
    "start_time": "2022-06-23T15:18:12.208Z"
   },
   {
    "duration": 7,
    "start_time": "2022-06-23T15:18:12.214Z"
   },
   {
    "duration": 12,
    "start_time": "2022-06-23T15:18:12.223Z"
   },
   {
    "duration": 11,
    "start_time": "2022-06-23T15:18:12.237Z"
   },
   {
    "duration": 9,
    "start_time": "2022-06-23T15:18:12.249Z"
   },
   {
    "duration": 38,
    "start_time": "2022-06-23T15:18:12.260Z"
   },
   {
    "duration": 3,
    "start_time": "2022-06-23T15:18:12.301Z"
   },
   {
    "duration": 10,
    "start_time": "2022-06-23T15:18:12.306Z"
   },
   {
    "duration": 5,
    "start_time": "2022-06-23T15:18:12.318Z"
   },
   {
    "duration": 7,
    "start_time": "2022-06-23T15:18:12.324Z"
   },
   {
    "duration": 6,
    "start_time": "2022-06-23T15:18:12.333Z"
   },
   {
    "duration": 7,
    "start_time": "2022-06-23T15:18:12.341Z"
   },
   {
    "duration": 38,
    "start_time": "2022-06-23T15:18:12.350Z"
   },
   {
    "duration": 3,
    "start_time": "2022-06-23T15:18:12.391Z"
   },
   {
    "duration": 13,
    "start_time": "2022-06-23T15:18:12.396Z"
   },
   {
    "duration": 8,
    "start_time": "2022-06-23T15:18:12.411Z"
   },
   {
    "duration": 7,
    "start_time": "2022-06-23T15:18:12.421Z"
   },
   {
    "duration": 4,
    "start_time": "2022-06-23T15:18:12.430Z"
   },
   {
    "duration": 6,
    "start_time": "2022-06-23T15:18:12.435Z"
   },
   {
    "duration": 36,
    "start_time": "2022-06-23T15:49:09.463Z"
   },
   {
    "duration": 4,
    "start_time": "2022-06-23T15:49:22.296Z"
   },
   {
    "duration": 297,
    "start_time": "2022-06-23T15:49:22.302Z"
   },
   {
    "duration": 13,
    "start_time": "2022-06-23T15:49:22.601Z"
   },
   {
    "duration": 32,
    "start_time": "2022-06-23T15:49:22.617Z"
   },
   {
    "duration": 23,
    "start_time": "2022-06-23T15:49:22.666Z"
   },
   {
    "duration": 8,
    "start_time": "2022-06-23T15:49:22.691Z"
   },
   {
    "duration": 4,
    "start_time": "2022-06-23T15:49:22.701Z"
   },
   {
    "duration": 6,
    "start_time": "2022-06-23T15:49:22.707Z"
   },
   {
    "duration": 20,
    "start_time": "2022-06-23T15:49:22.715Z"
   },
   {
    "duration": 2,
    "start_time": "2022-06-23T15:49:22.737Z"
   },
   {
    "duration": 37,
    "start_time": "2022-06-23T15:49:22.740Z"
   },
   {
    "duration": 14,
    "start_time": "2022-06-23T15:49:22.779Z"
   },
   {
    "duration": 7,
    "start_time": "2022-06-23T15:49:22.794Z"
   },
   {
    "duration": 33,
    "start_time": "2022-06-23T15:49:22.803Z"
   },
   {
    "duration": 11,
    "start_time": "2022-06-23T15:49:22.838Z"
   },
   {
    "duration": 23,
    "start_time": "2022-06-23T15:49:22.850Z"
   },
   {
    "duration": 19,
    "start_time": "2022-06-23T15:49:22.879Z"
   },
   {
    "duration": 17,
    "start_time": "2022-06-23T15:49:22.899Z"
   },
   {
    "duration": 3,
    "start_time": "2022-06-23T15:49:22.917Z"
   },
   {
    "duration": 4,
    "start_time": "2022-06-23T15:49:22.922Z"
   },
   {
    "duration": 62,
    "start_time": "2022-06-23T15:49:22.927Z"
   },
   {
    "duration": 4,
    "start_time": "2022-06-23T15:49:22.991Z"
   },
   {
    "duration": 11,
    "start_time": "2022-06-23T15:49:22.996Z"
   },
   {
    "duration": 11,
    "start_time": "2022-06-23T15:49:23.008Z"
   },
   {
    "duration": 8,
    "start_time": "2022-06-23T15:49:23.020Z"
   },
   {
    "duration": 55,
    "start_time": "2022-06-23T15:49:23.029Z"
   },
   {
    "duration": 7,
    "start_time": "2022-06-23T15:49:23.086Z"
   },
   {
    "duration": 5,
    "start_time": "2022-06-23T15:49:23.097Z"
   },
   {
    "duration": 9,
    "start_time": "2022-06-23T15:49:23.104Z"
   },
   {
    "duration": 375,
    "start_time": "2022-06-23T15:49:23.115Z"
   },
   {
    "duration": 9,
    "start_time": "2022-06-23T15:49:23.491Z"
   },
   {
    "duration": 7,
    "start_time": "2022-06-23T15:49:23.502Z"
   },
   {
    "duration": 400,
    "start_time": "2022-06-23T15:49:23.510Z"
   },
   {
    "duration": 10,
    "start_time": "2022-06-23T15:49:23.912Z"
   },
   {
    "duration": 7,
    "start_time": "2022-06-23T15:49:23.923Z"
   },
   {
    "duration": 3,
    "start_time": "2022-06-23T15:49:23.932Z"
   },
   {
    "duration": 46,
    "start_time": "2022-06-23T15:49:23.936Z"
   },
   {
    "duration": 14,
    "start_time": "2022-06-23T15:49:23.984Z"
   },
   {
    "duration": 5,
    "start_time": "2022-06-23T15:49:24.000Z"
   },
   {
    "duration": 4,
    "start_time": "2022-06-23T15:49:24.007Z"
   },
   {
    "duration": 15,
    "start_time": "2022-06-23T15:49:24.013Z"
   },
   {
    "duration": 10,
    "start_time": "2022-06-23T15:49:24.030Z"
   },
   {
    "duration": 38,
    "start_time": "2022-06-23T15:49:24.042Z"
   },
   {
    "duration": 12,
    "start_time": "2022-06-23T15:49:24.082Z"
   },
   {
    "duration": 18,
    "start_time": "2022-06-23T15:49:24.096Z"
   },
   {
    "duration": 6,
    "start_time": "2022-06-23T15:49:24.115Z"
   },
   {
    "duration": 3,
    "start_time": "2022-06-23T15:49:24.123Z"
   },
   {
    "duration": 8,
    "start_time": "2022-06-23T15:49:24.127Z"
   },
   {
    "duration": 8,
    "start_time": "2022-06-23T15:49:24.136Z"
   },
   {
    "duration": 8,
    "start_time": "2022-06-23T15:49:24.168Z"
   },
   {
    "duration": 32,
    "start_time": "2022-06-23T15:49:24.182Z"
   },
   {
    "duration": 2,
    "start_time": "2022-06-23T15:49:24.216Z"
   },
   {
    "duration": 365,
    "start_time": "2022-06-23T15:49:24.220Z"
   },
   {
    "duration": 6,
    "start_time": "2022-06-23T15:49:24.587Z"
   },
   {
    "duration": 20,
    "start_time": "2022-06-23T15:49:24.594Z"
   },
   {
    "duration": 5,
    "start_time": "2022-06-23T15:49:24.615Z"
   },
   {
    "duration": 15,
    "start_time": "2022-06-23T15:49:24.622Z"
   },
   {
    "duration": 9,
    "start_time": "2022-06-23T15:49:24.667Z"
   },
   {
    "duration": 10,
    "start_time": "2022-06-23T15:49:24.681Z"
   },
   {
    "duration": 11,
    "start_time": "2022-06-23T15:49:24.693Z"
   },
   {
    "duration": 4,
    "start_time": "2022-06-23T15:49:24.707Z"
   },
   {
    "duration": 13,
    "start_time": "2022-06-23T15:49:24.713Z"
   },
   {
    "duration": 6,
    "start_time": "2022-06-23T15:49:24.728Z"
   },
   {
    "duration": 4,
    "start_time": "2022-06-23T15:49:24.736Z"
   },
   {
    "duration": 7,
    "start_time": "2022-06-23T15:49:24.741Z"
   },
   {
    "duration": 5,
    "start_time": "2022-06-23T15:49:24.750Z"
   },
   {
    "duration": 23,
    "start_time": "2022-06-23T15:49:24.757Z"
   },
   {
    "duration": 12,
    "start_time": "2022-06-23T15:49:24.782Z"
   },
   {
    "duration": 14,
    "start_time": "2022-06-23T15:49:24.795Z"
   },
   {
    "duration": 77,
    "start_time": "2022-06-23T15:49:24.810Z"
   },
   {
    "duration": 14,
    "start_time": "2022-06-23T15:49:24.888Z"
   },
   {
    "duration": 7,
    "start_time": "2022-06-23T15:49:24.904Z"
   },
   {
    "duration": 7,
    "start_time": "2022-06-23T15:49:24.912Z"
   },
   {
    "duration": 10,
    "start_time": "2022-06-23T15:49:24.921Z"
   },
   {
    "duration": 3,
    "start_time": "2022-06-23T15:49:24.933Z"
   },
   {
    "duration": 45,
    "start_time": "2022-06-23T15:49:24.937Z"
   },
   {
    "duration": 31,
    "start_time": "2022-06-23T15:49:24.984Z"
   },
   {
    "duration": 10,
    "start_time": "2022-06-23T15:49:25.016Z"
   },
   {
    "duration": 6,
    "start_time": "2022-06-23T15:49:25.031Z"
   },
   {
    "duration": 38,
    "start_time": "2022-06-23T15:49:25.038Z"
   },
   {
    "duration": 15,
    "start_time": "2022-06-23T15:49:25.077Z"
   },
   {
    "duration": 8,
    "start_time": "2022-06-23T15:49:25.094Z"
   },
   {
    "duration": 7,
    "start_time": "2022-06-23T15:49:25.103Z"
   },
   {
    "duration": 8,
    "start_time": "2022-06-23T15:49:25.111Z"
   },
   {
    "duration": 22,
    "start_time": "2022-06-23T15:49:25.121Z"
   },
   {
    "duration": 7,
    "start_time": "2022-06-23T15:49:25.144Z"
   },
   {
    "duration": 22,
    "start_time": "2022-06-23T15:49:25.168Z"
   },
   {
    "duration": 30,
    "start_time": "2022-06-23T15:49:25.192Z"
   },
   {
    "duration": 6,
    "start_time": "2022-06-23T15:49:25.223Z"
   },
   {
    "duration": 8,
    "start_time": "2022-06-23T15:49:25.231Z"
   },
   {
    "duration": 40,
    "start_time": "2022-06-23T15:49:25.241Z"
   },
   {
    "duration": 9,
    "start_time": "2022-06-23T15:49:25.282Z"
   },
   {
    "duration": 16,
    "start_time": "2022-06-23T15:49:25.293Z"
   },
   {
    "duration": 28,
    "start_time": "2022-06-23T15:49:27.062Z"
   },
   {
    "duration": 85,
    "start_time": "2022-06-23T15:49:33.822Z"
   },
   {
    "duration": 5,
    "start_time": "2022-06-23T15:49:38.014Z"
   },
   {
    "duration": 25,
    "start_time": "2022-06-23T15:49:40.090Z"
   },
   {
    "duration": 439,
    "start_time": "2022-06-23T15:50:09.740Z"
   },
   {
    "duration": 135,
    "start_time": "2022-06-23T15:50:10.182Z"
   },
   {
    "duration": 21,
    "start_time": "2022-06-23T15:50:10.318Z"
   },
   {
    "duration": 61,
    "start_time": "2022-06-23T15:50:10.341Z"
   },
   {
    "duration": 13,
    "start_time": "2022-06-23T15:50:10.404Z"
   },
   {
    "duration": 11,
    "start_time": "2022-06-23T15:50:10.419Z"
   },
   {
    "duration": 5,
    "start_time": "2022-06-23T15:50:10.432Z"
   },
   {
    "duration": 35,
    "start_time": "2022-06-23T15:50:10.439Z"
   },
   {
    "duration": 317,
    "start_time": "2022-06-23T15:50:10.482Z"
   },
   {
    "duration": 2,
    "start_time": "2022-06-23T15:50:10.802Z"
   },
   {
    "duration": 7,
    "start_time": "2022-06-23T15:50:10.805Z"
   },
   {
    "duration": 26,
    "start_time": "2022-06-23T15:50:10.813Z"
   },
   {
    "duration": 8,
    "start_time": "2022-06-23T15:50:10.841Z"
   },
   {
    "duration": 51,
    "start_time": "2022-06-23T15:50:10.850Z"
   },
   {
    "duration": 13,
    "start_time": "2022-06-23T15:50:10.903Z"
   },
   {
    "duration": 6,
    "start_time": "2022-06-23T15:50:10.918Z"
   },
   {
    "duration": 13,
    "start_time": "2022-06-23T15:50:10.926Z"
   },
   {
    "duration": 45,
    "start_time": "2022-06-23T15:50:10.941Z"
   },
   {
    "duration": 4,
    "start_time": "2022-06-23T15:50:10.988Z"
   },
   {
    "duration": 11,
    "start_time": "2022-06-23T15:50:10.994Z"
   },
   {
    "duration": 40,
    "start_time": "2022-06-23T15:50:11.007Z"
   },
   {
    "duration": 4,
    "start_time": "2022-06-23T15:50:11.049Z"
   },
   {
    "duration": 29,
    "start_time": "2022-06-23T15:50:11.054Z"
   },
   {
    "duration": 5,
    "start_time": "2022-06-23T15:50:11.085Z"
   },
   {
    "duration": 7,
    "start_time": "2022-06-23T15:50:11.091Z"
   },
   {
    "duration": 22,
    "start_time": "2022-06-23T15:50:11.100Z"
   },
   {
    "duration": 7,
    "start_time": "2022-06-23T15:50:11.125Z"
   },
   {
    "duration": 11,
    "start_time": "2022-06-23T15:50:11.170Z"
   },
   {
    "duration": 8,
    "start_time": "2022-06-23T15:50:11.183Z"
   },
   {
    "duration": 928,
    "start_time": "2022-06-23T15:50:11.192Z"
   },
   {
    "duration": 9,
    "start_time": "2022-06-23T15:50:12.122Z"
   },
   {
    "duration": 9,
    "start_time": "2022-06-23T15:50:12.133Z"
   },
   {
    "duration": 403,
    "start_time": "2022-06-23T15:50:12.144Z"
   },
   {
    "duration": 8,
    "start_time": "2022-06-23T15:50:12.549Z"
   },
   {
    "duration": 7,
    "start_time": "2022-06-23T15:50:12.567Z"
   },
   {
    "duration": 9,
    "start_time": "2022-06-23T15:50:12.576Z"
   },
   {
    "duration": 8,
    "start_time": "2022-06-23T15:50:12.586Z"
   },
   {
    "duration": 7,
    "start_time": "2022-06-23T15:50:12.595Z"
   },
   {
    "duration": 3,
    "start_time": "2022-06-23T15:50:12.604Z"
   },
   {
    "duration": 5,
    "start_time": "2022-06-23T15:50:12.608Z"
   },
   {
    "duration": 13,
    "start_time": "2022-06-23T15:50:12.614Z"
   },
   {
    "duration": 15,
    "start_time": "2022-06-23T15:50:12.629Z"
   },
   {
    "duration": 37,
    "start_time": "2022-06-23T15:50:12.667Z"
   },
   {
    "duration": 11,
    "start_time": "2022-06-23T15:50:12.706Z"
   },
   {
    "duration": 13,
    "start_time": "2022-06-23T15:50:12.719Z"
   },
   {
    "duration": 6,
    "start_time": "2022-06-23T15:50:12.734Z"
   },
   {
    "duration": 2,
    "start_time": "2022-06-23T15:50:12.782Z"
   },
   {
    "duration": 5,
    "start_time": "2022-06-23T15:50:12.786Z"
   },
   {
    "duration": 7,
    "start_time": "2022-06-23T15:50:12.792Z"
   },
   {
    "duration": 6,
    "start_time": "2022-06-23T15:50:12.800Z"
   },
   {
    "duration": 25,
    "start_time": "2022-06-23T15:50:12.807Z"
   },
   {
    "duration": 2,
    "start_time": "2022-06-23T15:50:12.834Z"
   },
   {
    "duration": 402,
    "start_time": "2022-06-23T15:50:12.838Z"
   },
   {
    "duration": 7,
    "start_time": "2022-06-23T15:50:13.242Z"
   },
   {
    "duration": 30,
    "start_time": "2022-06-23T15:50:13.251Z"
   },
   {
    "duration": 15,
    "start_time": "2022-06-23T15:50:13.282Z"
   },
   {
    "duration": 17,
    "start_time": "2022-06-23T15:50:13.298Z"
   },
   {
    "duration": 19,
    "start_time": "2022-06-23T15:50:13.317Z"
   },
   {
    "duration": 10,
    "start_time": "2022-06-23T15:50:13.338Z"
   },
   {
    "duration": 5,
    "start_time": "2022-06-23T15:50:13.350Z"
   },
   {
    "duration": 6,
    "start_time": "2022-06-23T15:50:13.356Z"
   },
   {
    "duration": 22,
    "start_time": "2022-06-23T15:50:13.367Z"
   },
   {
    "duration": 5,
    "start_time": "2022-06-23T15:50:13.391Z"
   },
   {
    "duration": 7,
    "start_time": "2022-06-23T15:50:13.398Z"
   },
   {
    "duration": 7,
    "start_time": "2022-06-23T15:50:13.406Z"
   },
   {
    "duration": 6,
    "start_time": "2022-06-23T15:50:13.414Z"
   },
   {
    "duration": 17,
    "start_time": "2022-06-23T15:50:13.421Z"
   },
   {
    "duration": 6,
    "start_time": "2022-06-23T15:50:13.440Z"
   },
   {
    "duration": 13,
    "start_time": "2022-06-23T15:50:13.448Z"
   },
   {
    "duration": 18,
    "start_time": "2022-06-23T15:50:13.463Z"
   },
   {
    "duration": 24,
    "start_time": "2022-06-23T15:50:13.483Z"
   },
   {
    "duration": 18,
    "start_time": "2022-06-23T15:50:13.509Z"
   },
   {
    "duration": 8,
    "start_time": "2022-06-23T15:50:13.528Z"
   },
   {
    "duration": 14,
    "start_time": "2022-06-23T15:50:13.538Z"
   },
   {
    "duration": 5,
    "start_time": "2022-06-23T15:50:13.554Z"
   },
   {
    "duration": 25,
    "start_time": "2022-06-23T15:50:13.568Z"
   },
   {
    "duration": 37,
    "start_time": "2022-06-23T15:50:13.595Z"
   },
   {
    "duration": 12,
    "start_time": "2022-06-23T15:50:13.634Z"
   },
   {
    "duration": 14,
    "start_time": "2022-06-23T15:50:13.667Z"
   },
   {
    "duration": 12,
    "start_time": "2022-06-23T15:50:13.683Z"
   },
   {
    "duration": 18,
    "start_time": "2022-06-23T15:50:13.697Z"
   },
   {
    "duration": 6,
    "start_time": "2022-06-23T15:50:13.722Z"
   },
   {
    "duration": 16,
    "start_time": "2022-06-23T15:50:13.729Z"
   },
   {
    "duration": 19,
    "start_time": "2022-06-23T15:50:13.747Z"
   },
   {
    "duration": 46,
    "start_time": "2022-06-23T15:50:13.768Z"
   },
   {
    "duration": 18,
    "start_time": "2022-06-23T15:50:13.816Z"
   },
   {
    "duration": 29,
    "start_time": "2022-06-23T15:50:13.836Z"
   },
   {
    "duration": 52,
    "start_time": "2022-06-23T15:50:13.866Z"
   },
   {
    "duration": 6,
    "start_time": "2022-06-23T15:50:13.920Z"
   },
   {
    "duration": 11,
    "start_time": "2022-06-23T15:50:13.928Z"
   },
   {
    "duration": 17,
    "start_time": "2022-06-23T15:50:13.941Z"
   },
   {
    "duration": 21,
    "start_time": "2022-06-23T15:50:13.960Z"
   },
   {
    "duration": 14,
    "start_time": "2022-06-23T15:50:13.983Z"
   },
   {
    "duration": 6,
    "start_time": "2022-06-23T15:50:13.999Z"
   },
   {
    "duration": 11,
    "start_time": "2022-06-23T15:50:14.007Z"
   },
   {
    "duration": 20,
    "start_time": "2022-06-23T15:50:14.019Z"
   },
   {
    "duration": 6,
    "start_time": "2022-06-23T15:50:14.041Z"
   },
   {
    "duration": 34,
    "start_time": "2022-06-23T15:50:14.049Z"
   },
   {
    "duration": 9,
    "start_time": "2022-06-23T15:50:14.085Z"
   },
   {
    "duration": 6,
    "start_time": "2022-06-23T15:50:14.096Z"
   },
   {
    "duration": 24,
    "start_time": "2022-06-23T15:50:14.103Z"
   },
   {
    "duration": 3,
    "start_time": "2022-06-23T15:50:14.128Z"
   },
   {
    "duration": 43,
    "start_time": "2022-06-23T15:50:14.133Z"
   },
   {
    "duration": 2,
    "start_time": "2022-06-23T15:50:14.178Z"
   },
   {
    "duration": 21,
    "start_time": "2022-06-23T15:50:14.182Z"
   },
   {
    "duration": 5,
    "start_time": "2022-06-23T15:50:14.205Z"
   },
   {
    "duration": 4,
    "start_time": "2022-06-23T15:50:14.212Z"
   },
   {
    "duration": 5,
    "start_time": "2022-06-23T15:50:14.218Z"
   },
   {
    "duration": 8,
    "start_time": "2022-06-23T15:50:14.224Z"
   },
   {
    "duration": 32,
    "start_time": "2022-06-23T15:50:14.234Z"
   },
   {
    "duration": 16,
    "start_time": "2022-06-23T15:50:14.271Z"
   },
   {
    "duration": 7,
    "start_time": "2022-06-23T15:50:14.290Z"
   },
   {
    "duration": 5,
    "start_time": "2022-06-23T15:50:14.299Z"
   },
   {
    "duration": 5,
    "start_time": "2022-06-23T15:50:14.306Z"
   },
   {
    "duration": 6,
    "start_time": "2022-06-23T15:50:14.313Z"
   },
   {
    "duration": 4,
    "start_time": "2022-06-23T15:50:14.321Z"
   },
   {
    "duration": 23,
    "start_time": "2022-06-23T15:50:14.327Z"
   },
   {
    "duration": 18,
    "start_time": "2022-06-23T15:50:14.352Z"
   },
   {
    "duration": 12,
    "start_time": "2022-06-23T15:50:14.371Z"
   },
   {
    "duration": 8,
    "start_time": "2022-06-23T15:50:14.386Z"
   },
   {
    "duration": 8,
    "start_time": "2022-06-23T15:50:14.395Z"
   },
   {
    "duration": 6,
    "start_time": "2022-06-23T15:50:14.404Z"
   },
   {
    "duration": 8,
    "start_time": "2022-06-23T15:50:14.412Z"
   },
   {
    "duration": 24,
    "start_time": "2022-06-23T15:50:14.422Z"
   },
   {
    "duration": 3,
    "start_time": "2022-06-23T15:50:14.448Z"
   },
   {
    "duration": 15,
    "start_time": "2022-06-23T15:50:14.453Z"
   },
   {
    "duration": 17,
    "start_time": "2022-06-23T15:50:14.470Z"
   },
   {
    "duration": 4,
    "start_time": "2022-06-23T15:50:14.489Z"
   },
   {
    "duration": 13,
    "start_time": "2022-06-23T15:50:14.495Z"
   },
   {
    "duration": 16,
    "start_time": "2022-06-23T15:50:14.510Z"
   },
   {
    "duration": 416,
    "start_time": "2022-06-23T15:58:00.011Z"
   },
   {
    "duration": 181,
    "start_time": "2022-06-23T15:58:00.428Z"
   },
   {
    "duration": 22,
    "start_time": "2022-06-23T15:58:00.610Z"
   },
   {
    "duration": 60,
    "start_time": "2022-06-23T15:58:00.635Z"
   },
   {
    "duration": 15,
    "start_time": "2022-06-23T15:58:00.697Z"
   },
   {
    "duration": 27,
    "start_time": "2022-06-23T15:58:00.713Z"
   },
   {
    "duration": 28,
    "start_time": "2022-06-23T15:58:00.741Z"
   },
   {
    "duration": 31,
    "start_time": "2022-06-23T15:58:00.771Z"
   },
   {
    "duration": 322,
    "start_time": "2022-06-23T15:58:00.804Z"
   },
   {
    "duration": 2,
    "start_time": "2022-06-23T15:58:01.129Z"
   },
   {
    "duration": 20,
    "start_time": "2022-06-23T15:58:01.133Z"
   },
   {
    "duration": 36,
    "start_time": "2022-06-23T15:58:01.155Z"
   },
   {
    "duration": 18,
    "start_time": "2022-06-23T15:58:01.193Z"
   },
   {
    "duration": 63,
    "start_time": "2022-06-23T15:58:01.213Z"
   },
   {
    "duration": 12,
    "start_time": "2022-06-23T15:58:01.278Z"
   },
   {
    "duration": 14,
    "start_time": "2022-06-23T15:58:01.292Z"
   },
   {
    "duration": 17,
    "start_time": "2022-06-23T15:58:01.308Z"
   },
   {
    "duration": 19,
    "start_time": "2022-06-23T15:58:01.326Z"
   },
   {
    "duration": 3,
    "start_time": "2022-06-23T15:58:01.347Z"
   },
   {
    "duration": 5,
    "start_time": "2022-06-23T15:58:01.367Z"
   },
   {
    "duration": 67,
    "start_time": "2022-06-23T15:58:01.373Z"
   },
   {
    "duration": 36,
    "start_time": "2022-06-23T15:58:01.441Z"
   },
   {
    "duration": 18,
    "start_time": "2022-06-23T15:58:01.478Z"
   },
   {
    "duration": 11,
    "start_time": "2022-06-23T15:58:01.498Z"
   },
   {
    "duration": 15,
    "start_time": "2022-06-23T15:58:01.511Z"
   },
   {
    "duration": 28,
    "start_time": "2022-06-23T15:58:01.528Z"
   },
   {
    "duration": 19,
    "start_time": "2022-06-23T15:58:01.558Z"
   },
   {
    "duration": 29,
    "start_time": "2022-06-23T15:58:01.583Z"
   },
   {
    "duration": 10,
    "start_time": "2022-06-23T15:58:01.613Z"
   },
   {
    "duration": 873,
    "start_time": "2022-06-23T15:58:01.624Z"
   },
   {
    "duration": 10,
    "start_time": "2022-06-23T15:58:02.498Z"
   },
   {
    "duration": 7,
    "start_time": "2022-06-23T15:58:02.509Z"
   },
   {
    "duration": 386,
    "start_time": "2022-06-23T15:58:02.517Z"
   },
   {
    "duration": 9,
    "start_time": "2022-06-23T15:58:02.904Z"
   },
   {
    "duration": 6,
    "start_time": "2022-06-23T15:58:02.915Z"
   },
   {
    "duration": 3,
    "start_time": "2022-06-23T15:58:02.923Z"
   },
   {
    "duration": 7,
    "start_time": "2022-06-23T15:58:02.928Z"
   },
   {
    "duration": 7,
    "start_time": "2022-06-23T15:58:02.936Z"
   },
   {
    "duration": 2,
    "start_time": "2022-06-23T15:58:02.968Z"
   },
   {
    "duration": 6,
    "start_time": "2022-06-23T15:58:02.972Z"
   },
   {
    "duration": 15,
    "start_time": "2022-06-23T15:58:02.979Z"
   },
   {
    "duration": 8,
    "start_time": "2022-06-23T15:58:02.996Z"
   },
   {
    "duration": 32,
    "start_time": "2022-06-23T15:58:03.005Z"
   },
   {
    "duration": 34,
    "start_time": "2022-06-23T15:58:03.038Z"
   },
   {
    "duration": 12,
    "start_time": "2022-06-23T15:58:03.073Z"
   },
   {
    "duration": 5,
    "start_time": "2022-06-23T15:58:03.087Z"
   },
   {
    "duration": 7,
    "start_time": "2022-06-23T15:58:03.094Z"
   },
   {
    "duration": 6,
    "start_time": "2022-06-23T15:58:03.102Z"
   },
   {
    "duration": 5,
    "start_time": "2022-06-23T15:58:03.110Z"
   },
   {
    "duration": 5,
    "start_time": "2022-06-23T15:58:03.117Z"
   },
   {
    "duration": 23,
    "start_time": "2022-06-23T15:58:03.123Z"
   },
   {
    "duration": 21,
    "start_time": "2022-06-23T15:58:03.148Z"
   },
   {
    "duration": 364,
    "start_time": "2022-06-23T15:58:03.171Z"
   },
   {
    "duration": 7,
    "start_time": "2022-06-23T15:58:03.536Z"
   },
   {
    "duration": 28,
    "start_time": "2022-06-23T15:58:03.545Z"
   },
   {
    "duration": 5,
    "start_time": "2022-06-23T15:58:03.574Z"
   },
   {
    "duration": 18,
    "start_time": "2022-06-23T15:58:03.581Z"
   },
   {
    "duration": 10,
    "start_time": "2022-06-23T15:58:03.600Z"
   },
   {
    "duration": 22,
    "start_time": "2022-06-23T15:58:03.612Z"
   },
   {
    "duration": 6,
    "start_time": "2022-06-23T15:58:03.636Z"
   },
   {
    "duration": 5,
    "start_time": "2022-06-23T15:58:03.644Z"
   },
   {
    "duration": 11,
    "start_time": "2022-06-23T15:58:03.650Z"
   },
   {
    "duration": 4,
    "start_time": "2022-06-23T15:58:03.663Z"
   },
   {
    "duration": 7,
    "start_time": "2022-06-23T15:58:03.668Z"
   },
   {
    "duration": 4,
    "start_time": "2022-06-23T15:58:03.677Z"
   },
   {
    "duration": 5,
    "start_time": "2022-06-23T15:58:03.683Z"
   },
   {
    "duration": 12,
    "start_time": "2022-06-23T15:58:03.689Z"
   },
   {
    "duration": 9,
    "start_time": "2022-06-23T15:58:03.702Z"
   },
   {
    "duration": 9,
    "start_time": "2022-06-23T15:58:03.713Z"
   },
   {
    "duration": 8,
    "start_time": "2022-06-23T15:58:03.723Z"
   },
   {
    "duration": 34,
    "start_time": "2022-06-23T15:58:03.733Z"
   },
   {
    "duration": 6,
    "start_time": "2022-06-23T15:58:03.769Z"
   },
   {
    "duration": 9,
    "start_time": "2022-06-23T15:58:03.777Z"
   },
   {
    "duration": 13,
    "start_time": "2022-06-23T15:58:03.787Z"
   },
   {
    "duration": 3,
    "start_time": "2022-06-23T15:58:03.802Z"
   },
   {
    "duration": 19,
    "start_time": "2022-06-23T15:58:03.806Z"
   },
   {
    "duration": 45,
    "start_time": "2022-06-23T15:58:03.826Z"
   },
   {
    "duration": 10,
    "start_time": "2022-06-23T15:58:03.873Z"
   },
   {
    "duration": 11,
    "start_time": "2022-06-23T15:58:03.885Z"
   },
   {
    "duration": 6,
    "start_time": "2022-06-23T15:58:03.897Z"
   },
   {
    "duration": 13,
    "start_time": "2022-06-23T15:58:03.904Z"
   },
   {
    "duration": 4,
    "start_time": "2022-06-23T15:58:03.922Z"
   },
   {
    "duration": 10,
    "start_time": "2022-06-23T15:58:03.928Z"
   },
   {
    "duration": 30,
    "start_time": "2022-06-23T15:58:03.939Z"
   },
   {
    "duration": 27,
    "start_time": "2022-06-23T15:58:03.970Z"
   },
   {
    "duration": 12,
    "start_time": "2022-06-23T15:58:03.999Z"
   },
   {
    "duration": 21,
    "start_time": "2022-06-23T15:58:04.012Z"
   },
   {
    "duration": 52,
    "start_time": "2022-06-23T15:58:04.035Z"
   },
   {
    "duration": 7,
    "start_time": "2022-06-23T15:58:04.089Z"
   },
   {
    "duration": 9,
    "start_time": "2022-06-23T15:58:04.098Z"
   },
   {
    "duration": 10,
    "start_time": "2022-06-23T15:58:04.109Z"
   },
   {
    "duration": 7,
    "start_time": "2022-06-23T15:58:04.121Z"
   },
   {
    "duration": 13,
    "start_time": "2022-06-23T15:58:04.130Z"
   },
   {
    "duration": 29,
    "start_time": "2022-06-23T15:58:04.144Z"
   },
   {
    "duration": 11,
    "start_time": "2022-06-23T15:58:04.174Z"
   },
   {
    "duration": 17,
    "start_time": "2022-06-23T15:58:04.186Z"
   },
   {
    "duration": 7,
    "start_time": "2022-06-23T15:58:04.204Z"
   },
   {
    "duration": 25,
    "start_time": "2022-06-23T15:58:04.212Z"
   },
   {
    "duration": 5,
    "start_time": "2022-06-23T15:58:04.238Z"
   },
   {
    "duration": 23,
    "start_time": "2022-06-23T15:58:04.245Z"
   },
   {
    "duration": 26,
    "start_time": "2022-06-23T15:58:04.270Z"
   },
   {
    "duration": 3,
    "start_time": "2022-06-23T15:58:04.298Z"
   },
   {
    "duration": 26,
    "start_time": "2022-06-23T15:58:04.302Z"
   },
   {
    "duration": 3,
    "start_time": "2022-06-23T15:58:04.329Z"
   },
   {
    "duration": 7,
    "start_time": "2022-06-23T15:58:04.333Z"
   },
   {
    "duration": 5,
    "start_time": "2022-06-23T15:58:04.342Z"
   },
   {
    "duration": 2,
    "start_time": "2022-06-23T15:58:04.367Z"
   },
   {
    "duration": 9,
    "start_time": "2022-06-23T15:58:04.370Z"
   },
   {
    "duration": 6,
    "start_time": "2022-06-23T15:58:04.381Z"
   },
   {
    "duration": 19,
    "start_time": "2022-06-23T15:58:04.389Z"
   },
   {
    "duration": 3,
    "start_time": "2022-06-23T15:58:04.410Z"
   },
   {
    "duration": 10,
    "start_time": "2022-06-23T15:58:04.414Z"
   },
   {
    "duration": 5,
    "start_time": "2022-06-23T15:58:04.425Z"
   },
   {
    "duration": 6,
    "start_time": "2022-06-23T15:58:04.431Z"
   },
   {
    "duration": 6,
    "start_time": "2022-06-23T15:58:04.438Z"
   },
   {
    "duration": 7,
    "start_time": "2022-06-23T15:58:04.445Z"
   },
   {
    "duration": 29,
    "start_time": "2022-06-23T15:58:04.453Z"
   },
   {
    "duration": 2,
    "start_time": "2022-06-23T15:58:04.484Z"
   },
   {
    "duration": 5,
    "start_time": "2022-06-23T15:58:04.488Z"
   },
   {
    "duration": 6,
    "start_time": "2022-06-23T15:58:04.494Z"
   },
   {
    "duration": 10,
    "start_time": "2022-06-23T15:58:04.501Z"
   },
   {
    "duration": 6,
    "start_time": "2022-06-23T15:58:04.513Z"
   },
   {
    "duration": 6,
    "start_time": "2022-06-23T15:58:04.521Z"
   },
   {
    "duration": 21,
    "start_time": "2022-06-23T15:58:04.528Z"
   },
   {
    "duration": 2,
    "start_time": "2022-06-23T15:58:04.550Z"
   },
   {
    "duration": 2,
    "start_time": "2022-06-23T15:58:04.567Z"
   },
   {
    "duration": 15,
    "start_time": "2022-06-23T15:58:04.571Z"
   },
   {
    "duration": 14,
    "start_time": "2022-06-23T15:58:04.588Z"
   },
   {
    "duration": 10,
    "start_time": "2022-06-23T15:58:04.603Z"
   },
   {
    "duration": 6,
    "start_time": "2022-06-23T15:58:04.615Z"
   },
   {
    "duration": 136,
    "start_time": "2022-06-23T15:59:33.947Z"
   },
   {
    "duration": 9,
    "start_time": "2022-06-23T15:59:44.844Z"
   },
   {
    "duration": 129,
    "start_time": "2022-06-23T16:00:06.843Z"
   },
   {
    "duration": 10,
    "start_time": "2022-06-23T16:00:12.194Z"
   },
   {
    "duration": 2993,
    "start_time": "2022-06-23T16:01:23.912Z"
   },
   {
    "duration": 365,
    "start_time": "2022-06-23T16:01:51.703Z"
   },
   {
    "duration": 104,
    "start_time": "2022-06-23T16:01:52.070Z"
   },
   {
    "duration": 20,
    "start_time": "2022-06-23T16:01:52.176Z"
   },
   {
    "duration": 29,
    "start_time": "2022-06-23T16:01:52.197Z"
   },
   {
    "duration": 13,
    "start_time": "2022-06-23T16:01:52.228Z"
   },
   {
    "duration": 30,
    "start_time": "2022-06-23T16:01:52.242Z"
   },
   {
    "duration": 4,
    "start_time": "2022-06-23T16:01:52.273Z"
   },
   {
    "duration": 6,
    "start_time": "2022-06-23T16:01:52.278Z"
   },
   {
    "duration": 289,
    "start_time": "2022-06-23T16:01:52.285Z"
   },
   {
    "duration": 2,
    "start_time": "2022-06-23T16:01:52.577Z"
   },
   {
    "duration": 9,
    "start_time": "2022-06-23T16:01:52.581Z"
   },
   {
    "duration": 14,
    "start_time": "2022-06-23T16:01:52.591Z"
   },
   {
    "duration": 7,
    "start_time": "2022-06-23T16:01:52.606Z"
   },
   {
    "duration": 33,
    "start_time": "2022-06-23T16:01:52.614Z"
   },
   {
    "duration": 11,
    "start_time": "2022-06-23T16:01:52.668Z"
   },
   {
    "duration": 11,
    "start_time": "2022-06-23T16:01:52.681Z"
   },
   {
    "duration": 15,
    "start_time": "2022-06-23T16:01:52.693Z"
   },
   {
    "duration": 19,
    "start_time": "2022-06-23T16:01:52.710Z"
   },
   {
    "duration": 4,
    "start_time": "2022-06-23T16:01:52.731Z"
   },
   {
    "duration": 31,
    "start_time": "2022-06-23T16:01:52.737Z"
   },
   {
    "duration": 31,
    "start_time": "2022-06-23T16:01:52.770Z"
   },
   {
    "duration": 4,
    "start_time": "2022-06-23T16:01:52.802Z"
   },
   {
    "duration": 9,
    "start_time": "2022-06-23T16:01:52.807Z"
   },
   {
    "duration": 7,
    "start_time": "2022-06-23T16:01:52.818Z"
   },
   {
    "duration": 7,
    "start_time": "2022-06-23T16:01:52.827Z"
   },
   {
    "duration": 24,
    "start_time": "2022-06-23T16:01:52.867Z"
   },
   {
    "duration": 6,
    "start_time": "2022-06-23T16:01:52.892Z"
   },
   {
    "duration": 6,
    "start_time": "2022-06-23T16:01:52.901Z"
   },
   {
    "duration": 10,
    "start_time": "2022-06-23T16:01:52.908Z"
   },
   {
    "duration": 899,
    "start_time": "2022-06-23T16:01:52.919Z"
   },
   {
    "duration": 9,
    "start_time": "2022-06-23T16:01:53.819Z"
   },
   {
    "duration": 7,
    "start_time": "2022-06-23T16:01:53.829Z"
   },
   {
    "duration": 373,
    "start_time": "2022-06-23T16:01:53.838Z"
   },
   {
    "duration": 8,
    "start_time": "2022-06-23T16:01:54.213Z"
   },
   {
    "duration": 5,
    "start_time": "2022-06-23T16:01:54.223Z"
   },
   {
    "duration": 2,
    "start_time": "2022-06-23T16:01:54.230Z"
   },
   {
    "duration": 8,
    "start_time": "2022-06-23T16:01:54.233Z"
   },
   {
    "duration": 30,
    "start_time": "2022-06-23T16:01:54.242Z"
   },
   {
    "duration": 4,
    "start_time": "2022-06-23T16:01:54.275Z"
   },
   {
    "duration": 6,
    "start_time": "2022-06-23T16:01:54.281Z"
   },
   {
    "duration": 13,
    "start_time": "2022-06-23T16:01:54.288Z"
   },
   {
    "duration": 9,
    "start_time": "2022-06-23T16:01:54.302Z"
   },
   {
    "duration": 32,
    "start_time": "2022-06-23T16:01:54.312Z"
   },
   {
    "duration": 31,
    "start_time": "2022-06-23T16:01:54.345Z"
   },
   {
    "duration": 13,
    "start_time": "2022-06-23T16:01:54.378Z"
   },
   {
    "duration": 5,
    "start_time": "2022-06-23T16:01:54.392Z"
   },
   {
    "duration": 5,
    "start_time": "2022-06-23T16:01:54.399Z"
   },
   {
    "duration": 5,
    "start_time": "2022-06-23T16:01:54.406Z"
   },
   {
    "duration": 5,
    "start_time": "2022-06-23T16:01:54.412Z"
   },
   {
    "duration": 6,
    "start_time": "2022-06-23T16:01:54.418Z"
   },
   {
    "duration": 48,
    "start_time": "2022-06-23T16:01:54.425Z"
   },
   {
    "duration": 3,
    "start_time": "2022-06-23T16:01:54.474Z"
   },
   {
    "duration": 377,
    "start_time": "2022-06-23T16:01:54.478Z"
   },
   {
    "duration": 11,
    "start_time": "2022-06-23T16:01:54.857Z"
   },
   {
    "duration": 16,
    "start_time": "2022-06-23T16:01:54.870Z"
   },
   {
    "duration": 5,
    "start_time": "2022-06-23T16:01:54.888Z"
   },
   {
    "duration": 15,
    "start_time": "2022-06-23T16:01:54.894Z"
   },
   {
    "duration": 3,
    "start_time": "2022-06-23T16:01:54.910Z"
   },
   {
    "duration": 8,
    "start_time": "2022-06-23T16:01:54.914Z"
   },
   {
    "duration": 11,
    "start_time": "2022-06-23T16:01:54.923Z"
   },
   {
    "duration": 4,
    "start_time": "2022-06-23T16:01:54.935Z"
   },
   {
    "duration": 33,
    "start_time": "2022-06-23T16:01:54.941Z"
   },
   {
    "duration": 3,
    "start_time": "2022-06-23T16:01:54.976Z"
   },
   {
    "duration": 6,
    "start_time": "2022-06-23T16:01:54.980Z"
   },
   {
    "duration": 4,
    "start_time": "2022-06-23T16:01:54.988Z"
   },
   {
    "duration": 4,
    "start_time": "2022-06-23T16:01:54.994Z"
   },
   {
    "duration": 6,
    "start_time": "2022-06-23T16:01:54.999Z"
   },
   {
    "duration": 9,
    "start_time": "2022-06-23T16:01:55.006Z"
   },
   {
    "duration": 11,
    "start_time": "2022-06-23T16:01:55.019Z"
   },
   {
    "duration": 6,
    "start_time": "2022-06-23T16:01:55.031Z"
   },
   {
    "duration": 14,
    "start_time": "2022-06-23T16:01:55.067Z"
   },
   {
    "duration": 7,
    "start_time": "2022-06-23T16:01:55.083Z"
   },
   {
    "duration": 4,
    "start_time": "2022-06-23T16:01:55.091Z"
   },
   {
    "duration": 9,
    "start_time": "2022-06-23T16:01:55.097Z"
   },
   {
    "duration": 4,
    "start_time": "2022-06-23T16:01:55.107Z"
   },
   {
    "duration": 58,
    "start_time": "2022-06-23T16:01:55.112Z"
   },
   {
    "duration": 34,
    "start_time": "2022-06-23T16:01:55.172Z"
   },
   {
    "duration": 11,
    "start_time": "2022-06-23T16:01:55.208Z"
   },
   {
    "duration": 11,
    "start_time": "2022-06-23T16:01:55.220Z"
   },
   {
    "duration": 6,
    "start_time": "2022-06-23T16:01:55.233Z"
   },
   {
    "duration": 40,
    "start_time": "2022-06-23T16:01:55.241Z"
   },
   {
    "duration": 5,
    "start_time": "2022-06-23T16:01:55.283Z"
   },
   {
    "duration": 9,
    "start_time": "2022-06-23T16:01:55.289Z"
   },
   {
    "duration": 6,
    "start_time": "2022-06-23T16:01:55.299Z"
   },
   {
    "duration": 23,
    "start_time": "2022-06-23T16:01:55.307Z"
   },
   {
    "duration": 37,
    "start_time": "2022-06-23T16:01:55.331Z"
   },
   {
    "duration": 23,
    "start_time": "2022-06-23T16:01:55.370Z"
   },
   {
    "duration": 33,
    "start_time": "2022-06-23T16:01:55.395Z"
   },
   {
    "duration": 7,
    "start_time": "2022-06-23T16:01:55.430Z"
   },
   {
    "duration": 29,
    "start_time": "2022-06-23T16:01:55.439Z"
   },
   {
    "duration": 9,
    "start_time": "2022-06-23T16:01:55.470Z"
   },
   {
    "duration": 7,
    "start_time": "2022-06-23T16:01:55.481Z"
   },
   {
    "duration": 11,
    "start_time": "2022-06-23T16:01:55.490Z"
   },
   {
    "duration": 6,
    "start_time": "2022-06-23T16:01:55.503Z"
   },
   {
    "duration": 7,
    "start_time": "2022-06-23T16:01:55.511Z"
   },
   {
    "duration": 51,
    "start_time": "2022-06-23T16:01:55.519Z"
   },
   {
    "duration": 7,
    "start_time": "2022-06-23T16:01:55.573Z"
   },
   {
    "duration": 23,
    "start_time": "2022-06-23T16:01:55.582Z"
   },
   {
    "duration": 5,
    "start_time": "2022-06-23T16:01:55.607Z"
   },
   {
    "duration": 4,
    "start_time": "2022-06-23T16:01:55.614Z"
   },
   {
    "duration": 29,
    "start_time": "2022-06-23T16:01:55.619Z"
   },
   {
    "duration": 3,
    "start_time": "2022-06-23T16:01:55.667Z"
   },
   {
    "duration": 20,
    "start_time": "2022-06-23T16:01:55.672Z"
   },
   {
    "duration": 2,
    "start_time": "2022-06-23T16:01:55.694Z"
   },
   {
    "duration": 9,
    "start_time": "2022-06-23T16:01:55.697Z"
   },
   {
    "duration": 9,
    "start_time": "2022-06-23T16:01:55.708Z"
   },
   {
    "duration": 7,
    "start_time": "2022-06-23T16:01:55.719Z"
   },
   {
    "duration": 5,
    "start_time": "2022-06-23T16:01:55.727Z"
   },
   {
    "duration": 8,
    "start_time": "2022-06-23T16:01:55.733Z"
   },
   {
    "duration": 28,
    "start_time": "2022-06-23T16:01:55.742Z"
   },
   {
    "duration": 2,
    "start_time": "2022-06-23T16:01:55.772Z"
   },
   {
    "duration": 6,
    "start_time": "2022-06-23T16:01:55.775Z"
   },
   {
    "duration": 5,
    "start_time": "2022-06-23T16:01:55.783Z"
   },
   {
    "duration": 7,
    "start_time": "2022-06-23T16:01:55.790Z"
   },
   {
    "duration": 5,
    "start_time": "2022-06-23T16:01:55.799Z"
   },
   {
    "duration": 9,
    "start_time": "2022-06-23T16:01:55.805Z"
   },
   {
    "duration": 18,
    "start_time": "2022-06-23T16:01:55.818Z"
   },
   {
    "duration": 2,
    "start_time": "2022-06-23T16:01:55.838Z"
   },
   {
    "duration": 7,
    "start_time": "2022-06-23T16:01:55.841Z"
   },
   {
    "duration": 10,
    "start_time": "2022-06-23T16:01:55.849Z"
   },
   {
    "duration": 3,
    "start_time": "2022-06-23T16:01:55.867Z"
   },
   {
    "duration": 5,
    "start_time": "2022-06-23T16:01:55.871Z"
   },
   {
    "duration": 4,
    "start_time": "2022-06-23T16:01:55.878Z"
   },
   {
    "duration": 20,
    "start_time": "2022-06-23T16:01:55.883Z"
   },
   {
    "duration": 2,
    "start_time": "2022-06-23T16:01:55.905Z"
   },
   {
    "duration": 5,
    "start_time": "2022-06-23T16:01:55.908Z"
   },
   {
    "duration": 6,
    "start_time": "2022-06-23T16:01:55.914Z"
   },
   {
    "duration": 5,
    "start_time": "2022-06-23T16:01:55.921Z"
   },
   {
    "duration": 4,
    "start_time": "2022-06-23T16:01:55.928Z"
   },
   {
    "duration": 4,
    "start_time": "2022-06-23T16:01:55.933Z"
   },
   {
    "duration": 2,
    "start_time": "2022-06-23T16:09:52.942Z"
   },
   {
    "duration": 179,
    "start_time": "2022-06-23T16:09:52.948Z"
   },
   {
    "duration": 12,
    "start_time": "2022-06-23T16:09:53.129Z"
   },
   {
    "duration": 41,
    "start_time": "2022-06-23T16:09:53.143Z"
   },
   {
    "duration": 13,
    "start_time": "2022-06-23T16:09:53.186Z"
   },
   {
    "duration": 8,
    "start_time": "2022-06-23T16:09:53.201Z"
   },
   {
    "duration": 8,
    "start_time": "2022-06-23T16:09:53.210Z"
   },
   {
    "duration": 6,
    "start_time": "2022-06-23T16:09:53.219Z"
   },
   {
    "duration": 17,
    "start_time": "2022-06-23T16:09:53.226Z"
   },
   {
    "duration": 23,
    "start_time": "2022-06-23T16:09:53.244Z"
   },
   {
    "duration": 5,
    "start_time": "2022-06-23T16:09:53.270Z"
   },
   {
    "duration": 12,
    "start_time": "2022-06-23T16:09:53.276Z"
   },
   {
    "duration": 6,
    "start_time": "2022-06-23T16:09:53.290Z"
   },
   {
    "duration": 30,
    "start_time": "2022-06-23T16:09:53.297Z"
   },
   {
    "duration": 11,
    "start_time": "2022-06-23T16:09:53.329Z"
   },
   {
    "duration": 6,
    "start_time": "2022-06-23T16:09:53.367Z"
   },
   {
    "duration": 15,
    "start_time": "2022-06-23T16:09:53.375Z"
   },
   {
    "duration": 23,
    "start_time": "2022-06-23T16:10:04.834Z"
   },
   {
    "duration": 22,
    "start_time": "2022-06-23T16:18:14.167Z"
   },
   {
    "duration": 1338,
    "start_time": "2022-06-28T06:42:27.990Z"
   },
   {
    "duration": 237,
    "start_time": "2022-06-28T06:42:29.330Z"
   },
   {
    "duration": 18,
    "start_time": "2022-06-28T06:42:29.569Z"
   },
   {
    "duration": 53,
    "start_time": "2022-06-28T06:42:29.588Z"
   },
   {
    "duration": 13,
    "start_time": "2022-06-28T06:42:29.643Z"
   },
   {
    "duration": 8,
    "start_time": "2022-06-28T06:42:29.658Z"
   },
   {
    "duration": 3,
    "start_time": "2022-06-28T06:42:29.668Z"
   },
   {
    "duration": 4,
    "start_time": "2022-06-28T06:42:29.673Z"
   },
   {
    "duration": 95,
    "start_time": "2022-06-28T06:42:29.679Z"
   },
   {
    "duration": 3,
    "start_time": "2022-06-28T06:42:29.775Z"
   },
   {
    "duration": 5,
    "start_time": "2022-06-28T06:42:29.779Z"
   },
   {
    "duration": 15,
    "start_time": "2022-06-28T06:42:29.786Z"
   },
   {
    "duration": 7,
    "start_time": "2022-06-28T06:42:29.829Z"
   },
   {
    "duration": 47,
    "start_time": "2022-06-28T06:42:29.838Z"
   },
   {
    "duration": 3,
    "start_time": "2022-06-28T06:42:29.887Z"
   },
   {
    "duration": 18,
    "start_time": "2022-06-28T06:42:29.892Z"
   },
   {
    "duration": 25,
    "start_time": "2022-06-28T06:42:29.912Z"
   },
   {
    "duration": 21,
    "start_time": "2022-06-28T06:42:29.939Z"
   },
   {
    "duration": 31,
    "start_time": "2022-06-28T06:42:29.962Z"
   },
   {
    "duration": 4,
    "start_time": "2022-06-28T06:42:29.995Z"
   },
   {
    "duration": 11,
    "start_time": "2022-06-28T06:42:30.001Z"
   },
   {
    "duration": 48,
    "start_time": "2022-06-28T06:42:30.014Z"
   },
   {
    "duration": 5,
    "start_time": "2022-06-28T06:42:30.064Z"
   },
   {
    "duration": 11,
    "start_time": "2022-06-28T06:42:30.071Z"
   },
   {
    "duration": 7,
    "start_time": "2022-06-28T06:42:30.084Z"
   },
   {
    "duration": 17,
    "start_time": "2022-06-28T06:42:30.093Z"
   },
   {
    "duration": 21,
    "start_time": "2022-06-28T06:42:30.130Z"
   },
   {
    "duration": 13,
    "start_time": "2022-06-28T06:42:30.153Z"
   },
   {
    "duration": 12,
    "start_time": "2022-06-28T06:42:30.167Z"
   },
   {
    "duration": 9,
    "start_time": "2022-06-28T06:42:30.181Z"
   },
   {
    "duration": 411,
    "start_time": "2022-06-28T06:42:30.192Z"
   },
   {
    "duration": 9,
    "start_time": "2022-06-28T06:42:30.604Z"
   },
   {
    "duration": 21,
    "start_time": "2022-06-28T06:42:30.615Z"
   },
   {
    "duration": 359,
    "start_time": "2022-06-28T06:42:30.637Z"
   },
   {
    "duration": 9,
    "start_time": "2022-06-28T06:42:30.997Z"
   },
   {
    "duration": 22,
    "start_time": "2022-06-28T06:42:31.008Z"
   },
   {
    "duration": 2,
    "start_time": "2022-06-28T06:42:31.032Z"
   },
   {
    "duration": 10,
    "start_time": "2022-06-28T06:42:31.036Z"
   },
   {
    "duration": 10,
    "start_time": "2022-06-28T06:42:31.048Z"
   },
   {
    "duration": 6,
    "start_time": "2022-06-28T06:42:31.060Z"
   },
   {
    "duration": 5,
    "start_time": "2022-06-28T06:42:31.071Z"
   },
   {
    "duration": 52,
    "start_time": "2022-06-28T06:42:31.077Z"
   },
   {
    "duration": 2,
    "start_time": "2022-06-28T06:42:31.131Z"
   },
   {
    "duration": 17,
    "start_time": "2022-06-28T06:42:31.135Z"
   },
   {
    "duration": 11,
    "start_time": "2022-06-28T06:42:31.154Z"
   },
   {
    "duration": 75,
    "start_time": "2022-06-28T06:42:31.166Z"
   },
   {
    "duration": 3,
    "start_time": "2022-06-28T06:42:31.242Z"
   },
   {
    "duration": 7,
    "start_time": "2022-06-28T06:42:31.247Z"
   },
   {
    "duration": 17,
    "start_time": "2022-06-28T06:42:31.256Z"
   },
   {
    "duration": 5,
    "start_time": "2022-06-28T06:42:31.275Z"
   },
   {
    "duration": 2,
    "start_time": "2022-06-28T06:42:31.282Z"
   },
   {
    "duration": 43,
    "start_time": "2022-06-28T06:42:31.286Z"
   },
   {
    "duration": 4,
    "start_time": "2022-06-28T06:42:31.331Z"
   },
   {
    "duration": 6,
    "start_time": "2022-06-28T06:42:31.336Z"
   },
   {
    "duration": 26,
    "start_time": "2022-06-28T06:42:31.343Z"
   },
   {
    "duration": 4,
    "start_time": "2022-06-28T06:42:31.371Z"
   },
   {
    "duration": 403,
    "start_time": "2022-06-28T06:42:31.376Z"
   },
   {
    "duration": 8,
    "start_time": "2022-06-28T06:42:31.780Z"
   },
   {
    "duration": 22,
    "start_time": "2022-06-28T06:42:31.790Z"
   },
   {
    "duration": 6,
    "start_time": "2022-06-28T06:42:31.828Z"
   },
   {
    "duration": 14,
    "start_time": "2022-06-28T06:42:31.836Z"
   },
   {
    "duration": 6,
    "start_time": "2022-06-28T06:42:31.852Z"
   },
   {
    "duration": 14,
    "start_time": "2022-06-28T06:42:31.859Z"
   },
   {
    "duration": 6,
    "start_time": "2022-06-28T06:42:31.875Z"
   },
   {
    "duration": 10,
    "start_time": "2022-06-28T06:42:31.882Z"
   },
   {
    "duration": 35,
    "start_time": "2022-06-28T06:42:31.894Z"
   },
   {
    "duration": 3,
    "start_time": "2022-06-28T06:42:31.931Z"
   },
   {
    "duration": 7,
    "start_time": "2022-06-28T06:42:31.935Z"
   },
   {
    "duration": 7,
    "start_time": "2022-06-28T06:42:31.944Z"
   },
   {
    "duration": 4,
    "start_time": "2022-06-28T06:42:31.953Z"
   },
   {
    "duration": 16,
    "start_time": "2022-06-28T06:42:31.959Z"
   },
   {
    "duration": 10,
    "start_time": "2022-06-28T06:42:31.977Z"
   },
   {
    "duration": 23,
    "start_time": "2022-06-28T06:42:31.994Z"
   },
   {
    "duration": 12,
    "start_time": "2022-06-28T06:42:32.018Z"
   },
   {
    "duration": 19,
    "start_time": "2022-06-28T06:42:32.031Z"
   },
   {
    "duration": 8,
    "start_time": "2022-06-28T06:42:32.051Z"
   },
   {
    "duration": 9,
    "start_time": "2022-06-28T06:42:32.060Z"
   },
   {
    "duration": 33,
    "start_time": "2022-06-28T06:42:32.071Z"
   },
   {
    "duration": 4,
    "start_time": "2022-06-28T06:42:32.105Z"
   },
   {
    "duration": 28,
    "start_time": "2022-06-28T06:42:32.110Z"
   },
   {
    "duration": 39,
    "start_time": "2022-06-28T06:42:32.140Z"
   },
   {
    "duration": 10,
    "start_time": "2022-06-28T06:42:32.180Z"
   },
   {
    "duration": 10,
    "start_time": "2022-06-28T06:42:32.192Z"
   },
   {
    "duration": 29,
    "start_time": "2022-06-28T06:42:32.204Z"
   },
   {
    "duration": 18,
    "start_time": "2022-06-28T06:42:32.235Z"
   },
   {
    "duration": 5,
    "start_time": "2022-06-28T06:42:32.255Z"
   },
   {
    "duration": 7,
    "start_time": "2022-06-28T06:42:32.261Z"
   },
   {
    "duration": 7,
    "start_time": "2022-06-28T06:42:32.270Z"
   },
   {
    "duration": 61,
    "start_time": "2022-06-28T06:42:32.279Z"
   },
   {
    "duration": 9,
    "start_time": "2022-06-28T06:42:32.341Z"
   },
   {
    "duration": 21,
    "start_time": "2022-06-28T06:42:32.351Z"
   },
   {
    "duration": 2,
    "start_time": "2022-06-28T06:42:32.373Z"
   },
   {
    "duration": 73,
    "start_time": "2022-06-28T06:42:32.377Z"
   },
   {
    "duration": 7,
    "start_time": "2022-06-28T06:42:32.451Z"
   },
   {
    "duration": 10,
    "start_time": "2022-06-28T06:42:32.459Z"
   },
   {
    "duration": 11,
    "start_time": "2022-06-28T06:42:32.470Z"
   },
   {
    "duration": 7,
    "start_time": "2022-06-28T06:42:32.483Z"
   },
   {
    "duration": 10,
    "start_time": "2022-06-28T06:42:32.529Z"
   },
   {
    "duration": 2,
    "start_time": "2022-06-28T06:42:32.542Z"
   },
   {
    "duration": 6,
    "start_time": "2022-06-28T06:42:32.546Z"
   },
   {
    "duration": 4,
    "start_time": "2022-06-28T06:42:32.553Z"
   },
   {
    "duration": 6,
    "start_time": "2022-06-28T06:42:32.559Z"
   },
   {
    "duration": 70,
    "start_time": "2022-06-28T06:42:32.567Z"
   },
   {
    "duration": 5,
    "start_time": "2022-06-28T06:42:32.639Z"
   },
   {
    "duration": 29,
    "start_time": "2022-06-28T06:42:32.645Z"
   },
   {
    "duration": 7,
    "start_time": "2022-06-28T06:42:32.676Z"
   },
   {
    "duration": 44,
    "start_time": "2022-06-28T06:42:32.685Z"
   },
   {
    "duration": 33,
    "start_time": "2022-06-28T06:42:32.732Z"
   },
   {
    "duration": 4,
    "start_time": "2022-06-28T06:42:32.767Z"
   },
   {
    "duration": 21,
    "start_time": "2022-06-28T06:42:32.772Z"
   },
   {
    "duration": 34,
    "start_time": "2022-06-28T06:42:32.795Z"
   },
   {
    "duration": 3,
    "start_time": "2022-06-28T06:42:32.830Z"
   },
   {
    "duration": 5,
    "start_time": "2022-06-28T06:42:32.834Z"
   },
   {
    "duration": 5,
    "start_time": "2022-06-28T06:42:32.840Z"
   },
   {
    "duration": 6,
    "start_time": "2022-06-28T06:42:32.847Z"
   },
   {
    "duration": 6,
    "start_time": "2022-06-28T06:42:32.854Z"
   },
   {
    "duration": 5,
    "start_time": "2022-06-28T06:42:32.861Z"
   },
   {
    "duration": 64,
    "start_time": "2022-06-28T06:42:32.867Z"
   },
   {
    "duration": 9,
    "start_time": "2022-06-28T06:42:32.933Z"
   },
   {
    "duration": 9,
    "start_time": "2022-06-28T06:42:32.943Z"
   },
   {
    "duration": 4,
    "start_time": "2022-06-28T06:42:32.953Z"
   },
   {
    "duration": 2,
    "start_time": "2022-06-28T06:42:32.964Z"
   },
   {
    "duration": 4,
    "start_time": "2022-06-28T06:42:32.967Z"
   },
   {
    "duration": 4,
    "start_time": "2022-06-28T06:42:32.973Z"
   },
   {
    "duration": 50,
    "start_time": "2022-06-28T06:42:32.979Z"
   },
   {
    "duration": 2,
    "start_time": "2022-06-28T06:42:33.031Z"
   },
   {
    "duration": 27,
    "start_time": "2022-06-28T06:42:33.035Z"
   },
   {
    "duration": 2,
    "start_time": "2022-06-28T06:42:33.064Z"
   },
   {
    "duration": 14,
    "start_time": "2022-06-28T06:42:33.068Z"
   },
   {
    "duration": 6,
    "start_time": "2022-06-28T06:42:33.083Z"
   },
   {
    "duration": 4,
    "start_time": "2022-06-28T06:42:33.090Z"
   },
   {
    "duration": 3,
    "start_time": "2022-06-28T06:42:33.129Z"
   },
   {
    "duration": 5,
    "start_time": "2022-06-28T06:42:33.133Z"
   },
   {
    "duration": 37,
    "start_time": "2022-06-28T06:42:33.140Z"
   },
   {
    "duration": 3,
    "start_time": "2022-06-28T06:42:33.179Z"
   },
   {
    "duration": 11,
    "start_time": "2022-06-28T06:42:33.184Z"
   },
   {
    "duration": 5,
    "start_time": "2022-06-28T06:42:33.197Z"
   },
   {
    "duration": 5,
    "start_time": "2022-06-28T06:42:33.204Z"
   },
   {
    "duration": 18,
    "start_time": "2022-06-28T06:42:33.211Z"
   },
   {
    "duration": 3,
    "start_time": "2022-06-28T06:42:33.231Z"
   },
   {
    "duration": 47,
    "start_time": "2022-06-28T11:01:29.464Z"
   },
   {
    "duration": 1196,
    "start_time": "2022-06-28T11:01:33.749Z"
   },
   {
    "duration": 236,
    "start_time": "2022-06-28T11:01:34.947Z"
   },
   {
    "duration": 17,
    "start_time": "2022-06-28T11:01:35.185Z"
   },
   {
    "duration": 36,
    "start_time": "2022-06-28T11:01:35.204Z"
   },
   {
    "duration": 14,
    "start_time": "2022-06-28T11:01:35.242Z"
   },
   {
    "duration": 9,
    "start_time": "2022-06-28T11:01:35.258Z"
   },
   {
    "duration": 15,
    "start_time": "2022-06-28T11:01:35.269Z"
   },
   {
    "duration": 9,
    "start_time": "2022-06-28T11:01:35.285Z"
   },
   {
    "duration": 66,
    "start_time": "2022-06-28T11:01:35.296Z"
   },
   {
    "duration": 2,
    "start_time": "2022-06-28T11:01:35.365Z"
   },
   {
    "duration": 18,
    "start_time": "2022-06-28T11:01:35.369Z"
   },
   {
    "duration": 23,
    "start_time": "2022-06-28T11:01:35.389Z"
   },
   {
    "duration": 10,
    "start_time": "2022-06-28T11:01:35.414Z"
   },
   {
    "duration": 40,
    "start_time": "2022-06-28T11:01:35.425Z"
   },
   {
    "duration": 3,
    "start_time": "2022-06-28T11:01:35.466Z"
   },
   {
    "duration": 9,
    "start_time": "2022-06-28T11:01:35.470Z"
   },
   {
    "duration": 24,
    "start_time": "2022-06-28T11:01:36.047Z"
   },
   {
    "duration": 18,
    "start_time": "2022-06-28T11:02:00.028Z"
   },
   {
    "duration": 20,
    "start_time": "2022-06-28T11:02:52.224Z"
   },
   {
    "duration": 3,
    "start_time": "2022-06-28T11:03:35.971Z"
   },
   {
    "duration": 304,
    "start_time": "2022-06-28T11:03:35.976Z"
   },
   {
    "duration": 13,
    "start_time": "2022-06-28T11:03:36.282Z"
   },
   {
    "duration": 38,
    "start_time": "2022-06-28T11:03:36.297Z"
   },
   {
    "duration": 13,
    "start_time": "2022-06-28T11:03:36.337Z"
   },
   {
    "duration": 19,
    "start_time": "2022-06-28T11:03:36.352Z"
   },
   {
    "duration": 22,
    "start_time": "2022-06-28T11:03:36.373Z"
   },
   {
    "duration": 15,
    "start_time": "2022-06-28T11:03:36.397Z"
   },
   {
    "duration": 26,
    "start_time": "2022-06-28T11:03:36.413Z"
   },
   {
    "duration": 12,
    "start_time": "2022-06-28T11:03:36.441Z"
   },
   {
    "duration": 14,
    "start_time": "2022-06-28T11:03:36.454Z"
   },
   {
    "duration": 33,
    "start_time": "2022-06-28T11:03:36.469Z"
   },
   {
    "duration": 24,
    "start_time": "2022-06-28T11:03:36.504Z"
   },
   {
    "duration": 50,
    "start_time": "2022-06-28T11:03:36.530Z"
   },
   {
    "duration": 3,
    "start_time": "2022-06-28T11:03:36.581Z"
   },
   {
    "duration": 73,
    "start_time": "2022-06-28T11:03:37.877Z"
   },
   {
    "duration": 4,
    "start_time": "2022-06-28T11:04:02.461Z"
   },
   {
    "duration": 3,
    "start_time": "2022-06-28T11:04:06.795Z"
   },
   {
    "duration": 19,
    "start_time": "2022-06-28T11:04:10.869Z"
   },
   {
    "duration": 15,
    "start_time": "2022-06-28T11:04:26.135Z"
   },
   {
    "duration": 17,
    "start_time": "2022-06-28T11:05:08.608Z"
   },
   {
    "duration": 3,
    "start_time": "2022-06-28T11:26:10.459Z"
   },
   {
    "duration": 161,
    "start_time": "2022-06-28T11:26:10.463Z"
   },
   {
    "duration": 12,
    "start_time": "2022-06-28T11:26:10.626Z"
   },
   {
    "duration": 35,
    "start_time": "2022-06-28T11:26:10.640Z"
   },
   {
    "duration": 13,
    "start_time": "2022-06-28T11:26:10.677Z"
   },
   {
    "duration": 32,
    "start_time": "2022-06-28T11:26:10.692Z"
   },
   {
    "duration": 5,
    "start_time": "2022-06-28T11:26:10.725Z"
   },
   {
    "duration": 5,
    "start_time": "2022-06-28T11:26:10.731Z"
   },
   {
    "duration": 17,
    "start_time": "2022-06-28T11:26:10.738Z"
   },
   {
    "duration": 2,
    "start_time": "2022-06-28T11:26:10.757Z"
   },
   {
    "duration": 6,
    "start_time": "2022-06-28T11:26:10.762Z"
   },
   {
    "duration": 14,
    "start_time": "2022-06-28T11:26:10.770Z"
   },
   {
    "duration": 7,
    "start_time": "2022-06-28T11:26:10.786Z"
   },
   {
    "duration": 56,
    "start_time": "2022-06-28T11:26:10.794Z"
   },
   {
    "duration": 3,
    "start_time": "2022-06-28T11:26:10.851Z"
   },
   {
    "duration": 10,
    "start_time": "2022-06-28T11:26:10.855Z"
   },
   {
    "duration": 6,
    "start_time": "2022-06-28T11:26:10.866Z"
   },
   {
    "duration": 13,
    "start_time": "2022-06-28T11:26:10.873Z"
   },
   {
    "duration": 41,
    "start_time": "2022-06-28T11:26:10.887Z"
   },
   {
    "duration": 3,
    "start_time": "2022-06-28T11:26:10.930Z"
   },
   {
    "duration": 7,
    "start_time": "2022-06-28T11:26:10.935Z"
   },
   {
    "duration": 35,
    "start_time": "2022-06-28T11:26:10.943Z"
   },
   {
    "duration": 3,
    "start_time": "2022-06-28T11:26:10.980Z"
   },
   {
    "duration": 8,
    "start_time": "2022-06-28T11:26:10.984Z"
   },
   {
    "duration": 3,
    "start_time": "2022-06-28T11:26:10.994Z"
   },
   {
    "duration": 6,
    "start_time": "2022-06-28T11:26:11.022Z"
   },
   {
    "duration": 27,
    "start_time": "2022-06-28T11:26:11.029Z"
   },
   {
    "duration": 7,
    "start_time": "2022-06-28T11:26:11.057Z"
   },
   {
    "duration": 5,
    "start_time": "2022-06-28T11:26:11.070Z"
   },
   {
    "duration": 5,
    "start_time": "2022-06-28T11:26:11.077Z"
   },
   {
    "duration": 398,
    "start_time": "2022-06-28T11:26:11.083Z"
   },
   {
    "duration": 8,
    "start_time": "2022-06-28T11:26:11.483Z"
   },
   {
    "duration": 6,
    "start_time": "2022-06-28T11:26:11.492Z"
   },
   {
    "duration": 355,
    "start_time": "2022-06-28T11:26:11.500Z"
   },
   {
    "duration": 8,
    "start_time": "2022-06-28T11:26:11.857Z"
   },
   {
    "duration": 7,
    "start_time": "2022-06-28T11:26:11.866Z"
   },
   {
    "duration": 2,
    "start_time": "2022-06-28T11:26:11.875Z"
   },
   {
    "duration": 6,
    "start_time": "2022-06-28T11:26:11.878Z"
   },
   {
    "duration": 9,
    "start_time": "2022-06-28T11:26:11.886Z"
   },
   {
    "duration": 5,
    "start_time": "2022-06-28T11:26:11.896Z"
   },
   {
    "duration": 4,
    "start_time": "2022-06-28T11:26:11.903Z"
   },
   {
    "duration": 5,
    "start_time": "2022-06-28T11:26:11.908Z"
   },
   {
    "duration": 5,
    "start_time": "2022-06-28T11:26:11.914Z"
   },
   {
    "duration": 14,
    "start_time": "2022-06-28T11:26:11.920Z"
   },
   {
    "duration": 9,
    "start_time": "2022-06-28T11:26:11.935Z"
   },
   {
    "duration": 34,
    "start_time": "2022-06-28T11:26:11.946Z"
   },
   {
    "duration": 2,
    "start_time": "2022-06-28T11:26:11.982Z"
   },
   {
    "duration": 10,
    "start_time": "2022-06-28T11:26:11.985Z"
   },
   {
    "duration": 11,
    "start_time": "2022-06-28T11:26:11.996Z"
   },
   {
    "duration": 5,
    "start_time": "2022-06-28T11:26:12.008Z"
   },
   {
    "duration": 3,
    "start_time": "2022-06-28T11:26:12.014Z"
   },
   {
    "duration": 4,
    "start_time": "2022-06-28T11:26:12.019Z"
   },
   {
    "duration": 5,
    "start_time": "2022-06-28T11:26:12.025Z"
   },
   {
    "duration": 6,
    "start_time": "2022-06-28T11:26:12.031Z"
   },
   {
    "duration": 25,
    "start_time": "2022-06-28T11:26:12.038Z"
   },
   {
    "duration": 3,
    "start_time": "2022-06-28T11:26:12.064Z"
   },
   {
    "duration": 359,
    "start_time": "2022-06-28T11:26:12.068Z"
   },
   {
    "duration": 7,
    "start_time": "2022-06-28T11:26:12.428Z"
   },
   {
    "duration": 18,
    "start_time": "2022-06-28T11:26:12.436Z"
   },
   {
    "duration": 5,
    "start_time": "2022-06-28T11:26:12.455Z"
   },
   {
    "duration": 13,
    "start_time": "2022-06-28T11:26:12.461Z"
   },
   {
    "duration": 6,
    "start_time": "2022-06-28T11:26:12.476Z"
   },
   {
    "duration": 8,
    "start_time": "2022-06-28T11:26:12.483Z"
   },
   {
    "duration": 4,
    "start_time": "2022-06-28T11:26:12.492Z"
   },
   {
    "duration": 5,
    "start_time": "2022-06-28T11:26:12.498Z"
   },
   {
    "duration": 10,
    "start_time": "2022-06-28T11:26:12.504Z"
   },
   {
    "duration": 2,
    "start_time": "2022-06-28T11:26:12.516Z"
   },
   {
    "duration": 2,
    "start_time": "2022-06-28T11:26:12.522Z"
   },
   {
    "duration": 4,
    "start_time": "2022-06-28T11:26:12.525Z"
   },
   {
    "duration": 5,
    "start_time": "2022-06-28T11:26:12.531Z"
   },
   {
    "duration": 8,
    "start_time": "2022-06-28T11:26:12.537Z"
   },
   {
    "duration": 13,
    "start_time": "2022-06-28T11:26:12.547Z"
   },
   {
    "duration": 11,
    "start_time": "2022-06-28T11:26:12.562Z"
   },
   {
    "duration": 23,
    "start_time": "2022-06-28T11:26:12.574Z"
   },
   {
    "duration": 19,
    "start_time": "2022-06-28T11:26:12.599Z"
   },
   {
    "duration": 24,
    "start_time": "2022-06-28T11:26:12.620Z"
   },
   {
    "duration": 14,
    "start_time": "2022-06-28T11:26:12.646Z"
   },
   {
    "duration": 18,
    "start_time": "2022-06-28T11:26:12.662Z"
   },
   {
    "duration": 6,
    "start_time": "2022-06-28T11:26:12.682Z"
   },
   {
    "duration": 31,
    "start_time": "2022-06-28T11:26:12.689Z"
   },
   {
    "duration": 42,
    "start_time": "2022-06-28T11:26:12.723Z"
   },
   {
    "duration": 14,
    "start_time": "2022-06-28T11:26:12.766Z"
   },
   {
    "duration": 13,
    "start_time": "2022-06-28T11:26:12.782Z"
   },
   {
    "duration": 11,
    "start_time": "2022-06-28T11:26:12.796Z"
   },
   {
    "duration": 19,
    "start_time": "2022-06-28T11:26:12.809Z"
   },
   {
    "duration": 7,
    "start_time": "2022-06-28T11:26:12.830Z"
   },
   {
    "duration": 6,
    "start_time": "2022-06-28T11:26:12.839Z"
   },
   {
    "duration": 8,
    "start_time": "2022-06-28T11:26:12.847Z"
   },
   {
    "duration": 22,
    "start_time": "2022-06-28T11:26:12.856Z"
   },
   {
    "duration": 9,
    "start_time": "2022-06-28T11:26:12.880Z"
   },
   {
    "duration": 20,
    "start_time": "2022-06-28T11:26:12.890Z"
   },
   {
    "duration": 2,
    "start_time": "2022-06-28T11:26:12.911Z"
   },
   {
    "duration": 38,
    "start_time": "2022-06-28T11:26:12.914Z"
   },
   {
    "duration": 7,
    "start_time": "2022-06-28T11:26:12.954Z"
   },
   {
    "duration": 46,
    "start_time": "2022-06-28T11:26:12.963Z"
   },
   {
    "duration": 11,
    "start_time": "2022-06-28T11:26:13.011Z"
   },
   {
    "duration": 6,
    "start_time": "2022-06-28T11:26:13.024Z"
   },
   {
    "duration": 13,
    "start_time": "2022-06-28T11:26:13.031Z"
   },
   {
    "duration": 6,
    "start_time": "2022-06-28T11:26:13.045Z"
   },
   {
    "duration": 6,
    "start_time": "2022-06-28T11:26:13.053Z"
   },
   {
    "duration": 8,
    "start_time": "2022-06-28T11:26:13.060Z"
   },
   {
    "duration": 7,
    "start_time": "2022-06-28T11:26:13.070Z"
   },
   {
    "duration": 19,
    "start_time": "2022-06-28T11:26:13.078Z"
   },
   {
    "duration": 5,
    "start_time": "2022-06-28T11:26:13.099Z"
   },
   {
    "duration": 36,
    "start_time": "2022-06-28T11:26:13.105Z"
   },
   {
    "duration": 5,
    "start_time": "2022-06-28T11:26:13.601Z"
   },
   {
    "duration": 18,
    "start_time": "2022-06-28T11:26:13.608Z"
   },
   {
    "duration": 26,
    "start_time": "2022-06-28T11:26:13.628Z"
   },
   {
    "duration": 4,
    "start_time": "2022-06-28T11:26:13.656Z"
   },
   {
    "duration": 72,
    "start_time": "2022-06-28T11:26:13.661Z"
   },
   {
    "duration": 2,
    "start_time": "2022-06-28T11:26:13.734Z"
   },
   {
    "duration": 6,
    "start_time": "2022-06-28T11:26:13.738Z"
   },
   {
    "duration": 5,
    "start_time": "2022-06-28T11:26:13.745Z"
   },
   {
    "duration": 6,
    "start_time": "2022-06-28T11:26:13.751Z"
   },
   {
    "duration": 9,
    "start_time": "2022-06-28T11:26:13.759Z"
   },
   {
    "duration": 53,
    "start_time": "2022-06-28T11:26:13.770Z"
   },
   {
    "duration": 2,
    "start_time": "2022-06-28T11:26:13.825Z"
   },
   {
    "duration": 22,
    "start_time": "2022-06-28T11:26:13.829Z"
   },
   {
    "duration": 9,
    "start_time": "2022-06-28T11:26:13.852Z"
   },
   {
    "duration": 9,
    "start_time": "2022-06-28T11:26:13.863Z"
   },
   {
    "duration": 50,
    "start_time": "2022-06-28T11:26:13.874Z"
   },
   {
    "duration": 8,
    "start_time": "2022-06-28T11:26:13.926Z"
   },
   {
    "duration": 7,
    "start_time": "2022-06-28T11:26:13.936Z"
   },
   {
    "duration": 7,
    "start_time": "2022-06-28T11:26:13.944Z"
   },
   {
    "duration": 18,
    "start_time": "2022-06-28T11:26:13.953Z"
   },
   {
    "duration": 5,
    "start_time": "2022-06-28T11:26:13.973Z"
   },
   {
    "duration": 20,
    "start_time": "2022-06-28T11:26:15.896Z"
   },
   {
    "duration": 81,
    "start_time": "2022-06-28T11:28:36.202Z"
   }
  ],
  "kernelspec": {
   "display_name": "Python 3 (ipykernel)",
   "language": "python",
   "name": "python3"
  },
  "language_info": {
   "codemirror_mode": {
    "name": "ipython",
    "version": 3
   },
   "file_extension": ".py",
   "mimetype": "text/x-python",
   "name": "python",
   "nbconvert_exporter": "python",
   "pygments_lexer": "ipython3",
   "version": "3.9.12"
  },
  "toc": {
   "base_numbering": 1,
   "nav_menu": {},
   "number_sections": true,
   "sideBar": true,
   "skip_h1_title": true,
   "title_cell": "Table of Contents",
   "title_sidebar": "Contents",
   "toc_cell": true,
   "toc_position": {},
   "toc_section_display": true,
   "toc_window_display": true
  }
 },
 "nbformat": 4,
 "nbformat_minor": 5
}
